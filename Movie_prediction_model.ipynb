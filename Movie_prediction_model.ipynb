{
 "cells": [
  {
   "cell_type": "code",
   "execution_count": 3,
   "metadata": {},
   "outputs": [],
   "source": [
    "import requests\n",
    "import pandas as pd\n",
    "from time import sleep\n",
    "import os\n",
    "import json\n",
    "import numpy as np\n",
    "from sklearn.model_selection import train_test_split\n",
    "from sklearn.linear_model import LinearRegression\n",
    "from sklearn.tree import DecisionTreeRegressor\n",
    "from sklearn.ensemble import RandomForestRegressor\n",
    "from sklearn.metrics import mean_absolute_error, mean_squared_error, r2_score"
   ]
  },
  {
   "cell_type": "code",
   "execution_count": 4,
   "metadata": {},
   "outputs": [],
   "source": [
    "# Import API key from config file\n",
    "from config import TMDB_API_KEY\n",
    "\n",
    "# Get API key: from environment variable or config file\n",
    "api_key = os.getenv(\"TMDB_API_KEY\") or TMDB_API_KEY\n",
    "\n",
    "# TMDB base URL\n",
    "base_url = \"https://api.themoviedb.org/3\"\n"
   ]
  },
  {
   "cell_type": "code",
   "execution_count": 5,
   "metadata": {},
   "outputs": [
    {
     "name": "stdout",
     "output_type": "stream",
     "text": [
      "\n",
      "🔍 API Response for Movie ID: 550\n",
      "{\n",
      "    \"adult\": false,\n",
      "    \"backdrop_path\": \"/xRyINp9KfMLVjRiO5nCsoRDdvvF.jpg\",\n",
      "    \"belongs_to_collection\": null,\n",
      "    \"budget\": 63000000,\n",
      "    \"genres\": [\n",
      "        {\n",
      "            \"id\": 18,\n",
      "            \"name\": \"Drama\"\n",
      "        }\n",
      "    ],\n",
      "    \"homepage\": \"http://www.foxmovies.com/movies/fight-club\",\n",
      "    \"id\": 550,\n",
      "    \"imdb_id\": \"tt0137523\",\n",
      "    \"origin_country\": [\n",
      "        \"US\"\n",
      "    ],\n",
      "    \"original_language\": \"en\",\n",
      "    \"original_title\": \"Fight Club\",\n",
      "    \"overview\": \"A ticking-time-bomb insomniac and a slippery soap salesman channel primal male aggression into a shocking new form of therapy. Their concept catches on, with underground \\\"fight clubs\\\" forming in every town, until an eccentric gets in the way and ignites an out-of-control spiral toward oblivion.\",\n",
      "    \"popularity\": 24.39,\n",
      "    \"poster_path\": \"/pB8BM7pdSp6B6Ih7QZ4DrQ3PmJK.jpg\",\n",
      "    \"production_companies\": [\n",
      "        {\n",
      "            \"id\": 711,\n",
      "            \"logo_path\": \"/tEiIH5QesdheJmDAqQwvtN60727.png\",\n",
      "            \"name\": \"Fox 2000 Pictures\",\n",
      "            \"origin_country\": \"US\"\n",
      "        },\n",
      "        {\n",
      "            \"id\": 508,\n",
      "            \"logo_path\": \"/7cxRWzi4LsVm4Utfpr1hfARNurT.png\",\n",
      "            \"name\": \"Regency Enterprises\",\n",
      "            \"origin_country\": \"US\"\n",
      "        },\n",
      "        {\n",
      "            \"id\": 4700,\n",
      "            \"logo_path\": \"/A32wmjrs9Psf4zw0uaixF0GXfxq.png\",\n",
      "            \"name\": \"Linson Entertainment\",\n",
      "            \"origin_country\": \"US\"\n",
      "        },\n",
      "        {\n",
      "            \"id\": 25,\n",
      "            \"logo_path\": \"/qZCc1lty5FzX30aOCVRBLzaVmcp.png\",\n",
      "            \"name\": \"20th Century Fox\",\n",
      "            \"origin_country\": \"US\"\n",
      "        },\n",
      "        {\n",
      "            \"id\": 20555,\n",
      "            \"logo_path\": \"/hD8yEGUBlHOcfHYbujp71vD8gZp.png\",\n",
      "            \"name\": \"Taurus Film\",\n",
      "            \"origin_country\": \"DE\"\n",
      "        }\n",
      "    ],\n",
      "    \"production_countries\": [\n",
      "        {\n",
      "            \"iso_3166_1\": \"DE\",\n",
      "            \"name\": \"Germany\"\n",
      "        },\n",
      "        {\n",
      "            \"iso_3166_1\": \"US\",\n",
      "            \"name\": \"United States of America\"\n",
      "        }\n",
      "    ],\n",
      "    \"release_date\": \"1999-10-15\",\n",
      "    \"revenue\": 100853753,\n",
      "    \"runtime\": 139,\n",
      "    \"spoken_languages\": [\n",
      "        {\n",
      "            \"english_name\": \"English\",\n",
      "            \"iso_639_1\": \"en\",\n",
      "            \"name\": \"English\"\n",
      "        }\n",
      "    ],\n",
      "    \"status\": \"Released\",\n",
      "    \"tagline\": \"Mischief. Mayhem. Soap.\",\n",
      "    \"title\": \"Fight Club\",\n",
      "    \"video\": false,\n",
      "    \"vote_average\": 8.437,\n",
      "    \"vote_count\": 30339\n",
      "}\n",
      "\n",
      "🔍 API Response for Movie ID: 551\n",
      "{\n",
      "    \"adult\": false,\n",
      "    \"backdrop_path\": \"/ejLsnT6KmMpvtoPHMp40m54hRDd.jpg\",\n",
      "    \"belongs_to_collection\": {\n",
      "        \"id\": 372257,\n",
      "        \"name\": \"The Poseidon Adventure Collection\",\n",
      "        \"poster_path\": \"/ngvcBGzUbPsUGaSSLOaVNG2lfLW.jpg\",\n",
      "        \"backdrop_path\": \"/kE3SAAQfWVkjJUZy1ohha8hy3LH.jpg\"\n",
      "    },\n",
      "    \"budget\": 5000000,\n",
      "    \"genres\": [\n",
      "        {\n",
      "            \"id\": 12,\n",
      "            \"name\": \"Adventure\"\n",
      "        },\n",
      "        {\n",
      "            \"id\": 18,\n",
      "            \"name\": \"Drama\"\n",
      "        },\n",
      "        {\n",
      "            \"id\": 53,\n",
      "            \"name\": \"Thriller\"\n",
      "        }\n",
      "    ],\n",
      "    \"homepage\": \"\",\n",
      "    \"id\": 551,\n",
      "    \"imdb_id\": \"tt0069113\",\n",
      "    \"origin_country\": [\n",
      "        \"US\"\n",
      "    ],\n",
      "    \"original_language\": \"en\",\n",
      "    \"original_title\": \"The Poseidon Adventure\",\n",
      "    \"overview\": \"When their ocean liner capsizes, a group of passengers struggle to survive and escape.\",\n",
      "    \"popularity\": 4.0169,\n",
      "    \"poster_path\": \"/6RGiA5BfhelU9zoD0b1GAG4GWWf.jpg\",\n",
      "    \"production_companies\": [\n",
      "        {\n",
      "            \"id\": 10281,\n",
      "            \"logo_path\": null,\n",
      "            \"name\": \"Kent Productions\",\n",
      "            \"origin_country\": \"\"\n",
      "        },\n",
      "        {\n",
      "            \"id\": 25,\n",
      "            \"logo_path\": \"/qZCc1lty5FzX30aOCVRBLzaVmcp.png\",\n",
      "            \"name\": \"20th Century Fox\",\n",
      "            \"origin_country\": \"US\"\n",
      "        }\n",
      "    ],\n",
      "    \"production_countries\": [\n",
      "        {\n",
      "            \"iso_3166_1\": \"US\",\n",
      "            \"name\": \"United States of America\"\n",
      "        }\n",
      "    ],\n",
      "    \"release_date\": \"1972-12-01\",\n",
      "    \"revenue\": 84563118,\n",
      "    \"runtime\": 117,\n",
      "    \"spoken_languages\": [\n",
      "        {\n",
      "            \"english_name\": \"English\",\n",
      "            \"iso_639_1\": \"en\",\n",
      "            \"name\": \"English\"\n",
      "        }\n",
      "    ],\n",
      "    \"status\": \"Released\",\n",
      "    \"tagline\": \"Hell, upside down.\",\n",
      "    \"title\": \"The Poseidon Adventure\",\n",
      "    \"video\": false,\n",
      "    \"vote_average\": 7.1,\n",
      "    \"vote_count\": 919\n",
      "}\n",
      "\n",
      "🔍 API Response for Movie ID: 552\n",
      "{\n",
      "    \"adult\": false,\n",
      "    \"backdrop_path\": \"/k4JIHyAXaGHwAwT7y5Skd17f0Wl.jpg\",\n",
      "    \"belongs_to_collection\": null,\n",
      "    \"budget\": 0,\n",
      "    \"genres\": [\n",
      "        {\n",
      "            \"id\": 35,\n",
      "            \"name\": \"Comedy\"\n",
      "        },\n",
      "        {\n",
      "            \"id\": 10749,\n",
      "            \"name\": \"Romance\"\n",
      "        }\n",
      "    ],\n",
      "    \"homepage\": \"\",\n",
      "    \"id\": 552,\n",
      "    \"imdb_id\": \"tt0237539\",\n",
      "    \"origin_country\": [\n",
      "        \"IT\"\n",
      "    ],\n",
      "    \"original_language\": \"it\",\n",
      "    \"original_title\": \"Pane e tulipani\",\n",
      "    \"overview\": \"An endearing light comedy about a woman who spontaneously becomes a resident of Venice after her family left her behind. While enjoying the wonderful people she meets she achieves a new life and the first time independent of her family.\",\n",
      "    \"popularity\": 1.7024,\n",
      "    \"poster_path\": \"/ijCBLF08KQsam3cOBAnit05iiV3.jpg\",\n",
      "    \"production_companies\": [\n",
      "        {\n",
      "            \"id\": 317,\n",
      "            \"logo_path\": \"/HJj0J9Tk6AGcLpL4O7mI3bsccM.png\",\n",
      "            \"name\": \"Istituto Luce Cinecitt\\u00e0\",\n",
      "            \"origin_country\": \"IT\"\n",
      "        },\n",
      "        {\n",
      "            \"id\": 169018,\n",
      "            \"logo_path\": null,\n",
      "            \"name\": \"Monogatari\",\n",
      "            \"origin_country\": \"\"\n",
      "        },\n",
      "        {\n",
      "            \"id\": 155990,\n",
      "            \"logo_path\": \"/py9VaywwK6KVi94YwrxSKVg1gkh.png\",\n",
      "            \"name\": \"RAI Cinema\",\n",
      "            \"origin_country\": \"IT\"\n",
      "        },\n",
      "        {\n",
      "            \"id\": 851,\n",
      "            \"logo_path\": \"/kieSA3GFVysJcAUXNRer06u6e5x.png\",\n",
      "            \"name\": \"MEDIA Programme of the European Union\",\n",
      "            \"origin_country\": \"BE\"\n",
      "        },\n",
      "        {\n",
      "            \"id\": 2715,\n",
      "            \"logo_path\": \"/hEojI1NMV4UH9j09J4HDnFDCwUB.png\",\n",
      "            \"name\": \"Amka Films\",\n",
      "            \"origin_country\": \"CH\"\n",
      "        }\n",
      "    ],\n",
      "    \"production_countries\": [\n",
      "        {\n",
      "            \"iso_3166_1\": \"BE\",\n",
      "            \"name\": \"Belgium\"\n",
      "        },\n",
      "        {\n",
      "            \"iso_3166_1\": \"IT\",\n",
      "            \"name\": \"Italy\"\n",
      "        },\n",
      "        {\n",
      "            \"iso_3166_1\": \"CH\",\n",
      "            \"name\": \"Switzerland\"\n",
      "        }\n",
      "    ],\n",
      "    \"release_date\": \"2000-03-03\",\n",
      "    \"revenue\": 8500000,\n",
      "    \"runtime\": 114,\n",
      "    \"spoken_languages\": [\n",
      "        {\n",
      "            \"english_name\": \"Italian\",\n",
      "            \"iso_639_1\": \"it\",\n",
      "            \"name\": \"Italiano\"\n",
      "        }\n",
      "    ],\n",
      "    \"status\": \"Released\",\n",
      "    \"tagline\": \"Imagine your life. Now go live it.\",\n",
      "    \"title\": \"Bread and Tulips\",\n",
      "    \"video\": false,\n",
      "    \"vote_average\": 7.135,\n",
      "    \"vote_count\": 292\n",
      "}\n",
      "\n",
      "🔍 API Response for Movie ID: 553\n",
      "{\n",
      "    \"adult\": false,\n",
      "    \"backdrop_path\": \"/r3xsFBD1VTUusk393bBc7SsDUJe.jpg\",\n",
      "    \"belongs_to_collection\": {\n",
      "        \"id\": 1952,\n",
      "        \"name\": \"USA: Land of Opportunities Collection\",\n",
      "        \"poster_path\": \"/A4atgNoJJi1IK8AP2Bx4yzoXh6z.jpg\",\n",
      "        \"backdrop_path\": \"/qMA0dQpuhOb8UtAaEj5PasG3mCB.jpg\"\n",
      "    },\n",
      "    \"budget\": 10000000,\n",
      "    \"genres\": [\n",
      "        {\n",
      "            \"id\": 80,\n",
      "            \"name\": \"Crime\"\n",
      "        },\n",
      "        {\n",
      "            \"id\": 18,\n",
      "            \"name\": \"Drama\"\n",
      "        },\n",
      "        {\n",
      "            \"id\": 53,\n",
      "            \"name\": \"Thriller\"\n",
      "        }\n",
      "    ],\n",
      "    \"homepage\": \"\",\n",
      "    \"id\": 553,\n",
      "    \"imdb_id\": \"tt0276919\",\n",
      "    \"origin_country\": [\n",
      "        \"DK\"\n",
      "    ],\n",
      "    \"original_language\": \"en\",\n",
      "    \"original_title\": \"Dogville\",\n",
      "    \"overview\": \"When beautiful young Grace arrives in the isolated township of Dogville, the small community agrees to hide her from a gang of ruthless gangsters, and, in return, Grace agrees to do odd jobs for the townspeople.\",\n",
      "    \"popularity\": 4.1362,\n",
      "    \"poster_path\": \"/lraVawavIXh5geMlVjpzCw9TGwR.jpg\",\n",
      "    \"production_companies\": [\n",
      "        {\n",
      "            \"id\": 76,\n",
      "            \"logo_path\": \"/nebkQYtQKhZyHJfh5v0oGpNbPzu.png\",\n",
      "            \"name\": \"Zentropa Entertainments\",\n",
      "            \"origin_country\": \"DK\"\n",
      "        },\n",
      "        {\n",
      "            \"id\": 814,\n",
      "            \"logo_path\": null,\n",
      "            \"name\": \"Isabella Films B.V.\",\n",
      "            \"origin_country\": \"NL\"\n",
      "        },\n",
      "        {\n",
      "            \"id\": 53873,\n",
      "            \"logo_path\": null,\n",
      "            \"name\": \"Something Else B.V.\",\n",
      "            \"origin_country\": \"\"\n",
      "        },\n",
      "        {\n",
      "            \"id\": 321,\n",
      "            \"logo_path\": \"/pfp6VWF3tYfOHHVRHpYe2iGcYrf.png\",\n",
      "            \"name\": \"Memfis Film\",\n",
      "            \"origin_country\": \"SE\"\n",
      "        },\n",
      "        {\n",
      "            \"id\": 320,\n",
      "            \"logo_path\": null,\n",
      "            \"name\": \"Trollh\\u00e4ttan Film\",\n",
      "            \"origin_country\": \"SE\"\n",
      "        },\n",
      "        {\n",
      "            \"id\": 30268,\n",
      "            \"logo_path\": null,\n",
      "            \"name\": \"Pain Unlimited Filmproduktion\",\n",
      "            \"origin_country\": \"DE\"\n",
      "        },\n",
      "        {\n",
      "            \"id\": 53874,\n",
      "            \"logo_path\": \"/mZJMAPElHQBIuWWXSyHtyaMf26C.png\",\n",
      "            \"name\": \"Sigma Films\",\n",
      "            \"origin_country\": \"GB\"\n",
      "        },\n",
      "        {\n",
      "            \"id\": 53875,\n",
      "            \"logo_path\": null,\n",
      "            \"name\": \"Zoma Films\",\n",
      "            \"origin_country\": \"GB\"\n",
      "        },\n",
      "        {\n",
      "            \"id\": 7777,\n",
      "            \"logo_path\": \"/vd6oWpxQXyaeWGfm0A5SnJi8pyo.png\",\n",
      "            \"name\": \"Slot Machine\",\n",
      "            \"origin_country\": \"FR\"\n",
      "        },\n",
      "        {\n",
      "            \"id\": 11239,\n",
      "            \"logo_path\": null,\n",
      "            \"name\": \"Liberator Productions\",\n",
      "            \"origin_country\": \"FR\"\n",
      "        },\n",
      "        {\n",
      "            \"id\": 2801,\n",
      "            \"logo_path\": \"/bswb1PLLsKDUXMLgy42bZtCtIde.png\",\n",
      "            \"name\": \"Film i V\\u00e4st\",\n",
      "            \"origin_country\": \"SE\"\n",
      "        },\n",
      "        {\n",
      "            \"id\": 94,\n",
      "            \"logo_path\": \"/huC7HqorvUThGIrENrbcHmQVUA0.png\",\n",
      "            \"name\": \"ARTE France Cin\\u00e9ma\",\n",
      "            \"origin_country\": \"FR\"\n",
      "        },\n",
      "        {\n",
      "            \"id\": 591,\n",
      "            \"logo_path\": \"/q5I5RDwMEiqoNmfaJgd2LraEOJY.png\",\n",
      "            \"name\": \"France 3 Cin\\u00e9ma\",\n",
      "            \"origin_country\": \"FR\"\n",
      "        },\n",
      "        {\n",
      "            \"id\": 10946,\n",
      "            \"logo_path\": \"/gk4SFkJ3G49gGL308zymD8QGNw.png\",\n",
      "            \"name\": \"WDR/Arte\",\n",
      "            \"origin_country\": \"DE\"\n",
      "        },\n",
      "        {\n",
      "            \"id\": 119,\n",
      "            \"logo_path\": \"/1di2gITGUZr730AMuMKiCrP90Vl.png\",\n",
      "            \"name\": \"DR\",\n",
      "            \"origin_country\": \"DK\"\n",
      "        },\n",
      "        {\n",
      "            \"id\": 2999,\n",
      "            \"logo_path\": \"/zGSqFee9aDgDuLD6vcs2mcJUem4.png\",\n",
      "            \"name\": \"SVT\",\n",
      "            \"origin_country\": \"SE\"\n",
      "        },\n",
      "        {\n",
      "            \"id\": 12023,\n",
      "            \"logo_path\": \"/97tVKGqnkjn0hwTGGRDPRgYWbrE.png\",\n",
      "            \"name\": \"NPS\",\n",
      "            \"origin_country\": \"NL\"\n",
      "        },\n",
      "        {\n",
      "            \"id\": 5975,\n",
      "            \"logo_path\": \"/vvjgoKygWWYZvYyidT3RmOCq5If.png\",\n",
      "            \"name\": \"YLE\",\n",
      "            \"origin_country\": \"FI\"\n",
      "        },\n",
      "        {\n",
      "            \"id\": 224438,\n",
      "            \"logo_path\": null,\n",
      "            \"name\": \"Norsk TV2 AS\",\n",
      "            \"origin_country\": \"NO\"\n",
      "        },\n",
      "        {\n",
      "            \"id\": 25491,\n",
      "            \"logo_path\": null,\n",
      "            \"name\": \"Edith Film\",\n",
      "            \"origin_country\": \"FI\"\n",
      "        },\n",
      "        {\n",
      "            \"id\": 255882,\n",
      "            \"logo_path\": null,\n",
      "            \"name\": \"Spillefilmselskapet 4 1/2\",\n",
      "            \"origin_country\": \"\"\n",
      "        },\n",
      "        {\n",
      "            \"id\": 224439,\n",
      "            \"logo_path\": null,\n",
      "            \"name\": \"Fjeldabe Films AS\",\n",
      "            \"origin_country\": \"\"\n",
      "        },\n",
      "        {\n",
      "            \"id\": 23207,\n",
      "            \"logo_path\": null,\n",
      "            \"name\": \"Invicta Capital\",\n",
      "            \"origin_country\": \"GB\"\n",
      "        },\n",
      "        {\n",
      "            \"id\": 447,\n",
      "            \"logo_path\": null,\n",
      "            \"name\": \"TV 1000 Sverige\",\n",
      "            \"origin_country\": \"SE\"\n",
      "        }\n",
      "    ],\n",
      "    \"production_countries\": [\n",
      "        {\n",
      "            \"iso_3166_1\": \"DK\",\n",
      "            \"name\": \"Denmark\"\n",
      "        },\n",
      "        {\n",
      "            \"iso_3166_1\": \"FI\",\n",
      "            \"name\": \"Finland\"\n",
      "        },\n",
      "        {\n",
      "            \"iso_3166_1\": \"FR\",\n",
      "            \"name\": \"France\"\n",
      "        },\n",
      "        {\n",
      "            \"iso_3166_1\": \"DE\",\n",
      "            \"name\": \"Germany\"\n",
      "        },\n",
      "        {\n",
      "            \"iso_3166_1\": \"NL\",\n",
      "            \"name\": \"Netherlands\"\n",
      "        },\n",
      "        {\n",
      "            \"iso_3166_1\": \"NO\",\n",
      "            \"name\": \"Norway\"\n",
      "        },\n",
      "        {\n",
      "            \"iso_3166_1\": \"SE\",\n",
      "            \"name\": \"Sweden\"\n",
      "        },\n",
      "        {\n",
      "            \"iso_3166_1\": \"GB\",\n",
      "            \"name\": \"United Kingdom\"\n",
      "        }\n",
      "    ],\n",
      "    \"release_date\": \"2003-05-21\",\n",
      "    \"revenue\": 16690617,\n",
      "    \"runtime\": 178,\n",
      "    \"spoken_languages\": [\n",
      "        {\n",
      "            \"english_name\": \"English\",\n",
      "            \"iso_639_1\": \"en\",\n",
      "            \"name\": \"English\"\n",
      "        }\n",
      "    ],\n",
      "    \"status\": \"Released\",\n",
      "    \"tagline\": \"A quiet little town not far from here.\",\n",
      "    \"title\": \"Dogville\",\n",
      "    \"video\": false,\n",
      "    \"vote_average\": 7.771,\n",
      "    \"vote_count\": 2502\n",
      "}\n",
      "\n",
      "🔍 API Response for Movie ID: 554\n",
      "{\n",
      "    \"adult\": false,\n",
      "    \"backdrop_path\": \"/1qwXItFKqvKYyW1CwbYhxyUC8Pj.jpg\",\n",
      "    \"belongs_to_collection\": null,\n",
      "    \"budget\": 0,\n",
      "    \"genres\": [\n",
      "        {\n",
      "            \"id\": 18,\n",
      "            \"name\": \"Drama\"\n",
      "        },\n",
      "        {\n",
      "            \"id\": 36,\n",
      "            \"name\": \"History\"\n",
      "        },\n",
      "        {\n",
      "            \"id\": 10749,\n",
      "            \"name\": \"Romance\"\n",
      "        },\n",
      "        {\n",
      "            \"id\": 35,\n",
      "            \"name\": \"Comedy\"\n",
      "        }\n",
      "    ],\n",
      "    \"homepage\": \"\",\n",
      "    \"id\": 554,\n",
      "    \"imdb_id\": \"tt0308476\",\n",
      "    \"origin_country\": [\n",
      "        \"RU\"\n",
      "    ],\n",
      "    \"original_language\": \"ru\",\n",
      "    \"original_title\": \"\\u041a\\u0443\\u043a\\u0443\\u0448\\u043a\\u0430\",\n",
      "    \"overview\": \"September of 1944, a few days before Finland went out of the Second World War. A chained to a rock Finnish sniper-kamikadze Veikko managed to set himself free. Ivan, a captain of the Soviet Army, arrested by the Front Secret Police 'Smersh', has a narrow escape. They are soldiers of the two enemy armies. A Lapp woman Anni gives a shelter to both of them at her farm. For Anni they are not enemies, but just men.\",\n",
      "    \"popularity\": 2.0013,\n",
      "    \"poster_path\": \"/g0bVxxdeAkDwzLoJq7o8ehQZWa6.jpg\",\n",
      "    \"production_companies\": [\n",
      "        {\n",
      "            \"id\": 318,\n",
      "            \"logo_path\": \"/q0UG4oZERwIywJdDPF4lRlvdYGW.png\",\n",
      "            \"name\": \"CTB Film Company\",\n",
      "            \"origin_country\": \"RU\"\n",
      "        }\n",
      "    ],\n",
      "    \"production_countries\": [\n",
      "        {\n",
      "            \"iso_3166_1\": \"FI\",\n",
      "            \"name\": \"Finland\"\n",
      "        },\n",
      "        {\n",
      "            \"iso_3166_1\": \"RU\",\n",
      "            \"name\": \"Russia\"\n",
      "        }\n",
      "    ],\n",
      "    \"release_date\": \"2002-01-01\",\n",
      "    \"revenue\": 0,\n",
      "    \"runtime\": 100,\n",
      "    \"spoken_languages\": [\n",
      "        {\n",
      "            \"english_name\": \"German\",\n",
      "            \"iso_639_1\": \"de\",\n",
      "            \"name\": \"Deutsch\"\n",
      "        },\n",
      "        {\n",
      "            \"english_name\": \"Finnish\",\n",
      "            \"iso_639_1\": \"fi\",\n",
      "            \"name\": \"suomi\"\n",
      "        },\n",
      "        {\n",
      "            \"english_name\": \"Russian\",\n",
      "            \"iso_639_1\": \"ru\",\n",
      "            \"name\": \"P\\u0443\\u0441\\u0441\\u043a\\u0438\\u0439\"\n",
      "        }\n",
      "    ],\n",
      "    \"status\": \"Released\",\n",
      "    \"tagline\": \"She's Making Peace One Man at a Time.\",\n",
      "    \"title\": \"The Cuckoo\",\n",
      "    \"video\": false,\n",
      "    \"vote_average\": 7.1,\n",
      "    \"vote_count\": 111\n",
      "}\n",
      "\n",
      " Fetched Movie DataFrame:\n",
      "   adult                     backdrop_path  \\\n",
      "0  False  /xRyINp9KfMLVjRiO5nCsoRDdvvF.jpg   \n",
      "1  False  /ejLsnT6KmMpvtoPHMp40m54hRDd.jpg   \n",
      "2  False  /k4JIHyAXaGHwAwT7y5Skd17f0Wl.jpg   \n",
      "3  False  /r3xsFBD1VTUusk393bBc7SsDUJe.jpg   \n",
      "4  False  /1qwXItFKqvKYyW1CwbYhxyUC8Pj.jpg   \n",
      "\n",
      "                               belongs_to_collection    budget  \\\n",
      "0                                               None  63000000   \n",
      "1  {'id': 372257, 'name': 'The Poseidon Adventure...   5000000   \n",
      "2                                               None         0   \n",
      "3  {'id': 1952, 'name': 'USA: Land of Opportuniti...  10000000   \n",
      "4                                               None         0   \n",
      "\n",
      "                                              genres  \\\n",
      "0                      [{'id': 18, 'name': 'Drama'}]   \n",
      "1  [{'id': 12, 'name': 'Adventure'}, {'id': 18, '...   \n",
      "2  [{'id': 35, 'name': 'Comedy'}, {'id': 10749, '...   \n",
      "3  [{'id': 80, 'name': 'Crime'}, {'id': 18, 'name...   \n",
      "4  [{'id': 18, 'name': 'Drama'}, {'id': 36, 'name...   \n",
      "\n",
      "                                     homepage   id    imdb_id origin_country  \\\n",
      "0  http://www.foxmovies.com/movies/fight-club  550  tt0137523           [US]   \n",
      "1                                              551  tt0069113           [US]   \n",
      "2                                              552  tt0237539           [IT]   \n",
      "3                                              553  tt0276919           [DK]   \n",
      "4                                              554  tt0308476           [RU]   \n",
      "\n",
      "  original_language  ... release_date    revenue  runtime  \\\n",
      "0                en  ...   1999-10-15  100853753      139   \n",
      "1                en  ...   1972-12-01   84563118      117   \n",
      "2                it  ...   2000-03-03    8500000      114   \n",
      "3                en  ...   2003-05-21   16690617      178   \n",
      "4                ru  ...   2002-01-01          0      100   \n",
      "\n",
      "                                    spoken_languages    status  \\\n",
      "0  [{'english_name': 'English', 'iso_639_1': 'en'...  Released   \n",
      "1  [{'english_name': 'English', 'iso_639_1': 'en'...  Released   \n",
      "2  [{'english_name': 'Italian', 'iso_639_1': 'it'...  Released   \n",
      "3  [{'english_name': 'English', 'iso_639_1': 'en'...  Released   \n",
      "4  [{'english_name': 'German', 'iso_639_1': 'de',...  Released   \n",
      "\n",
      "                                  tagline                   title  video  \\\n",
      "0                 Mischief. Mayhem. Soap.              Fight Club  False   \n",
      "1                      Hell, upside down.  The Poseidon Adventure  False   \n",
      "2      Imagine your life. Now go live it.        Bread and Tulips  False   \n",
      "3  A quiet little town not far from here.                Dogville  False   \n",
      "4   She's Making Peace One Man at a Time.              The Cuckoo  False   \n",
      "\n",
      "   vote_average vote_count  \n",
      "0         8.437      30339  \n",
      "1         7.100        919  \n",
      "2         7.135        292  \n",
      "3         7.771       2502  \n",
      "4         7.100        111  \n",
      "\n",
      "[5 rows x 26 columns]\n",
      "\n",
      " DataFrame Columns:\n",
      "Index(['adult', 'backdrop_path', 'belongs_to_collection', 'budget', 'genres',\n",
      "       'homepage', 'id', 'imdb_id', 'origin_country', 'original_language',\n",
      "       'original_title', 'overview', 'popularity', 'poster_path',\n",
      "       'production_companies', 'production_countries', 'release_date',\n",
      "       'revenue', 'runtime', 'spoken_languages', 'status', 'tagline', 'title',\n",
      "       'video', 'vote_average', 'vote_count'],\n",
      "      dtype='object')\n"
     ]
    }
   ],
   "source": [
    "def fetch_movie_data(movie_id):\n",
    "    \"\"\"Fetch movie details from TMDB API.\"\"\"\n",
    "    url = f\"{base_url}/movie/{movie_id}\"\n",
    "    params = {\n",
    "        \"api_key\": api_key,\n",
    "        \"language\": \"en-US\"\n",
    "    }\n",
    "    response = requests.get(url, params=params)\n",
    "    \n",
    "    if response.status_code == 200:\n",
    "        return response.json()\n",
    "    else:\n",
    "        print(f\"Error fetching data for movie ID {movie_id}: {response.status_code}\")\n",
    "        try:\n",
    "            print(response.json())  # Print error details from API\n",
    "        except:\n",
    "            pass\n",
    "        return None\n",
    "\n",
    "def main():\n",
    "    \"\"\"Main pipeline to fetch movies and build a DataFrame.\"\"\"\n",
    "    # Example movie IDs (test small batch first)\n",
    "    movie_ids = [550, 551, 552, 553, 554]\n",
    "    \n",
    "    movie_data_list = []\n",
    "\n",
    "    for movie_id in movie_ids:\n",
    "        movie_data = fetch_movie_data(movie_id)\n",
    "        if movie_data:\n",
    "            print(\"\\n🔍 API Response for Movie ID:\", movie_id)\n",
    "            print(json.dumps(movie_data, indent=4))  # Pretty print JSON for clarity\n",
    "            \n",
    "            movie_data_list.append(movie_data)\n",
    "        sleep(1)  # Be respectful of rate limits\n",
    "\n",
    "    # Convert to DataFrame\n",
    "    if movie_data_list:\n",
    "        df = pd.DataFrame(movie_data_list)\n",
    "\n",
    "        print(\"\\n Fetched Movie DataFrame:\")\n",
    "        print(df.head())\n",
    "\n",
    "        print(\"\\n DataFrame Columns:\")\n",
    "        print(df.columns)\n",
    "\n",
    "        # Save DataFrame (optional)\n",
    "        # df.to_csv(\"tmdb_movies_raw.csv\", index=False)\n",
    "\n",
    "    else:\n",
    "        print(\"No movie data fetched.\")\n",
    "\n",
    "if __name__ == \"__main__\":\n",
    "    main()\n"
   ]
  },
  {
   "cell_type": "code",
   "execution_count": 6,
   "metadata": {},
   "outputs": [
    {
     "name": "stdout",
     "output_type": "stream",
     "text": [
      "Total movies matching query: 579310\n",
      "Total pages: 28966\n"
     ]
    }
   ],
   "source": [
    "url = f\"https://api.themoviedb.org/3/discover/movie\"\n",
    "params = {\n",
    "    \"api_key\": api_key,\n",
    "    \"language\": \"en-US\",\n",
    "    \"primary_release_date.gte\": \"2000-01-01\",\n",
    "    \"primary_release_date.lte\": \"2024-12-31\",\n",
    "    \"page\": 1\n",
    "}\n",
    "\n",
    "response = requests.get(url, params=params)\n",
    "data = response.json()\n",
    "\n",
    "print(f\"Total movies matching query: {data['total_results']}\")\n",
    "print(f\"Total pages: {data['total_pages']}\")\n"
   ]
  },
  {
   "cell_type": "code",
   "execution_count": 11,
   "metadata": {},
   "outputs": [
    {
     "name": "stdout",
     "output_type": "stream",
     "text": [
      "Page 1 complete — movies collected: 20\n",
      "Page 2 complete — movies collected: 40\n",
      "Page 3 complete — movies collected: 60\n",
      "Page 4 complete — movies collected: 80\n",
      "Page 5 complete — movies collected: 100\n",
      "Page 6 complete — movies collected: 120\n",
      "Page 7 complete — movies collected: 140\n",
      "Page 8 complete — movies collected: 160\n",
      "Page 9 complete — movies collected: 180\n",
      "Page 10 complete — movies collected: 200\n",
      "Page 11 complete — movies collected: 220\n",
      "Page 12 complete — movies collected: 240\n",
      "Page 13 complete — movies collected: 260\n",
      "Page 14 complete — movies collected: 280\n",
      "Page 15 complete — movies collected: 300\n",
      "Page 16 complete — movies collected: 320\n",
      "Page 17 complete — movies collected: 340\n",
      "Page 18 complete — movies collected: 360\n",
      "Page 19 complete — movies collected: 380\n",
      "Page 20 complete — movies collected: 400\n",
      "Page 21 complete — movies collected: 420\n",
      "Page 22 complete — movies collected: 440\n",
      "Page 23 complete — movies collected: 460\n",
      "Page 24 complete — movies collected: 480\n",
      "Page 25 complete — movies collected: 500\n",
      "Page 26 complete — movies collected: 520\n",
      "Page 27 complete — movies collected: 540\n",
      "Page 28 complete — movies collected: 560\n",
      "Page 29 complete — movies collected: 580\n",
      "Page 30 complete — movies collected: 600\n",
      "Page 31 complete — movies collected: 620\n",
      "Page 32 complete — movies collected: 640\n",
      "Page 33 complete — movies collected: 660\n",
      "Page 34 complete — movies collected: 680\n",
      "Page 35 complete — movies collected: 700\n",
      "Page 36 complete — movies collected: 720\n",
      "Page 37 complete — movies collected: 740\n",
      "Page 38 complete — movies collected: 760\n",
      "Page 39 complete — movies collected: 780\n",
      "Page 40 complete — movies collected: 800\n",
      "Page 41 complete — movies collected: 820\n",
      "Page 42 complete — movies collected: 840\n",
      "Page 43 complete — movies collected: 860\n",
      "Page 44 complete — movies collected: 880\n",
      "Page 45 complete — movies collected: 900\n",
      "Page 46 complete — movies collected: 920\n",
      "Page 47 complete — movies collected: 940\n",
      "Page 48 complete — movies collected: 960\n",
      "Page 49 complete — movies collected: 980\n",
      "Page 50 complete — movies collected: 1000\n",
      "Page 51 complete — movies collected: 1020\n",
      "Page 52 complete — movies collected: 1040\n",
      "Page 53 complete — movies collected: 1060\n",
      "Page 54 complete — movies collected: 1080\n",
      "Page 55 complete — movies collected: 1100\n",
      "Page 56 complete — movies collected: 1120\n",
      "Page 57 complete — movies collected: 1140\n",
      "Page 58 complete — movies collected: 1160\n",
      "Page 59 complete — movies collected: 1180\n",
      "Page 60 complete — movies collected: 1200\n",
      "Page 61 complete — movies collected: 1220\n",
      "Page 62 complete — movies collected: 1240\n",
      "Page 63 complete — movies collected: 1260\n",
      "Page 64 complete — movies collected: 1280\n",
      "Page 65 complete — movies collected: 1300\n",
      "Page 66 complete — movies collected: 1320\n",
      "Page 67 complete — movies collected: 1340\n",
      "Page 68 complete — movies collected: 1360\n",
      "Page 69 complete — movies collected: 1380\n",
      "Page 70 complete — movies collected: 1400\n",
      "Page 71 complete — movies collected: 1420\n",
      "Page 72 complete — movies collected: 1440\n",
      "Page 73 complete — movies collected: 1460\n",
      "Page 74 complete — movies collected: 1480\n",
      "Page 75 complete — movies collected: 1500\n",
      "Page 76 complete — movies collected: 1520\n",
      "Page 77 complete — movies collected: 1540\n",
      "Page 78 complete — movies collected: 1560\n",
      "Page 79 complete — movies collected: 1580\n",
      "Page 80 complete — movies collected: 1600\n",
      "Page 81 complete — movies collected: 1620\n",
      "Page 82 complete — movies collected: 1640\n",
      "Page 83 complete — movies collected: 1660\n",
      "Page 84 complete — movies collected: 1680\n",
      "Page 85 complete — movies collected: 1700\n",
      "Page 86 complete — movies collected: 1720\n",
      "Page 87 complete — movies collected: 1740\n",
      "Page 88 complete — movies collected: 1760\n",
      "Page 89 complete — movies collected: 1780\n",
      "Page 90 complete — movies collected: 1800\n",
      "Page 91 complete — movies collected: 1820\n",
      "Page 92 complete — movies collected: 1840\n",
      "Page 93 complete — movies collected: 1860\n",
      "Page 94 complete — movies collected: 1880\n",
      "Page 95 complete — movies collected: 1900\n",
      "Page 96 complete — movies collected: 1920\n",
      "Page 97 complete — movies collected: 1940\n",
      "Page 98 complete — movies collected: 1960\n",
      "Page 99 complete — movies collected: 1980\n",
      "Page 100 complete — movies collected: 2000\n",
      "Page 101 complete — movies collected: 2020\n",
      "Page 102 complete — movies collected: 2040\n",
      "Page 103 complete — movies collected: 2060\n",
      "Page 104 complete — movies collected: 2080\n",
      "Page 105 complete — movies collected: 2100\n",
      "Page 106 complete — movies collected: 2120\n",
      "Page 107 complete — movies collected: 2140\n",
      "Page 108 complete — movies collected: 2160\n",
      "Page 109 complete — movies collected: 2180\n",
      "Page 110 complete — movies collected: 2200\n",
      "Page 111 complete — movies collected: 2220\n",
      "Page 112 complete — movies collected: 2240\n",
      "Page 113 complete — movies collected: 2260\n",
      "Page 114 complete — movies collected: 2280\n",
      "Page 115 complete — movies collected: 2300\n",
      "Page 116 complete — movies collected: 2320\n",
      "Page 117 complete — movies collected: 2340\n",
      "Page 118 complete — movies collected: 2360\n",
      "Page 119 complete — movies collected: 2380\n",
      "Page 120 complete — movies collected: 2400\n",
      "Page 121 complete — movies collected: 2420\n",
      "Page 122 complete — movies collected: 2440\n",
      "Page 123 complete — movies collected: 2460\n",
      "Page 124 complete — movies collected: 2480\n",
      "Page 125 complete — movies collected: 2500\n",
      "Page 126 complete — movies collected: 2520\n",
      "Page 127 complete — movies collected: 2540\n",
      "Page 128 complete — movies collected: 2560\n",
      "Page 129 complete — movies collected: 2580\n",
      "Page 130 complete — movies collected: 2600\n",
      "Page 131 complete — movies collected: 2620\n",
      "Page 132 complete — movies collected: 2640\n",
      "Page 133 complete — movies collected: 2660\n",
      "Page 134 complete — movies collected: 2680\n",
      "Page 135 complete — movies collected: 2700\n",
      "Page 136 complete — movies collected: 2720\n",
      "Page 137 complete — movies collected: 2740\n",
      "Page 138 complete — movies collected: 2760\n",
      "Page 139 complete — movies collected: 2780\n",
      "Page 140 complete — movies collected: 2800\n",
      "Page 141 complete — movies collected: 2820\n",
      "Page 142 complete — movies collected: 2840\n",
      "Page 143 complete — movies collected: 2860\n",
      "Page 144 complete — movies collected: 2880\n",
      "Page 145 complete — movies collected: 2900\n",
      "Page 146 complete — movies collected: 2920\n",
      "Page 147 complete — movies collected: 2940\n",
      "Page 148 complete — movies collected: 2960\n",
      "Page 149 complete — movies collected: 2980\n",
      "Page 150 complete — movies collected: 3000\n",
      "Page 151 complete — movies collected: 3020\n",
      "Page 152 complete — movies collected: 3040\n",
      "Page 153 complete — movies collected: 3060\n",
      "Page 154 complete — movies collected: 3080\n",
      "Page 155 complete — movies collected: 3100\n",
      "Page 156 complete — movies collected: 3120\n",
      "Page 157 complete — movies collected: 3140\n",
      "Page 158 complete — movies collected: 3160\n",
      "Page 159 complete — movies collected: 3180\n",
      "Page 160 complete — movies collected: 3200\n",
      "Page 161 complete — movies collected: 3220\n",
      "Page 162 complete — movies collected: 3240\n",
      "Page 163 complete — movies collected: 3260\n",
      "Page 164 complete — movies collected: 3280\n",
      "Page 165 complete — movies collected: 3300\n",
      "Page 166 complete — movies collected: 3320\n",
      "Page 167 complete — movies collected: 3340\n",
      "Page 168 complete — movies collected: 3360\n",
      "Page 169 complete — movies collected: 3380\n",
      "Page 170 complete — movies collected: 3400\n",
      "Page 171 complete — movies collected: 3420\n",
      "Page 172 complete — movies collected: 3440\n",
      "Page 173 complete — movies collected: 3460\n",
      "Page 174 complete — movies collected: 3480\n",
      "Page 175 complete — movies collected: 3500\n",
      "Page 176 complete — movies collected: 3520\n",
      "Page 177 complete — movies collected: 3540\n",
      "Page 178 complete — movies collected: 3560\n",
      "Page 179 complete — movies collected: 3580\n",
      "Page 180 complete — movies collected: 3600\n",
      "Page 181 complete — movies collected: 3620\n",
      "Page 182 complete — movies collected: 3640\n",
      "Page 183 complete — movies collected: 3660\n",
      "Page 184 complete — movies collected: 3680\n",
      "Page 185 complete — movies collected: 3700\n",
      "Page 186 complete — movies collected: 3720\n",
      "Page 187 complete — movies collected: 3740\n",
      "Page 188 complete — movies collected: 3760\n",
      "Page 189 complete — movies collected: 3780\n",
      "Page 190 complete — movies collected: 3800\n",
      "Page 191 complete — movies collected: 3820\n",
      "Page 192 complete — movies collected: 3840\n",
      "Page 193 complete — movies collected: 3860\n",
      "Page 194 complete — movies collected: 3880\n",
      "Page 195 complete — movies collected: 3900\n",
      "Page 196 complete — movies collected: 3920\n",
      "Page 197 complete — movies collected: 3940\n",
      "Page 198 complete — movies collected: 3960\n",
      "Page 199 complete — movies collected: 3980\n",
      "Page 200 complete — movies collected: 4000\n",
      "Page 201 complete — movies collected: 4020\n",
      "Page 202 complete — movies collected: 4040\n",
      "Page 203 complete — movies collected: 4060\n",
      "Page 204 complete — movies collected: 4080\n",
      "Page 205 complete — movies collected: 4100\n",
      "Page 206 complete — movies collected: 4120\n",
      "Page 207 complete — movies collected: 4140\n",
      "Page 208 complete — movies collected: 4160\n",
      "Page 209 complete — movies collected: 4180\n",
      "Page 210 complete — movies collected: 4200\n",
      "Page 211 complete — movies collected: 4220\n",
      "Page 212 complete — movies collected: 4240\n",
      "Page 213 complete — movies collected: 4260\n",
      "Page 214 complete — movies collected: 4280\n",
      "Page 215 complete — movies collected: 4300\n",
      "Page 216 complete — movies collected: 4320\n",
      "Page 217 complete — movies collected: 4340\n",
      "Page 218 complete — movies collected: 4360\n",
      "Page 219 complete — movies collected: 4380\n",
      "Page 220 complete — movies collected: 4400\n",
      "Page 221 complete — movies collected: 4420\n",
      "Page 222 complete — movies collected: 4440\n",
      "Page 223 complete — movies collected: 4460\n",
      "Page 224 complete — movies collected: 4480\n",
      "Page 225 complete — movies collected: 4500\n",
      "Page 226 complete — movies collected: 4520\n",
      "Page 227 complete — movies collected: 4540\n",
      "Page 228 complete — movies collected: 4560\n",
      "Page 229 complete — movies collected: 4580\n",
      "Page 230 complete — movies collected: 4600\n",
      "Page 231 complete — movies collected: 4620\n",
      "Page 232 complete — movies collected: 4640\n",
      "Page 233 complete — movies collected: 4660\n",
      "Page 234 complete — movies collected: 4680\n",
      "Page 235 complete — movies collected: 4700\n",
      "Page 236 complete — movies collected: 4720\n",
      "Page 237 complete — movies collected: 4740\n",
      "Page 238 complete — movies collected: 4760\n",
      "Page 239 complete — movies collected: 4780\n",
      "Page 240 complete — movies collected: 4800\n",
      "Page 241 complete — movies collected: 4820\n",
      "Page 242 complete — movies collected: 4840\n",
      "Page 243 complete — movies collected: 4860\n",
      "Page 244 complete — movies collected: 4880\n",
      "Page 245 complete — movies collected: 4900\n",
      "Page 246 complete — movies collected: 4920\n",
      "Page 247 complete — movies collected: 4940\n",
      "Page 248 complete — movies collected: 4960\n",
      "Page 249 complete — movies collected: 4980\n",
      "Page 250 complete — movies collected: 5000\n",
      "Page 251 complete — movies collected: 5020\n",
      "Page 252 complete — movies collected: 5040\n",
      "Page 253 complete — movies collected: 5060\n",
      "Page 254 complete — movies collected: 5080\n",
      "Page 255 complete — movies collected: 5100\n",
      "Page 256 complete — movies collected: 5120\n",
      "Page 257 complete — movies collected: 5140\n",
      "Page 258 complete — movies collected: 5160\n",
      "Page 259 complete — movies collected: 5180\n",
      "Page 260 complete — movies collected: 5200\n",
      "Page 261 complete — movies collected: 5220\n",
      "Page 262 complete — movies collected: 5240\n",
      "Page 263 complete — movies collected: 5260\n",
      "Page 264 complete — movies collected: 5280\n",
      "Page 265 complete — movies collected: 5300\n",
      "Page 266 complete — movies collected: 5320\n",
      "Page 267 complete — movies collected: 5340\n",
      "Page 268 complete — movies collected: 5360\n",
      "Page 269 complete — movies collected: 5380\n",
      "Page 270 complete — movies collected: 5400\n",
      "Page 271 complete — movies collected: 5420\n",
      "Page 272 complete — movies collected: 5440\n",
      "Page 273 complete — movies collected: 5460\n",
      "Page 274 complete — movies collected: 5480\n",
      "Page 275 complete — movies collected: 5500\n",
      "Page 276 complete — movies collected: 5520\n",
      "Page 277 complete — movies collected: 5540\n",
      "Page 278 complete — movies collected: 5560\n",
      "Page 279 complete — movies collected: 5580\n",
      "Page 280 complete — movies collected: 5600\n",
      "Page 281 complete — movies collected: 5620\n",
      "Page 282 complete — movies collected: 5640\n",
      "Page 283 complete — movies collected: 5660\n",
      "Page 284 complete — movies collected: 5680\n",
      "Page 285 complete — movies collected: 5700\n",
      "Page 286 complete — movies collected: 5720\n",
      "Page 287 complete — movies collected: 5740\n",
      "Page 288 complete — movies collected: 5760\n",
      "Page 289 complete — movies collected: 5780\n",
      "Page 290 complete — movies collected: 5800\n",
      "Page 291 complete — movies collected: 5820\n",
      "Page 292 complete — movies collected: 5840\n",
      "Page 293 complete — movies collected: 5860\n",
      "Page 294 complete — movies collected: 5880\n",
      "Page 295 complete — movies collected: 5900\n",
      "Page 296 complete — movies collected: 5920\n",
      "Page 297 complete — movies collected: 5940\n",
      "Page 298 complete — movies collected: 5960\n",
      "Page 299 complete — movies collected: 5980\n",
      "Page 300 complete — movies collected: 6000\n",
      "Page 301 complete — movies collected: 6020\n",
      "Page 302 complete — movies collected: 6040\n",
      "Page 303 complete — movies collected: 6060\n",
      "Page 304 complete — movies collected: 6080\n",
      "Page 305 complete — movies collected: 6100\n",
      "Page 306 complete — movies collected: 6120\n",
      "Page 307 complete — movies collected: 6140\n",
      "Page 308 complete — movies collected: 6160\n",
      "Page 309 complete — movies collected: 6180\n",
      "Page 310 complete — movies collected: 6200\n",
      "Page 311 complete — movies collected: 6220\n",
      "Page 312 complete — movies collected: 6240\n",
      "Page 313 complete — movies collected: 6260\n",
      "Page 314 complete — movies collected: 6280\n",
      "Page 315 complete — movies collected: 6300\n",
      "Page 316 complete — movies collected: 6320\n",
      "Page 317 complete — movies collected: 6340\n",
      "Page 318 complete — movies collected: 6360\n",
      "Page 319 complete — movies collected: 6380\n",
      "Page 320 complete — movies collected: 6400\n",
      "Page 321 complete — movies collected: 6420\n",
      "Page 322 complete — movies collected: 6440\n",
      "Page 323 complete — movies collected: 6460\n",
      "Page 324 complete — movies collected: 6480\n",
      "Page 325 complete — movies collected: 6500\n",
      "Page 326 complete — movies collected: 6520\n",
      "Page 327 complete — movies collected: 6540\n",
      "Page 328 complete — movies collected: 6560\n",
      "Page 329 complete — movies collected: 6580\n",
      "Page 330 complete — movies collected: 6600\n",
      "Page 331 complete — movies collected: 6620\n",
      "Page 332 complete — movies collected: 6640\n",
      "Page 333 complete — movies collected: 6660\n",
      "Page 334 complete — movies collected: 6680\n",
      "Page 335 complete — movies collected: 6700\n",
      "Page 336 complete — movies collected: 6720\n",
      "Page 337 complete — movies collected: 6740\n",
      "Page 338 complete — movies collected: 6760\n",
      "Page 339 complete — movies collected: 6780\n",
      "Page 340 complete — movies collected: 6800\n",
      "Page 341 complete — movies collected: 6820\n",
      "Page 342 complete — movies collected: 6840\n",
      "Page 343 complete — movies collected: 6860\n",
      "Page 344 complete — movies collected: 6880\n",
      "Page 345 complete — movies collected: 6900\n",
      "Page 346 complete — movies collected: 6920\n",
      "Page 347 complete — movies collected: 6940\n",
      "Page 348 complete — movies collected: 6960\n",
      "Page 349 complete — movies collected: 6980\n",
      "Page 350 complete — movies collected: 7000\n",
      "Page 351 complete — movies collected: 7020\n",
      "Page 352 complete — movies collected: 7040\n",
      "Page 353 complete — movies collected: 7060\n",
      "Page 354 complete — movies collected: 7080\n",
      "Page 355 complete — movies collected: 7100\n",
      "Page 356 complete — movies collected: 7120\n",
      "Page 357 complete — movies collected: 7140\n",
      "Page 358 complete — movies collected: 7160\n",
      "Page 359 complete — movies collected: 7180\n",
      "Page 360 complete — movies collected: 7200\n",
      "Page 361 complete — movies collected: 7220\n",
      "Page 362 complete — movies collected: 7240\n",
      "Page 363 complete — movies collected: 7260\n",
      "Page 364 complete — movies collected: 7280\n",
      "Page 365 complete — movies collected: 7300\n",
      "Page 366 complete — movies collected: 7320\n",
      "Page 367 complete — movies collected: 7340\n",
      "Page 368 complete — movies collected: 7360\n",
      "Page 369 complete — movies collected: 7380\n",
      "Page 370 complete — movies collected: 7400\n",
      "Page 371 complete — movies collected: 7420\n",
      "Page 372 complete — movies collected: 7440\n",
      "Page 373 complete — movies collected: 7460\n",
      "Page 374 complete — movies collected: 7480\n",
      "Page 375 complete — movies collected: 7500\n",
      "Page 376 complete — movies collected: 7520\n",
      "Page 377 complete — movies collected: 7540\n",
      "Page 378 complete — movies collected: 7560\n",
      "Page 379 complete — movies collected: 7580\n",
      "Page 380 complete — movies collected: 7600\n",
      "Page 381 complete — movies collected: 7620\n",
      "Page 382 complete — movies collected: 7640\n",
      "Page 383 complete — movies collected: 7660\n",
      "Page 384 complete — movies collected: 7680\n",
      "Page 385 complete — movies collected: 7700\n",
      "Page 386 complete — movies collected: 7720\n",
      "Page 387 complete — movies collected: 7740\n",
      "Page 388 complete — movies collected: 7760\n",
      "Page 389 complete — movies collected: 7780\n",
      "Page 390 complete — movies collected: 7800\n",
      "Page 391 complete — movies collected: 7820\n",
      "Page 392 complete — movies collected: 7840\n",
      "Page 393 complete — movies collected: 7860\n",
      "Page 394 complete — movies collected: 7880\n",
      "Page 395 complete — movies collected: 7900\n",
      "Page 396 complete — movies collected: 7920\n",
      "Page 397 complete — movies collected: 7940\n",
      "Page 398 complete — movies collected: 7960\n",
      "Page 399 complete — movies collected: 7980\n"
     ]
    },
    {
     "data": {
      "text/html": [
       "<div>\n",
       "<style scoped>\n",
       "    .dataframe tbody tr th:only-of-type {\n",
       "        vertical-align: middle;\n",
       "    }\n",
       "\n",
       "    .dataframe tbody tr th {\n",
       "        vertical-align: top;\n",
       "    }\n",
       "\n",
       "    .dataframe thead th {\n",
       "        text-align: right;\n",
       "    }\n",
       "</style>\n",
       "<table border=\"1\" class=\"dataframe\">\n",
       "  <thead>\n",
       "    <tr style=\"text-align: right;\">\n",
       "      <th></th>\n",
       "      <th>title</th>\n",
       "      <th>release_date</th>\n",
       "      <th>budget</th>\n",
       "      <th>revenue</th>\n",
       "      <th>runtime</th>\n",
       "      <th>genres</th>\n",
       "      <th>popularity</th>\n",
       "      <th>vote_average</th>\n",
       "      <th>vote_count</th>\n",
       "      <th>original_language</th>\n",
       "      <th>production_companies</th>\n",
       "      <th>belongs_to_collection</th>\n",
       "      <th>director</th>\n",
       "      <th>lead_actor</th>\n",
       "    </tr>\n",
       "  </thead>\n",
       "  <tbody>\n",
       "    <tr>\n",
       "      <th>0</th>\n",
       "      <td>The Last Stand of Ellen Cole</td>\n",
       "      <td>2024-10-18</td>\n",
       "      <td>0</td>\n",
       "      <td>0</td>\n",
       "      <td>92</td>\n",
       "      <td>[Action, Adventure]</td>\n",
       "      <td>255.1968</td>\n",
       "      <td>8.324</td>\n",
       "      <td>17</td>\n",
       "      <td>en</td>\n",
       "      <td>[Regency Enterprises, QCODE, Automatik Enterta...</td>\n",
       "      <td>False</td>\n",
       "      <td>Derek Lee</td>\n",
       "      <td>Lin Shaye</td>\n",
       "    </tr>\n",
       "    <tr>\n",
       "      <th>1</th>\n",
       "      <td>Avengers: Infinity War</td>\n",
       "      <td>2018-04-25</td>\n",
       "      <td>300000000</td>\n",
       "      <td>2052415039</td>\n",
       "      <td>149</td>\n",
       "      <td>[Adventure, Action, Science Fiction]</td>\n",
       "      <td>188.4232</td>\n",
       "      <td>8.236</td>\n",
       "      <td>30597</td>\n",
       "      <td>en</td>\n",
       "      <td>[Marvel Studios]</td>\n",
       "      <td>True</td>\n",
       "      <td>Joe Russo</td>\n",
       "      <td>Robert Downey Jr.</td>\n",
       "    </tr>\n",
       "    <tr>\n",
       "      <th>2</th>\n",
       "      <td>The Accountant</td>\n",
       "      <td>2016-10-13</td>\n",
       "      <td>44000000</td>\n",
       "      <td>155160045</td>\n",
       "      <td>128</td>\n",
       "      <td>[Crime, Thriller, Drama]</td>\n",
       "      <td>178.4133</td>\n",
       "      <td>7.116</td>\n",
       "      <td>6658</td>\n",
       "      <td>en</td>\n",
       "      <td>[Zero Gravity Management, Electric City Entert...</td>\n",
       "      <td>True</td>\n",
       "      <td>Gavin O'Connor</td>\n",
       "      <td>Ben Affleck</td>\n",
       "    </tr>\n",
       "    <tr>\n",
       "      <th>3</th>\n",
       "      <td>Woodwalkers</td>\n",
       "      <td>2024-10-17</td>\n",
       "      <td>0</td>\n",
       "      <td>0</td>\n",
       "      <td>103</td>\n",
       "      <td>[Family, Fantasy]</td>\n",
       "      <td>170.9603</td>\n",
       "      <td>6.250</td>\n",
       "      <td>24</td>\n",
       "      <td>de</td>\n",
       "      <td>[Blue Eyes Fiction, FilmVergnuegen, Dor Film, ...</td>\n",
       "      <td>True</td>\n",
       "      <td>Damián John Harper</td>\n",
       "      <td>Emile Chérif</td>\n",
       "    </tr>\n",
       "    <tr>\n",
       "      <th>4</th>\n",
       "      <td>Beauty and the Beast</td>\n",
       "      <td>2017-03-16</td>\n",
       "      <td>160000000</td>\n",
       "      <td>1266115964</td>\n",
       "      <td>129</td>\n",
       "      <td>[Family, Fantasy, Romance]</td>\n",
       "      <td>167.1654</td>\n",
       "      <td>6.972</td>\n",
       "      <td>15649</td>\n",
       "      <td>en</td>\n",
       "      <td>[Walt Disney Pictures, Mandeville Films]</td>\n",
       "      <td>False</td>\n",
       "      <td>Bill Condon</td>\n",
       "      <td>Emma Watson</td>\n",
       "    </tr>\n",
       "  </tbody>\n",
       "</table>\n",
       "</div>"
      ],
      "text/plain": [
       "                          title release_date     budget     revenue  runtime  \\\n",
       "0  The Last Stand of Ellen Cole   2024-10-18          0           0       92   \n",
       "1        Avengers: Infinity War   2018-04-25  300000000  2052415039      149   \n",
       "2                The Accountant   2016-10-13   44000000   155160045      128   \n",
       "3                   Woodwalkers   2024-10-17          0           0      103   \n",
       "4          Beauty and the Beast   2017-03-16  160000000  1266115964      129   \n",
       "\n",
       "                                 genres  popularity  vote_average  vote_count  \\\n",
       "0                   [Action, Adventure]    255.1968         8.324          17   \n",
       "1  [Adventure, Action, Science Fiction]    188.4232         8.236       30597   \n",
       "2              [Crime, Thriller, Drama]    178.4133         7.116        6658   \n",
       "3                     [Family, Fantasy]    170.9603         6.250          24   \n",
       "4            [Family, Fantasy, Romance]    167.1654         6.972       15649   \n",
       "\n",
       "  original_language                               production_companies  \\\n",
       "0                en  [Regency Enterprises, QCODE, Automatik Enterta...   \n",
       "1                en                                   [Marvel Studios]   \n",
       "2                en  [Zero Gravity Management, Electric City Entert...   \n",
       "3                de  [Blue Eyes Fiction, FilmVergnuegen, Dor Film, ...   \n",
       "4                en           [Walt Disney Pictures, Mandeville Films]   \n",
       "\n",
       "   belongs_to_collection            director         lead_actor  \n",
       "0                  False           Derek Lee          Lin Shaye  \n",
       "1                   True           Joe Russo  Robert Downey Jr.  \n",
       "2                   True      Gavin O'Connor        Ben Affleck  \n",
       "3                   True  Damián John Harper       Emile Chérif  \n",
       "4                  False         Bill Condon        Emma Watson  "
      ]
     },
     "execution_count": 11,
     "metadata": {},
     "output_type": "execute_result"
    }
   ],
   "source": [
    "#  Storage for results\n",
    "movie_data = []\n",
    "\n",
    "# Loop through TMDB's /discover/movie endpoint\n",
    "for page in range(1, 400):  # Start with 2 pages for quick testing; increase to 201 later\n",
    "    discover_url = f\"{base_url}/discover/movie\"\n",
    "    params = {\n",
    "        \"api_key\": api_key,\n",
    "        \"language\": \"en-US\",\n",
    "        \"sort_by\": \"popularity.desc\",\n",
    "        \"include_adult\": False,\n",
    "        \"include_video\": False,\n",
    "        \"page\": page,\n",
    "        \"primary_release_date.gte\": \"2000-01-01\",\n",
    "        \"primary_release_date.lte\": \"2024-12-31\"\n",
    "    }\n",
    "\n",
    "    response = requests.get(discover_url, params=params)\n",
    "    if response.status_code != 200:\n",
    "        print(f\"Failed on page {page} — Status: {response.status_code}\")\n",
    "        print(response.json())  # Show error\n",
    "        break\n",
    "\n",
    "    movies = response.json().get(\"results\", [])\n",
    "\n",
    "    for movie in movies:\n",
    "        movie_id = movie[\"id\"]\n",
    "\n",
    "        # Fetch movie details\n",
    "        movie_details = requests.get(f\"{base_url}/movie/{movie_id}\", params={\"api_key\": api_key}).json()\n",
    "        credits = requests.get(f\"{base_url}/movie/{movie_id}/credits\", params={\"api_key\": api_key}).json()\n",
    "\n",
    "        # Get director and top actor\n",
    "        director = next((c[\"name\"] for c in credits.get(\"crew\", []) if c[\"job\"] == \"Director\"), None)\n",
    "        cast = [c[\"name\"] for c in credits.get(\"cast\", [])][:1]\n",
    "\n",
    "        # Collect relevant fields\n",
    "        movie_data.append({\n",
    "            \"title\": movie_details.get(\"title\"),\n",
    "            \"release_date\": movie_details.get(\"release_date\"),\n",
    "            \"budget\": movie_details.get(\"budget\"),\n",
    "            \"revenue\": movie_details.get(\"revenue\"),\n",
    "            \"runtime\": movie_details.get(\"runtime\"),\n",
    "            \"genres\": [g[\"name\"] for g in movie_details.get(\"genres\", [])],\n",
    "            \"popularity\": movie_details.get(\"popularity\"),\n",
    "            \"vote_average\": movie_details.get(\"vote_average\"),\n",
    "            \"vote_count\": movie_details.get(\"vote_count\"),\n",
    "            \"original_language\": movie_details.get(\"original_language\"),\n",
    "            \"production_companies\": [pc[\"name\"] for pc in movie_details.get(\"production_companies\", [])],\n",
    "            \"belongs_to_collection\": movie_details.get(\"belongs_to_collection\") is not None,\n",
    "            \"director\": director,\n",
    "            \"lead_actor\": cast[0] if cast else None\n",
    "        })\n",
    "\n",
    "    print(f\"Page {page} complete — movies collected: {len(movie_data)}\")\n",
    "    sleep(0.3)\n",
    "\n",
    "# Convert to DataFrame\n",
    "df_movies = pd.DataFrame(movie_data)\n",
    "\n",
    "# Print the DataFrame\n",
    "df_movies.head() # Preview first few rows\n"
   ]
  },
  {
   "cell_type": "code",
   "execution_count": 12,
   "metadata": {},
   "outputs": [
    {
     "name": "stdout",
     "output_type": "stream",
     "text": [
      "\n",
      "Final DataFrame with Profit and Profit Margin:\n",
      "                    title     budget     revenue      profit  profit_margin\n",
      "1  Avengers: Infinity War  300000000  2052415039  1752415039       0.853831\n",
      "2          The Accountant   44000000   155160045   111160045       0.716422\n",
      "4    Beauty and the Beast  160000000  1266115964  1106115964       0.873629\n",
      "5  Spider-Man: Homecoming  175000000   880166924   705166924       0.801174\n",
      "6       The Suicide Squad  185000000   168717425   -16282575      -0.096508\n"
     ]
    }
   ],
   "source": [
    "df_movies = df_movies[(df_movies['budget'] != 0) & (df_movies['revenue'] != 0)]\n",
    "\n",
    "df_movies['profit'] = df_movies['revenue'] - df_movies['budget']\n",
    "df_movies['profit_margin'] = df_movies['profit'] / df_movies['revenue']\n",
    "print(\"\\nFinal DataFrame with Profit and Profit Margin:\")\n",
    "print(df_movies[['title', 'budget', 'revenue', 'profit', 'profit_margin']].head())\n"
   ]
  },
  {
   "cell_type": "code",
   "execution_count": 13,
   "metadata": {},
   "outputs": [
    {
     "data": {
      "text/html": [
       "<div>\n",
       "<style scoped>\n",
       "    .dataframe tbody tr th:only-of-type {\n",
       "        vertical-align: middle;\n",
       "    }\n",
       "\n",
       "    .dataframe tbody tr th {\n",
       "        vertical-align: top;\n",
       "    }\n",
       "\n",
       "    .dataframe thead th {\n",
       "        text-align: right;\n",
       "    }\n",
       "</style>\n",
       "<table border=\"1\" class=\"dataframe\">\n",
       "  <thead>\n",
       "    <tr style=\"text-align: right;\">\n",
       "      <th></th>\n",
       "      <th>title</th>\n",
       "      <th>release_date</th>\n",
       "      <th>budget</th>\n",
       "      <th>revenue</th>\n",
       "      <th>runtime</th>\n",
       "      <th>genres</th>\n",
       "      <th>popularity</th>\n",
       "      <th>vote_average</th>\n",
       "      <th>vote_count</th>\n",
       "      <th>original_language</th>\n",
       "      <th>production_companies</th>\n",
       "      <th>belongs_to_collection</th>\n",
       "      <th>director</th>\n",
       "      <th>lead_actor</th>\n",
       "      <th>profit</th>\n",
       "      <th>profit_margin</th>\n",
       "    </tr>\n",
       "  </thead>\n",
       "  <tbody>\n",
       "    <tr>\n",
       "      <th>1</th>\n",
       "      <td>Avengers: Infinity War</td>\n",
       "      <td>2018-04-25</td>\n",
       "      <td>300000000</td>\n",
       "      <td>2052415039</td>\n",
       "      <td>149</td>\n",
       "      <td>[Adventure, Action, Science Fiction]</td>\n",
       "      <td>188.4232</td>\n",
       "      <td>8.236</td>\n",
       "      <td>30597</td>\n",
       "      <td>en</td>\n",
       "      <td>[Marvel Studios]</td>\n",
       "      <td>True</td>\n",
       "      <td>Joe Russo</td>\n",
       "      <td>Robert Downey Jr.</td>\n",
       "      <td>1752415039</td>\n",
       "      <td>0.853831</td>\n",
       "    </tr>\n",
       "    <tr>\n",
       "      <th>2</th>\n",
       "      <td>The Accountant</td>\n",
       "      <td>2016-10-13</td>\n",
       "      <td>44000000</td>\n",
       "      <td>155160045</td>\n",
       "      <td>128</td>\n",
       "      <td>[Crime, Thriller, Drama]</td>\n",
       "      <td>178.4133</td>\n",
       "      <td>7.116</td>\n",
       "      <td>6658</td>\n",
       "      <td>en</td>\n",
       "      <td>[Zero Gravity Management, Electric City Entert...</td>\n",
       "      <td>True</td>\n",
       "      <td>Gavin O'Connor</td>\n",
       "      <td>Ben Affleck</td>\n",
       "      <td>111160045</td>\n",
       "      <td>0.716422</td>\n",
       "    </tr>\n",
       "    <tr>\n",
       "      <th>4</th>\n",
       "      <td>Beauty and the Beast</td>\n",
       "      <td>2017-03-16</td>\n",
       "      <td>160000000</td>\n",
       "      <td>1266115964</td>\n",
       "      <td>129</td>\n",
       "      <td>[Family, Fantasy, Romance]</td>\n",
       "      <td>167.1654</td>\n",
       "      <td>6.972</td>\n",
       "      <td>15649</td>\n",
       "      <td>en</td>\n",
       "      <td>[Walt Disney Pictures, Mandeville Films]</td>\n",
       "      <td>False</td>\n",
       "      <td>Bill Condon</td>\n",
       "      <td>Emma Watson</td>\n",
       "      <td>1106115964</td>\n",
       "      <td>0.873629</td>\n",
       "    </tr>\n",
       "    <tr>\n",
       "      <th>5</th>\n",
       "      <td>Spider-Man: Homecoming</td>\n",
       "      <td>2017-07-05</td>\n",
       "      <td>175000000</td>\n",
       "      <td>880166924</td>\n",
       "      <td>133</td>\n",
       "      <td>[Action, Adventure, Science Fiction, Drama]</td>\n",
       "      <td>165.7082</td>\n",
       "      <td>7.331</td>\n",
       "      <td>22237</td>\n",
       "      <td>en</td>\n",
       "      <td>[Marvel Studios, Pascal Pictures, LStar Capita...</td>\n",
       "      <td>True</td>\n",
       "      <td>Jon Watts</td>\n",
       "      <td>Tom Holland</td>\n",
       "      <td>705166924</td>\n",
       "      <td>0.801174</td>\n",
       "    </tr>\n",
       "    <tr>\n",
       "      <th>6</th>\n",
       "      <td>The Suicide Squad</td>\n",
       "      <td>2021-07-28</td>\n",
       "      <td>185000000</td>\n",
       "      <td>168717425</td>\n",
       "      <td>132</td>\n",
       "      <td>[Action, Comedy, Adventure]</td>\n",
       "      <td>163.5647</td>\n",
       "      <td>7.486</td>\n",
       "      <td>8925</td>\n",
       "      <td>en</td>\n",
       "      <td>[DC Films, Atlas Entertainment, The Safran Com...</td>\n",
       "      <td>True</td>\n",
       "      <td>James Gunn</td>\n",
       "      <td>Margot Robbie</td>\n",
       "      <td>-16282575</td>\n",
       "      <td>-0.096508</td>\n",
       "    </tr>\n",
       "  </tbody>\n",
       "</table>\n",
       "</div>"
      ],
      "text/plain": [
       "                    title release_date     budget     revenue  runtime  \\\n",
       "1  Avengers: Infinity War   2018-04-25  300000000  2052415039      149   \n",
       "2          The Accountant   2016-10-13   44000000   155160045      128   \n",
       "4    Beauty and the Beast   2017-03-16  160000000  1266115964      129   \n",
       "5  Spider-Man: Homecoming   2017-07-05  175000000   880166924      133   \n",
       "6       The Suicide Squad   2021-07-28  185000000   168717425      132   \n",
       "\n",
       "                                        genres  popularity  vote_average  \\\n",
       "1         [Adventure, Action, Science Fiction]    188.4232         8.236   \n",
       "2                     [Crime, Thriller, Drama]    178.4133         7.116   \n",
       "4                   [Family, Fantasy, Romance]    167.1654         6.972   \n",
       "5  [Action, Adventure, Science Fiction, Drama]    165.7082         7.331   \n",
       "6                  [Action, Comedy, Adventure]    163.5647         7.486   \n",
       "\n",
       "   vote_count original_language  \\\n",
       "1       30597                en   \n",
       "2        6658                en   \n",
       "4       15649                en   \n",
       "5       22237                en   \n",
       "6        8925                en   \n",
       "\n",
       "                                production_companies  belongs_to_collection  \\\n",
       "1                                   [Marvel Studios]                   True   \n",
       "2  [Zero Gravity Management, Electric City Entert...                   True   \n",
       "4           [Walt Disney Pictures, Mandeville Films]                  False   \n",
       "5  [Marvel Studios, Pascal Pictures, LStar Capita...                   True   \n",
       "6  [DC Films, Atlas Entertainment, The Safran Com...                   True   \n",
       "\n",
       "         director         lead_actor      profit  profit_margin  \n",
       "1       Joe Russo  Robert Downey Jr.  1752415039       0.853831  \n",
       "2  Gavin O'Connor        Ben Affleck   111160045       0.716422  \n",
       "4     Bill Condon        Emma Watson  1106115964       0.873629  \n",
       "5       Jon Watts        Tom Holland   705166924       0.801174  \n",
       "6      James Gunn      Margot Robbie   -16282575      -0.096508  "
      ]
     },
     "execution_count": 13,
     "metadata": {},
     "output_type": "execute_result"
    }
   ],
   "source": [
    "df_movies = df_movies[df_movies[\"original_language\"] == \"en\"]\n",
    "\n",
    "df_movies.head()"
   ]
  },
  {
   "cell_type": "code",
   "execution_count": 14,
   "metadata": {},
   "outputs": [
    {
     "data": {
      "text/html": [
       "<div>\n",
       "<style scoped>\n",
       "    .dataframe tbody tr th:only-of-type {\n",
       "        vertical-align: middle;\n",
       "    }\n",
       "\n",
       "    .dataframe tbody tr th {\n",
       "        vertical-align: top;\n",
       "    }\n",
       "\n",
       "    .dataframe thead th {\n",
       "        text-align: right;\n",
       "    }\n",
       "</style>\n",
       "<table border=\"1\" class=\"dataframe\">\n",
       "  <thead>\n",
       "    <tr style=\"text-align: right;\">\n",
       "      <th></th>\n",
       "      <th>title</th>\n",
       "      <th>release_date</th>\n",
       "      <th>budget</th>\n",
       "      <th>revenue</th>\n",
       "      <th>runtime</th>\n",
       "      <th>genres</th>\n",
       "      <th>popularity</th>\n",
       "      <th>vote_average</th>\n",
       "      <th>vote_count</th>\n",
       "      <th>original_language</th>\n",
       "      <th>production_companies</th>\n",
       "      <th>belongs_to_collection</th>\n",
       "      <th>director</th>\n",
       "      <th>lead_actor</th>\n",
       "      <th>profit</th>\n",
       "      <th>profit_margin</th>\n",
       "      <th>production_company</th>\n",
       "    </tr>\n",
       "  </thead>\n",
       "  <tbody>\n",
       "    <tr>\n",
       "      <th>1</th>\n",
       "      <td>Avengers: Infinity War</td>\n",
       "      <td>2018-04-25</td>\n",
       "      <td>300000000</td>\n",
       "      <td>2052415039</td>\n",
       "      <td>149</td>\n",
       "      <td>[Adventure, Action, Science Fiction]</td>\n",
       "      <td>188.4232</td>\n",
       "      <td>8.236</td>\n",
       "      <td>30597</td>\n",
       "      <td>en</td>\n",
       "      <td>[Marvel Studios]</td>\n",
       "      <td>True</td>\n",
       "      <td>Joe Russo</td>\n",
       "      <td>Robert Downey Jr.</td>\n",
       "      <td>1752415039</td>\n",
       "      <td>0.853831</td>\n",
       "      <td>Marvel Studios</td>\n",
       "    </tr>\n",
       "    <tr>\n",
       "      <th>2</th>\n",
       "      <td>The Accountant</td>\n",
       "      <td>2016-10-13</td>\n",
       "      <td>44000000</td>\n",
       "      <td>155160045</td>\n",
       "      <td>128</td>\n",
       "      <td>[Crime, Thriller, Drama]</td>\n",
       "      <td>178.4133</td>\n",
       "      <td>7.116</td>\n",
       "      <td>6658</td>\n",
       "      <td>en</td>\n",
       "      <td>[Zero Gravity Management, Electric City Entert...</td>\n",
       "      <td>True</td>\n",
       "      <td>Gavin O'Connor</td>\n",
       "      <td>Ben Affleck</td>\n",
       "      <td>111160045</td>\n",
       "      <td>0.716422</td>\n",
       "      <td>Zero Gravity Management</td>\n",
       "    </tr>\n",
       "    <tr>\n",
       "      <th>4</th>\n",
       "      <td>Beauty and the Beast</td>\n",
       "      <td>2017-03-16</td>\n",
       "      <td>160000000</td>\n",
       "      <td>1266115964</td>\n",
       "      <td>129</td>\n",
       "      <td>[Family, Fantasy, Romance]</td>\n",
       "      <td>167.1654</td>\n",
       "      <td>6.972</td>\n",
       "      <td>15649</td>\n",
       "      <td>en</td>\n",
       "      <td>[Walt Disney Pictures, Mandeville Films]</td>\n",
       "      <td>False</td>\n",
       "      <td>Bill Condon</td>\n",
       "      <td>Emma Watson</td>\n",
       "      <td>1106115964</td>\n",
       "      <td>0.873629</td>\n",
       "      <td>Walt Disney Pictures</td>\n",
       "    </tr>\n",
       "    <tr>\n",
       "      <th>5</th>\n",
       "      <td>Spider-Man: Homecoming</td>\n",
       "      <td>2017-07-05</td>\n",
       "      <td>175000000</td>\n",
       "      <td>880166924</td>\n",
       "      <td>133</td>\n",
       "      <td>[Action, Adventure, Science Fiction, Drama]</td>\n",
       "      <td>165.7082</td>\n",
       "      <td>7.331</td>\n",
       "      <td>22237</td>\n",
       "      <td>en</td>\n",
       "      <td>[Marvel Studios, Pascal Pictures, LStar Capita...</td>\n",
       "      <td>True</td>\n",
       "      <td>Jon Watts</td>\n",
       "      <td>Tom Holland</td>\n",
       "      <td>705166924</td>\n",
       "      <td>0.801174</td>\n",
       "      <td>Marvel Studios</td>\n",
       "    </tr>\n",
       "    <tr>\n",
       "      <th>6</th>\n",
       "      <td>The Suicide Squad</td>\n",
       "      <td>2021-07-28</td>\n",
       "      <td>185000000</td>\n",
       "      <td>168717425</td>\n",
       "      <td>132</td>\n",
       "      <td>[Action, Comedy, Adventure]</td>\n",
       "      <td>163.5647</td>\n",
       "      <td>7.486</td>\n",
       "      <td>8925</td>\n",
       "      <td>en</td>\n",
       "      <td>[DC Films, Atlas Entertainment, The Safran Com...</td>\n",
       "      <td>True</td>\n",
       "      <td>James Gunn</td>\n",
       "      <td>Margot Robbie</td>\n",
       "      <td>-16282575</td>\n",
       "      <td>-0.096508</td>\n",
       "      <td>DC Films</td>\n",
       "    </tr>\n",
       "  </tbody>\n",
       "</table>\n",
       "</div>"
      ],
      "text/plain": [
       "                    title release_date     budget     revenue  runtime  \\\n",
       "1  Avengers: Infinity War   2018-04-25  300000000  2052415039      149   \n",
       "2          The Accountant   2016-10-13   44000000   155160045      128   \n",
       "4    Beauty and the Beast   2017-03-16  160000000  1266115964      129   \n",
       "5  Spider-Man: Homecoming   2017-07-05  175000000   880166924      133   \n",
       "6       The Suicide Squad   2021-07-28  185000000   168717425      132   \n",
       "\n",
       "                                        genres  popularity  vote_average  \\\n",
       "1         [Adventure, Action, Science Fiction]    188.4232         8.236   \n",
       "2                     [Crime, Thriller, Drama]    178.4133         7.116   \n",
       "4                   [Family, Fantasy, Romance]    167.1654         6.972   \n",
       "5  [Action, Adventure, Science Fiction, Drama]    165.7082         7.331   \n",
       "6                  [Action, Comedy, Adventure]    163.5647         7.486   \n",
       "\n",
       "   vote_count original_language  \\\n",
       "1       30597                en   \n",
       "2        6658                en   \n",
       "4       15649                en   \n",
       "5       22237                en   \n",
       "6        8925                en   \n",
       "\n",
       "                                production_companies  belongs_to_collection  \\\n",
       "1                                   [Marvel Studios]                   True   \n",
       "2  [Zero Gravity Management, Electric City Entert...                   True   \n",
       "4           [Walt Disney Pictures, Mandeville Films]                  False   \n",
       "5  [Marvel Studios, Pascal Pictures, LStar Capita...                   True   \n",
       "6  [DC Films, Atlas Entertainment, The Safran Com...                   True   \n",
       "\n",
       "         director         lead_actor      profit  profit_margin  \\\n",
       "1       Joe Russo  Robert Downey Jr.  1752415039       0.853831   \n",
       "2  Gavin O'Connor        Ben Affleck   111160045       0.716422   \n",
       "4     Bill Condon        Emma Watson  1106115964       0.873629   \n",
       "5       Jon Watts        Tom Holland   705166924       0.801174   \n",
       "6      James Gunn      Margot Robbie   -16282575      -0.096508   \n",
       "\n",
       "        production_company  \n",
       "1           Marvel Studios  \n",
       "2  Zero Gravity Management  \n",
       "4     Walt Disney Pictures  \n",
       "5           Marvel Studios  \n",
       "6                 DC Films  "
      ]
     },
     "execution_count": 14,
     "metadata": {},
     "output_type": "execute_result"
    }
   ],
   "source": [
    "df_movies['production_company'] = df_movies['production_companies'].apply(\n",
    "    lambda x: x[0] if isinstance(x, list) and len(x) > 0 else None\n",
    ")\n",
    "\n",
    "df_movies.head()"
   ]
  },
  {
   "cell_type": "code",
   "execution_count": 15,
   "metadata": {},
   "outputs": [
    {
     "data": {
      "text/html": [
       "<div>\n",
       "<style scoped>\n",
       "    .dataframe tbody tr th:only-of-type {\n",
       "        vertical-align: middle;\n",
       "    }\n",
       "\n",
       "    .dataframe tbody tr th {\n",
       "        vertical-align: top;\n",
       "    }\n",
       "\n",
       "    .dataframe thead th {\n",
       "        text-align: right;\n",
       "    }\n",
       "</style>\n",
       "<table border=\"1\" class=\"dataframe\">\n",
       "  <thead>\n",
       "    <tr style=\"text-align: right;\">\n",
       "      <th></th>\n",
       "      <th>title</th>\n",
       "      <th>release_date</th>\n",
       "      <th>budget</th>\n",
       "      <th>revenue</th>\n",
       "      <th>runtime</th>\n",
       "      <th>genres</th>\n",
       "      <th>popularity</th>\n",
       "      <th>vote_average</th>\n",
       "      <th>vote_count</th>\n",
       "      <th>original_language</th>\n",
       "      <th>production_companies</th>\n",
       "      <th>belongs_to_collection</th>\n",
       "      <th>director</th>\n",
       "      <th>lead_actor</th>\n",
       "      <th>profit</th>\n",
       "      <th>profit_margin</th>\n",
       "      <th>production_company</th>\n",
       "      <th>genre1</th>\n",
       "      <th>genre2</th>\n",
       "      <th>genre3</th>\n",
       "    </tr>\n",
       "  </thead>\n",
       "  <tbody>\n",
       "    <tr>\n",
       "      <th>1</th>\n",
       "      <td>Avengers: Infinity War</td>\n",
       "      <td>2018-04-25</td>\n",
       "      <td>300000000</td>\n",
       "      <td>2052415039</td>\n",
       "      <td>149</td>\n",
       "      <td>[Adventure, Action, Science Fiction]</td>\n",
       "      <td>188.4232</td>\n",
       "      <td>8.236</td>\n",
       "      <td>30597</td>\n",
       "      <td>en</td>\n",
       "      <td>[Marvel Studios]</td>\n",
       "      <td>True</td>\n",
       "      <td>Joe Russo</td>\n",
       "      <td>Robert Downey Jr.</td>\n",
       "      <td>1752415039</td>\n",
       "      <td>0.853831</td>\n",
       "      <td>Marvel Studios</td>\n",
       "      <td>Adventure</td>\n",
       "      <td>Action</td>\n",
       "      <td>Science Fiction</td>\n",
       "    </tr>\n",
       "    <tr>\n",
       "      <th>2</th>\n",
       "      <td>The Accountant</td>\n",
       "      <td>2016-10-13</td>\n",
       "      <td>44000000</td>\n",
       "      <td>155160045</td>\n",
       "      <td>128</td>\n",
       "      <td>[Crime, Thriller, Drama]</td>\n",
       "      <td>178.4133</td>\n",
       "      <td>7.116</td>\n",
       "      <td>6658</td>\n",
       "      <td>en</td>\n",
       "      <td>[Zero Gravity Management, Electric City Entert...</td>\n",
       "      <td>True</td>\n",
       "      <td>Gavin O'Connor</td>\n",
       "      <td>Ben Affleck</td>\n",
       "      <td>111160045</td>\n",
       "      <td>0.716422</td>\n",
       "      <td>Zero Gravity Management</td>\n",
       "      <td>Crime</td>\n",
       "      <td>Thriller</td>\n",
       "      <td>Drama</td>\n",
       "    </tr>\n",
       "    <tr>\n",
       "      <th>4</th>\n",
       "      <td>Beauty and the Beast</td>\n",
       "      <td>2017-03-16</td>\n",
       "      <td>160000000</td>\n",
       "      <td>1266115964</td>\n",
       "      <td>129</td>\n",
       "      <td>[Family, Fantasy, Romance]</td>\n",
       "      <td>167.1654</td>\n",
       "      <td>6.972</td>\n",
       "      <td>15649</td>\n",
       "      <td>en</td>\n",
       "      <td>[Walt Disney Pictures, Mandeville Films]</td>\n",
       "      <td>False</td>\n",
       "      <td>Bill Condon</td>\n",
       "      <td>Emma Watson</td>\n",
       "      <td>1106115964</td>\n",
       "      <td>0.873629</td>\n",
       "      <td>Walt Disney Pictures</td>\n",
       "      <td>Family</td>\n",
       "      <td>Fantasy</td>\n",
       "      <td>Romance</td>\n",
       "    </tr>\n",
       "    <tr>\n",
       "      <th>5</th>\n",
       "      <td>Spider-Man: Homecoming</td>\n",
       "      <td>2017-07-05</td>\n",
       "      <td>175000000</td>\n",
       "      <td>880166924</td>\n",
       "      <td>133</td>\n",
       "      <td>[Action, Adventure, Science Fiction, Drama]</td>\n",
       "      <td>165.7082</td>\n",
       "      <td>7.331</td>\n",
       "      <td>22237</td>\n",
       "      <td>en</td>\n",
       "      <td>[Marvel Studios, Pascal Pictures, LStar Capita...</td>\n",
       "      <td>True</td>\n",
       "      <td>Jon Watts</td>\n",
       "      <td>Tom Holland</td>\n",
       "      <td>705166924</td>\n",
       "      <td>0.801174</td>\n",
       "      <td>Marvel Studios</td>\n",
       "      <td>Action</td>\n",
       "      <td>Adventure</td>\n",
       "      <td>Science Fiction</td>\n",
       "    </tr>\n",
       "    <tr>\n",
       "      <th>6</th>\n",
       "      <td>The Suicide Squad</td>\n",
       "      <td>2021-07-28</td>\n",
       "      <td>185000000</td>\n",
       "      <td>168717425</td>\n",
       "      <td>132</td>\n",
       "      <td>[Action, Comedy, Adventure]</td>\n",
       "      <td>163.5647</td>\n",
       "      <td>7.486</td>\n",
       "      <td>8925</td>\n",
       "      <td>en</td>\n",
       "      <td>[DC Films, Atlas Entertainment, The Safran Com...</td>\n",
       "      <td>True</td>\n",
       "      <td>James Gunn</td>\n",
       "      <td>Margot Robbie</td>\n",
       "      <td>-16282575</td>\n",
       "      <td>-0.096508</td>\n",
       "      <td>DC Films</td>\n",
       "      <td>Action</td>\n",
       "      <td>Comedy</td>\n",
       "      <td>Adventure</td>\n",
       "    </tr>\n",
       "  </tbody>\n",
       "</table>\n",
       "</div>"
      ],
      "text/plain": [
       "                    title release_date     budget     revenue  runtime  \\\n",
       "1  Avengers: Infinity War   2018-04-25  300000000  2052415039      149   \n",
       "2          The Accountant   2016-10-13   44000000   155160045      128   \n",
       "4    Beauty and the Beast   2017-03-16  160000000  1266115964      129   \n",
       "5  Spider-Man: Homecoming   2017-07-05  175000000   880166924      133   \n",
       "6       The Suicide Squad   2021-07-28  185000000   168717425      132   \n",
       "\n",
       "                                        genres  popularity  vote_average  \\\n",
       "1         [Adventure, Action, Science Fiction]    188.4232         8.236   \n",
       "2                     [Crime, Thriller, Drama]    178.4133         7.116   \n",
       "4                   [Family, Fantasy, Romance]    167.1654         6.972   \n",
       "5  [Action, Adventure, Science Fiction, Drama]    165.7082         7.331   \n",
       "6                  [Action, Comedy, Adventure]    163.5647         7.486   \n",
       "\n",
       "   vote_count original_language  \\\n",
       "1       30597                en   \n",
       "2        6658                en   \n",
       "4       15649                en   \n",
       "5       22237                en   \n",
       "6        8925                en   \n",
       "\n",
       "                                production_companies  belongs_to_collection  \\\n",
       "1                                   [Marvel Studios]                   True   \n",
       "2  [Zero Gravity Management, Electric City Entert...                   True   \n",
       "4           [Walt Disney Pictures, Mandeville Films]                  False   \n",
       "5  [Marvel Studios, Pascal Pictures, LStar Capita...                   True   \n",
       "6  [DC Films, Atlas Entertainment, The Safran Com...                   True   \n",
       "\n",
       "         director         lead_actor      profit  profit_margin  \\\n",
       "1       Joe Russo  Robert Downey Jr.  1752415039       0.853831   \n",
       "2  Gavin O'Connor        Ben Affleck   111160045       0.716422   \n",
       "4     Bill Condon        Emma Watson  1106115964       0.873629   \n",
       "5       Jon Watts        Tom Holland   705166924       0.801174   \n",
       "6      James Gunn      Margot Robbie   -16282575      -0.096508   \n",
       "\n",
       "        production_company     genre1     genre2           genre3  \n",
       "1           Marvel Studios  Adventure     Action  Science Fiction  \n",
       "2  Zero Gravity Management      Crime   Thriller            Drama  \n",
       "4     Walt Disney Pictures     Family    Fantasy          Romance  \n",
       "5           Marvel Studios     Action  Adventure  Science Fiction  \n",
       "6                 DC Films     Action     Comedy        Adventure  "
      ]
     },
     "execution_count": 15,
     "metadata": {},
     "output_type": "execute_result"
    }
   ],
   "source": [
    "# Function to extract up to 3 genres\n",
    "def extract_genres(genre_list):\n",
    "    # Pad with None if fewer than 3 genres\n",
    "    genres = genre_list[:3] + [None] * (3 - len(genre_list))\n",
    "    return pd.Series(genres, index=[\"genre1\", \"genre2\", \"genre3\"])\n",
    "# Apply the function\n",
    "df_movies[[\"genre1\", \"genre2\", \"genre3\"]] = df_movies[\"genres\"].apply(extract_genres)\n",
    "\n",
    "# Preview the result\n",
    "df_movies.head()"
   ]
  },
  {
   "cell_type": "code",
   "execution_count": 16,
   "metadata": {},
   "outputs": [
    {
     "data": {
      "text/html": [
       "<div>\n",
       "<style scoped>\n",
       "    .dataframe tbody tr th:only-of-type {\n",
       "        vertical-align: middle;\n",
       "    }\n",
       "\n",
       "    .dataframe tbody tr th {\n",
       "        vertical-align: top;\n",
       "    }\n",
       "\n",
       "    .dataframe thead th {\n",
       "        text-align: right;\n",
       "    }\n",
       "</style>\n",
       "<table border=\"1\" class=\"dataframe\">\n",
       "  <thead>\n",
       "    <tr style=\"text-align: right;\">\n",
       "      <th></th>\n",
       "      <th>title</th>\n",
       "      <th>release_date</th>\n",
       "      <th>budget</th>\n",
       "      <th>revenue</th>\n",
       "      <th>runtime</th>\n",
       "      <th>popularity</th>\n",
       "      <th>vote_average</th>\n",
       "      <th>vote_count</th>\n",
       "      <th>belongs_to_collection</th>\n",
       "      <th>director</th>\n",
       "      <th>lead_actor</th>\n",
       "      <th>profit</th>\n",
       "      <th>profit_margin</th>\n",
       "      <th>production_company</th>\n",
       "      <th>genre1</th>\n",
       "      <th>genre2</th>\n",
       "      <th>genre3</th>\n",
       "    </tr>\n",
       "  </thead>\n",
       "  <tbody>\n",
       "    <tr>\n",
       "      <th>1</th>\n",
       "      <td>Avengers: Infinity War</td>\n",
       "      <td>2018-04-25</td>\n",
       "      <td>300000000</td>\n",
       "      <td>2052415039</td>\n",
       "      <td>149</td>\n",
       "      <td>188.4232</td>\n",
       "      <td>8.236</td>\n",
       "      <td>30597</td>\n",
       "      <td>True</td>\n",
       "      <td>Joe Russo</td>\n",
       "      <td>Robert Downey Jr.</td>\n",
       "      <td>1752415039</td>\n",
       "      <td>0.853831</td>\n",
       "      <td>Marvel Studios</td>\n",
       "      <td>Adventure</td>\n",
       "      <td>Action</td>\n",
       "      <td>Science Fiction</td>\n",
       "    </tr>\n",
       "    <tr>\n",
       "      <th>2</th>\n",
       "      <td>The Accountant</td>\n",
       "      <td>2016-10-13</td>\n",
       "      <td>44000000</td>\n",
       "      <td>155160045</td>\n",
       "      <td>128</td>\n",
       "      <td>178.4133</td>\n",
       "      <td>7.116</td>\n",
       "      <td>6658</td>\n",
       "      <td>True</td>\n",
       "      <td>Gavin O'Connor</td>\n",
       "      <td>Ben Affleck</td>\n",
       "      <td>111160045</td>\n",
       "      <td>0.716422</td>\n",
       "      <td>Zero Gravity Management</td>\n",
       "      <td>Crime</td>\n",
       "      <td>Thriller</td>\n",
       "      <td>Drama</td>\n",
       "    </tr>\n",
       "    <tr>\n",
       "      <th>4</th>\n",
       "      <td>Beauty and the Beast</td>\n",
       "      <td>2017-03-16</td>\n",
       "      <td>160000000</td>\n",
       "      <td>1266115964</td>\n",
       "      <td>129</td>\n",
       "      <td>167.1654</td>\n",
       "      <td>6.972</td>\n",
       "      <td>15649</td>\n",
       "      <td>False</td>\n",
       "      <td>Bill Condon</td>\n",
       "      <td>Emma Watson</td>\n",
       "      <td>1106115964</td>\n",
       "      <td>0.873629</td>\n",
       "      <td>Walt Disney Pictures</td>\n",
       "      <td>Family</td>\n",
       "      <td>Fantasy</td>\n",
       "      <td>Romance</td>\n",
       "    </tr>\n",
       "    <tr>\n",
       "      <th>5</th>\n",
       "      <td>Spider-Man: Homecoming</td>\n",
       "      <td>2017-07-05</td>\n",
       "      <td>175000000</td>\n",
       "      <td>880166924</td>\n",
       "      <td>133</td>\n",
       "      <td>165.7082</td>\n",
       "      <td>7.331</td>\n",
       "      <td>22237</td>\n",
       "      <td>True</td>\n",
       "      <td>Jon Watts</td>\n",
       "      <td>Tom Holland</td>\n",
       "      <td>705166924</td>\n",
       "      <td>0.801174</td>\n",
       "      <td>Marvel Studios</td>\n",
       "      <td>Action</td>\n",
       "      <td>Adventure</td>\n",
       "      <td>Science Fiction</td>\n",
       "    </tr>\n",
       "    <tr>\n",
       "      <th>6</th>\n",
       "      <td>The Suicide Squad</td>\n",
       "      <td>2021-07-28</td>\n",
       "      <td>185000000</td>\n",
       "      <td>168717425</td>\n",
       "      <td>132</td>\n",
       "      <td>163.5647</td>\n",
       "      <td>7.486</td>\n",
       "      <td>8925</td>\n",
       "      <td>True</td>\n",
       "      <td>James Gunn</td>\n",
       "      <td>Margot Robbie</td>\n",
       "      <td>-16282575</td>\n",
       "      <td>-0.096508</td>\n",
       "      <td>DC Films</td>\n",
       "      <td>Action</td>\n",
       "      <td>Comedy</td>\n",
       "      <td>Adventure</td>\n",
       "    </tr>\n",
       "  </tbody>\n",
       "</table>\n",
       "</div>"
      ],
      "text/plain": [
       "                    title release_date     budget     revenue  runtime  \\\n",
       "1  Avengers: Infinity War   2018-04-25  300000000  2052415039      149   \n",
       "2          The Accountant   2016-10-13   44000000   155160045      128   \n",
       "4    Beauty and the Beast   2017-03-16  160000000  1266115964      129   \n",
       "5  Spider-Man: Homecoming   2017-07-05  175000000   880166924      133   \n",
       "6       The Suicide Squad   2021-07-28  185000000   168717425      132   \n",
       "\n",
       "   popularity  vote_average  vote_count  belongs_to_collection  \\\n",
       "1    188.4232         8.236       30597                   True   \n",
       "2    178.4133         7.116        6658                   True   \n",
       "4    167.1654         6.972       15649                  False   \n",
       "5    165.7082         7.331       22237                   True   \n",
       "6    163.5647         7.486        8925                   True   \n",
       "\n",
       "         director         lead_actor      profit  profit_margin  \\\n",
       "1       Joe Russo  Robert Downey Jr.  1752415039       0.853831   \n",
       "2  Gavin O'Connor        Ben Affleck   111160045       0.716422   \n",
       "4     Bill Condon        Emma Watson  1106115964       0.873629   \n",
       "5       Jon Watts        Tom Holland   705166924       0.801174   \n",
       "6      James Gunn      Margot Robbie   -16282575      -0.096508   \n",
       "\n",
       "        production_company     genre1     genre2           genre3  \n",
       "1           Marvel Studios  Adventure     Action  Science Fiction  \n",
       "2  Zero Gravity Management      Crime   Thriller            Drama  \n",
       "4     Walt Disney Pictures     Family    Fantasy          Romance  \n",
       "5           Marvel Studios     Action  Adventure  Science Fiction  \n",
       "6                 DC Films     Action     Comedy        Adventure  "
      ]
     },
     "execution_count": 16,
     "metadata": {},
     "output_type": "execute_result"
    }
   ],
   "source": [
    "df_movies.drop(columns=['original_language', 'production_companies', 'genres'], inplace=True)\n",
    "\n",
    "df_movies.head()"
   ]
  },
  {
   "cell_type": "code",
   "execution_count": 17,
   "metadata": {},
   "outputs": [
    {
     "data": {
      "text/html": [
       "<div>\n",
       "<style scoped>\n",
       "    .dataframe tbody tr th:only-of-type {\n",
       "        vertical-align: middle;\n",
       "    }\n",
       "\n",
       "    .dataframe tbody tr th {\n",
       "        vertical-align: top;\n",
       "    }\n",
       "\n",
       "    .dataframe thead th {\n",
       "        text-align: right;\n",
       "    }\n",
       "</style>\n",
       "<table border=\"1\" class=\"dataframe\">\n",
       "  <thead>\n",
       "    <tr style=\"text-align: right;\">\n",
       "      <th></th>\n",
       "      <th>title</th>\n",
       "      <th>release_date</th>\n",
       "      <th>budget</th>\n",
       "      <th>revenue</th>\n",
       "      <th>runtime</th>\n",
       "      <th>popularity</th>\n",
       "      <th>vote_average</th>\n",
       "      <th>vote_count</th>\n",
       "      <th>belongs_to_collection</th>\n",
       "      <th>director</th>\n",
       "      <th>lead_actor</th>\n",
       "      <th>profit</th>\n",
       "      <th>profit_margin</th>\n",
       "      <th>production_company</th>\n",
       "      <th>genre1</th>\n",
       "      <th>genre2</th>\n",
       "      <th>genre3</th>\n",
       "    </tr>\n",
       "  </thead>\n",
       "  <tbody>\n",
       "    <tr>\n",
       "      <th>0</th>\n",
       "      <td>Avengers: Infinity War</td>\n",
       "      <td>2018-04-25</td>\n",
       "      <td>300000000</td>\n",
       "      <td>2052415039</td>\n",
       "      <td>149</td>\n",
       "      <td>188.4232</td>\n",
       "      <td>8.236</td>\n",
       "      <td>30597</td>\n",
       "      <td>True</td>\n",
       "      <td>Joe Russo</td>\n",
       "      <td>Robert Downey Jr.</td>\n",
       "      <td>1752415039</td>\n",
       "      <td>0.853831</td>\n",
       "      <td>Marvel Studios</td>\n",
       "      <td>Adventure</td>\n",
       "      <td>Action</td>\n",
       "      <td>Science Fiction</td>\n",
       "    </tr>\n",
       "    <tr>\n",
       "      <th>1</th>\n",
       "      <td>The Accountant</td>\n",
       "      <td>2016-10-13</td>\n",
       "      <td>44000000</td>\n",
       "      <td>155160045</td>\n",
       "      <td>128</td>\n",
       "      <td>178.4133</td>\n",
       "      <td>7.116</td>\n",
       "      <td>6658</td>\n",
       "      <td>True</td>\n",
       "      <td>Gavin O'Connor</td>\n",
       "      <td>Ben Affleck</td>\n",
       "      <td>111160045</td>\n",
       "      <td>0.716422</td>\n",
       "      <td>Zero Gravity Management</td>\n",
       "      <td>Crime</td>\n",
       "      <td>Thriller</td>\n",
       "      <td>Drama</td>\n",
       "    </tr>\n",
       "    <tr>\n",
       "      <th>2</th>\n",
       "      <td>Beauty and the Beast</td>\n",
       "      <td>2017-03-16</td>\n",
       "      <td>160000000</td>\n",
       "      <td>1266115964</td>\n",
       "      <td>129</td>\n",
       "      <td>167.1654</td>\n",
       "      <td>6.972</td>\n",
       "      <td>15649</td>\n",
       "      <td>False</td>\n",
       "      <td>Bill Condon</td>\n",
       "      <td>Emma Watson</td>\n",
       "      <td>1106115964</td>\n",
       "      <td>0.873629</td>\n",
       "      <td>Walt Disney Pictures</td>\n",
       "      <td>Family</td>\n",
       "      <td>Fantasy</td>\n",
       "      <td>Romance</td>\n",
       "    </tr>\n",
       "    <tr>\n",
       "      <th>3</th>\n",
       "      <td>Spider-Man: Homecoming</td>\n",
       "      <td>2017-07-05</td>\n",
       "      <td>175000000</td>\n",
       "      <td>880166924</td>\n",
       "      <td>133</td>\n",
       "      <td>165.7082</td>\n",
       "      <td>7.331</td>\n",
       "      <td>22237</td>\n",
       "      <td>True</td>\n",
       "      <td>Jon Watts</td>\n",
       "      <td>Tom Holland</td>\n",
       "      <td>705166924</td>\n",
       "      <td>0.801174</td>\n",
       "      <td>Marvel Studios</td>\n",
       "      <td>Action</td>\n",
       "      <td>Adventure</td>\n",
       "      <td>Science Fiction</td>\n",
       "    </tr>\n",
       "    <tr>\n",
       "      <th>4</th>\n",
       "      <td>The Suicide Squad</td>\n",
       "      <td>2021-07-28</td>\n",
       "      <td>185000000</td>\n",
       "      <td>168717425</td>\n",
       "      <td>132</td>\n",
       "      <td>163.5647</td>\n",
       "      <td>7.486</td>\n",
       "      <td>8925</td>\n",
       "      <td>True</td>\n",
       "      <td>James Gunn</td>\n",
       "      <td>Margot Robbie</td>\n",
       "      <td>-16282575</td>\n",
       "      <td>-0.096508</td>\n",
       "      <td>DC Films</td>\n",
       "      <td>Action</td>\n",
       "      <td>Comedy</td>\n",
       "      <td>Adventure</td>\n",
       "    </tr>\n",
       "  </tbody>\n",
       "</table>\n",
       "</div>"
      ],
      "text/plain": [
       "                    title release_date     budget     revenue  runtime  \\\n",
       "0  Avengers: Infinity War   2018-04-25  300000000  2052415039      149   \n",
       "1          The Accountant   2016-10-13   44000000   155160045      128   \n",
       "2    Beauty and the Beast   2017-03-16  160000000  1266115964      129   \n",
       "3  Spider-Man: Homecoming   2017-07-05  175000000   880166924      133   \n",
       "4       The Suicide Squad   2021-07-28  185000000   168717425      132   \n",
       "\n",
       "   popularity  vote_average  vote_count  belongs_to_collection  \\\n",
       "0    188.4232         8.236       30597                   True   \n",
       "1    178.4133         7.116        6658                   True   \n",
       "2    167.1654         6.972       15649                  False   \n",
       "3    165.7082         7.331       22237                   True   \n",
       "4    163.5647         7.486        8925                   True   \n",
       "\n",
       "         director         lead_actor      profit  profit_margin  \\\n",
       "0       Joe Russo  Robert Downey Jr.  1752415039       0.853831   \n",
       "1  Gavin O'Connor        Ben Affleck   111160045       0.716422   \n",
       "2     Bill Condon        Emma Watson  1106115964       0.873629   \n",
       "3       Jon Watts        Tom Holland   705166924       0.801174   \n",
       "4      James Gunn      Margot Robbie   -16282575      -0.096508   \n",
       "\n",
       "        production_company     genre1     genre2           genre3  \n",
       "0           Marvel Studios  Adventure     Action  Science Fiction  \n",
       "1  Zero Gravity Management      Crime   Thriller            Drama  \n",
       "2     Walt Disney Pictures     Family    Fantasy          Romance  \n",
       "3           Marvel Studios     Action  Adventure  Science Fiction  \n",
       "4                 DC Films     Action     Comedy        Adventure  "
      ]
     },
     "execution_count": 17,
     "metadata": {},
     "output_type": "execute_result"
    }
   ],
   "source": [
    "df_movies.reset_index(drop=True, inplace=True)\n",
    "\n",
    "df_movies.head()"
   ]
  },
  {
   "cell_type": "code",
   "execution_count": 18,
   "metadata": {},
   "outputs": [
    {
     "name": "stdout",
     "output_type": "stream",
     "text": [
      "\n",
      "Data exported to tmdb_movies_final.csv\n"
     ]
    }
   ],
   "source": [
    "# Export the final DataFrame to a CSV file\n",
    "output_file = \"tmdb_movies_final.csv\"\n",
    "df_movies.to_csv(output_file, index=False)\n",
    "print(f\"\\nData exported to {output_file}\")"
   ]
  },
  {
   "cell_type": "code",
   "execution_count": 19,
   "metadata": {},
   "outputs": [
    {
     "data": {
      "text/html": [
       "<div>\n",
       "<style scoped>\n",
       "    .dataframe tbody tr th:only-of-type {\n",
       "        vertical-align: middle;\n",
       "    }\n",
       "\n",
       "    .dataframe tbody tr th {\n",
       "        vertical-align: top;\n",
       "    }\n",
       "\n",
       "    .dataframe thead th {\n",
       "        text-align: right;\n",
       "    }\n",
       "</style>\n",
       "<table border=\"1\" class=\"dataframe\">\n",
       "  <thead>\n",
       "    <tr style=\"text-align: right;\">\n",
       "      <th></th>\n",
       "      <th>title</th>\n",
       "      <th>release_date</th>\n",
       "      <th>budget</th>\n",
       "      <th>revenue</th>\n",
       "      <th>runtime</th>\n",
       "      <th>popularity</th>\n",
       "      <th>vote_average</th>\n",
       "      <th>vote_count</th>\n",
       "      <th>belongs_to_collection</th>\n",
       "      <th>director</th>\n",
       "      <th>lead_actor</th>\n",
       "      <th>profit</th>\n",
       "      <th>profit_margin</th>\n",
       "      <th>production_company</th>\n",
       "      <th>genre1</th>\n",
       "      <th>genre2</th>\n",
       "      <th>genre3</th>\n",
       "    </tr>\n",
       "  </thead>\n",
       "  <tbody>\n",
       "    <tr>\n",
       "      <th>0</th>\n",
       "      <td>Avengers: Infinity War</td>\n",
       "      <td>2018-04-25</td>\n",
       "      <td>300000000</td>\n",
       "      <td>2052415039</td>\n",
       "      <td>149</td>\n",
       "      <td>188.4232</td>\n",
       "      <td>8.236</td>\n",
       "      <td>30597</td>\n",
       "      <td>True</td>\n",
       "      <td>Joe Russo</td>\n",
       "      <td>Robert Downey Jr.</td>\n",
       "      <td>1752415039</td>\n",
       "      <td>0.853831</td>\n",
       "      <td>Marvel Studios</td>\n",
       "      <td>Adventure</td>\n",
       "      <td>Action</td>\n",
       "      <td>Science Fiction</td>\n",
       "    </tr>\n",
       "    <tr>\n",
       "      <th>1</th>\n",
       "      <td>The Accountant</td>\n",
       "      <td>2016-10-13</td>\n",
       "      <td>44000000</td>\n",
       "      <td>155160045</td>\n",
       "      <td>128</td>\n",
       "      <td>178.4133</td>\n",
       "      <td>7.116</td>\n",
       "      <td>6658</td>\n",
       "      <td>True</td>\n",
       "      <td>Gavin O'Connor</td>\n",
       "      <td>Ben Affleck</td>\n",
       "      <td>111160045</td>\n",
       "      <td>0.716422</td>\n",
       "      <td>Zero Gravity Management</td>\n",
       "      <td>Crime</td>\n",
       "      <td>Thriller</td>\n",
       "      <td>Drama</td>\n",
       "    </tr>\n",
       "    <tr>\n",
       "      <th>2</th>\n",
       "      <td>Beauty and the Beast</td>\n",
       "      <td>2017-03-16</td>\n",
       "      <td>160000000</td>\n",
       "      <td>1266115964</td>\n",
       "      <td>129</td>\n",
       "      <td>167.1654</td>\n",
       "      <td>6.972</td>\n",
       "      <td>15649</td>\n",
       "      <td>False</td>\n",
       "      <td>Bill Condon</td>\n",
       "      <td>Emma Watson</td>\n",
       "      <td>1106115964</td>\n",
       "      <td>0.873629</td>\n",
       "      <td>Walt Disney Pictures</td>\n",
       "      <td>Family</td>\n",
       "      <td>Fantasy</td>\n",
       "      <td>Romance</td>\n",
       "    </tr>\n",
       "    <tr>\n",
       "      <th>3</th>\n",
       "      <td>Spider-Man: Homecoming</td>\n",
       "      <td>2017-07-05</td>\n",
       "      <td>175000000</td>\n",
       "      <td>880166924</td>\n",
       "      <td>133</td>\n",
       "      <td>165.7082</td>\n",
       "      <td>7.331</td>\n",
       "      <td>22237</td>\n",
       "      <td>True</td>\n",
       "      <td>Jon Watts</td>\n",
       "      <td>Tom Holland</td>\n",
       "      <td>705166924</td>\n",
       "      <td>0.801174</td>\n",
       "      <td>Marvel Studios</td>\n",
       "      <td>Action</td>\n",
       "      <td>Adventure</td>\n",
       "      <td>Science Fiction</td>\n",
       "    </tr>\n",
       "    <tr>\n",
       "      <th>4</th>\n",
       "      <td>The Suicide Squad</td>\n",
       "      <td>2021-07-28</td>\n",
       "      <td>185000000</td>\n",
       "      <td>168717425</td>\n",
       "      <td>132</td>\n",
       "      <td>163.5647</td>\n",
       "      <td>7.486</td>\n",
       "      <td>8925</td>\n",
       "      <td>True</td>\n",
       "      <td>James Gunn</td>\n",
       "      <td>Margot Robbie</td>\n",
       "      <td>-16282575</td>\n",
       "      <td>-0.096508</td>\n",
       "      <td>DC Films</td>\n",
       "      <td>Action</td>\n",
       "      <td>Comedy</td>\n",
       "      <td>Adventure</td>\n",
       "    </tr>\n",
       "  </tbody>\n",
       "</table>\n",
       "</div>"
      ],
      "text/plain": [
       "                    title release_date     budget     revenue  runtime  \\\n",
       "0  Avengers: Infinity War   2018-04-25  300000000  2052415039      149   \n",
       "1          The Accountant   2016-10-13   44000000   155160045      128   \n",
       "2    Beauty and the Beast   2017-03-16  160000000  1266115964      129   \n",
       "3  Spider-Man: Homecoming   2017-07-05  175000000   880166924      133   \n",
       "4       The Suicide Squad   2021-07-28  185000000   168717425      132   \n",
       "\n",
       "   popularity  vote_average  vote_count  belongs_to_collection  \\\n",
       "0    188.4232         8.236       30597                   True   \n",
       "1    178.4133         7.116        6658                   True   \n",
       "2    167.1654         6.972       15649                  False   \n",
       "3    165.7082         7.331       22237                   True   \n",
       "4    163.5647         7.486        8925                   True   \n",
       "\n",
       "         director         lead_actor      profit  profit_margin  \\\n",
       "0       Joe Russo  Robert Downey Jr.  1752415039       0.853831   \n",
       "1  Gavin O'Connor        Ben Affleck   111160045       0.716422   \n",
       "2     Bill Condon        Emma Watson  1106115964       0.873629   \n",
       "3       Jon Watts        Tom Holland   705166924       0.801174   \n",
       "4      James Gunn      Margot Robbie   -16282575      -0.096508   \n",
       "\n",
       "        production_company     genre1     genre2           genre3  \n",
       "0           Marvel Studios  Adventure     Action  Science Fiction  \n",
       "1  Zero Gravity Management      Crime   Thriller            Drama  \n",
       "2     Walt Disney Pictures     Family    Fantasy          Romance  \n",
       "3           Marvel Studios     Action  Adventure  Science Fiction  \n",
       "4                 DC Films     Action     Comedy        Adventure  "
      ]
     },
     "execution_count": 19,
     "metadata": {},
     "output_type": "execute_result"
    }
   ],
   "source": [
    "# Load your dataset (if not already loaded)\n",
    "df_movies_csv = pd.read_csv(\"tmdb_movies_final.csv\")\n",
    "\n",
    "# Drop rows with nulls in key fields\n",
    "df_movies_csv = df_movies_csv.dropna(subset=[\n",
    "    'budget', 'runtime', 'popularity', 'vote_average', 'vote_count', 'revenue', 'genre1'\n",
    "])\n",
    "\n",
    "df_movies_csv.head()"
   ]
  },
  {
   "cell_type": "code",
   "execution_count": 20,
   "metadata": {},
   "outputs": [
    {
     "data": {
      "text/html": [
       "<div>\n",
       "<style scoped>\n",
       "    .dataframe tbody tr th:only-of-type {\n",
       "        vertical-align: middle;\n",
       "    }\n",
       "\n",
       "    .dataframe tbody tr th {\n",
       "        vertical-align: top;\n",
       "    }\n",
       "\n",
       "    .dataframe thead th {\n",
       "        text-align: right;\n",
       "    }\n",
       "</style>\n",
       "<table border=\"1\" class=\"dataframe\">\n",
       "  <thead>\n",
       "    <tr style=\"text-align: right;\">\n",
       "      <th></th>\n",
       "      <th>title</th>\n",
       "      <th>release_date</th>\n",
       "      <th>budget</th>\n",
       "      <th>revenue</th>\n",
       "      <th>runtime</th>\n",
       "      <th>popularity</th>\n",
       "      <th>vote_average</th>\n",
       "      <th>vote_count</th>\n",
       "      <th>belongs_to_collection</th>\n",
       "      <th>profit</th>\n",
       "      <th>...</th>\n",
       "      <th>genre3_Fantasy</th>\n",
       "      <th>genre3_History</th>\n",
       "      <th>genre3_Horror</th>\n",
       "      <th>genre3_Music</th>\n",
       "      <th>genre3_Mystery</th>\n",
       "      <th>genre3_Romance</th>\n",
       "      <th>genre3_Science Fiction</th>\n",
       "      <th>genre3_Thriller</th>\n",
       "      <th>genre3_War</th>\n",
       "      <th>genre3_Western</th>\n",
       "    </tr>\n",
       "  </thead>\n",
       "  <tbody>\n",
       "    <tr>\n",
       "      <th>0</th>\n",
       "      <td>Avengers: Infinity War</td>\n",
       "      <td>2018-04-25</td>\n",
       "      <td>300000000</td>\n",
       "      <td>2052415039</td>\n",
       "      <td>149</td>\n",
       "      <td>188.4232</td>\n",
       "      <td>8.236</td>\n",
       "      <td>30597</td>\n",
       "      <td>True</td>\n",
       "      <td>1752415039</td>\n",
       "      <td>...</td>\n",
       "      <td>False</td>\n",
       "      <td>False</td>\n",
       "      <td>False</td>\n",
       "      <td>False</td>\n",
       "      <td>False</td>\n",
       "      <td>False</td>\n",
       "      <td>True</td>\n",
       "      <td>False</td>\n",
       "      <td>False</td>\n",
       "      <td>False</td>\n",
       "    </tr>\n",
       "    <tr>\n",
       "      <th>1</th>\n",
       "      <td>The Accountant</td>\n",
       "      <td>2016-10-13</td>\n",
       "      <td>44000000</td>\n",
       "      <td>155160045</td>\n",
       "      <td>128</td>\n",
       "      <td>178.4133</td>\n",
       "      <td>7.116</td>\n",
       "      <td>6658</td>\n",
       "      <td>True</td>\n",
       "      <td>111160045</td>\n",
       "      <td>...</td>\n",
       "      <td>False</td>\n",
       "      <td>False</td>\n",
       "      <td>False</td>\n",
       "      <td>False</td>\n",
       "      <td>False</td>\n",
       "      <td>False</td>\n",
       "      <td>False</td>\n",
       "      <td>False</td>\n",
       "      <td>False</td>\n",
       "      <td>False</td>\n",
       "    </tr>\n",
       "    <tr>\n",
       "      <th>2</th>\n",
       "      <td>Beauty and the Beast</td>\n",
       "      <td>2017-03-16</td>\n",
       "      <td>160000000</td>\n",
       "      <td>1266115964</td>\n",
       "      <td>129</td>\n",
       "      <td>167.1654</td>\n",
       "      <td>6.972</td>\n",
       "      <td>15649</td>\n",
       "      <td>False</td>\n",
       "      <td>1106115964</td>\n",
       "      <td>...</td>\n",
       "      <td>False</td>\n",
       "      <td>False</td>\n",
       "      <td>False</td>\n",
       "      <td>False</td>\n",
       "      <td>False</td>\n",
       "      <td>True</td>\n",
       "      <td>False</td>\n",
       "      <td>False</td>\n",
       "      <td>False</td>\n",
       "      <td>False</td>\n",
       "    </tr>\n",
       "    <tr>\n",
       "      <th>3</th>\n",
       "      <td>Spider-Man: Homecoming</td>\n",
       "      <td>2017-07-05</td>\n",
       "      <td>175000000</td>\n",
       "      <td>880166924</td>\n",
       "      <td>133</td>\n",
       "      <td>165.7082</td>\n",
       "      <td>7.331</td>\n",
       "      <td>22237</td>\n",
       "      <td>True</td>\n",
       "      <td>705166924</td>\n",
       "      <td>...</td>\n",
       "      <td>False</td>\n",
       "      <td>False</td>\n",
       "      <td>False</td>\n",
       "      <td>False</td>\n",
       "      <td>False</td>\n",
       "      <td>False</td>\n",
       "      <td>True</td>\n",
       "      <td>False</td>\n",
       "      <td>False</td>\n",
       "      <td>False</td>\n",
       "    </tr>\n",
       "    <tr>\n",
       "      <th>4</th>\n",
       "      <td>The Suicide Squad</td>\n",
       "      <td>2021-07-28</td>\n",
       "      <td>185000000</td>\n",
       "      <td>168717425</td>\n",
       "      <td>132</td>\n",
       "      <td>163.5647</td>\n",
       "      <td>7.486</td>\n",
       "      <td>8925</td>\n",
       "      <td>True</td>\n",
       "      <td>-16282575</td>\n",
       "      <td>...</td>\n",
       "      <td>False</td>\n",
       "      <td>False</td>\n",
       "      <td>False</td>\n",
       "      <td>False</td>\n",
       "      <td>False</td>\n",
       "      <td>False</td>\n",
       "      <td>False</td>\n",
       "      <td>False</td>\n",
       "      <td>False</td>\n",
       "      <td>False</td>\n",
       "    </tr>\n",
       "  </tbody>\n",
       "</table>\n",
       "<p>5 rows × 3770 columns</p>\n",
       "</div>"
      ],
      "text/plain": [
       "                    title release_date     budget     revenue  runtime  \\\n",
       "0  Avengers: Infinity War   2018-04-25  300000000  2052415039      149   \n",
       "1          The Accountant   2016-10-13   44000000   155160045      128   \n",
       "2    Beauty and the Beast   2017-03-16  160000000  1266115964      129   \n",
       "3  Spider-Man: Homecoming   2017-07-05  175000000   880166924      133   \n",
       "4       The Suicide Squad   2021-07-28  185000000   168717425      132   \n",
       "\n",
       "   popularity  vote_average  vote_count  belongs_to_collection      profit  \\\n",
       "0    188.4232         8.236       30597                   True  1752415039   \n",
       "1    178.4133         7.116        6658                   True   111160045   \n",
       "2    167.1654         6.972       15649                  False  1106115964   \n",
       "3    165.7082         7.331       22237                   True   705166924   \n",
       "4    163.5647         7.486        8925                   True   -16282575   \n",
       "\n",
       "   ...  genre3_Fantasy  genre3_History  genre3_Horror  genre3_Music  \\\n",
       "0  ...           False           False          False         False   \n",
       "1  ...           False           False          False         False   \n",
       "2  ...           False           False          False         False   \n",
       "3  ...           False           False          False         False   \n",
       "4  ...           False           False          False         False   \n",
       "\n",
       "   genre3_Mystery  genre3_Romance  genre3_Science Fiction  genre3_Thriller  \\\n",
       "0           False           False                    True            False   \n",
       "1           False           False                   False            False   \n",
       "2           False            True                   False            False   \n",
       "3           False           False                    True            False   \n",
       "4           False           False                   False            False   \n",
       "\n",
       "   genre3_War  genre3_Western  \n",
       "0       False           False  \n",
       "1       False           False  \n",
       "2       False           False  \n",
       "3       False           False  \n",
       "4       False           False  \n",
       "\n",
       "[5 rows x 3770 columns]"
      ]
     },
     "execution_count": 20,
     "metadata": {},
     "output_type": "execute_result"
    }
   ],
   "source": [
    "# One-hot encode the categorical features\n",
    "df_model = pd.get_dummies(df_movies_csv, columns=['production_company', 'director', 'lead_actor', 'genre1', 'genre2', 'genre3'], drop_first=True)\n",
    "df_model.head()\n"
   ]
  },
  {
   "cell_type": "code",
   "execution_count": 21,
   "metadata": {},
   "outputs": [],
   "source": [
    "df_model.replace([np.inf, -np.inf], np.nan, inplace=True) \n",
    "\n",
    "# Fill NaN values\n",
    "df_model.dropna(inplace=True) # Replace inf values with NaN"
   ]
  },
  {
   "cell_type": "code",
   "execution_count": 22,
   "metadata": {},
   "outputs": [],
   "source": [
    "# Select features and target\n",
    "feature_cols = [col for col in df_model.columns if col not in ['title', 'popularity', 'profit', 'profit_margin', 'revenue']]\n",
    "\n",
    "X = df_model[feature_cols]\n",
    "y = df_model['revenue']\n",
    "\n",
    "# Split into train and test sets\n",
    "X_train, X_test, y_train, y_test = train_test_split(\n",
    "    X, y, test_size=0.2, random_state=42\n",
    ")\n"
   ]
  },
  {
   "cell_type": "code",
   "execution_count": 27,
   "metadata": {},
   "outputs": [],
   "source": [
    "# Handle non-numeric data BEFORE training the models\n",
    "# Convert release_date to datetime and extract year\n",
    "X_train['release_year'] = pd.to_datetime(X_train['release_date'], errors='coerce').dt.year\n",
    "X_test['release_year'] = pd.to_datetime(X_test['release_date'], errors='coerce').dt.year\n",
    "\n",
    "# Drop problematic columns\n",
    "X_train = X_train.drop(columns=['release_date'])\n",
    "X_test = X_test.drop(columns=['release_date'])\n",
    "\n",
    "# Drop any other object-type (non-numeric) columns\n",
    "non_numeric_cols = X_train.select_dtypes(include='object').columns\n",
    "X_train = X_train.drop(columns=non_numeric_cols)\n",
    "X_test = X_test.drop(columns=non_numeric_cols)\n"
   ]
  },
  {
   "cell_type": "code",
   "execution_count": 28,
   "metadata": {},
   "outputs": [
    {
     "name": "stdout",
     "output_type": "stream",
     "text": [
      "              Model           MAE          RMSE      R²\n",
      "2      RandomForest  6.011527e+07  1.254739e+08  0.7734\n",
      "1      DecisionTree  8.511535e+07  1.656155e+08  0.6052\n",
      "0  LinearRegression  2.744007e+08  3.834598e+08 -1.1165\n"
     ]
    }
   ],
   "source": [
    "# Define regression models\n",
    "models = {\n",
    "    'LinearRegression': LinearRegression(),\n",
    "    'DecisionTree': DecisionTreeRegressor(random_state=42),\n",
    "    'RandomForest': RandomForestRegressor(n_estimators=100, random_state=42)\n",
    "}\n",
    "\n",
    "# Train and evaluate each model\n",
    "results = []\n",
    "\n",
    "for name, model in models.items():\n",
    "    model.fit(X_train, y_train)\n",
    "    preds = model.predict(X_test)\n",
    "\n",
    "    mae = mean_absolute_error(y_test, preds)\n",
    "    rmse = np.sqrt(mean_squared_error(y_test, preds))\n",
    "    r2 = r2_score(y_test, preds)\n",
    "\n",
    "    results.append({\n",
    "        'Model': name,\n",
    "        'MAE': round(mae, 2),\n",
    "        'RMSE': round(rmse, 2),\n",
    "        'R²': round(r2, 4)\n",
    "    })\n",
    "\n",
    "# Show comparison results\n",
    "results_df = pd.DataFrame(results).sort_values(by='R²', ascending=False)\n",
    "print(results_df)"
   ]
  },
  {
   "cell_type": "code",
   "execution_count": 29,
   "metadata": {},
   "outputs": [
    {
     "name": "stderr",
     "output_type": "stream",
     "text": [
      "/var/folders/vf/hly5stlj5xndydqcwspn6fkm0000gn/T/ipykernel_29241/922503310.py:16: UserWarning: Glyph 127916 (\\N{CLAPPER BOARD}) missing from font(s) DejaVu Sans.\n",
      "  plt.tight_layout()\n",
      "/Applications/notanaconda/anaconda3/envs/dev/lib/python3.10/site-packages/IPython/core/pylabtools.py:170: UserWarning: Glyph 127916 (\\N{CLAPPER BOARD}) missing from font(s) DejaVu Sans.\n",
      "  fig.canvas.print_figure(bytes_io, **kw)\n"
     ]
    },
    {
     "data": {
      "image/png": "[encoded data removed]",
      "text/plain": [
       "<Figure size 800x600 with 1 Axes>"
      ]
     },
     "metadata": {},
     "output_type": "display_data"
    }
   ],
   "source": [
    "import matplotlib.pyplot as plt\n",
    "import seaborn as sns\n",
    "\n",
    "# 1. Plot: Actual vs Predicted Revenue (Random Forest)\n",
    "best_model = RandomForestRegressor(n_estimators=100, random_state=42)\n",
    "best_model.fit(X_train, y_train)\n",
    "preds_rf = best_model.predict(X_test)\n",
    "\n",
    "plt.figure(figsize=(8, 6))\n",
    "sns.scatterplot(x=y_test, y=preds_rf, alpha=0.6)\n",
    "plt.plot([y_test.min(), y_test.max()], [y_test.min(), y_test.max()], 'r--')\n",
    "plt.xlabel('Actual Revenue')\n",
    "plt.ylabel('Predicted Revenue')\n",
    "plt.title('🎬 Random Forest: Actual vs Predicted Revenue')\n",
    "plt.grid(True)\n",
    "plt.tight_layout()\n",
    "plt.show()\n",
    "\n",
    "\n"
   ]
  },
  {
   "cell_type": "code",
   "execution_count": null,
   "metadata": {},
   "outputs": [
    {
     "name": "stderr",
     "output_type": "stream",
     "text": [
      "/var/folders/vf/hly5stlj5xndydqcwspn6fkm0000gn/T/ipykernel_29241/4270746385.py:14: FutureWarning:\n",
      "\n",
      "\n",
      "\n",
      "Passing `palette` without assigning `hue` is deprecated and will be removed in v0.14.0. Assign the `y` variable to `hue` and set `legend=False` for the same effect.\n",
      "\n",
      "\n"
     ]
    },
    {
     "data": {
      "image/png": "[encoded data removed]",
      "text/plain": [
       "<Figure size 1000x400 with 1 Axes>"
      ]
     },
     "metadata": {},
     "output_type": "display_data"
    }
   ],
   "source": [
    "# 2. Plot: Feature Importance\n",
    "\n",
    "# Get feature importances from your trained RandomForest model\n",
    "importances = best_model.feature_importances_\n",
    "features = X_train.columns\n",
    "\n",
    "#  Create a Series and sort\n",
    "feat_imp = pd.Series(importances, index=features).sort_values(ascending=False)\n",
    "\n",
    "# Plot the Top 5\n",
    "top_n = 5\n",
    "feat_imp = feat_imp.head(top_n)\n",
    "\n",
    "#  Plot\n",
    "plt.figure(figsize=(10, 4))  # WIDER and SHORTER for that compact look\n",
    "sns.barplot(x=feat_imp.values, y=feat_imp.index, palette='viridis')\n",
    "\n",
    "# 5. Styling\n",
    "plt.title(f'Top {top_n} Feature Importance - Random Forest', fontsize=14)\n",
    "plt.xlabel('Importance Score')\n",
    "plt.ylabel('Feature')\n",
    "plt.tight_layout()\n",
    "plt.show()\n"
   ]
  },
  {
   "cell_type": "code",
   "execution_count": 31,
   "metadata": {},
   "outputs": [
    {
     "name": "stdout",
     "output_type": "stream",
     "text": [
      "['title', 'release_date', 'budget', 'revenue', 'runtime', 'popularity', 'vote_average', 'vote_count', 'belongs_to_collection', 'profit', 'profit_margin', 'production_company_1492 Pictures', 'production_company_1821 Pictures', 'production_company_1984 Private Defense Contractors', 'production_company_199 Productions', 'production_company_20th Century Fox', 'production_company_20th Century Fox Animation', 'production_company_20th Century Studios', 'production_company_21 Laps Entertainment', 'production_company_2929 Productions', 'production_company_3 Arts Entertainment', 'production_company_3000 Pictures', 'production_company_308 Enterprises', 'production_company_30WEST', 'production_company_3QU Media', 'production_company_40 Acres and a Mule Filmworks', 'production_company_5150 Action', 'production_company_6th & Idaho Motion Picture Company', 'production_company_777 Films Corporation', 'production_company_87Eleven', 'production_company_87North Productions', 'production_company_A Bigger Boat', 'production_company_A-Mark Entertainment', 'production_company_A.J.O.Z. Films', 'production_company_A24', 'production_company_AGBO', 'production_company_AGC Studios', 'production_company_AI Film', 'production_company_ANA Media', 'production_company_ARTE France Cinéma', 'production_company_Aardman', 'production_company_Abbolita Productions', 'production_company_Absurda', 'production_company_Acme Rocket Fuel', 'production_company_AdScott Pictures', 'production_company_Affirm Films', 'production_company_Aggregate Films', 'production_company_Alacran Pictures', 'production_company_Alcon Entertainment', 'production_company_Alfama Films', 'production_company_All Knight Productions', 'production_company_Alliance Films', 'production_company_Alloy Entertainment', 'production_company_Also Known As Pictures', 'production_company_Alta Loma Entertainment', 'production_company_Altitude Film Sales', 'production_company_Altus Media', 'production_company_Amazing Incorporated', 'production_company_Amazon Studios', 'production_company_Amblin Entertainment', 'production_company_American Empirical Pictures', 'production_company_American Zoetrope', 'production_company_Anamorphic Films', 'production_company_Anchor Bay Films', 'production_company_Andell Entertainment', 'production_company_Andrea Sperling Productions', 'production_company_Angel Studios', 'production_company_Animal Logic', 'production_company_Animationwerks', 'production_company_Annapurna Pictures', 'production_company_Anonymous Content', 'production_company_Apatow Productions', 'production_company_Apelles Entertainment', 'production_company_Appian Way', 'production_company_Apple Studios', 'production_company_Aramid Entertainment', 'production_company_Arc Productions', 'production_company_Arcade Pictures', 'production_company_Archer Street Productions', 'production_company_Arenamedia', 'production_company_ArieScope Pictures', 'production_company_Armory Films', 'production_company_Artisan Entertainment', 'production_company_Artists First', 'production_company_Ascendant Pictures', 'production_company_Atlas Entertainment', 'production_company_Atmosphere Entertainment MM', 'production_company_Atomic Monster', 'production_company_Attitude Pinículas y Films A.I.E.', 'production_company_Automatik Entertainment', 'production_company_Avenue Pictures', 'production_company_Avery Pix', 'production_company_Aviron Pictures', 'production_company_B-Reel Films', 'production_company_BBC Film', 'production_company_BET Films', 'production_company_BFI', 'production_company_BH Tilt', 'production_company_BOOM! Studios', 'production_company_Babe Nation Films', 'production_company_Babieka Films', 'production_company_Babylon', 'production_company_Bac Films', 'production_company_Bad Cop / Bad Cop', 'production_company_Bad Hat Harry Productions', 'production_company_Bad Robot', 'production_company_Baldwin Entertainment Group', 'production_company_Baltimore/Spring Creek Pictures', 'production_company_Bandito Brothers', 'production_company_Bank Street Films', 'production_company_Barajoun Entertainment', 'production_company_Barn 12', 'production_company_Barry Mendel Productions', 'production_company_Bay Films', 'production_company_Bazelevs Production', 'production_company_Bazmark', 'production_company_Beacon Pictures', 'production_company_Bedlam Pictures', 'production_company_Bedlam Productions', 'production_company_Before the Door Pictures', 'production_company_Bel Air Entertainment', 'production_company_Belga Films', 'production_company_Believe Entertainment', 'production_company_Belladonna Productions', 'production_company_Bellanova Films', 'production_company_Benaroya Pictures', 'production_company_BenderSpink', 'production_company_Bergman Lustig Productions', 'production_company_Berlanti Productions', 'production_company_Bewitched', 'production_company_Big Beach', 'production_company_Big Indie Pictures', 'production_company_Big Lou House Productions', 'production_company_Big Screen Productions', 'production_company_Big Talk Studios', 'production_company_Birnbaum/Barber Productions', 'production_company_Black Bear Pictures', 'production_company_Black Bicycle Entertainment', 'production_company_Black Label Media', 'production_company_Black Light District', 'production_company_Blackfriars Bridge Films', 'production_company_Bleiberg Entertainment', 'production_company_Blinding Edge Pictures', 'production_company_Blossom Films', 'production_company_Blue Askew', 'production_company_Blue Sky Studios', 'production_company_Blue Tulip Productions', 'production_company_Bluegrass Films', 'production_company_Blueprint Pictures', 'production_company_Blumhouse Productions', 'production_company_Boies/Schiller Film Group', 'production_company_Bold Films', 'production_company_Boll Kino Beteiligungs GmbH & Co. KG', 'production_company_Bona Film Group', 'production_company_Bonfire Legend', 'production_company_BorderLine Films', 'production_company_Bottom of the Ninth Productions', 'production_company_BoulderLight Pictures', 'production_company_Brad Grey Pictures', 'production_company_Braven Films', 'production_company_Brightlight Pictures', 'production_company_Bristol Automotive', 'production_company_Bristol Bay Productions', 'production_company_British Film Company', 'production_company_Brittany House Pictures', 'production_company_Broadway Video', 'production_company_Broken Chair Flickz', 'production_company_Broken Lizard Industries', 'production_company_Broken Open Pictures', 'production_company_Broken Road Productions', 'production_company_Bron Studios', 'production_company_Brookstreet Pictures', 'production_company_Brothers Dowdle Productions', 'production_company_BrownHouse Productions', 'production_company_Brownstone Productions', 'production_company_Buffalo Gal Pictures', 'production_company_Bungalow Productions', 'production_company_C2 Motion Picture Group', 'production_company_CBS Films', 'production_company_CG Cinéma', 'production_company_CalMaple Films', 'production_company_Caliber Media Company', 'production_company_Callahan Filmworks', 'production_company_Camelot Pictures', 'production_company_Campbell Grobman Films', 'production_company_Campfire Studios', 'production_company_Capcom', 'production_company_Capital Arts Entertainment', 'production_company_Carmel Entertainment Group', 'production_company_Carnaby International', 'production_company_Carnival Films', 'production_company_Caro-McLeod', 'production_company_Cartoon Network Studios', 'production_company_Cartoon Saloon', 'production_company_Casey Silver Productions', 'production_company_Castelao Productions', 'production_company_Castle Rock Entertainment', 'production_company_Casual Friday Productions', 'production_company_Causeway Films', 'production_company_Celador Films', 'production_company_Celestine Films LLC', 'production_company_Celluloid Dreams', 'production_company_Cent Productions Inc.', 'production_company_Centropolis Entertainment', 'production_company_Century Time (H.K.) Ltd.', 'production_company_Chernin Entertainment', 'production_company_Chestnut Ridge', 'production_company_Chi-Fou-Mi Productions', 'production_company_China Film Group Corporation', 'production_company_Chloe Productions', 'production_company_Chris Lee Productions', 'production_company_Chris Morgan Productions', 'production_company_Cinema Vehicle Services', 'production_company_Cinereach', 'production_company_Cinerenta', 'production_company_Cinesite Animation', 'production_company_Cinestate', 'production_company_Cineverse', 'production_company_Cinéa', 'production_company_Circle of Confusion', 'production_company_City Productions', 'production_company_Ciudadano Ciskul', 'production_company_Class 5 Films', 'production_company_Cliffjack Motion Pictures', 'production_company_Clinica Estetico', 'production_company_Closer Media', 'production_company_Closest to the Hole Productions', 'production_company_Cloud Atlas Productions', 'production_company_Cobalt Media Group', 'production_company_Codi S.p.a.', 'production_company_Cohen/Pearl Productions', 'production_company_Cold Spring Pictures', 'production_company_Colony Pictures', 'production_company_Color Force', 'production_company_Columbia Pictures', 'production_company_Columbus 81 Productions', 'production_company_Compelling Pictures', 'production_company_Condemned Productions', 'production_company_Constantin Film', 'production_company_Contagious Entertainment', 'production_company_ContentFilm', 'production_company_Contrafilm', 'production_company_Conundrum Entertainment', 'production_company_Cor Cordium Productions', 'production_company_Cottage Industries', 'production_company_Covert Media', 'production_company_Cre Film', 'production_company_Creative Scotland', 'production_company_Cross Creek Pictures', \"production_company_Crow's Nest Productions\", 'production_company_Cruise/Wagner Productions', 'production_company_Crystal Lake Entertainment', 'production_company_Crystal Sky Pictures', 'production_company_Culture China - Image Nation Abu Dhabi Fund', 'production_company_DC', 'production_company_DC Entertainment', 'production_company_DC Films', 'production_company_DCP Wrong Turn Productions', 'production_company_DNA Films', 'production_company_DNA Productions', 'production_company_Dan Films', 'production_company_Dangerous Method Film AG', 'production_company_Daniel Grodnik Productions', 'production_company_Dark Age Cinema', 'production_company_Dark Castle Entertainment', 'production_company_Dark Harbor Stories', 'production_company_Dark Horse Entertainment', 'production_company_Dark Sky Films', 'production_company_Darkwoods Productions', 'production_company_Darren Star Productions', 'production_company_David Foster Productions', 'production_company_David Kirschner Productions', 'production_company_Davis Entertainment', 'production_company_Davis Films', 'production_company_Davis Films/Impact Pictures', 'production_company_Daybreak Productions', 'production_company_Dayday Films', 'production_company_De Line Pictures', 'production_company_Deeper Water', 'production_company_Defender Films', 'production_company_Denver & Delilah Productions', 'production_company_Depth of Field', 'production_company_Desperate Pictures', 'production_company_Destination Films', 'production_company_Di Novi Pictures', 'production_company_Diary of a Woman Inc.', 'production_company_Digital Domain', 'production_company_Digital Image Associates', 'production_company_Digital Riot Media', 'production_company_Dimension Films', 'production_company_Disney Television Animation', 'production_company_DisneyToon Studios', 'production_company_Dogbone Entertainment', 'production_company_Dominion Productions', 'production_company_Don Carmody Productions', 'production_company_Doom Buggy Productions', 'production_company_Double Dare You', 'production_company_Double Feature Films', 'production_company_Dream Factory Group', 'production_company_DreamCrew', 'production_company_DreamWorks Animation', 'production_company_DreamWorks Pictures', 'production_company_Dune Entertainment', 'production_company_Dune Entertainment III', 'production_company_Dylan Sellers Productions', 'production_company_EFO Films', 'production_company_EON Productions', 'production_company_Eagle Pictures', 'production_company_Eclectic Pictures', 'production_company_Ecosse Films', 'production_company_Eden Rock Media', 'production_company_Egoli Tossell Film', 'production_company_Eketahuna LLC', 'production_company_Elara Pictures', 'production_company_Electric City Entertainment', 'production_company_Electric Entertainment', 'production_company_Electromagnetic Productions', 'production_company_Element Pictures', 'production_company_Emotion Pictures', 'production_company_End Cue', 'production_company_Endeavor Content', 'production_company_Endgame Entertainment', 'production_company_Endurance Media', 'production_company_Entertainment Motion Pictures', 'production_company_Entertainment One', 'production_company_Enticing Entertainment', 'production_company_Epsilon Motion Pictures', \"production_company_Eric's Boy\", 'production_company_Escape Artists', 'production_company_Esperanto Filmoj', 'production_company_Eureka Pictures', 'production_company_EuropaCorp', 'production_company_Evergreen Media Group', 'production_company_Evil Twins', 'production_company_Evolution Entertainment', 'production_company_Excellent Cadaver', 'production_company_Exodus Film Group', 'production_company_Fable Pictures', 'production_company_Face Productions', 'production_company_Fade to Black', 'production_company_Failure to Launch Productions', 'production_company_FaithStep Films', 'production_company_Faliro House Productions', 'production_company_Fantastic Films', 'production_company_Fastnet Films', 'production_company_Fear of God Films', 'production_company_Feigco Entertainment', 'production_company_Fidélité Films', 'production_company_Fifth Element Productions', 'production_company_Fifth Season', 'production_company_Film Bridge International', 'production_company_Film Rites', 'production_company_Film4 Productions', 'production_company_FilmDistrict', 'production_company_FilmEngine', 'production_company_FilmNation Entertainment', 'production_company_FilmWave', 'production_company_Filmauro', 'production_company_Fingerprint Releasing', 'production_company_Fireworks Pictures', 'production_company_Firm Films', 'production_company_First Light', 'production_company_Firstep', 'production_company_Flower Films', 'production_company_Flute Film', 'production_company_Flying Tigers Entertainment', 'production_company_Flynn Picture Company', 'production_company_Focus Features', 'production_company_Follow Through Productions', 'production_company_Foresight Entertainment', 'production_company_Foresight Unlimited', 'production_company_Forgan-Smith Entertainment', 'production_company_Fortis Films', 'production_company_Fortissimo Films', 'production_company_Fox 2000 Pictures', 'production_company_Fox Atomic', 'production_company_Fox Searchlight Pictures', 'production_company_France 2 Cinéma', 'production_company_Franchise Pictures', 'production_company_Freckle Films', 'production_company_Fremantle', 'production_company_Frenesy Film', 'production_company_Fruit Tree', 'production_company_Fulcrum Media Finance', 'production_company_Fun Academy Media Group', 'production_company_Fuqua Films', 'production_company_Future Films', 'production_company_GK Films', 'production_company_Gaeta / Rosenzweig Films', 'production_company_Galatée Films', 'production_company_Gary Sanchez Productions', 'production_company_Gaumont', 'production_company_Gaylord Films', 'production_company_Genre Films', 'production_company_Ghost Corps', 'production_company_Ghost House Pictures', 'production_company_Gidden Media', 'production_company_Giving Films', 'production_company_Global Medien KG', 'production_company_Global Produce', 'production_company_Gloria Sanchez Productions', 'production_company_Goalpost Pictures', 'production_company_Goff-Kellam Productions', 'production_company_Gold Circle Films', 'production_company_GoldDay Productions', 'production_company_Golden Mean', 'production_company_Good Universe', 'production_company_Googly Films', 'production_company_Got Films', 'production_company_Gracie Films', 'production_company_Grade A Entertainment', 'production_company_Gravier Productions', 'production_company_Green Hat Films', 'production_company_Green Moon Productions', 'production_company_GreeneStreet Films', 'production_company_Greenway Entertainment', 'production_company_Grindstone Entertainment Group', 'production_company_Grive Productions', 'production_company_Groundswell Productions', 'production_company_GulfStream Pictures', 'production_company_HBO Films', 'production_company_Hammer Film Productions', 'production_company_HanWay Films', 'production_company_Handsomecharlie Films', 'production_company_Hannibal Classics', 'production_company_Hard Eight Pictures', 'production_company_Harlequin Pictures', 'production_company_HartBeat Productions', 'production_company_Haxan Films', 'production_company_Head Gear Films', 'production_company_Hearst Entertainment Productions', 'production_company_Helios-Filmproduktion', 'production_company_Hey Eddie', 'production_company_Heyday Films', 'production_company_Hidden Empire Film Group', 'production_company_HighRoad Entertainment', 'production_company_Highland Film Group', 'production_company_Hillman Grad Productions', 'production_company_Holleran Company', 'production_company_HorrorFlix', 'production_company_Horseshoe Bay Productions', 'production_company_Hunting Lane Films', 'production_company_Hurwitz & Schlossberg Productions', 'production_company_Hutch Parker Entertainment', 'production_company_Hwy61', 'production_company_Hydraulx', 'production_company_Hyperobject Industries', 'production_company_IAC Films', 'production_company_IFC Productions', 'production_company_IM Global', 'production_company_IMF Productions', 'production_company_Iberville Productions', 'production_company_Icon Entertainment International', 'production_company_Icon Productions', 'production_company_Iconoclast', 'production_company_Idea(L)', 'production_company_Ignite Entertainment', 'production_company_Ilion Animation Studios', 'production_company_Illumination', 'production_company_Image Nation Abu Dhabi', 'production_company_ImageMovers', 'production_company_Imagi Animation Studios', 'production_company_Imaginarium Entertainment Group', 'production_company_Imagination Design Works', 'production_company_Imagine Entertainment', 'production_company_Impact Pictures', 'production_company_Imperative Entertainment', 'production_company_Incentive Filmed Entertainment', 'production_company_Indian Paintbrush', 'production_company_Industry Entertainment Partners', 'production_company_Inferno Pictures', 'production_company_Infinite Studios', 'production_company_Infinity Features', 'production_company_Ingenious Media', 'production_company_Insurge Pictures', 'production_company_Intellectual Properties Worldwide', 'production_company_Intermedia Films', 'production_company_International Production Company', 'production_company_Interscope Communications', 'production_company_Into Frame Productions', 'production_company_Intrepid Pictures', 'production_company_Invisible Narratives', 'production_company_Iranian Independents', 'production_company_Iris Productions', 'production_company_Iron Horse Entertainment', \"production_company_It's a Laugh Productions\", 'production_company_JC 23 Entertainment', 'production_company_JC Group International', 'production_company_JLT Productions', 'production_company_Jagged Edge Productions', 'production_company_Jeepers Creepers II', 'production_company_Jerry Bruckheimer Films', 'production_company_Jerry Weintraub Productions', 'production_company_Jersey Films', 'production_company_Jessie Nelson Productions', 'production_company_John US Productions', 'production_company_John Wells Productions', 'production_company_Jon Shestack Productions', 'production_company_Joseph M. Singer Entertainment', 'production_company_Josephson Entertainment', 'production_company_Juggernaut Productions', 'production_company_June Pictures', 'production_company_K & S Films', 'production_company_K5 Film', 'production_company_K5 International', 'production_company_KD Studios', 'production_company_KMP Film Invest', 'production_company_Kaleidoscope Films', 'production_company_Kalis Productions GmbH & Co. Zweite KG', 'production_company_KanZaman Productions', 'production_company_Kanbar Entertainment', 'production_company_Karz Entertainment', 'production_company_Kasdan Pictures', 'production_company_Katalyst Films', 'production_company_KatzSmith Productions', 'production_company_Kawoosh! Productions DTV I', 'production_company_Kendrick Brothers', 'production_company_Kennedy Miller Productions', 'production_company_Kerner Entertainment Company', 'production_company_Kevin Downes Productions', 'production_company_Kevin Messick Productions', 'production_company_Kickstart Entertainment', 'production_company_Killer Films', 'production_company_Kingdom Story Company', 'production_company_Kintop Pictures', 'production_company_KirchMedia', 'production_company_Knightsbridge Entertainment', 'production_company_Konami', 'production_company_Kong Gulerod Film', 'production_company_Konrad Pictures', 'production_company_Kontsept Film Company', 'production_company_Krasnoff / Foster Entertainment', 'production_company_KrautPack Entertainment', 'production_company_Kumar Mobiliengesellschaft mbH & Co. Projekt Nr. 3 KG', 'production_company_LBI Productions', 'production_company_LD Entertainment', 'production_company_LIFT Productions', 'production_company_LStar Capital', 'production_company_La Cinéfacture', 'production_company_La Piedra Films', 'production_company_Laika', 'production_company_Lakeshore Entertainment', 'production_company_Lantica Media', 'production_company_Laura Ziskin Productions', 'production_company_Lauren Levine Productions Inc.', 'production_company_Laurence Mark Productions', 'production_company_Lava Bear Films', 'production_company_Lee Daniels Entertainment', 'production_company_Legend3D', 'production_company_Legendary East', 'production_company_Legendary Pictures', 'production_company_Leomus Pictures', 'production_company_Les Films du Cru', 'production_company_Lighthouse Management + Media', 'production_company_Lightstream Pictures', 'production_company_Likely Story', 'production_company_Limelight', 'production_company_Lin Pictures', 'production_company_Linson Entertainment', 'production_company_Lion Rock Productions', 'production_company_Lions Gate Films', 'production_company_Lionsgate', 'production_company_Lipsync Productions', 'production_company_Little Stranger', 'production_company_Littlestar', 'production_company_Living Films', 'production_company_Lleju Productions', 'production_company_Location Gourmet', 'production_company_Lonetree Entertainment', 'production_company_Los Angeles Media Fund', 'production_company_Loumolo & Co.', 'production_company_Low Sky Productions', 'production_company_Low Spark Films', 'production_company_Lowe Media', 'production_company_Lucasfilm Ltd.', 'production_company_Lucky Monkey Pictures', 'production_company_LuckyChap Entertainment', 'production_company_Lunar Industries', 'production_company_Lynch Siderow Productions', 'production_company_Lyrical Media', 'production_company_Légende Films', 'production_company_M6', 'production_company_M7 Filmproduktion', 'production_company_MACRO', 'production_company_MBC Beteiligungs Filmproduktion', 'production_company_MICA Entertainment', 'production_company_MP Munich Pape Filmproductions', 'production_company_MRC', 'production_company_MTV Films', 'production_company_MadRiver Pictures', 'production_company_Madacy Entertainment', 'production_company_Madhouse Entertainment', 'production_company_Magnolia Pictures', 'production_company_Main Journey', 'production_company_Makeready', 'production_company_Malpaso Productions', 'production_company_Mandalay Pictures', 'production_company_Mandate Pictures', 'production_company_Mandeville Films', 'production_company_Marc Platt Productions', 'production_company_Marcy Media', 'production_company_Margin of Error', 'production_company_Mark Johnson Productions', 'production_company_Marmalade Pictures', 'production_company_Marro Films', 'production_company_Mars Media Beteiligungs', 'production_company_Marshall Production', 'production_company_Marv', 'production_company_Marvel Enterprises', 'production_company_Marvel Entertainment', 'production_company_Marvel Studios', 'production_company_Material', 'production_company_Matt Tolmach Productions', 'production_company_Matten Productions', 'production_company_Maven Screen Media', 'production_company_Maverick Films', 'production_company_Max Stronghold Productions Inc.', 'production_company_Maximum Effort', 'production_company_Media 8 Entertainment', 'production_company_Media Max Productions', 'production_company_Melodrama Pictures', 'production_company_Merced Media Partners', 'production_company_Metro-Goldwyn-Mayer', 'production_company_Michael Cerenzie Productions', 'production_company_Michael De Luca Productions', 'production_company_Michael London Productions', 'production_company_Mid Atlantic Films', 'production_company_Middle Fork Productions', 'production_company_Mikona Productions', 'production_company_Milestone Entertainment', 'production_company_Millennium Media', 'production_company_Mirage Enterprises', 'production_company_Miramax', 'production_company_Misher Films', 'production_company_Mission Pictures International', 'production_company_Mobius International', 'production_company_Mod Producciones', 'production_company_Monarch Pictures', 'production_company_Monarchy Enterprises S.a.r.l.', 'production_company_Monkey Dance Productions', 'production_company_Monkeypaw Productions', 'production_company_Monumental Pictures', 'production_company_Morgan Creek Entertainment', 'production_company_Morgen Studios', 'production_company_Mosaic Media Group', 'production_company_Moving Picture Company', 'production_company_Mr. Mudd', 'production_company_Municipal Pictures', 'production_company_Muse Productions', 'production_company_Mythology Entertainment', 'production_company_NALA Films', 'production_company_NFP Teleart Berlin', 'production_company_Napoleon Pictures', 'production_company_Neal H. Moritz Productions', 'production_company_Nebulastar', 'production_company_NeoReel', 'production_company_Neon Heart Productions', 'production_company_Netflix', 'production_company_Netflix International Pictures', 'production_company_Netter Productions', 'production_company_New Amsterdam Entertainment', 'production_company_New Deal Productions', 'production_company_New Line Cinema', 'production_company_New Regency Pictures', 'production_company_New Regency Productions', 'production_company_New Zealand Film Commission', 'production_company_Newman/Tooley Films', 'production_company_Newmarket Films', 'production_company_Next Entertainment', 'production_company_Next Wednesday Productions', 'production_company_Niccol Films', 'production_company_Nick Wechsler Productions', 'production_company_Nickelodeon Movies', 'production_company_Nimar Studios', 'production_company_Nine Stories Productions', 'production_company_Nine Yards Two Productions', 'production_company_Nonetheless Productions', 'production_company_Northern Ireland Screen', 'production_company_Nota Bene', 'production_company_Nu Boyana Film Studios', 'production_company_Nu Image', 'production_company_Nu Image Bulgaria', 'production_company_NuAmerica Entertainment', 'production_company_Numb Gums Production Inc.', 'production_company_Number 9 Films', 'production_company_Nuyorican Productions', 'production_company_O Entertainment', 'production_company_Occupant Entertainment', 'production_company_Offspring Entertainment', 'production_company_Olive Bridge Entertainment', 'production_company_Olympus Pictures', 'production_company_Omnilab Media', 'production_company_On the Day', 'production_company_One Race', 'production_company_Oops Doughnuts Productions', 'production_company_Open Road Films', 'production_company_Orange Studio', 'production_company_Oren Peli / Brian Witten Pictures', 'production_company_Origin Pictures', 'production_company_Original Film', 'production_company_Original Force Animation', 'production_company_Orion Pictures', 'production_company_Orwo Studios (US)', 'production_company_Our House Films', 'production_company_Out of the Blue... Entertainment', 'production_company_Outlier Society', 'production_company_Outpost Studios', 'production_company_Outside Da Box', 'production_company_Overnight Films', 'production_company_Overture Films', 'production_company_PCMA Productions', 'production_company_PIC Agency', 'production_company_Pacific Data Images', 'production_company_Pacific Film and Television Commission', 'production_company_PalmStar Media', 'production_company_Pan-Européenne', 'production_company_Panda Productions', 'production_company_Pantaleon Films', 'production_company_Parabolic Pictures', 'production_company_Parallel Films', 'production_company_Parallel Zide', 'production_company_Paramount Animation', 'production_company_Paramount Pictures', 'production_company_Paramount Players', 'production_company_Paramount Vantage', 'production_company_Pariah', 'production_company_Parkes+MacDonald Image Nation', 'production_company_Parkes/MacDonald Productions', 'production_company_Parkwood Entertainment', 'production_company_Participant', 'production_company_Partizan Films', 'production_company_Pascal Pictures', 'production_company_Patalex Productions', 'production_company_Pathé', 'production_company_Pathé Renn Productions', 'production_company_Patrick Aiello Productions', 'production_company_Pearl Street Films', 'production_company_Penn Station Entertainment', 'production_company_Perdido Productions', 'production_company_Perfect World Pictures', 'production_company_Perpetual Media Capital', 'production_company_Peter Rommel Productions', 'production_company_Phantom Four', 'production_company_Phase 4 Films', 'production_company_Phoenix Film Partners', 'production_company_Phoenix Pictures', 'production_company_Picomedia', 'production_company_Picture Perfect Corporation', 'production_company_Pimienta', 'production_company_Pin High', 'production_company_Pinewood Studios', 'production_company_Pink Machine', 'production_company_Pioneer Pictures', 'production_company_Pit Bull Productions', 'production_company_Pixar', 'production_company_Pixomondo', 'production_company_Plan B Entertainment', 'production_company_Platinum Dunes', 'production_company_PlayStation Productions', 'production_company_Playtone', 'production_company_Plunge Pictures LLC', 'production_company_Point Grey Pictures', 'production_company_Pontchartrain Productions', 'production_company_Porchlight Films', 'production_company_Post No Bills Films', 'production_company_Potato Eater Productions', 'production_company_Power', 'production_company_Pressman Film', 'production_company_Pretty Pictures', 'production_company_Pricel', 'production_company_Pride of Gypsies', 'production_company_Primate Pictures', 'production_company_Prime Focus', 'production_company_Prime Time', 'production_company_Project X Entertainment', 'production_company_Pure Flix Entertainment', 'production_company_QI Quality International GmbH Co. KG', 'production_company_Quadrant Pictures', 'production_company_R.P. Productions', 'production_company_R.U. Robot Studios', 'production_company_RAT Entertainment', 'production_company_RGB Media', 'production_company_RKO Pictures LLC', 'production_company_RT Features', 'production_company_Radar Pictures', 'production_company_Radio Silence', 'production_company_Raimi Productions', 'production_company_Raindog Films', 'production_company_Rainforest Entertainment', 'production_company_Ram Bergman Productions', 'production_company_RatPac Entertainment', 'production_company_Rational Packaging', 'production_company_Rawhide Pictures', 'production_company_Recorded Picture Company', 'production_company_Red Crown Productions', 'production_company_Red Dune Films', 'production_company_Red Granite Pictures', 'production_company_Red Hawk Entertainment', 'production_company_Red Om Films', 'production_company_Red Wagon Entertainment', 'production_company_Reel Chefs Catering', 'production_company_Reel FX Creative Studios', 'production_company_Regency Enterprises', 'production_company_Reiner / Greisman Productions', 'production_company_Relativity Media', 'production_company_Reliance Entertainment', 'production_company_Rena Film', 'production_company_Residaco', 'production_company_Revelations Entertainment', 'production_company_Revolt Films', 'production_company_Revolution Films', 'production_company_Revolution Studios', 'production_company_Rhombus Media', 'production_company_Rice Films', 'production_company_Rick Lashbrook Films', 'production_company_Riff Raff Entertainment', 'production_company_Right of Way Films', 'production_company_Rising Star Productions', 'production_company_River Road Entertainment', 'production_company_Riverstone Pictures', 'production_company_Road Rebel', 'production_company_Robert Simonds Productions', 'production_company_RockBridge Productions', 'production_company_RocketScience', 'production_company_Rogue Pictures', 'production_company_Rollercoaster Films', 'production_company_Romero-Grunwald Productions', 'production_company_Room 101', 'production_company_Roth Films', 'production_company_Round Films', 'production_company_Rovio Animation', 'production_company_Rox Productions', 'production_company_Rumbalara Films', 'production_company_SBS Productions', 'production_company_SCS Entertainment', 'production_company_SJ Pictures', 'production_company_SK Global Entertainment', 'production_company_SKA Films', 'production_company_SModcast Pictures', 'production_company_SND', 'production_company_SPD Films', 'production_company_STXfilms', 'production_company_Sailor Bear', 'production_company_Salty Pictures', 'production_company_Samson Films', 'production_company_Samuel Goldwyn Films', 'production_company_Sandcastle 5', 'production_company_Santa Fe Films', 'production_company_Satai Film', 'production_company_Saturn Films', 'production_company_Savvy Media Holdings', 'production_company_Scarlet Films', 'production_company_Scholastic Productions', 'production_company_Scion Films', 'production_company_Scott Free Productions', 'production_company_Scott Rudin Productions', 'production_company_Scottish Screen', 'production_company_Scoundrel Media', 'production_company_Screen Australia', 'production_company_Screen Gems', 'production_company_Screen Queensland', 'production_company_Sculptor Media', 'production_company_Search Party', 'production_company_Searchlight Pictures', 'production_company_Secret Hideout', 'production_company_Section Eight', 'production_company_Semtex Films', 'production_company_Senator Film', 'production_company_Senator International', 'production_company_Sentinel Productions', 'production_company_Serendipity Point Films', 'production_company_Seven Arts Pictures', 'production_company_Seven Bucks Productions', 'production_company_Shadowhouse Films', 'production_company_Shangri-La Entertainment', 'production_company_Shine Pictures', 'production_company_Shriver Films', 'production_company_Shutt/Jones Productions', 'production_company_Sidney Kimmel Entertainment', 'production_company_Sidus', 'production_company_Sierra/Affinity', 'production_company_Signal Film Group', 'production_company_Significant Productions', 'production_company_Sikelia Productions', 'production_company_Silent Hill DCP Inc.', 'production_company_Silver Pictures', 'production_company_Silver Plane Films', 'production_company_Skybound Entertainment', 'production_company_Skydance Media', 'production_company_Sloane Square Films', 'production_company_Slough Pond', 'production_company_Sly Predator', 'production_company_Smart Entertainment', 'production_company_Smoke House Pictures', 'production_company_Smokewood Entertainment Group', 'production_company_Snoot Entertainment', 'production_company_Snowfort Pictures', 'production_company_Sobras International Pictures', 'production_company_Solstice Studios', 'production_company_Sony Pictures', 'production_company_Sony Pictures Animation', 'production_company_Sparkle Roll Media', 'production_company_Spectacle Entertainment Group', 'production_company_SpectreVision', 'production_company_Speedie Distribution', 'production_company_Spin Master', 'production_company_Spooky Pictures', 'production_company_Spring Creek Pictures', 'production_company_Spy Next Door', 'production_company_Spyglass Entertainment', 'production_company_Square Enix', 'production_company_Stage 6 Films', 'production_company_Star Thrower Entertainment', 'production_company_Stay Gold Features', 'production_company_Stillking Films', 'production_company_Stoney Lake Entertainment', 'production_company_Storefront Films', 'production_company_Story Ink', 'production_company_Strike Entertainment', 'production_company_Strohberry Films', 'production_company_Stuber Pictures', 'production_company_Studio 8', 'production_company_Studio Babelsberg', 'production_company_StudioCanal', 'production_company_Summertime Entertainment', 'production_company_Summit Entertainment', 'production_company_Sunswept Entertainment', 'production_company_Super Cool ManChu', 'production_company_Surefire Capital', 'production_company_Suretone Pictures', 'production_company_Syncopy', 'production_company_T-Street', 'production_company_TF1 Droits Audiovisuels', 'production_company_TF1 Films Production', 'production_company_TIK Films', 'production_company_TKBC', 'production_company_TOHO', 'production_company_TSG Entertainment', 'production_company_Tang Media Productions', 'production_company_Tank Caterpillar', 'production_company_Tapestry Films', 'production_company_Target Media Entertainment', 'production_company_Tarzana Productions', 'production_company_Tatira', 'production_company_Taylor Swift Productions', 'production_company_Tea Shop Productions', 'production_company_Teen Life Productions', 'production_company_Teitler Film', 'production_company_Temple Hill Entertainment', 'production_company_Ten Thirteen Productions', 'production_company_Territory Pictures', 'production_company_Texas Chainsaw Productions', 'production_company_The Apartment Pictures', 'production_company_The De Laurentiis Company', \"production_company_The Donners' Company\", 'production_company_The Film Department', 'production_company_The Fyzz', 'production_company_The Gotham Group', 'production_company_The Halcyon Company', 'production_company_The Imaginarium', 'production_company_The Ink Factory', 'production_company_The Javelina Film Company', 'production_company_The Jim Henson Company', 'production_company_The Kennedy/Marshall Company', 'production_company_The Mark Gordon Company', 'production_company_The Mazur Kaplan Company', 'production_company_The Montecito Picture Company', 'production_company_The Picture Company', 'production_company_The Safran Company', 'production_company_The Solution', 'production_company_The Stone Quarry', 'production_company_The Victor Film Company', 'production_company_The Weinstein Company', 'production_company_The Zanuck Company', 'production_company_These Pictures', 'production_company_This is that', 'production_company_Three Strange Angels', 'production_company_Through Films', 'production_company_Thunder Road', 'production_company_Tiger Aspect', 'production_company_Tim Burton Productions', 'production_company_Tiny Giant Entertainment', 'production_company_Tollin/Robbins Productions', 'production_company_Toma 78', 'production_company_Top Gun Productions', 'production_company_Topic Studios', 'production_company_Topple Productions', 'production_company_Torridon Films', 'production_company_Total Recall', 'production_company_Touchstone Pictures', 'production_company_Toy Gun Films', 'production_company_Traveling Picture Show Company', 'production_company_Tread Lively', 'production_company_Tri-State Pictures', 'production_company_TriStar Pictures', 'production_company_Tribeca Productions', 'production_company_Trinity Race', 'production_company_Troll Court Entertainment', 'production_company_Troublemaker Studios', 'production_company_Truth Entertainment', 'production_company_Turner Pictures', 'production_company_Twins Financing', 'production_company_Twisted Media', 'production_company_Twisted Pictures', 'production_company_Two Flints', 'production_company_Two Ton Films', 'production_company_Tyler Perry Studios', 'production_company_Téléfilm Canada', 'production_company_UK Film Council', 'production_company_USA Films', 'production_company_Ultravi Productions', 'production_company_Ulysses Filmproduktion', 'production_company_Uncharted', 'production_company_Underworld Pictures', 'production_company_Undisputed 3 Productions', 'production_company_Union Patriot Capital Management', 'production_company_Unison Films', 'production_company_United Artists', 'production_company_United Plankton Pictures', 'production_company_Universal 1440 Entertainment', 'production_company_Universal Pictures', 'production_company_Upside Down Films', 'production_company_Uptone Pictures', 'production_company_Utopia', 'production_company_Vaca Films', 'production_company_Valhalla Motion Pictures', 'production_company_Vanguard Animation', 'production_company_Vendian Entertainment', 'production_company_Vendôme Pictures', 'production_company_Verdi Productions', 'production_company_Veritas Entertainment Group', 'production_company_Versus Entertainment', 'production_company_Vertigo Entertainment', 'production_company_Vertigo Films', 'production_company_Very Special Projects', 'production_company_Vesuvius Productions', 'production_company_Viddywell', 'production_company_View Askew Productions', 'production_company_Village Roadshow Pictures', 'production_company_Vinson Films', 'production_company_Vinyl Films', 'production_company_Virtual Studios', 'production_company_Visible Pictures', 'production_company_Visionview Productions', 'production_company_Vivendi Entertainment', 'production_company_Vnesheconombank', 'production_company_Vocal Yokels', 'production_company_Voltage Pictures', 'production_company_Vulcan Productions', 'production_company_WT² Productions', 'production_company_WV Films II', 'production_company_WV Films III', 'production_company_WWE Studios', 'production_company_Walden Media', 'production_company_Walt Disney Animation Studios', 'production_company_Walt Disney Feature Animation', 'production_company_Walt Disney Pictures', 'production_company_WarParty Films', 'production_company_Warner Animation Group', 'production_company_Warner Bros. Animation', 'production_company_Warner Bros. Pictures', 'production_company_Warner Independent Pictures', 'production_company_Warp Films', 'production_company_Wayans Alvarez Productions', 'production_company_Wayans Bros. Entertainment', 'production_company_Wayfarer Entertainment', 'production_company_Waypoint Entertainment', \"production_company_We're Not Brothers Productions\", 'production_company_Weed Road Pictures', 'production_company_Weinstock Productions', 'production_company_Wendy Finerman Productions', 'production_company_Wes Craven Films', 'production_company_Wessler Entertainment', 'production_company_WestEnd Films', 'production_company_Westbrook', 'production_company_Weston Pictures', 'production_company_Weying Galaxy Entertainment', 'production_company_Wheelhouse Entertainment', 'production_company_Whiplash Films', 'production_company_Whitaker Entertainment', 'production_company_White Hot Productions', 'production_company_White Noise Factory', 'production_company_WhiteFlame Productions', 'production_company_Why Not Productions', 'production_company_WideAwake Pictures', 'production_company_Wigram Productions', 'production_company_Wild Bunch', 'production_company_Wild Ocean Films', 'production_company_Wild West Picture Show Productions', 'production_company_Wildgaze Films', 'production_company_Wildwood Enterprises', 'production_company_Will Packer Productions', 'production_company_WingNut Films', 'production_company_Winkler Films', 'production_company_Wintergreen Productions', 'production_company_Witness Protection Films', 'production_company_Wonderland Films', 'production_company_Wonderland Sound and Vision', 'production_company_Working Title Films', 'production_company_World 2000 Entertainment', 'production_company_World Film Magic', 'production_company_Wrigley Pictures', 'production_company_XYZ Films', 'production_company_Xeitgeist Entertainment Group', 'production_company_Yale Productions', 'production_company_Yannix Technology Corporation', 'production_company_Yari Film Group', 'production_company_Young Gang', 'production_company_Zapruder Films', 'production_company_Zentropa Entertainments', 'production_company_Zephyr Films', 'production_company_Zero Gravity Management', 'production_company_Zurich Avenue', 'production_company_bob industries', 'production_company_di Bonaventura Pictures', 'production_company_erbp', 'production_company_filmscience', 'production_company_for KING & COUNTRY', 'production_company_nWave Pictures', 'production_company_uFilm', 'production_company_uMedia', 'director_Aaron Horvath', 'director_Aaron Moorhead', 'director_Aaron Nee', 'director_Aaron Seltzer', 'director_Aaron Sorkin', 'director_Abby Kohn', 'director_Adam Elliot', 'director_Adam Green', 'director_Adam Mason', 'director_Adam McKay', 'director_Adam Rehmeier', 'director_Adam Robitel', 'director_Adam Shankman', 'director_Adam Wingard', 'director_Adele Lim', 'director_Adil El Arbi', 'director_Adrian Grünberg', 'director_Adrian Lyne', 'director_Agnieszka Wojtowicz-Vosloo', 'director_Akan Satayev', 'director_Akiva Goldsman', 'director_Akiva Schaffer', 'director_Alan Parker', 'director_Alan Poul', 'director_Alan Taylor', 'director_Albert Hughes', 'director_Alejandro Agresti', 'director_Alejandro Amenábar', 'director_Alejandro González Iñárritu', 'director_Alejandro Monteverde', 'director_Aleksander Bach', 'director_Alex Garland', 'director_Alex Kendrick', 'director_Alex Kurtzman', 'director_Alex Proyas', 'director_Alex Zamm', 'director_Alexander Payne', 'director_Alexander Witt', 'director_Alexandre Aja', 'director_Alfonso Cuarón', 'director_Ali Abbasi', 'director_Alister Grierson', 'director_Allen Coulter', 'director_Allen Hughes', 'director_Ally Pankiw', \"director_Alma Har'el\", 'director_Amma Asante', 'director_Ana Lily Amirpour', 'director_Anand Tucker', 'director_Andrea Berloff', 'director_Andrea Di Stefano', 'director_Andrei Konchalovsky', 'director_Andrew Adamson', 'director_Andrew Davis', 'director_Andrew Dominik', 'director_Andrew Douglas', 'director_Andrew Erwin', 'director_Andrew Fleming', 'director_Andrew Haigh', 'director_Andrew Hyatt', 'director_Andrew J. Cohen', 'director_Andrew Niccol', 'director_Andrew Stanton', 'director_Andrew Waller', 'director_Andrzej Bartkowiak', 'director_André Øvredal', 'director_Andy Fickman', 'director_Andy Muschietti', 'director_Andy Serkis', 'director_Andy Tennant', 'director_Aneesh Chaganty', 'director_Ang Lee', 'director_Angela Robinson', 'director_Angelina Jolie', 'director_Angus MacLane', 'director_Anna Boden', 'director_Anna Foerster', 'director_Anne Fletcher', 'director_Anne Fontaine', 'director_Anouk Whissell', 'director_Anthony Hayes', 'director_Anthony Hemingway', 'director_Anthony Maras', 'director_Anthony Minghella', 'director_Anthony Russo', 'director_Antoine Fuqua', 'director_Anton Corbijn', 'director_Antonio Negret', 'director_Ari Aster', 'director_Ari Sandel', 'director_Ariel Vromen', 'director_Arkasha Stevenson', 'director_Armand Mastroianni', 'director_Armando Iannucci', 'director_Arturo Perez Jr.', 'director_Asger Leth', 'director_Ash Brannon', 'director_Atom Egoyan', 'director_Audrey Wells', 'director_Autumn de Wilde', 'director_Ava DuVernay', 'director_Ayman Jamal', 'director_Babak Najafi', 'director_Baltasar Kormákur', 'director_Baran bo Odar', 'director_Barbara Kopple', 'director_Barry Battles', 'director_Barry Jenkins', 'director_Barry Levinson', 'director_Barry Skolnick', 'director_Barry Sonnenfeld', 'director_Bart Layton', 'director_Baz Luhrmann', 'director_Beeban Kidron', 'director_Ben Affleck', 'director_Ben Falcone', 'director_Ben Gluck', 'director_Ben Smallbone', 'director_Ben Stiller', 'director_Ben Wheatley', 'director_Ben Younger', 'director_Benjamin Renner', 'director_Bennett Miller', 'director_Benny Boom', 'director_Benny Safdie', 'director_Bernard Derriman', 'director_Bernardo Bertolucci', 'director_Bethany Ashton Wolf', 'director_Betty Thomas', 'director_Bharat Nalluri', 'director_Bibo Bergeron', 'director_Bilall Fallah', 'director_Bill Condon', 'director_Bill Holderman', 'director_Bille Woodruff', 'director_Billy Ray', 'director_Björn Stein', 'director_Blitz Bazawule', 'director_Bo Burnham', 'director_Bo Welch', 'director_Boaz Yakin', 'director_Bob Persichetti', 'director_Bobby Farrelly', 'director_Bobcat Goldthwait', 'director_Bobs Gannaway', 'director_Bonnie Hunt', 'director_Boots Riley', 'director_Brad Anderson', 'director_Brad Bird', 'director_Brad Furman', 'director_Brad Peyton', 'director_Brad Silberling', 'director_Bradley Cooper', 'director_Bradley Parker', 'director_Brady Corbet', 'director_Brandon Camp', 'director_Brandon Cronenberg', 'director_Breck Eisner', 'director_Brenda Chapman', 'director_Brent McCorkle', 'director_Brett Ratner', 'director_Brian A. Miller', 'director_Brian Baugh', 'director_Brian De Palma', 'director_Brian Fee', 'director_Brian Helgeland', 'director_Brian Henson', 'director_Brian Kirk', 'director_Brian Klugman', 'director_Brian Levant', 'director_Brian Percival', 'director_Brian Robbins', 'director_Brian Taylor', 'director_Bruce A. Evans', 'director_Bruce Hunt', 'director_Bruce Macdonald', 'director_Bruce Robinson', 'director_Bryan Bertino', 'director_Bryan Singer', 'director_Bryan Woods', 'director_Bryce McGuire', 'director_Burr Steers', 'director_Byron Howard', 'director_Cal Brunker', 'director_Cameron Cairnes', 'director_Cameron Crowe', 'director_Camille Delamarre', 'director_Carl Franklin', 'director_Carl Rinsch', 'director_Carlos López Estrada', 'director_Carlos Saldanha', 'director_Carter Smith', 'director_Cary Joji Fukunaga', 'director_Castille Landon', 'director_Cate Shortland', 'director_Catherine Hardwicke', 'director_Cathy Yan', 'director_Cedric Nicolas-Troyan', 'director_Celine Song', 'director_Chad Stahelski', 'director_Charles Herman-Wurmfeld', 'director_Charles Martin Smith', 'director_Charles Shyer', 'director_Charles Stone III', 'director_Charlie Bean', 'director_Charlie Kaufman', 'director_Cheryl Dunye', 'director_Chinonye Chukwu', 'director_Chloe Okuno', 'director_Chloé Zhao', 'director_Chris Addison', 'director_Chris Butler', 'director_Chris Carter', 'director_Chris Columbus', 'director_Chris Gorak', 'director_Chris Kentis', 'director_Chris McKay', 'director_Chris Miller', 'director_Chris Morris', 'director_Chris Nahon', 'director_Chris Nash', 'director_Chris Renaud', 'director_Chris Robinson', 'director_Chris Rock', 'director_Chris Sanders', 'director_Chris Wedge', 'director_Chris Weitz', 'director_Chris Williams', 'director_Christian Alvart', 'director_Christian Ditter', 'director_Christian E. Christiansen', 'director_Christian Gudegast', 'director_Christian Rivers', 'director_Christophe Gans', 'director_Christopher Landon', 'director_Christopher McQuarrie', 'director_Christopher Miller', 'director_Christopher Nolan', 'director_Christopher Smith', 'director_Christopher Spencer', 'director_Chuck Konzelman', 'director_Chuck Russell', 'director_Ciarán Foy', 'director_Claire Denis', 'director_Clare Kilner', 'director_Clark Johnson', 'director_Clay Kaytis', 'director_Clint Eastwood', 'director_Cody Cameron', 'director_Colin Strause', 'director_Colin Trevorrow', 'director_Conrad Vernon', 'director_Coralie Fargeat', 'director_Cord Jefferson', 'director_Corey Yuen Kwai', 'director_Corin Hardy', 'director_Cory Edwards', 'director_Courtney Solomon', 'director_Craig Brewer', 'director_Craig Gillespie', 'director_Craig Mazin', 'director_Craig McCracken', 'director_Craig Zobel', 'director_Curtis Hanson', 'director_Cédric Jimenez', 'director_D.J. Caruso', 'director_Dallas Jenkins', 'director_Damien Chazelle', 'director_Damien Dante Wayans', 'director_Damien Leone', 'director_Dan Bradley', 'director_Dan Fogelman', 'director_Dan Gilroy', 'director_Dan Mazer', 'director_Dan Scanlon', 'director_Dan St. Pierre', 'director_Dan Trachtenberg', 'director_Daniel Barnz', 'director_Daniel Espinosa', 'director_Daniel Sackheim', 'director_Daniel Schechter', 'director_Daniel Scheinert', 'director_Daniel Stamm', 'director_Daniel Waters', 'director_Danny Boyle', 'director_Danny Cannon', 'director_Danny DeVito', 'director_Danny Leiner', 'director_Darnell Martin', 'director_Darren Aronofsky', 'director_Darren Grant', 'director_Darren Lynn Bousman', 'director_Dave Filoni', 'director_Dave Franco', 'director_Dave Green', 'director_Dave McKean', 'director_Dave Wilson', 'director_David Atkins', 'director_David Ayer', 'director_David Bowers', 'director_David Bruckner', 'director_David Cronenberg', 'director_David Dobkin', 'director_David E. Talbert', 'director_David F. Sandberg', 'director_David Fincher', 'director_David Frankel', 'director_David G. Derrick Jr.', 'director_David Gordon Green', 'director_David Hackl', 'director_David Helling', 'director_David Kerr', 'director_David Koepp', 'director_David Leitch', 'director_David Leland', 'director_David Lowery', 'director_David Lynch', 'director_David Mackenzie', 'director_David McNally', 'director_David Michôd', 'director_David O. Russell', 'director_David Prior', 'director_David R. Ellis', 'director_David Raynr', 'director_David Robert Mitchell', 'director_David S. Goyer', 'director_David Schwimmer', 'director_David Silverman', 'director_David Slade', 'director_David Soren', 'director_David Twohy', 'director_David Wain', 'director_David Yarovesky', 'director_David Yates', 'director_David Zucker', 'director_Dax Shepard', 'director_Dean DeBlois', 'director_Dean Devlin', 'director_Dean Fleischer Camp', 'director_Dean Israelite', 'director_Dean Parisot', 'director_Debra Granik', 'director_Denis Villeneuve', 'director_Denise Di Novi', 'director_Dennie Gordon', 'director_Dennis Dugan', 'director_Dennis Gansel', 'director_Dennis Iliadis', 'director_Dennis Widmyer', 'director_Denzel Washington', 'director_Deon Taylor', 'director_Derek Cianfrance', 'director_Derek Drymon', 'director_Derrick Borte', 'director_Destin Daniel Cretton', 'director_Dev Patel', 'director_Dexter Fletcher', 'director_Diederik Van Rooijen', 'director_Dimitri Logothetis', 'director_Director X.', 'director_Dito Montiel', 'director_Dome Karukoski', 'director_Domee Shi', 'director_Dominic Sena', 'director_Don Bluth', 'director_Don Hall', 'director_Don Mancini', 'director_Don Michael Paul', 'director_Don Scardino', 'director_Donald Petrie', 'director_Donovan Marsh', 'director_Doug Atchison', 'director_Doug Ellin', 'director_Doug Lefler', 'director_Doug Liman', 'director_Doug Sweetland', 'director_Dougal Wilson', 'director_Drake Doremus', 'director_Drew Barrymore', 'director_Drew Goddard', 'director_Drew Heriot', 'director_Drew Pearce', 'director_Duncan Jones', 'director_Duncan Tucker', 'director_Dwight H. Little', 'director_Dylan Brown', 'director_E.L. Katz', 'director_Ed Decter', 'director_Edgar Wright', 'director_Edward Berger', 'director_Edward Drake', 'director_Edward McHenry', 'director_Edward Norton', 'director_Edward Zwick', 'director_Elaine Bogan', 'director_Eli Craig', 'director_Eli Roth', 'director_Elizabeth Allen Rosenbaum', 'director_Elizabeth Banks', 'director_Elizabeth Wood', 'director_Elliott Lester', 'director_Ellory Elkayem', 'director_Emerald Fennell', 'director_Emma Seligman', 'director_Emma Tammi', 'director_Enrico Casarosa', 'director_Eran Creevy', 'director_Eric Bress', 'director_Eric Brevig', 'director_Eric Darnell', 'director_Eric Leighton', 'director_Eric Summer', 'director_Eric Till', 'director_Ericson Core', 'director_Erik Van Looy', 'director_Ernie Barbarash', 'director_Espen Sandberg', 'director_Etan Cohen', 'director_Ethan Coen', 'director_Evan Goldberg', 'director_Evan Spiliotopoulos', 'director_Everardo Gout', 'director_F. Gary Gray', 'director_F. Javier Gutiérrez', 'director_Farhad Safinia', 'director_Fawn Veerasunthorn', 'director_Fede Álvarez', 'director_Felix van Groeningen', 'director_Fernando Meirelles', 'director_Florent-Emilio Siri', 'director_Floria Sigismondi', 'director_Florian Henckel von Donnersmarck', 'director_Florian Sigl', 'director_Florian Zeller', 'director_Francis Ford Coppola', 'director_Francis Glebas', 'director_Francis Lawrence', 'director_Franck Khalfoun', 'director_Frank Coraci', 'director_Frank Darabont', 'director_Frank Marshall', 'director_Frank Miller', 'director_Frank Nissen', 'director_Frank Oz', 'director_François Ozon', 'director_Fred Durst', 'director_Fred Wolf', 'director_Frederik Du Chau', 'director_Gabe Ibáñez', 'director_Gabriela Cowperthwaite', 'director_Gabriele Muccino', 'director_Gail Mancuso', 'director_Gareth Edwards', 'director_Garry Marshall', 'director_Garth Davis', 'director_Garth Jennings', 'director_Gary Chapman', 'director_Gary Dauberman', 'director_Gary Fleder', 'director_Gary McKendry', 'director_Gary Ross', 'director_Gary Rydstrom', 'director_Gary Shore', 'director_Gary Trousdale', 'director_Gary Winick', 'director_Gaspar Noé', 'director_Gavin Hood', \"director_Gavin O'Connor\", 'director_Gene Stupnitsky', 'director_Genndy Tartakovsky', 'director_George A. Romero', 'director_George Clooney', 'director_George Huang', 'director_George Lucas', 'director_George Miller', 'director_George Nolfi', 'director_George Tillman Jr.', 'director_Gerard Bush', 'director_Gerard Johnstone', 'director_Gerard McMurray', 'director_Gia Coppola', 'director_Gigi Gaston', 'director_Gil Junger', 'director_Gil Kenan', 'director_Gilles de Maistre', 'director_Gina Prince-Bythewood', 'director_Glen Morgan', 'director_Glenn Ficarra', 'director_Gordon Chan', 'director_Gore Verbinski', 'director_Graham Annable', 'director_Graham Moore', 'director_Greg Berlanti', 'director_Greg Coolidge', 'director_Greg Kwedar', 'director_Greg McLean', 'director_Greg Mottola', 'director_Gregg Araki', 'director_Gregory Dark', 'director_Gregory Hoblit', 'director_Gregory Plotkin', 'director_Gregory Poirier', 'director_Greta Gerwig', 'director_Guillaume Canet', 'director_Guillermo del Toro', 'director_Gurinder Chadha', 'director_Gus Van Sant', 'director_Guy Ritchie', 'director_Gábor Csupó', 'director_Halina Reijn', 'director_Hallie Meyers-Shyer', 'director_Hamed Mohammadi', 'director_Hans Horn', 'director_Hans Petter Moland', 'director_Hany Abu-Assad', 'director_Harald Zwart', 'director_Harmony Korine', 'director_Harold Cronk', 'director_Harold Ramis', 'director_Hayden Schlossberg', 'director_Henry Bean', 'director_Henry Hobson', 'director_Henry Joost', 'director_Henry Selick', 'director_Hideo Nakata', 'director_Hironobu Sakaguchi', 'director_Hong Sung-ho', 'director_Howard Deutch', 'director_Howard J. Ford', 'director_Howard McCain', 'director_Hoyt Yeatman', 'director_Iain Softley', 'director_Ilya Naishuller', 'director_Iris K. Shim', 'director_Isaac Florentine', 'director_Ishana Night Shyamalan', 'director_Ivan Reitman', 'director_J Blakeson', 'director_J.A. Bayona', 'director_J.B. Rogers', 'director_J.C. Chandor', 'director_J.D. Dillard', 'director_J.J. Abrams', 'director_J.J. Perry', 'director_JT Mollner', 'director_Jack Gattanella', 'director_Jaco Van Dormael', 'director_Jacob Chase', 'director_Jacques Audiard', 'director_Jade Halley Bartlett', 'director_Jake Kasdan', 'director_Jake Schreier', 'director_Jake Szymanski', 'director_James Algar', 'director_James Bobin', 'director_James Cameron', 'director_James Cox', 'director_James Cullen Bressack', 'director_James DeMonaco', 'director_James Foley', 'director_James Franco', 'director_James Gray', 'director_James Gunn', 'director_James Isaac', 'director_James L. Brooks', 'director_James Mangold', 'director_James Marsh', 'director_James McTeigue', 'director_James Nunn', 'director_James Ponsoldt', 'director_James Wan', 'director_James Ward Byrkit', 'director_James Watkins', 'director_James Wong', 'director_Jamie Babbit', 'director_Jamie Bailey', 'director_Jamie Travis', 'director_Jan de Bont', 'director_Jane Schoenbrun', 'director_Janicza Bravo', 'director_Jared Hess', 'director_Jared Stern', 'director_Jason Friedberg', 'director_Jason Hall', 'director_Jason Lei Howden', 'director_Jason Moore', 'director_Jason Reitman', 'director_Jason Winer', 'director_Jason Zada', 'director_Jaume Balagueró', 'director_Jaume Collet-Serra', 'director_Jay Chandrasekhar', 'director_Jay Oliva', 'director_Jay Roach', 'director_Jay Russell', 'director_Jayson Thiessen', 'director_Jean-François Richet', 'director_Jean-Jacques Annaud', 'director_Jean-Marc Vallée', 'director_Jeff Chan', 'director_Jeff Fowler', 'director_Jeff Nichols', 'director_Jeff Rowe', 'director_Jeff Schaffer', 'director_Jeff Tomsic', 'director_Jeff Tremaine', 'director_Jeff Wadlow', 'director_Jeffrey Blitz', 'director_Jeffrey Nachmanoff', 'director_Jennifer Finnigan', 'director_Jennifer Kent', 'director_Jennifer Lee', 'director_Jennifer Yuh Nelson', 'director_Jenny Gage', 'director_Jeremy Garelick', 'director_Jeremy Saulnier', 'director_Jerry Zucker', 'director_Jesse Dylan', 'director_Jesse Eisenberg', 'director_Jesse V. Johnson', 'director_Jessica M. Thompson', 'director_Jessie Nelson', 'director_Jessy Terrero', 'director_Jeymes Samuel', 'director_Jiang Wen', 'director_Jill Culton', 'director_Jim Fall', 'director_Jim Field Smith', 'director_Jim Jarmusch', 'director_Jim Sheridan', 'director_Jim Sonzero', 'director_Jim Strouse', 'director_Jimmy Hayward', 'director_Joachim Hedén', 'director_Joachim Rønning', 'director_Joby Harold', 'director_Jocelyn Moorhouse', 'director_Jodie Foster', 'director_Joe Berlinger', 'director_Joe Carnahan', 'director_Joe Cornish', 'director_Joe Dante', 'director_Joe Johnston', 'director_Joe Lynch', 'director_Joe Nussbaum', 'director_Joe Penna', 'director_Joe Russo', 'director_Joe Wright', 'director_Joel Coen', 'director_Joel Crawford', 'director_Joel Edgerton', 'director_Joel Gallen', 'director_Joel Schumacher', 'director_Joel Souza', 'director_Joel Zwick', 'director_Johannes Roberts', 'director_John A. Davis', 'director_John Bonito', 'director_John Cameron Mitchell', 'director_John Carney', 'director_John Carpenter', 'director_John Crowley', 'director_John Curran', 'director_John Dahl', 'director_John Eng', 'director_John Erick Dowdle', 'director_John Francis Daley', 'director_John Frankenheimer', 'director_John Gulager', 'director_John Hamburg', 'director_John Herzfeld', 'director_John Hillcoat', 'director_John Hyams', 'director_John Krasinski', 'director_John Lasseter', 'director_John Lee Hancock', 'director_John Luessenhop', 'director_John Madden', 'director_John Maybury', 'director_John Moore', 'director_John Musker', 'director_John Patrick Shanley', 'director_John Patton Ford', 'director_John Polson', 'director_John Putch', 'director_John R. Leonetti', 'director_John Schultz', 'director_John Singleton', 'director_John Stockwell', 'director_John Wells', 'director_John Whitesell', 'director_John Woo', 'director_Johnny Martin', 'director_Jon Amiel', 'director_Jon Avnet', 'director_Jon Favreau', 'director_Jon Gunn', 'director_Jon Harris', 'director_Jon Hurwitz', 'director_Jon M. Chu', 'director_Jon Nguyen', 'director_Jon S. Baird', 'director_Jon Turteltaub', 'director_Jon Watts', 'director_Jonah Hill', 'director_Jonathan Dayton', 'director_Jonathan Demme', 'director_Jonathan English', 'director_Jonathan Glazer', 'director_Jonathan Hensleigh', 'director_Jonathan Jakubowicz', 'director_Jonathan Levine', 'director_Jonathan Liebesman', 'director_Jonathan Lynn', 'director_Jonathan Mostow', 'director_Jordan Peele', 'director_Jordan Vogt-Roberts', 'director_Jorge Blanco', 'director_Jorge Dorado', 'director_Jorge R. Gutierrez', 'director_Joseph Kahn', 'director_Joseph Kosinski', 'director_Josh Baker', 'director_Josh Boone', 'director_Josh Cooley', 'director_Josh Gordon', 'director_Josh Greenbaum', 'director_Josh Margolin', 'director_Josh Safdie', 'director_Josh Trank', 'director_Joshua John Miller', 'director_Joshua Michael Stern', 'director_Josie Rourke', 'director_Joss Whedon', 'director_José Padilha', 'director_Juan Carlos Fresnadillo', 'director_Juan Diego Solanas', 'director_Judd Apatow', 'director_Julia Leigh', 'director_Julian Gilbey', 'director_Julian Jarrold', 'director_Julie Anne Robinson', 'director_Julie Taymor', 'director_Julius Avery', 'director_Jun Falkenstein', 'director_Justin Baldoni', 'director_Justin Chadwick', 'director_Justin Dec', 'director_Justin Kurzel', 'director_Justin Lin', 'director_Justin Simien', 'director_Justin Zackham', 'director_Jérémie Degruson', 'director_Karey Kirkpatrick', 'director_Karyn Kusama', 'director_Kasi Lemmons', 'director_Kat Coiro', 'director_Kathryn Bigelow', 'director_Kay Cannon', 'director_Keanu Reeves', 'director_Keenen Ivory Wayans', 'director_Keith Thomas', 'director_Kelly Asbury', 'director_Kelly Fremon Craig', 'director_Kelly Marcel', 'director_Kelsey Mann', 'director_Kemp Powers', 'director_Ken Kwapis', 'director_Kenji Kamiyama', 'director_Kenneth Branagh', 'director_Kenneth Lonergan', 'director_Kenny Ortega', 'director_Kerry Conran', 'director_Kevin Allen', 'director_Kevin Bray', 'director_Kevin Connolly', 'director_Kevin Costner', 'director_Kevin Donovan', 'director_Kevin Greutert', 'director_Kevin Lewis', 'director_Kevin Lima', 'director_Kevin Macdonald', 'director_Kevin Munroe', 'director_Kevin Reynolds', 'director_Kevin Rodney Sullivan', 'director_Kevin Smith', 'director_Kim Burdon', 'director_Kimberly Peirce', 'director_Kimble Rendall', 'director_Kirk DeMicco', 'director_Kirk Jones', 'director_Kirsten Sheridan', 'director_Klay Hall', 'director_Kogonada', 'director_Kristoffer Borgli', 'director_Kriv Stenders', 'director_Kurt Wimmer', 'director_Kyle Balda', 'director_Kyle Marvin', 'director_Kyle Mooney', 'director_Kyle Newman', 'director_Kyle Rankin', 'director_Lana Wachowski', 'director_Lance Daly', 'director_Larry Charles', 'director_Larry Clark', 'director_Lars Klevberg', 'director_Lars von Trier', 'director_Lasse Hallström', 'director_Laura Terruso', 'director_Lawrence Guterman', 'director_Lawrence Kasdan', 'director_Le Van Kiet', 'director_Lee Cronin', 'director_Lee Daniels', 'director_Lee Friedlander', 'director_Lee Isaac Chung', 'director_Lee Seung-moo', 'director_Lee Tamahori', 'director_Lee Toland Krieger', 'director_Lee Unkrich', 'director_Leigh Whannell', 'director_Len Wiseman', 'director_Lenny Abrahamson', 'director_Les Mayfield', 'director_Leslye Headland', 'director_Levan Gabriadze', 'director_Lexi Alexander', 'director_Liam Lynch', 'director_Liesl Tommy', 'director_Lilly Wachowski', 'director_Lin Oeding', 'director_Lino DiSalvo', 'director_Lisa Azuelos', 'director_Lisa Joy', 'director_Lone Scherfig', 'director_Lorcan Finnegan', 'director_Lorene Scafaria', 'director_Louis Leterrier', 'director_Luc Besson', 'director_Luca Guadagnino', 'director_Lucia Aniello', 'director_Luis Mandoki', 'director_Luis Prieto', 'director_Luke Greenfield', 'director_Luke Scott', 'director_Lulu Wang', 'director_Lynne Ramsay', 'director_M. Night Shyamalan', 'director_M.J. Bassett', 'director_Mabrouk El Mechri', 'director_Madonna', 'director_Maggie Gyllenhaal', 'director_Malcolm D. Lee', 'director_Mandie Fletcher', 'director_Marc Forster', 'director_Marc Lawrence', 'director_Marc Meyers', 'director_Marc Webb', 'director_Marcel Langenegger', 'director_Marco Schnabel', 'director_Marcus Dunstan', 'director_Marcus Nispel', 'director_Maria Schrader', 'director_Marielle Heller', 'director_Mario Van Peebles', 'director_Mark Burton', 'director_Mark Dindal', 'director_Mark Helfrich', 'director_Mark Herman', 'director_Mark Mylod', 'director_Mark Neveldine', 'director_Mark Osborne', 'director_Mark Palansky', 'director_Mark Pellington', 'director_Mark Romanek', 'director_Mark Rosman', 'director_Mark Steven Johnson', 'director_Mark Tonderai', 'director_Mark Waters', 'director_Mark Williams', 'director_Martin Brest', 'director_Martin Campbell', 'director_Martin McDonagh', 'director_Martin Scorsese', 'director_Martin Weisz', 'director_Mary Harron', 'director_Mary Lambert', 'director_Mary Nighy', 'director_Mathew Cullen', 'director_Mathieu Kassovitz', 'director_Matt Bettinelli-Olpin', 'director_Matt Brown', 'director_Matt Johnson', 'director_Matt Reeves', 'director_Matt Ross', \"director_Matthew O'Callaghan\", 'director_Matthew Ross', 'director_Matthew Vaughn', 'director_Matthew Warchus', 'director_Matthias Schweighöfer', 'director_Matthijs van Heijningen Jr.', 'director_Max Barbakow', 'director_Max Eggers', 'director_Max Joseph', 'director_Małgorzata Szumowska', 'director_McG', 'director_Megan Park', 'director_Mel Gibson', 'director_Melina Matsoukas', 'director_Michael Apted', 'director_Michael B. Jordan', 'director_Michael Bay', 'director_Michael Brandt', 'director_Michael Caton-Jones', 'director_Michael Chaves', 'director_Michael Cristofer', 'director_Michael Cuesta', 'director_Michael Davis', 'director_Michael Dougherty', 'director_Michael Dowse', 'director_Michael Engler', 'director_Michael Gracey', 'director_Michael Haneke', 'director_Michael Hoffman', 'director_Michael Jacobs', 'director_Michael Lembeck', 'director_Michael Mann', 'director_Michael Mason', 'director_Michael Matthews', 'director_Michael McCullers', 'director_Michael Mohan', 'director_Michael Patrick King', 'director_Michael Philippou', 'director_Michael Polish', 'director_Michael Sarnoski', 'director_Michael Showalter', 'director_Michael Spierig', 'director_Michael Sucsy', 'director_Michael Tiddes', 'director_Michael Tollin', 'director_Michael Winterbottom', 'director_Michaël R. Roskam', 'director_Michel Gondry', 'director_Miguel Arteta', 'director_Miguel Sapochnik', 'director_Miguel Ángel Vivas', 'director_Mikael Håfström', 'director_Mike Bigelow', 'director_Mike Binder', 'director_Mike Disa', 'director_Mike Flanagan', 'director_Mike Judge', 'director_Mike Leigh', 'director_Mike McCoy', 'director_Mike Mills', 'director_Mike Mitchell', 'director_Mike Newell', 'director_Mike Nichols', 'director_Mike Thurmeier', 'director_Mimi Leder', 'director_Molly Gordon', 'director_Morgan Neville', 'director_Moritz Mohr', 'director_Mort Nathan', 'director_Morten Tyldum', 'director_Måns Mårlind', 'director_Nancy Meyers', 'director_Nanette Burstein', 'director_Nash Edgerton', 'director_Natalie Erika James', 'director_Nate Parker', 'director_Navot Papushado', 'director_Neil Burger', 'director_Neil Jordan', 'director_Neil LaBute', 'director_Neil Marshall', 'director_Neil Nightingale', 'director_Neill Blomkamp', 'director_Nelson McCormick', 'director_Nia DaCosta', 'director_Nicholas Hytner', 'director_Nicholas Jarecki', 'director_Nicholas McCarthy', 'director_Nicholas Stoller', 'director_Nicholaus Goossen', 'director_Nick Bruno', 'director_Nick Cassavetes', 'director_Nick Hamm', 'director_Nick Hurran', 'director_Nick Love', 'director_Nick Moore', 'director_Nick Murphy', 'director_Nick Park', 'director_Nick Powell', 'director_Nicol Paone', 'director_Nicolai Fuglsig', 'director_Nicolas Pesce', 'director_Nicolas Winding Refn', 'director_Nicole Holofcener', 'director_Niels Arden Oplev', 'director_Nigel Cole', 'director_Niki Caro', 'director_Nikolaj Arcel', 'director_Nima Nourizadeh', 'director_Nimród Antal', 'director_Nisha Ganatra', 'director_Noah Baumbach', 'director_Noam Murro', 'director_Nora Ephron', 'director_Nora Twomey', 'director_Ol Parker', 'director_Olatunde Osunsanmi', 'director_Ole Bornedal', 'director_Oliver Hermanus', 'director_Oliver Hirschbiegel', 'director_Oliver Parker', 'director_Oliver Stone', 'director_Olivia Newman', 'director_Olivia Wilde', 'director_Olivier Assayas', 'director_Olivier Megaton', 'director_Oren Moverman', 'director_Oren Peli', 'director_Osgood Perkins', 'director_Otto Bathurst', 'director_P.J. Hogan', 'director_Pablo Larraín', 'director_Paco Cabezas', 'director_Pamela Adlon', 'director_Panos Cosmatos', 'director_Park Chan-wook', 'director_Parker Finn', 'director_Patricia Riggen', 'director_Patrick Hughes', 'director_Patrick Lussier', 'director_Patrick Tatopoulos', 'director_Patrick Wilson', 'director_Patty Jenkins', 'director_Paul Bolger', 'director_Paul Feig', 'director_Paul Greengrass', 'director_Paul Haggis', 'director_Paul King', 'director_Paul McGuigan', 'director_Paul Thomas Anderson', 'director_Paul Tibbitt', 'director_Paul Verhoeven', 'director_Paul W. S. Anderson', 'director_Paul Weiland', 'director_Paul Weitz', 'director_Pete Docter', 'director_Pete Travis', 'director_Peter Atencio', 'director_Peter Berg', 'director_Peter Billingsley', 'director_Peter Browngardt', 'director_Peter Chelsom', 'director_Peter Farrelly', 'director_Peter Hedges', 'director_Peter Hewitt', 'director_Peter Howitt', 'director_Peter Jackson', 'director_Peter Landesman', 'director_Peter Lepeniotis', 'director_Peter Lord', 'director_Peter Mullan', 'director_Peter Ramsey', 'director_Peter Sattler', 'director_Peter Segal', 'director_Peter Sohn', 'director_Peter Sollett', 'director_Peter Spierig', 'director_Peter Webber', 'director_Peter Weir', 'director_Petr Jákl', 'director_Peyton Reed', 'director_Phil Alden Robinson', 'director_Phil Joanou', 'director_Phil Lord', 'director_Phil Traill', 'director_Philip G. Atwell', 'director_Philip Kaufman', 'director_Philipp Stölzl', 'director_Philippe Falardeau', 'director_Phillip Noyce', 'director_Phyllida Lloyd', 'director_Pierre Coffin', 'director_Pierre Morel', 'director_Pierre Perifel', 'director_Pitof', 'director_Quentin Tarantino', 'director_R. J. Cutler', 'director_RZA', 'director_RaMell Ross', 'director_Rachel Morrison', 'director_Raja Gosnell', 'director_Randall Emmett', 'director_Randall Miller', 'director_Randall Wallace', 'director_Rapman', 'director_Rawson Marshall Thurber', 'director_Rebecca Miller', 'director_Reed Morano', 'director_Reggie Rock Bythewood', 'director_Reginald Hudlin', 'director_Reid Carolin', 'director_Reinaldo Marcus Green', 'director_Renny Harlin', 'director_Rhys Frake-Waterfield', 'director_Rian Johnson', 'director_Ric Roman Waugh', 'director_Rich Moore', 'director_Richard Curtis', 'director_Richard Donner', 'director_Richard Glatzer', 'director_Richard J. Lewis', 'director_Richard Kelly', 'director_Richard LaGravenese', 'director_Richard Lanni', 'director_Richard Linklater', 'director_Richard Loncraine', 'director_Richard Ramsey', 'director_Richard Stanley', 'director_Richie Keen', 'director_Rick Famuyiwa', 'director_Rick Rosenthal', 'director_Ricky Gervais', 'director_Ridley Scott', 'director_Riley Stearns', 'director_Ringo Lam Ling-Tung', 'director_Roar Uthaug', 'director_Rob Bowman', 'director_Rob Cohen', 'director_Rob Epstein', 'director_Rob Greenberg', 'director_Rob Letterman', 'director_Rob Marshall', 'director_Rob McKittrick', 'director_Rob Minkoff', 'director_Rob Reiner', 'director_Rob Savage', 'director_Rob Schmidt', 'director_Rob Schneider', 'director_Rob Zombie', 'director_Robert Altman', 'director_Robert C. Cooper', 'director_Robert De Niro', 'director_Robert Eggers', 'director_Robert Lorenz', 'director_Robert Luketic', 'director_Robert Redford', 'director_Robert Rodriguez', 'director_Robert Schwentke', 'director_Robert Stromberg', 'director_Robert Zemeckis', 'director_Robin Budd', 'director_Rod Lurie', 'director_Rodo Sayagues', 'director_Rodrigo Cortés', 'director_Roger Christian', 'director_Roger Donaldson', 'director_Roger Kumble', 'director_Roger Michell', 'director_Roger Spottiswoode', 'director_Roland Emmerich', 'director_Roman Polanski', 'director_Ron Clements', 'director_Ron Howard', 'director_Ron Shelton', 'director_Ronald F. Maxwell', 'director_Ronny Yu', 'director_Rosalind Ross', 'director_Rose Glass', 'director_Ross Katz', 'director_Ross Venokur', 'director_Ross W. Clarkson', 'director_Rowan Joffe', 'director_Roxann Dawson', 'director_Ruben Fleischer', 'director_Ruben Östlund', 'director_Rupert Goold', 'director_Rupert Sanders', 'director_Rupert Wainwright', 'director_Rupert Wyatt', 'director_Russell Crowe', 'director_Ry Russo-Young', 'director_Ryan Coogler', 'director_Ryan Fleck', 'director_Ryan Murphy', 'director_Ryûhei Kitamura', 'director_S. Craig Zahler', 'director_S.J. Clarkson', 'director_S.R. Bindler', 'director_SK Dale', 'director_Sacha Gervasi', 'director_Sam Fell', 'director_Sam Liu', 'director_Sam Mendes', 'director_Sam Miller', 'director_Sam Raimi', 'director_Sam Taylor-Johnson', 'director_Sam Wrench', 'director_Samuel Bayer', 'director_Samuel Bodin', 'director_Sara Sugarman', 'director_Sarah Polley', 'director_Sarah Smith', 'director_Saul Dibb', 'director_Scott Beck', 'director_Scott Cooper', 'director_Scott Derrickson', 'director_Scott Frank', 'director_Scott Hicks', 'director_Scott Mann', 'director_Scott Moore', 'director_Scott Speer', 'director_Scott Stewart', 'director_Scott Walker', 'director_Scott Waugh', 'director_Scott Wiper', 'director_Scott Z. Burns', 'director_Sean Anders', 'director_Sean Baker', 'director_Sean Durkin', 'director_Sean McNamara', 'director_Sean Penn', 'director_Sebastián Lelio', 'director_Sergei Bodrov', 'director_Serik Beyseu', 'director_Seth Gordon', 'director_Seth MacFarlane', 'director_Seth Rogen', 'director_Shaka King', 'director_Shana Feste', 'director_Shane Acker', 'director_Shane Black', 'director_Shane Carruth', 'director_Shari Springer Berman', 'director_Sharon Maguire', 'director_Shawn Levy', 'director_Shekhar Kapur', 'director_Shintaro Shimosawa', 'director_Sidney Lumet', 'director_Simon Cellan Jones', 'director_Simon Curtis', 'director_Simon Hunter', 'director_Simon J. Smith', 'director_Simon Kinberg', 'director_Simon McQuoid', 'director_Simon Wells', 'director_Simon West', 'director_Simon Wincer', 'director_Simón Brand', 'director_Siân Heder', 'director_Sofia Coppola', 'director_Sophia Takal', 'director_Spenser Cohen', 'director_Spike Jonze', 'director_Spike Lee', 'director_Stacy Title', 'director_Stefano Sollima', 'director_Stefen Fangmeier', 'director_Stella Meghie', 'director_Stephen Chbosky', 'director_Stephen Daldry', 'director_Stephen Frears', 'director_Stephen Gaghan', 'director_Stephen Herek', 'director_Stephen Hillenburg', 'director_Stephen Hopkins', 'director_Stephen J. Anderson', 'director_Stephen Kay', 'director_Stephen Merchant', 'director_Stephen Norrington', 'director_Stephen Sommers', 'director_Stephen St. Leger', 'director_Stephen Susco', 'director_Steve Antin', 'director_Steve Beck', 'director_Steve Bendelack', 'director_Steve Box', 'director_Steve Buscemi', 'director_Steve Carr', 'director_Steve Martino', 'director_Steve McQueen', 'director_Steve Oedekerk', 'director_Steve Pink', 'director_Steve Shill', 'director_Steve Trenbirth', 'director_Steve Williams', 'director_Steven Brill', 'director_Steven C. Miller', 'director_Steven Caple Jr.', 'director_Steven Knight', 'director_Steven M. Smith', 'director_Steven Quale', 'director_Steven R. Monroe', 'director_Steven S. DeKnight', 'director_Steven Shainberg', 'director_Steven Soderbergh', 'director_Steven Spielberg', 'director_Stewart Hendler', 'director_Stiles White', 'director_Stuart Baird', 'director_Stuart Beattie', 'director_Stuart Hazeldine', 'director_Susan Stroman', 'director_Susanna Fogel', 'director_Susanna White', 'director_Sydney Pollack', 'director_Sylvain White', 'director_Sylvester Stallone', 'director_Taika Waititi', 'director_Takashi Shimizu', 'director_Tamra Davis', 'director_Tarsem Singh', 'director_Tate Taylor', 'director_Taylor Hackford', 'director_Taylor Sheridan', 'director_Ted Demme', 'director_Terrence Malick', 'director_Terry George', 'director_Terry Gilliam', 'director_Thea Sharrock', 'director_Theodore Melfi', 'director_Thomas Bezucha', 'director_Thomas Carter', 'director_Thor Freudenthal', 'director_Thurop Van Orman', 'director_Ti West', 'director_Tilman Singer', 'director_Tim Burton', 'director_Tim Fywell', 'director_Tim Hill', 'director_Tim Johnson', 'director_Tim Miller', 'director_Tim Story', 'director_Timo Vuorensola', 'director_Timur Bekmambetov', 'director_Tina Gordon', 'director_Toby Genkel', 'director_Tod Williams', 'director_Todd Field', 'director_Todd Haynes', 'director_Todd Komarnicki', 'director_Todd Phillips', 'director_Todd Robinson', 'director_Todd Strauss-Schulson', 'director_Tom Brady', 'director_Tom Dey', 'director_Tom Ford', 'director_Tom George', 'director_Tom Gormican', 'director_Tom Hanks', 'director_Tom Harper', 'director_Tom Hooper', 'director_Tom McCarthy', 'director_Tom McGrath', 'director_Tom Shadyac', 'director_Tom Tykwer', 'director_Tom Vaughan', 'director_Tomas Alfredson', 'director_Tomek Bagiński', 'director_Tomm Moore', 'director_Tommy Lee Jones', \"director_Tommy O'Haver\", 'director_Tommy Wirkola', 'director_Tommy Wiseau', 'director_Tony Bill', 'director_Tony Cervone', 'director_Tony Ching Siu-Tung', 'director_Tony Giglio', 'director_Tony Gilroy', 'director_Tony Goldwyn', 'director_Tony Leondis', 'director_Tony Scott', 'director_Travis Knight', 'director_Trey Edward Shults', 'director_Trey Parker', 'director_Trish Sie', 'director_Troy Duffy', 'director_Troy Miller', 'director_Troy Nixey', 'director_Tyler Gillett', 'director_Tyler Nilson', 'director_Tyler Perry', 'director_Uberto Pasolini', 'director_Uwe Boll', 'director_Vic Armstrong', 'director_Vicky Jenson', 'director_Victor Salva', \"director_Vincent D'Onofrio\", 'director_Wallace Wolodarsky', 'director_Wally Pfister', 'director_Walt Becker', 'director_Walt Dohrn', 'director_Walter Hill', 'director_Walter Salles', 'director_Warren Beatty', 'director_Wayne Wang', 'director_Werner Herzog', 'director_Wes Anderson', 'director_Wes Ball', 'director_Wes Craven', 'director_Will Finn', 'director_Will Gluck', 'director_Will Merrick', 'director_Will Speck', 'director_William Brent Bell', 'director_William Dear', 'director_William Eubank', 'director_William Friedkin', 'director_William Oldroyd', 'director_Wolfgang Petersen', 'director_Woody Allen', 'director_Xavier Gens', 'director_Xavier Palud', 'director_Yann Demange', 'director_Yarrow Cheney', 'director_Yorgos Lanthimos', 'director_Yoshiaki Kawajiri', 'director_Yuen Woo-Ping', 'director_Yuval Adler', 'director_Zach Braff', 'director_Zach Cregger', 'director_Zach Lipovsky', 'director_Zack Snyder', 'director_Zak Hilditch', 'director_Zeek Earl', 'director_Zelda Williams', 'director_Zhang Yimou', 'director_Zoe Lister-Jones', 'director_Zoë Kravitz', 'director_Ángel Manuel Soto', 'lead_actor_Aaron Eckhart', 'lead_actor_Aaron Moorhead', 'lead_actor_Aaron Paul', 'lead_actor_Aaron Pierre', 'lead_actor_Aaron Stanford', 'lead_actor_Aaron Taylor-Johnson', 'lead_actor_Abbie Cornish', 'lead_actor_Abby Ryder Fortson', 'lead_actor_Abigail Cowen', 'lead_actor_Abraham Attah', 'lead_actor_Adam Brody', 'lead_actor_Adam Devine', 'lead_actor_Adam Driver', 'lead_actor_Adam Sandler', 'lead_actor_Adelaide Clemens', 'lead_actor_Adewale Akinnuoye-Agbaje', 'lead_actor_Adrien Brody', 'lead_actor_Ahmad Khan Mahmoodzada', 'lead_actor_Al Pacino', 'lead_actor_Alain Moussi', 'lead_actor_Alan Cumming', 'lead_actor_Alan Rickman', 'lead_actor_Alana Haim', 'lead_actor_Albert Brooks', 'lead_actor_Alden Ehrenreich', 'lead_actor_Alec Baldwin', 'lead_actor_Alessandro Nivola', 'lead_actor_Alex Etel', 'lead_actor_Alex Frost', 'lead_actor_Alex Kendrick', 'lead_actor_Alex Pettyfer', 'lead_actor_Alex Roe', 'lead_actor_Alexa PenaVega', 'lead_actor_Alexander Skarsgård', 'lead_actor_Alexandra Daddario', 'lead_actor_Ali Larter', 'lead_actor_Alicia Silverstone', 'lead_actor_Alicia Vikander', 'lead_actor_Alisha Weir', 'lead_actor_Alison Lohman', 'lead_actor_Allen Covert', 'lead_actor_Alyson Hannigan', 'lead_actor_Amanda Bynes', 'lead_actor_Amanda Seyfried', 'lead_actor_Amandla Stenberg', 'lead_actor_Amber Heard', 'lead_actor_Amber Tamblyn', 'lead_actor_Amir Jafari', 'lead_actor_Amy Adams', 'lead_actor_Amy Forsyth', 'lead_actor_Amy Poehler', 'lead_actor_Amy Schumer', 'lead_actor_Ana de la Reguera', 'lead_actor_Andrea Riseborough', 'lead_actor_Andrew Garfield', 'lead_actor_Andrew Jacobs', 'lead_actor_Andrew Scott', 'lead_actor_Andrey Dementyev', 'lead_actor_Andy Samberg', 'lead_actor_Andy Serkis', 'lead_actor_Angelina Jolie', 'lead_actor_Angourie Rice', 'lead_actor_Anika Noni Rose', 'lead_actor_Ann Dowd', 'lead_actor_Anna Faris', 'lead_actor_Anna Kendrick', 'lead_actor_AnnaSophia Robb', 'lead_actor_Annabelle Wallis', 'lead_actor_Annalise Basso', 'lead_actor_Anne Hathaway', 'lead_actor_Anne-Marie Duff', 'lead_actor_Annette Bening', 'lead_actor_Ansel Elgort', 'lead_actor_Anthony Gonzalez', 'lead_actor_Anthony Hopkins', 'lead_actor_Anthony Mackie', 'lead_actor_Anthony Ramos', 'lead_actor_Anthony Rapp', 'lead_actor_Anton Yelchin', 'lead_actor_Antonio Banderas', 'lead_actor_Anya Taylor-Joy', 'lead_actor_Archie Madekwe', 'lead_actor_Ari Graynor', 'lead_actor_Ariana DeBose', 'lead_actor_Ariella Glaser', 'lead_actor_Armie Hammer', 'lead_actor_Arnold Schwarzenegger', 'lead_actor_Aron von Andrian', 'lead_actor_Art Parkinson', 'lead_actor_Asa Butterfield', 'lead_actor_Ashley Judd', 'lead_actor_Ashley Park', 'lead_actor_Ashley Tisdale', 'lead_actor_Ashton Kutcher', 'lead_actor_Aspen Kennedy Wilson', 'lead_actor_Aubrey Plaza', 'lead_actor_August Diehl', 'lead_actor_Auliʻi Cravalho', 'lead_actor_Austin Butler', 'lead_actor_Bailee Madison', 'lead_actor_Banks Repeta', 'lead_actor_Barry Keoghan', 'lead_actor_Barry Watson', 'lead_actor_Bella Thorne', 'lead_actor_Ben Affleck', 'lead_actor_Ben Browder', 'lead_actor_Ben Burtt', 'lead_actor_Ben Foster', 'lead_actor_Ben Kingsley', 'lead_actor_Ben Mendelsohn', 'lead_actor_Ben Platt', 'lead_actor_Ben Schwartz', 'lead_actor_Ben Stiller', 'lead_actor_Ben Whishaw', 'lead_actor_Benedict Cumberbatch', 'lead_actor_Benicio del Toro', 'lead_actor_Benjamin Walker', 'lead_actor_Bernie Mac', 'lead_actor_Betty Gilpin', 'lead_actor_Bill Hader', 'lead_actor_Bill Murray', 'lead_actor_Bill Nighy', 'lead_actor_Bill Skarsgård', 'lead_actor_Billy Bob Thornton', 'lead_actor_Billy Crudup', 'lead_actor_Billy Crystal', 'lead_actor_Billy Eichner', 'lead_actor_Björk', 'lead_actor_Blake Lively', 'lead_actor_Blanchard Ryan', 'lead_actor_Blu Hunt', 'lead_actor_Bob Odenkirk', 'lead_actor_Bob Proctor', 'lead_actor_Bobby Campo', 'lead_actor_Bobby Cannavale', 'lead_actor_Bobby Soto', 'lead_actor_Boyd Holbrook', 'lead_actor_Brad Dourif', 'lead_actor_Brad Pitt', 'lead_actor_Bradley Cooper', 'lead_actor_Brandon Routh', 'lead_actor_Brandy Norwood', 'lead_actor_Breckin Meyer', 'lead_actor_Brendan Fletcher', 'lead_actor_Brendan Fraser', 'lead_actor_Brenton Thwaites', 'lead_actor_Brian Cox', \"lead_actor_Brian O'Halloran\", 'lead_actor_Briana Evigan', 'lead_actor_Brianna Denski', 'lead_actor_Brie Larson', 'lead_actor_Britney Spears', 'lead_actor_Britt Robertson', 'lead_actor_Brittany Ashworth', 'lead_actor_Brittany Murphy', 'lead_actor_Brittany Snow', 'lead_actor_Brooklynn Prince', 'lead_actor_Bruce Greenwood', 'lead_actor_Bruce Willis', 'lead_actor_Bryan Cranston', 'lead_actor_Bryce Dallas Howard', 'lead_actor_Bug Hall', 'lead_actor_C. Thomas Howell', 'lead_actor_Cailee Spaeny', 'lead_actor_Cailey Fleming', 'lead_actor_Caitlin Stasey', 'lead_actor_Callan McAuliffe', 'lead_actor_Cameron Diaz', 'lead_actor_Carey Mulligan', 'lead_actor_Carrie Fisher', 'lead_actor_Carter Jenkins', 'lead_actor_Cary Elwes', 'lead_actor_Casey Affleck', 'lead_actor_Cate Blanchett', \"lead_actor_Catherine O'Hara\", 'lead_actor_Catherine Zeta-Jones', 'lead_actor_Cathy Cavadini', 'lead_actor_Chadwick Boseman', 'lead_actor_Channing Tatum', 'lead_actor_Charlie Cox', 'lead_actor_Charlie Day', 'lead_actor_Charlie Hunnam', 'lead_actor_Charlie Plummer', 'lead_actor_Charlize Theron', 'lead_actor_Charlotte Gainsbourg', 'lead_actor_Charlotte Rampling', 'lead_actor_Cher', 'lead_actor_Chiwetel Ejiofor', 'lead_actor_Chloe Bennet', 'lead_actor_Chloë Grace Moretz', 'lead_actor_Chris Evans', 'lead_actor_Chris Hemsworth', 'lead_actor_Chris J. Murray', 'lead_actor_Chris Massoglia', 'lead_actor_Chris Messina', \"lead_actor_Chris O'Donnell\", 'lead_actor_Chris Pine', 'lead_actor_Chris Pratt', 'lead_actor_Chris Rock', 'lead_actor_Chrissy Metz', 'lead_actor_Christian Bale', 'lead_actor_Christian Friedel', 'lead_actor_Christina Ricci', 'lead_actor_Christopher Plummer', 'lead_actor_Chyler Leigh', 'lead_actor_Cillian Murphy', 'lead_actor_Claire Foy', 'lead_actor_Clayne Crawford', 'lead_actor_Clifton Collins Jr.', 'lead_actor_Clint Eastwood', 'lead_actor_Clive Owen', 'lead_actor_Cole Hauser', 'lead_actor_Colin Farrell', 'lead_actor_Colin Firth', 'lead_actor_Colin Woodell', 'lead_actor_Colman Domingo', 'lead_actor_Columbus Short', 'lead_actor_Conor Sherry', 'lead_actor_Constance Wu', 'lead_actor_Corey Hawkins', 'lead_actor_Craig T. Nelson', \"lead_actor_Cristiana Dell'Anna\", 'lead_actor_Cuba Gooding Jr.', 'lead_actor_Cynthia Erivo', 'lead_actor_D. B. Sweeney', 'lead_actor_DJ Qualls', 'lead_actor_Dacre Montgomery', 'lead_actor_Daisy Edgar-Jones', 'lead_actor_Daisy Ridley', 'lead_actor_Dakota Blue Richards', 'lead_actor_Dakota Fanning', 'lead_actor_Dakota Johnson', 'lead_actor_Dan Aykroyd', 'lead_actor_Dan Castellaneta', 'lead_actor_Dan Stevens', 'lead_actor_Dane Cook', 'lead_actor_Dane DeHaan', 'lead_actor_Daniel Craig', 'lead_actor_Daniel Day-Lewis', 'lead_actor_Daniel Hansen', 'lead_actor_Daniel Kaluuya', 'lead_actor_Daniel Radcliffe', 'lead_actor_Danielle Deadwyler', 'lead_actor_Danielle Harris', 'lead_actor_Danielle Panabaker', 'lead_actor_Danny DeVito', 'lead_actor_Danny McBride', 'lead_actor_Danny Trejo', 'lead_actor_Darby Camp', 'lead_actor_Daryl Sabara', 'lead_actor_Dave Bautista', 'lead_actor_Dave Franco', 'lead_actor_Daveigh Chase', 'lead_actor_David A.R. White', 'lead_actor_David Arquette', 'lead_actor_David Dastmalchian', 'lead_actor_David Duchovny', 'lead_actor_David Harbour', 'lead_actor_David Howard Thornton', 'lead_actor_David Lynch', 'lead_actor_David Oyelowo', 'lead_actor_David Spade', 'lead_actor_David Strathairn', 'lead_actor_Dawn Olivieri', 'lead_actor_DeWanda Wise', 'lead_actor_Debi Derryberry', 'lead_actor_Debra Messing', 'lead_actor_Demetrius Shipp Jr.', 'lead_actor_Demi Lovato', 'lead_actor_Demi Moore', 'lead_actor_Dennis Quaid', 'lead_actor_Denzel Washington', 'lead_actor_Denzel Whitaker', 'lead_actor_Derek Richardson', 'lead_actor_Dermot Mulroney', 'lead_actor_Dev Patel', 'lead_actor_Devon Sawa', 'lead_actor_Diane Keaton', 'lead_actor_Diane Lane', 'lead_actor_Diego Calva', 'lead_actor_Diego Luna', 'lead_actor_Domhnall Gleeson', 'lead_actor_Don Cheadle', 'lead_actor_Donnie Yen', 'lead_actor_Douglas Smith', 'lead_actor_Drake Bell', 'lead_actor_Drew Barrymore', 'lead_actor_Dwayne Johnson', \"lead_actor_Dylan O'Brien\", 'lead_actor_Dylan Sprouse', 'lead_actor_Dylan Walsh', 'lead_actor_E. G. Daily', 'lead_actor_Ed Asner', 'lead_actor_Ed Harris', 'lead_actor_Ed Helms', 'lead_actor_Ed Skrein', 'lead_actor_Ed Speleers', 'lead_actor_Eddie Griffin', 'lead_actor_Eddie Murphy', 'lead_actor_Eddie Redmayne', 'lead_actor_Edgar Ramírez', 'lead_actor_Edward Norton', 'lead_actor_Egor Koreshkov', 'lead_actor_Elijah Wood', 'lead_actor_Elisabeth Moss', 'lead_actor_Elisabeth Shue', 'lead_actor_Elisha Cuthbert', 'lead_actor_Eliza Dushku', 'lead_actor_Elizabeth Banks', 'lead_actor_Elizabeth Lail', 'lead_actor_Elizabeth Mitchell', 'lead_actor_Elizabeth Olsen', 'lead_actor_Ellar Coltrane', 'lead_actor_Elle Fanning', 'lead_actor_Ellen Burstyn', 'lead_actor_Elliot Page', 'lead_actor_Elsie Fisher', 'lead_actor_Emile Hirsch', 'lead_actor_Emilia Clarke', 'lead_actor_Emilia Jones', 'lead_actor_Emily Baldoni', 'lead_actor_Emily Blunt', 'lead_actor_Emily Browning', 'lead_actor_Emily Mortimer', 'lead_actor_Eminem', 'lead_actor_Emjay Anthony', 'lead_actor_Emma Roberts', 'lead_actor_Emma Stone', 'lead_actor_Emma Thompson', 'lead_actor_Emma Watson', 'lead_actor_Eric Balfour', 'lead_actor_Eric Bana', 'lead_actor_Eric Bauza', 'lead_actor_Erik Stolhanske', 'lead_actor_Essie Davis', 'lead_actor_Ethan Hawke', 'lead_actor_Ethan Herisse', 'lead_actor_Eva Green', 'lead_actor_Evan McGuire', 'lead_actor_Evan Peters', 'lead_actor_Evan Rachel Wood', 'lead_actor_Everlyn Sampi', 'lead_actor_Ewan McGregor', 'lead_actor_Ezra Miller', 'lead_actor_Fantasia Barrino', 'lead_actor_Felicity Huffman', 'lead_actor_Felicity Jones', 'lead_actor_Ferdia Walsh-Peelo', 'lead_actor_Fernanda Andrade', 'lead_actor_Fiona Dourif', 'lead_actor_Fionn Whitehead', 'lead_actor_Florence Pugh', 'lead_actor_Forest Whitaker', 'lead_actor_Frances McDormand', 'lead_actor_Francesca Hayward', 'lead_actor_Frank Grillo', 'lead_actor_Frankie Muniz', 'lead_actor_Freddie Highmore', 'lead_actor_Freddie Prinze Jr.', 'lead_actor_Gabourey Sidibe', 'lead_actor_Gabriel Bateman', 'lead_actor_Gabriel Byrne', 'lead_actor_Gabriel LaBelle', 'lead_actor_Gabriel Macht', 'lead_actor_Gabrielle Union', 'lead_actor_Gael García Bernal', 'lead_actor_Gal Gadot', 'lead_actor_Garrett Hedlund', 'lead_actor_Gary Oldman', 'lead_actor_Gary Sinise', 'lead_actor_Gemma Chan', 'lead_actor_Gene Hackman', 'lead_actor_Geoff Stults', 'lead_actor_Geoffrey Rush', 'lead_actor_George Carlin', 'lead_actor_George Clooney', 'lead_actor_George MacKay', 'lead_actor_Georgie Henley', 'lead_actor_Georgina Campbell', 'lead_actor_Gerard Butler', 'lead_actor_Gillian Jacobs', 'lead_actor_Gina Carano', 'lead_actor_Gina Philips', 'lead_actor_Gina Rodriguez', 'lead_actor_Ginnifer Goodwin', 'lead_actor_Giovanni Ribisi', 'lead_actor_Glen Hansard', 'lead_actor_Glen Powell', 'lead_actor_Glenn Close', 'lead_actor_Glenn Jacobs', 'lead_actor_Grace Byers', 'lead_actor_Grace Caroline Currey', 'lead_actor_Graham Verchere', 'lead_actor_Greg Cipes', 'lead_actor_Greg Kinnear', 'lead_actor_Greta Gerwig', 'lead_actor_Greta Lee', 'lead_actor_Gretchen Mol', 'lead_actor_Griffin Gluck', 'lead_actor_Gugu Mbatha-Raw', 'lead_actor_Guy Pearce', 'lead_actor_Gwyneth Paltrow', 'lead_actor_H. Jon Benjamin', 'lead_actor_Hailee Steinfeld', 'lead_actor_Haley Bishop', 'lead_actor_Haley Joel Osment', 'lead_actor_Haley Lu Richardson', 'lead_actor_Halle Bailey', 'lead_actor_Halle Berry', 'lead_actor_Hank Azaria', 'lead_actor_Harriet Owen', 'lead_actor_Harriet Slater', 'lead_actor_Harris Dickinson', 'lead_actor_Harrison Ford', 'lead_actor_Hayden Christensen', 'lead_actor_Hayden Panettiere', 'lead_actor_Heath Ledger', 'lead_actor_Helen Mirren', 'lead_actor_Henry Cavill', 'lead_actor_Henry Golding', 'lead_actor_Hera Hilmar', 'lead_actor_Hero Fiennes Tiffin', 'lead_actor_Hilary Duff', 'lead_actor_Hilary Swank', 'lead_actor_Himesh Patel', 'lead_actor_Holly Earl', 'lead_actor_Honor Kneafsey', 'lead_actor_Hugh Bonneville', 'lead_actor_Hugh Grant', 'lead_actor_Hugh Jackman', 'lead_actor_Hugh Laurie', 'lead_actor_Hunter Schafer', 'lead_actor_Ian McKellen', 'lead_actor_Ice Cube', 'lead_actor_Idina Menzel', 'lead_actor_Idris Elba', 'lead_actor_Ilana Glazer', 'lead_actor_Imogen Poots', 'lead_actor_Ioan Gruffudd', 'lead_actor_Isabel May', 'lead_actor_Isabela Merced', 'lead_actor_Isabelle Fuhrman', 'lead_actor_Isla Fisher', 'lead_actor_J. Michael Finley', 'lead_actor_J.J. Johnson', 'lead_actor_Jack Black', 'lead_actor_Jack Huston', 'lead_actor_Jack Kesy', 'lead_actor_Jack Nicholson', \"lead_actor_Jack O'Connell\", 'lead_actor_Jack Wolfe', 'lead_actor_Jackie Chan', 'lead_actor_Jackie Earle Haley', 'lead_actor_Jackson A. Dunn', 'lead_actor_Jacob Tremblay', 'lead_actor_Jaden Smith', 'lead_actor_Jaeden Martell', 'lead_actor_Jaime Pressly', 'lead_actor_Jake Gyllenhaal', 'lead_actor_Jake Johnson', 'lead_actor_James Allen McCune', 'lead_actor_James Arnold Taylor', 'lead_actor_James Badge Dale', 'lead_actor_James Corden', 'lead_actor_James Franco', 'lead_actor_James Marsden', 'lead_actor_James McAvoy', 'lead_actor_James Purefoy', 'lead_actor_James Ransone', 'lead_actor_James Spader', 'lead_actor_Jamie Bell', 'lead_actor_Jamie Foxx', 'lead_actor_Jamie Kennedy', 'lead_actor_Jamie Lee Curtis', 'lead_actor_Jane Levy', 'lead_actor_Janeane Garofalo', 'lead_actor_Janelle Monáe', 'lead_actor_Jang Dong-gun', 'lead_actor_Jared Gilman', 'lead_actor_Jared Leto', 'lead_actor_Jared Padalecki', 'lead_actor_Jason Bateman', 'lead_actor_Jason Biggs', 'lead_actor_Jason Clarke', 'lead_actor_Jason Ian Drucker', 'lead_actor_Jason Lee', 'lead_actor_Jason Mewes', 'lead_actor_Jason Momoa', 'lead_actor_Jason Schwartzman', 'lead_actor_Jason Segel', 'lead_actor_Jason Statham', 'lead_actor_Jason Sudeikis', 'lead_actor_Javier Bardem', 'lead_actor_Javier Botet', 'lead_actor_Jay Baruchel', 'lead_actor_Jay Chandrasekhar', 'lead_actor_Jay Hernandez', 'lead_actor_Jean-Claude Van Damme', 'lead_actor_Jeff Bridges', 'lead_actor_Jeff Goldblum', 'lead_actor_Jeffrey Dean Morgan', 'lead_actor_Jeffrey Wright', 'lead_actor_Jemaine Clement', 'lead_actor_Jenn Proske', 'lead_actor_Jenna Davis', 'lead_actor_Jenna Ortega', 'lead_actor_Jennifer Aniston', 'lead_actor_Jennifer Connelly', 'lead_actor_Jennifer Garner', 'lead_actor_Jennifer Hudson', 'lead_actor_Jennifer Lawrence', 'lead_actor_Jennifer Lopez', 'lead_actor_Jennifer Love Hewitt', 'lead_actor_Jennifer Saunders', 'lead_actor_Jenny Slate', 'lead_actor_Jensen Ackles', 'lead_actor_Jeremy Irvine', 'lead_actor_Jeremy Ray Taylor', 'lead_actor_Jeremy Renner', 'lead_actor_Jeremy Sumpter', \"lead_actor_Jerry O'Connell\", 'lead_actor_Jerry Seinfeld', 'lead_actor_Jesse Eisenberg', 'lead_actor_Jesse Metcalfe', 'lead_actor_Jessica Alba', 'lead_actor_Jessica Biel', 'lead_actor_Jessica Chastain', 'lead_actor_Jessica Rothe', 'lead_actor_Jessie Buckley', 'lead_actor_Jet Li', 'lead_actor_Jim Belushi', 'lead_actor_Jim Carrey', 'lead_actor_Jim Caviezel', 'lead_actor_Jim Cummings', 'lead_actor_Jim Parsons', 'lead_actor_Jim Sturgess', 'lead_actor_Joaquin Phoenix', \"lead_actor_Jodi Lyn O'Keefe\", 'lead_actor_Jodie Comer', 'lead_actor_Jodie Foster', 'lead_actor_Joe Alwyn', 'lead_actor_Joel Courtney', 'lead_actor_Joel David Moore', 'lead_actor_Joel Edgerton', 'lead_actor_Joel Kinnaman', 'lead_actor_Joel Smallbone', 'lead_actor_Joey King', 'lead_actor_John Boyega', 'lead_actor_John C. Reilly', 'lead_actor_John Cena', 'lead_actor_John Cho', 'lead_actor_John Cusack', 'lead_actor_John David Washington', 'lead_actor_John Fiedler', 'lead_actor_John Gallagher Jr.', 'lead_actor_John Goodman', 'lead_actor_John Jarratt', 'lead_actor_John Krasinski', 'lead_actor_John Robinson', 'lead_actor_John Travolta', 'lead_actor_John White', 'lead_actor_Johnny Depp', 'lead_actor_Johnny Knoxville', 'lead_actor_Johnny Messner', 'lead_actor_Jon Favreau', 'lead_actor_Jon Hamm', 'lead_actor_Jon Heder', 'lead_actor_Jonah Hill', 'lead_actor_Jonas Dassler', 'lead_actor_Jonathan Majors', 'lead_actor_Jonathan Rhys Meyers', 'lead_actor_Jonathan Tucker', 'lead_actor_Jonny Weston', 'lead_actor_Jordan Peele', 'lead_actor_Jordan Rhodes', 'lead_actor_Jordana Brewster', 'lead_actor_Joseph Fiennes', 'lead_actor_Joseph Gordon-Levitt', 'lead_actor_Josephine Langford', 'lead_actor_Josh Brolin', 'lead_actor_Josh Duhamel', 'lead_actor_Josh Gad', 'lead_actor_Josh Hartnett', 'lead_actor_Josh Hutcherson', 'lead_actor_Josh Lucas', 'lead_actor_Josh Randall', 'lead_actor_Josh Stewart', 'lead_actor_Josh Zuckerman', 'lead_actor_Jovan Adepo', 'lead_actor_Jude Hill', 'lead_actor_Jude Law', 'lead_actor_Judy Greer', 'lead_actor_Jules Medcraft', 'lead_actor_Julia Roberts', 'lead_actor_Julia Sawalha', 'lead_actor_Julia Stiles', 'lead_actor_Julianne Hough', 'lead_actor_Julianne Moore', 'lead_actor_Juliette Binoche', 'lead_actor_June Squibb', 'lead_actor_Jurnee Smollett', 'lead_actor_Justice Smith', 'lead_actor_Justin Chatwin', 'lead_actor_Justin Fletcher', 'lead_actor_Justin Long', 'lead_actor_Justin Timberlake', 'lead_actor_Justin Whalin', 'lead_actor_K.J. Apa', 'lead_actor_Kaitlyn Dever', 'lead_actor_Kal Penn', 'lead_actor_Kane Hodder', 'lead_actor_Karen Abercrombie', 'lead_actor_Karen Gillan', 'lead_actor_Karl Urban', 'lead_actor_Kate Beckinsale', 'lead_actor_Kate Bosworth', 'lead_actor_Kate Hudson', 'lead_actor_Kate Mara', 'lead_actor_Kate Winslet', 'lead_actor_Katherine Heigl', 'lead_actor_Kathryn McCormick', 'lead_actor_Kathryn Newton', 'lead_actor_Katie Cassidy', 'lead_actor_Katie Chang', 'lead_actor_Katie Featherston', 'lead_actor_Katie Holmes', 'lead_actor_Katie Stevens', 'lead_actor_Kaya Scodelario', 'lead_actor_Keanu Reeves', 'lead_actor_Keir Gilchrist', 'lead_actor_Keira Knightley', 'lead_actor_Keke Palmer', 'lead_actor_Kelly Clarkson', 'lead_actor_Kelly Macdonald', 'lead_actor_Kelly Marie Tran', 'lead_actor_Kelly Reilly', 'lead_actor_Kelvin Harrison, Jr.', 'lead_actor_Ken Bevel', 'lead_actor_Ken Watanabe', 'lead_actor_Kenneth Branagh', 'lead_actor_Keri Russell', 'lead_actor_Kevin Bacon', 'lead_actor_Kevin Connolly', 'lead_actor_Kevin Conroy', 'lead_actor_Kevin Costner', 'lead_actor_Kevin Hart', 'lead_actor_Kevin James', 'lead_actor_Kevin Sorbo', 'lead_actor_Kevin Spacey', 'lead_actor_Kevin Zegers', 'lead_actor_Khris Davis', 'lead_actor_KiKi Layne', 'lead_actor_Kiefer Sutherland', \"lead_actor_Kieran O'Brien\", 'lead_actor_Kim Basinger', 'lead_actor_Kim Director', 'lead_actor_Kim Spearman', 'lead_actor_Kimberly Elise', 'lead_actor_Kingsley Ben-Adir', 'lead_actor_Kirk Cameron', 'lead_actor_Kirsten Dunst', 'lead_actor_Kit Harington', 'lead_actor_Kitana Kiki Rodriguez', 'lead_actor_Kodi Smit-McPhee', 'lead_actor_Kristen Bell', 'lead_actor_Kristen Connolly', 'lead_actor_Kristen Stewart', 'lead_actor_Kristen Wiig', 'lead_actor_Kumail Nanjiani', 'lead_actor_Kuno Becker', 'lead_actor_Kurt Russell', 'lead_actor_Kyle Chandler', 'lead_actor_Kyrie Irving', 'lead_actor_LaKeith Stanfield', 'lead_actor_Lacie Harmon', 'lead_actor_Lady Gaga', 'lead_actor_Lana Condor', 'lead_actor_Larry the Cable Guy', 'lead_actor_Laura Dern', 'lead_actor_Laura Linney', 'lead_actor_Lauren Cohan', 'lead_actor_Lauren German', 'lead_actor_Lauren LaVera', 'lead_actor_Laurence Fishburne', 'lead_actor_LeBron James', 'lead_actor_Lea Michele', 'lead_actor_Leah Lewis', 'lead_actor_Lee Pace', 'lead_actor_Leelee Sobieski', 'lead_actor_Leighton Meester', 'lead_actor_Lena Headey', 'lead_actor_Leonardo DiCaprio', 'lead_actor_Lesley Manville', 'lead_actor_Leslie Mann', 'lead_actor_Leslie Odom Jr.', 'lead_actor_Letitia Wright', 'lead_actor_Levi Miller', 'lead_actor_Lewis Black', 'lead_actor_Lewis MacDougall', 'lead_actor_Lewis Tan', 'lead_actor_Liam Hemsworth', 'lead_actor_Liam Neeson', 'lead_actor_Liev Schreiber', 'lead_actor_Lily Collins', 'lead_actor_Lily James', 'lead_actor_Lily Sullivan', 'lead_actor_Lily Tomlin', 'lead_actor_Lily-Rose Depp', 'lead_actor_Lin Shaye', 'lead_actor_Linda Cardellini', 'lead_actor_Linda Hamilton', 'lead_actor_Lindsay Lohan', 'lead_actor_Liu Yifei', 'lead_actor_Liv Tyler', 'lead_actor_Lizzy Caplan', 'lead_actor_Logan Lerman', 'lead_actor_Logan Marshall-Green', 'lead_actor_Lorenza Izzo', 'lead_actor_Lori Heuring', 'lead_actor_Louis Ashbourne Serkis', 'lead_actor_Louis C.K.', 'lead_actor_Lucas Black', 'lead_actor_Lucas Hedges', 'lead_actor_Lucas Pittaway', 'lead_actor_Lucas Till', 'lead_actor_Lucy Hale', 'lead_actor_Luke Evans', 'lead_actor_Luke Mably', 'lead_actor_Luke Treadaway', 'lead_actor_Luke Wilson', \"lead_actor_Lupita Nyong'o\", 'lead_actor_Mackenyu', 'lead_actor_Mackenzie Davis', 'lead_actor_Mackenzie Foy', 'lead_actor_Madelaine Petsch', 'lead_actor_Madeline Carroll', 'lead_actor_Madonna', 'lead_actor_Mads Mikkelsen', 'lead_actor_Mae Whitman', 'lead_actor_Maggie Smith', 'lead_actor_Maika Monroe', 'lead_actor_Maisy Stella', 'lead_actor_Malcolm McDowell', 'lead_actor_Malin Åkerman', 'lead_actor_Mandy Moore', 'lead_actor_Marg Helgenberger', 'lead_actor_Margaret Qualley', 'lead_actor_Margot Robbie', 'lead_actor_Marion Cotillard', 'lead_actor_Marisa Abela', 'lead_actor_Mark Addy', 'lead_actor_Mark Hamill', 'lead_actor_Mark Ruffalo', 'lead_actor_Mark Rylance', 'lead_actor_Mark Strong', 'lead_actor_Mark Wahlberg', 'lead_actor_Marlon Wayans', 'lead_actor_Martin Freeman', 'lead_actor_Martin Henderson', 'lead_actor_Martin Lawrence', 'lead_actor_Mary Elizabeth Winstead', 'lead_actor_Masey McLain', 'lead_actor_Mason Thames', 'lead_actor_Mathis Landwehr', 'lead_actor_Matilda Lutz', 'lead_actor_Matt Damon', 'lead_actor_Matt Dillon', 'lead_actor_Matt Lanter', 'lead_actor_Matt Passmore', 'lead_actor_Matthew Fox', 'lead_actor_Matthew Macfadyen', 'lead_actor_Matthew McConaughey', 'lead_actor_Matthew Perry', 'lead_actor_Matthew Rhys', 'lead_actor_Matthew Settle', 'lead_actor_Matthias Schweighöfer', 'lead_actor_Max Records', 'lead_actor_Mckenna Grace', 'lead_actor_Meg Ryan', 'lead_actor_Megan Fox', 'lead_actor_Mel Gibson', 'lead_actor_Melissa Barrera', 'lead_actor_Melissa George', 'lead_actor_Melissa McCarthy', 'lead_actor_Melissa Rauch', 'lead_actor_Meryl Streep', 'lead_actor_Method Man', 'lead_actor_Mia Goth', 'lead_actor_Mia Wasikowska', 'lead_actor_Micah Abbey', 'lead_actor_Michael Angarano', 'lead_actor_Michael B. Jordan', 'lead_actor_Michael Cera', 'lead_actor_Michael Douglas', 'lead_actor_Michael Ealy', 'lead_actor_Michael Fassbender', 'lead_actor_Michael J. Fox', 'lead_actor_Michael Jai White', 'lead_actor_Michael Keaton', 'lead_actor_Michael McMillian', 'lead_actor_Michael Parks', 'lead_actor_Michael Peña', 'lead_actor_Michael Pitt', 'lead_actor_Michael Shannon', 'lead_actor_Michael Stuhlbarg', 'lead_actor_Michelle Monaghan', 'lead_actor_Michelle Rodriguez', 'lead_actor_Michelle Trachtenberg', 'lead_actor_Michelle Williams', 'lead_actor_Michelle Yeoh', 'lead_actor_Mickey Rourke', 'lead_actor_Mike Myers', 'lead_actor_Mike Vogel', 'lead_actor_Mikey Madison', 'lead_actor_Mila Kunis', 'lead_actor_Miles Teller', 'lead_actor_Miley Cyrus', 'lead_actor_Milla Jovovich', 'lead_actor_Millie Bobby Brown', 'lead_actor_Ming-Na Wen', 'lead_actor_Mitchel Musso', 'lead_actor_Molly Kunz', 'lead_actor_Morgan Freeman', 'lead_actor_Morgan Saylor', 'lead_actor_Myles Truitt', 'lead_actor_Naomi Ackie', 'lead_actor_Naomi Scott', 'lead_actor_Naomi Watts', 'lead_actor_Naomie Harris', 'lead_actor_Nat Wolff', 'lead_actor_Natalie Dormer', 'lead_actor_Natalie Portman', 'lead_actor_Natasha Henstridge', 'lead_actor_Natasha Lyonne', 'lead_actor_Nate Parker', 'lead_actor_Nathalie Emmanuel', 'lead_actor_Nathan Fillion', 'lead_actor_Nathan Lane', 'lead_actor_Neel Sethi', 'lead_actor_Nell Tiger Free', 'lead_actor_Nia Vardalos', \"lead_actor_Nicholas D'Agosto\", 'lead_actor_Nicholas Hoult', 'lead_actor_Nick Cannon', 'lead_actor_Nick Robinson', 'lead_actor_Nick Swardson', 'lead_actor_Nicolas Cage', 'lead_actor_Nicolas Mouawad', 'lead_actor_Nicole Kidman', 'lead_actor_Nikki Blonsky', 'lead_actor_Nikolai Leon', 'lead_actor_Nikolaj Coster-Waldau', 'lead_actor_Noah Ringer', 'lead_actor_Noah Schnapp', 'lead_actor_Noomi Rapace', \"lead_actor_O'Shea Jackson Jr.\", 'lead_actor_Oakes Fegley', 'lead_actor_Octavia Spencer', 'lead_actor_Odette Annable', 'lead_actor_Olivia Colman', 'lead_actor_Olivia Cooke', 'lead_actor_Olivia DeJonge', 'lead_actor_Olivia Taylor Dudley', 'lead_actor_Orlando Bloom', 'lead_actor_Oscar Isaac', 'lead_actor_Owen Teague', 'lead_actor_Owen Wilson', 'lead_actor_Pamela Anderson', 'lead_actor_Pappy Faulkner', 'lead_actor_Parminder Nagra', 'lead_actor_Patrick Dempsey', 'lead_actor_Patrick Fabian', 'lead_actor_Patrick Stewart', 'lead_actor_Patrick Wilson', 'lead_actor_Patton Oswalt', 'lead_actor_Paul Bettany', 'lead_actor_Paul Dano', 'lead_actor_Paul Giamatti', 'lead_actor_Paul Hogan', 'lead_actor_Paul Mescal', 'lead_actor_Paul Rudd', 'lead_actor_Paul Walker', 'lead_actor_Paul Walter Hauser', 'lead_actor_Paz de la Huerta', 'lead_actor_Penélope Cruz', 'lead_actor_Perdita Weeks', 'lead_actor_Pete Davidson', 'lead_actor_Pete Ploszek', 'lead_actor_Peter Capaldi', 'lead_actor_Peter Dinklage', 'lead_actor_Peter Sallis', 'lead_actor_Pharrell Williams', 'lead_actor_Philip Ng Wan-Lung', 'lead_actor_Philip Seymour Hoffman', 'lead_actor_Phoebe Fox', 'lead_actor_Pierce Brosnan', 'lead_actor_Piper Perabo', 'lead_actor_Priyanka Chopra Jonas', 'lead_actor_Queen Latifah', 'lead_actor_Quvenzhané Wallis', 'lead_actor_RZA', 'lead_actor_Rachel McAdams', 'lead_actor_Rachel Nichols', 'lead_actor_Rachel Sennott', 'lead_actor_Rachel Weisz', 'lead_actor_Radha Mitchell', 'lead_actor_Rafe Spall', 'lead_actor_Rain', 'lead_actor_Rainn Wilson', 'lead_actor_Ralph Fiennes', 'lead_actor_Rami Malek', 'lead_actor_Ray Corasani', 'lead_actor_Ray Romano', 'lead_actor_Ray Stevenson', 'lead_actor_Ray Winstone', 'lead_actor_Ray Wise', 'lead_actor_Rebecca Hall', 'lead_actor_Rebecca Romijn', 'lead_actor_Rebel Wilson', 'lead_actor_Reese Witherspoon', 'lead_actor_Regina Hall', 'lead_actor_Renée Zellweger', 'lead_actor_Rhona Mitra', 'lead_actor_Richard Armitage', 'lead_actor_Richard Gere', 'lead_actor_Richard Jenkins', 'lead_actor_Richard Roxburgh', 'lead_actor_Richie Merritt', 'lead_actor_Ricky Gervais', 'lead_actor_Riley Osborne', 'lead_actor_Rinko Kikuchi', 'lead_actor_Riz Ahmed', 'lead_actor_Rob Corddry', 'lead_actor_Rob Schneider', 'lead_actor_Robbie Amell', 'lead_actor_Robbie Williams', 'lead_actor_Robert Carlyle', 'lead_actor_Robert De Niro', 'lead_actor_Robert Downey Jr.', 'lead_actor_Robert Englund', 'lead_actor_Robert Pattinson', 'lead_actor_Robert Redford', 'lead_actor_Robin Williams', 'lead_actor_Roma Downey', 'lead_actor_Roman Griffin Davis', 'lead_actor_Ron Perlman', 'lead_actor_Rooney Mara', 'lead_actor_Rosa Salazar', 'lead_actor_Rosalie Chiang', 'lead_actor_Rosario Dawson', 'lead_actor_Rose McGowan', 'lead_actor_Roseanne Barr', 'lead_actor_Roselyn Sánchez', 'lead_actor_Ross Boatman', 'lead_actor_Rowan Atkinson', 'lead_actor_Rudy Youngblood', 'lead_actor_Rupert Friend', 'lead_actor_Russell Brand', 'lead_actor_Russell Crowe', 'lead_actor_Ry Barrett', 'lead_actor_Ryan Destiny', 'lead_actor_Ryan Gosling', 'lead_actor_Ryan Kiera Armstrong', 'lead_actor_Ryan Kwanten', 'lead_actor_Ryan Phillippe', 'lead_actor_Ryan Reynolds', 'lead_actor_Sacha Baron Cohen', 'lead_actor_Sally Field', 'lead_actor_Sally Hawkins', 'lead_actor_Salma Hayek Pinault', 'lead_actor_Sam Huntington', 'lead_actor_Sam Neill', 'lead_actor_Sam Rockwell', 'lead_actor_Sam Worthington', 'lead_actor_Samara Weaving', 'lead_actor_Samuel L. Jackson', 'lead_actor_Sanaa Lathan', 'lead_actor_Sandra Bullock', 'lead_actor_Sandra Oh', 'lead_actor_Saoirse Ronan', 'lead_actor_Sara Foster', 'lead_actor_Sara Paxton', 'lead_actor_Sarah Butler', 'lead_actor_Sarah Jessica Parker', 'lead_actor_Sarah Michelle Gellar', 'lead_actor_Sarah Paulson', 'lead_actor_Sarah Polley', 'lead_actor_Sarah Snook', 'lead_actor_Sasha Luss', 'lead_actor_Scarlett Johansson', 'lead_actor_Scoot McNairy', 'lead_actor_Scott Adkins', 'lead_actor_Scott Adsit', 'lead_actor_Scott Chambers', 'lead_actor_Scott Eastwood', 'lead_actor_Scott Mechlowicz', 'lead_actor_Sean Connery', 'lead_actor_Sean Faris', 'lead_actor_Sean Hayes', 'lead_actor_Sean Maguire', 'lead_actor_Sean Patrick Flanery', 'lead_actor_Sean Penn', 'lead_actor_Sean Pertwee', 'lead_actor_Seann William Scott', 'lead_actor_Sebastian Maniscalco', 'lead_actor_Sebastian Stan', 'lead_actor_Selena Gomez', 'lead_actor_Seth Green', 'lead_actor_Seth MacFarlane', 'lead_actor_Seth Rogen', 'lead_actor_Shad Moss', 'lead_actor_Shailene Woodley', 'lead_actor_Shameik Moore', 'lead_actor_Shane Carruth', 'lead_actor_Sharlto Copley', 'lead_actor_Sharni Vinson', 'lead_actor_Sharon Stone', 'lead_actor_Shauna Macdonald', 'lead_actor_Shawn Mendes', 'lead_actor_Shawn Wayans', 'lead_actor_Shay Mitchell', 'lead_actor_Sheila Vand', 'lead_actor_Shelley Hennig', 'lead_actor_Sheri Moon Zombie', 'lead_actor_Shia LaBeouf', 'lead_actor_Shoshana Bush', 'lead_actor_Sid Haig', 'lead_actor_Simon Baker', 'lead_actor_Simon Pegg', 'lead_actor_Simon Phillips', 'lead_actor_Simon Rex', 'lead_actor_Simu Liu', 'lead_actor_Sook-Yin Lee', 'lead_actor_Sophia Lillis', 'lead_actor_Sophie Nélisse', 'lead_actor_Sophie Thatcher', 'lead_actor_Sophie Turner', 'lead_actor_Sophie Wilde', 'lead_actor_Sosie Bacon', 'lead_actor_Sprague Grayden', 'lead_actor_Stan Shaw', 'lead_actor_Stefanie Scott', 'lead_actor_Stellan Skarsgård', 'lead_actor_Stephan James', 'lead_actor_Stephanie Beatriz', 'lead_actor_Stephanie Leonidas', 'lead_actor_Stephanie Sigman', 'lead_actor_Stephen Dorff', 'lead_actor_Stephen Fry', 'lead_actor_Stephen Lang', 'lead_actor_Stephen Odubola', 'lead_actor_Steve Austin', 'lead_actor_Steve Buscemi', 'lead_actor_Steve Carell', 'lead_actor_Steve Coogan', 'lead_actor_Steve Martin', 'lead_actor_Steven Pasquale', 'lead_actor_Steven Seagal', 'lead_actor_Steven Strait', 'lead_actor_Steven Yeun', 'lead_actor_Storm Reid', 'lead_actor_Suki Waterhouse', 'lead_actor_Sullivan Stapleton', 'lead_actor_Sunny Suljic', 'lead_actor_Suraj Sharma', 'lead_actor_Susan May Pratt', 'lead_actor_Sydney Craven', 'lead_actor_Sydney Sweeney', 'lead_actor_Sylvester Stallone', 'lead_actor_T.I.', 'lead_actor_T.J. Miller', 'lead_actor_Taissa Farmiga', 'lead_actor_Tara Strong', 'lead_actor_Taraji P. Henson', 'lead_actor_Taron Egerton', 'lead_actor_Taylor James', 'lead_actor_Taylor Kitsch', 'lead_actor_Taylor Lautner', 'lead_actor_Taylor Russell', 'lead_actor_Taylor Schilling', 'lead_actor_Taylor Swift', 'lead_actor_Taylour Paige', 'lead_actor_Teresa Palmer', 'lead_actor_Tessa Thompson', 'lead_actor_Thomas Haden Church', 'lead_actor_Thomas Jane', 'lead_actor_Thomas Mann', 'lead_actor_Thomas Wesson', 'lead_actor_Thomasin McKenzie', 'lead_actor_Thora Birch', 'lead_actor_Tiffany Haddish', 'lead_actor_Tiger Chen Hu', 'lead_actor_Tilda Swinton', 'lead_actor_Tim Allen', 'lead_actor_Timothy Olyphant', 'lead_actor_Timothée Chalamet', 'lead_actor_Tina Fey', 'lead_actor_Tobey Maguire', 'lead_actor_Tobin Bell', 'lead_actor_Toby Kebbell', 'lead_actor_Tom Blyth', 'lead_actor_Tom Cruise', 'lead_actor_Tom Hanks', 'lead_actor_Tom Hardy', 'lead_actor_Tom Hiddleston', 'lead_actor_Tom Holland', 'lead_actor_Tom Kenny', 'lead_actor_Tom McGrath', 'lead_actor_Tom Payne', 'lead_actor_Tom Sturridge', 'lead_actor_Tom Welling', 'lead_actor_Tommy Lee Jones', 'lead_actor_Tommy Wiseau', 'lead_actor_Toni Collette', 'lead_actor_Tony Goldwyn', 'lead_actor_Tony Shalhoub', 'lead_actor_Topher Grace', 'lead_actor_Tracy Melchior', 'lead_actor_Travis Fimmel', 'lead_actor_Trevante Rhodes', 'lead_actor_Trevor Jackson', 'lead_actor_Trey Parker', 'lead_actor_Ty Burrell', 'lead_actor_Ty Simpkins', 'lead_actor_Tye Sheridan', 'lead_actor_Tyler Labine', 'lead_actor_Tyler Mane', 'lead_actor_Tyler Perry', 'lead_actor_Tyrese Gibson', 'lead_actor_Uma Thurman', 'lead_actor_Val Kilmer', 'lead_actor_Vera Farmiga', 'lead_actor_Viggo Mortensen', 'lead_actor_Vin Diesel', 'lead_actor_Vince Vaughn', 'lead_actor_Vinnie Jones', 'lead_actor_Viola Davis', 'lead_actor_Warren Beatty', 'lead_actor_Wesley Snipes', 'lead_actor_Will Arnett', 'lead_actor_Will Ferrell', 'lead_actor_Will Forte', 'lead_actor_Will Smith', 'lead_actor_Willa Fitzgerald', 'lead_actor_Willem Dafoe', 'lead_actor_William Moseley', 'lead_actor_Woody Harrelson', 'lead_actor_Wyatt Russell', 'lead_actor_Xolo Mariduena', \"lead_actor_Y'lan Noel\", 'lead_actor_Yahya Abdul-Mateen II', 'lead_actor_Zac Efron', 'lead_actor_Zach Braff', 'lead_actor_Zach Galifianakis', 'lead_actor_Zachary Gordon', 'lead_actor_Zachary Levi', 'lead_actor_Zendaya', 'lead_actor_Zhang Ziyi', 'lead_actor_Zhao Shuzhen', 'lead_actor_Zoe Colletti', 'lead_actor_Zoe Kazan', 'lead_actor_Zoe Saldaña', 'lead_actor_Zoey Deutch', 'genre1_Adventure', 'genre1_Animation', 'genre1_Comedy', 'genre1_Crime', 'genre1_Documentary', 'genre1_Drama', 'genre1_Family', 'genre1_Fantasy', 'genre1_History', 'genre1_Horror', 'genre1_Music', 'genre1_Mystery', 'genre1_Romance', 'genre1_Science Fiction', 'genre1_Thriller', 'genre1_War', 'genre1_Western', 'genre2_Adventure', 'genre2_Animation', 'genre2_Comedy', 'genre2_Crime', 'genre2_Documentary', 'genre2_Drama', 'genre2_Family', 'genre2_Fantasy', 'genre2_History', 'genre2_Horror', 'genre2_Music', 'genre2_Mystery', 'genre2_Romance', 'genre2_Science Fiction', 'genre2_Thriller', 'genre2_War', 'genre2_Western', 'genre3_Adventure', 'genre3_Animation', 'genre3_Comedy', 'genre3_Crime', 'genre3_Documentary', 'genre3_Drama', 'genre3_Family', 'genre3_Fantasy', 'genre3_History', 'genre3_Horror', 'genre3_Music', 'genre3_Mystery', 'genre3_Romance', 'genre3_Science Fiction', 'genre3_Thriller', 'genre3_War', 'genre3_Western']\n"
     ]
    }
   ],
   "source": [
    "print(df_model.columns.tolist())"
   ]
  },
  {
   "cell_type": "code",
   "execution_count": 41,
   "metadata": {},
   "outputs": [],
   "source": [
    "genre_columns = [col for col in df_model.columns if col.startswith('genre1_')]\n",
    "\n",
    "# Use idxmax to find the first genre1_ column with a 1 in it\n",
    "df_model['genre1'] = df_model[genre_columns].idxmax(axis=1).str.replace('genre1_', '')"
   ]
  },
  {
   "cell_type": "code",
   "execution_count": 43,
   "metadata": {},
   "outputs": [
    {
     "data": {
      "application/vnd.plotly.v1+json": {
       "config": {
        "plotlyServerURL": "https://plot.ly"
       },
       "data": [
        {
         "customdata": [
          [
           "Avengers: Infinity War"
          ],
          [
           "Spider-Man: Homecoming"
          ],
          [
           "The Suicide Squad"
          ],
          [
           "Black Panther"
          ],
          [
           "Wonder Woman 1984"
          ],
          [
           "Kong: Skull Island"
          ],
          [
           "Deadpool 2"
          ],
          [
           "Justice League"
          ],
          [
           "Star Wars: The Last Jedi"
          ],
          [
           "Wonder Woman"
          ],
          [
           "Avengers: Endgame"
          ],
          [
           "Thor: Ragnarok"
          ],
          [
           "Logan"
          ],
          [
           "The Lion King"
          ],
          [
           "Black Widow"
          ],
          [
           "The Meg"
          ],
          [
           "No Time to Die"
          ],
          [
           "Star Wars: The Rise of Skywalker"
          ],
          [
           "Captain Marvel"
          ],
          [
           "Jurassic World: Fallen Kingdom"
          ],
          [
           "Sonic the Hedgehog 3"
          ],
          [
           "John Wick: Chapter 3 - Parabellum"
          ],
          [
           "xXx"
          ],
          [
           "Mufasa: The Lion King"
          ],
          [
           "Batman v Superman: Dawn of Justice"
          ],
          [
           "Spectre"
          ],
          [
           "Death Wish"
          ],
          [
           "Power Rangers"
          ],
          [
           "Mission: Impossible - Dead Reckoning Part One"
          ],
          [
           "Sound of Freedom"
          ],
          [
           "Venom: The Last Dance"
          ],
          [
           "Mulan"
          ],
          [
           "Transformers: The Last Knight"
          ],
          [
           "The King's Man"
          ],
          [
           "Deadpool & Wolverine"
          ],
          [
           "Mission: Impossible - Fallout"
          ],
          [
           "Hunt for the Wilderpeople"
          ],
          [
           "Escape Plan 2: Hades"
          ],
          [
           "Catwoman"
          ],
          [
           "Harry Potter and the Philosopher's Stone"
          ],
          [
           "Kraven the Hunter"
          ],
          [
           "Gladiator II"
          ],
          [
           "Interstellar"
          ],
          [
           "Casino Royale"
          ],
          [
           "Fast & Furious Presents: Hobbs & Shaw"
          ],
          [
           "John Wick: Chapter 4"
          ],
          [
           "Charlie's Angels"
          ],
          [
           "Deadpool"
          ],
          [
           "The Chronicles of Narnia: The Lion, the Witch and the Wardrobe"
          ],
          [
           "Spider-Man: Far From Home"
          ],
          [
           "Red One"
          ],
          [
           "Spider-Man: No Way Home"
          ],
          [
           "Bad Boys: Ride or Die"
          ],
          [
           "Fast X"
          ],
          [
           "Harry Potter and the Chamber of Secrets"
          ],
          [
           "The Tomorrow War"
          ],
          [
           "Top Gun: Maverick"
          ],
          [
           "Harry Potter and the Prisoner of Azkaban"
          ],
          [
           "Harry Potter and the Goblet of Fire"
          ],
          [
           "The Maze Runner"
          ],
          [
           "Inception"
          ],
          [
           "Avatar"
          ],
          [
           "The Lord of the Rings: The Fellowship of the Ring"
          ],
          [
           "Resident Evil: Welcome to Raccoon City"
          ],
          [
           "Jurassic World Dominion"
          ],
          [
           "Godzilla x Kong: The New Empire"
          ],
          [
           "Gladiator"
          ],
          [
           "Harry Potter and the Order of the Phoenix"
          ],
          [
           "Pirates of the Caribbean: The Curse of the Black Pearl"
          ],
          [
           "Elevation"
          ],
          [
           "Mission: Impossible - Ghost Protocol"
          ],
          [
           "Harry Potter and the Half-Blood Prince"
          ],
          [
           "Spider-Man"
          ],
          [
           "John Wick: Chapter 2"
          ],
          [
           "Kung Fu Panda"
          ],
          [
           "The Flash"
          ],
          [
           "Harry Potter and the Deathly Hallows: Part 1"
          ],
          [
           "Big Hero 6"
          ],
          [
           "Mission: Impossible - Rogue Nation"
          ],
          [
           "The Beekeeper"
          ],
          [
           "Aquaman and the Lost Kingdom"
          ],
          [
           "Furiosa: A Mad Max Saga"
          ],
          [
           "Mission: Impossible III"
          ],
          [
           "The Lord of the Rings: The Return of the King"
          ],
          [
           "Black Panther: Wakanda Forever"
          ],
          [
           "Mission: Impossible II"
          ],
          [
           "Pirates of the Caribbean: Dead Man's Chest"
          ],
          [
           "The Hobbit: The Battle of the Five Armies"
          ],
          [
           "John Wick"
          ],
          [
           "Avengers: Age of Ultron"
          ],
          [
           "Sonic the Hedgehog 2"
          ],
          [
           "Iron Man"
          ],
          [
           "Nobody"
          ],
          [
           "The Lord of the Rings: The Two Towers"
          ],
          [
           "Pirates of the Caribbean: On Stranger Tides"
          ],
          [
           "Jurassic World"
          ],
          [
           "Pirates of the Caribbean: At World's End"
          ],
          [
           "Wrath of Man"
          ],
          [
           "Mad Max: Fury Road"
          ],
          [
           "The Dark Knight Rises"
          ],
          [
           "Azrael"
          ],
          [
           "The Karate Kid"
          ],
          [
           "Taken"
          ],
          [
           "The Twilight Saga: Breaking Dawn - Part 1"
          ],
          [
           "The Crow"
          ],
          [
           "World War Z"
          ],
          [
           "The Twilight Saga: Breaking Dawn - Part 2"
          ],
          [
           "Spider-Man 3"
          ],
          [
           "Captain America: Civil War"
          ],
          [
           "Shang-Chi and the Legend of the Ten Rings"
          ],
          [
           "Charlie and the Chocolate Factory"
          ],
          [
           "Star Wars: The Force Awakens"
          ],
          [
           "The Hobbit: An Unexpected Journey"
          ],
          [
           "Lucy"
          ],
          [
           "The Equalizer 3"
          ],
          [
           "The Fall Guy"
          ],
          [
           "Absolution"
          ],
          [
           "Borderlands"
          ],
          [
           "Everything Everywhere All at Once"
          ],
          [
           "The Incredibles"
          ],
          [
           "Iron Man 2"
          ],
          [
           "Dungeons & Dragons: Honor Among Thieves"
          ],
          [
           "The Amazing Spider-Man"
          ],
          [
           "Ready Player One"
          ],
          [
           "Sonic the Hedgehog"
          ],
          [
           "The Little Mermaid"
          ],
          [
           "Bridge to Terabithia"
          ],
          [
           "Real Steel"
          ],
          [
           "Furious 7"
          ],
          [
           "The Ministry of Ungentlemanly Warfare"
          ],
          [
           "Rampage"
          ],
          [
           "Pacific Rim"
          ],
          [
           "Meg 2: The Trench"
          ],
          [
           "2012"
          ],
          [
           "The Emperor's New Groove"
          ],
          [
           "Mr. & Mrs. Smith"
          ],
          [
           "Bullet Train"
          ],
          [
           "Gran Turismo"
          ],
          [
           "Ant-Man and the Wasp: Quantumania"
          ],
          [
           "Black Adam"
          ],
          [
           "Madame Web"
          ],
          [
           "Aladdin"
          ],
          [
           "From Paris with Love"
          ],
          [
           "In Time"
          ],
          [
           "Twisters"
          ],
          [
           "The Twilight Saga: Eclipse"
          ],
          [
           "Doctor Strange"
          ],
          [
           "Romeo Must Die"
          ],
          [
           "Jumanji: The Next Level"
          ],
          [
           "Thor"
          ],
          [
           "Rogue One: A Star Wars Story"
          ],
          [
           "Iron Man 3"
          ],
          [
           "The Great Wall"
          ],
          [
           "xXx: Return of Xander Cage"
          ],
          [
           "Atomic Blonde"
          ],
          [
           "Man of Steel"
          ],
          [
           "The Twilight Saga: New Moon"
          ],
          [
           "Edge of Tomorrow"
          ],
          [
           "Den of Thieves"
          ],
          [
           "Thor: The Dark World"
          ],
          [
           "The Amazing Spider-Man 2"
          ],
          [
           "Black Hawk Down"
          ],
          [
           "Alita: Battle Angel"
          ],
          [
           "Batman Begins"
          ],
          [
           "Indiana Jones and the Dial of Destiny"
          ],
          [
           "Apocalypto"
          ],
          [
           "Pirates of the Caribbean: Dead Men Tell No Tales"
          ],
          [
           "Homefront"
          ],
          [
           "Wanted"
          ],
          [
           "Tenet"
          ],
          [
           "Kill Bill: Vol. 1"
          ],
          [
           "Aliens vs Predator: Requiem"
          ],
          [
           "Uncharted"
          ],
          [
           "Star Wars: Episode III - Revenge of the Sith"
          ],
          [
           "Cast Away"
          ],
          [
           "Divergent"
          ],
          [
           "The Killer's Game"
          ],
          [
           "Pixels"
          ],
          [
           "Colombiana"
          ],
          [
           "Kung Fu Panda 3"
          ],
          [
           "Blue Beetle"
          ],
          [
           "The Transporter"
          ],
          [
           "The Matrix Reloaded"
          ],
          [
           "War of the Worlds"
          ],
          [
           "Aquaman"
          ],
          [
           "The Fate of the Furious"
          ],
          [
           "The Mummy Returns"
          ],
          [
           "The Matrix Revolutions"
          ],
          [
           "Baby Driver"
          ],
          [
           "The Hunger Games: Mockingjay - Part 2"
          ],
          [
           "The Hunger Games: Catching Fire"
          ],
          [
           "X-Men: Days of Future Past"
          ],
          [
           "Death Race"
          ],
          [
           "The Secret Life of Pets 2"
          ],
          [
           "Captain America: The First Avenger"
          ],
          [
           "300"
          ],
          [
           "The Magnificent Seven"
          ],
          [
           "Sicario"
          ],
          [
           "Rush Hour 2"
          ],
          [
           "Life of Pi"
          ],
          [
           "Fantastic Four"
          ],
          [
           "Rambo"
          ],
          [
           "V for Vendetta"
          ],
          [
           "Oblivion"
          ],
          [
           "The Interview"
          ],
          [
           "Kill Bill: Vol. 2"
          ],
          [
           "Bad Boys II"
          ],
          [
           "Bumblebee"
          ],
          [
           "Red Notice"
          ],
          [
           "The Good Dinosaur"
          ],
          [
           "Star Trek Into Darkness"
          ],
          [
           "Jumanji: Welcome to the Jungle"
          ],
          [
           "Percy Jackson & the Olympians: The Lightning Thief"
          ],
          [
           "Expend4bles"
          ],
          [
           "Tropic Thunder"
          ],
          [
           "Weekend in Taipei"
          ],
          [
           "Virgin Territory"
          ],
          [
           "Operation Fortune: Ruse de Guerre"
          ],
          [
           "King Kong"
          ],
          [
           "Godzilla vs. Kong"
          ],
          [
           "Land of Bad"
          ],
          [
           "X-Men: Apocalypse"
          ],
          [
           "Blood Father"
          ],
          [
           "Jack Reacher: Never Go Back"
          ],
          [
           "I, Robot"
          ],
          [
           "Treasure Planet"
          ],
          [
           "Star Wars: Episode II - Attack of the Clones"
          ],
          [
           "Skyfall"
          ],
          [
           "Hitman: Agent 47"
          ],
          [
           "Rush Hour 3"
          ],
          [
           "The Huntsman: Winter's War"
          ],
          [
           "Greenland"
          ],
          [
           "Night at the Museum"
          ],
          [
           "The Gray Man"
          ],
          [
           "Argylle"
          ],
          [
           "Sicario: Day of the Soldado"
          ],
          [
           "Incredibles 2"
          ],
          [
           "Mortal Kombat"
          ],
          [
           "Into the Wild"
          ],
          [
           "Taken 2"
          ],
          [
           "Anna"
          ],
          [
           "Rambo: Last Blood"
          ],
          [
           "Upgrade"
          ],
          [
           "300: Rise of an Empire"
          ],
          [
           "Swordfish"
          ],
          [
           "Teenage Mutant Ninja Turtles: Out of the Shadows"
          ],
          [
           "Geostorm"
          ],
          [
           "Isle of Dogs"
          ],
          [
           "21 Jump Street"
          ],
          [
           "The Woman King"
          ],
          [
           "Terminator 3: Rise of the Machines"
          ],
          [
           "Kingsman: The Golden Circle"
          ],
          [
           "TRON: Legacy"
          ],
          [
           "Captain America: The Winter Soldier"
          ],
          [
           "Tomorrowland"
          ],
          [
           "S.W.A.T."
          ],
          [
           "The Expendables 2"
          ],
          [
           "The Bourne Identity"
          ],
          [
           "Men in Black II"
          ],
          [
           "Warcraft"
          ],
          [
           "Birds of Prey (and the Fantabulous Emancipation of One Harley Quinn)"
          ],
          [
           "Godzilla"
          ],
          [
           "Undisputed III: Redemption"
          ],
          [
           "The Day After Tomorrow"
          ],
          [
           "Creed"
          ],
          [
           "The Northman"
          ],
          [
           "Plane"
          ],
          [
           "Sherlock Holmes"
          ],
          [
           "King Arthur: Legend of the Sword"
          ],
          [
           "Paul"
          ],
          [
           "Mortal Engines"
          ],
          [
           "Men in Black 3"
          ],
          [
           "Memory"
          ],
          [
           "The Expendables 3"
          ],
          [
           "Terminator Salvation"
          ],
          [
           "Pokémon Detective Pikachu"
          ],
          [
           "Freelance"
          ],
          [
           "Ninja Assassin"
          ],
          [
           "Paddington 2"
          ],
          [
           "Ant-Man and the Wasp"
          ],
          [
           "Shazam!"
          ],
          [
           "The Italian Job"
          ],
          [
           "Ghost Rider: Spirit of Vengeance"
          ],
          [
           "G.I. Joe: The Rise of Cobra"
          ],
          [
           "F9"
          ],
          [
           "The Equalizer 2"
          ],
          [
           "Prince of Persia: The Sands of Time"
          ],
          [
           "A Dog's Purpose"
          ],
          [
           "San Andreas"
          ],
          [
           "Gone in Sixty Seconds"
          ],
          [
           "Jason Bourne"
          ],
          [
           "Sausage Party"
          ],
          [
           "Ice Age: Collision Course"
          ],
          [
           "RED"
          ],
          [
           "Indiana Jones and the Kingdom of the Crystal Skull"
          ],
          [
           "Despicable Me 3"
          ],
          [
           "Guardians of the Galaxy"
          ],
          [
           "Training Day"
          ],
          [
           "Clash of the Titans"
          ],
          [
           "The Hunt"
          ],
          [
           "Bastille Day"
          ],
          [
           "Boss Level"
          ],
          [
           "G.I. Joe: Retaliation"
          ],
          [
           "Big Fish"
          ],
          [
           "Man on Fire"
          ],
          [
           "Assassin's Creed"
          ],
          [
           "Salt"
          ],
          [
           "Mechanic: Resurrection"
          ],
          [
           "Sin City: A Dame to Kill For"
          ],
          [
           "Morbius"
          ],
          [
           "Undisputed II: Last Man Standing"
          ],
          [
           "Wallace & Gromit: The Curse of the Were-Rabbit"
          ],
          [
           "Lara Croft: Tomb Raider"
          ],
          [
           "Hitman"
          ],
          [
           "Journey 2: The Mysterious Island"
          ],
          [
           "A Knight's Tale"
          ],
          [
           "Sherlock Holmes: A Game of Shadows"
          ],
          [
           "Spider-Man 2"
          ],
          [
           "John Carter"
          ],
          [
           "Brother Bear"
          ],
          [
           "Unknown"
          ],
          [
           "The Lost City"
          ],
          [
           "Pacific Rim: Uprising"
          ],
          [
           "Valerian and the City of a Thousand Planets"
          ],
          [
           "Finding Dory"
          ],
          [
           "Kick-Ass"
          ],
          [
           "The Purge: Election Year"
          ],
          [
           "The Mechanic"
          ],
          [
           "Gods of Egypt"
          ],
          [
           "65"
          ],
          [
           "The Island"
          ],
          [
           "Charlie's Angels: Full Throttle"
          ],
          [
           "Insurgent"
          ],
          [
           "Transporter 2"
          ],
          [
           "Knight and Day"
          ],
          [
           "London Has Fallen"
          ],
          [
           "Scott Pilgrim vs. the World"
          ],
          [
           "Night at the Museum: Secret of the Tomb"
          ],
          [
           "Exodus: Gods and Kings"
          ],
          [
           "National Treasure: Book of Secrets"
          ],
          [
           "Cloverfield"
          ],
          [
           "The Foreigner"
          ],
          [
           "9"
          ],
          [
           "The A-Team"
          ],
          [
           "Seventh Son"
          ],
          [
           "Total Recall"
          ],
          [
           "Independence Day: Resurgence"
          ],
          [
           "The Killer"
          ],
          [
           "Suicide Squad"
          ],
          [
           "Midway"
          ],
          [
           "National Treasure"
          ],
          [
           "Flushed Away"
          ],
          [
           "Angel Has Fallen"
          ],
          [
           "Dredd"
          ],
          [
           "Snake Eyes: G.I. Joe Origins"
          ],
          [
           "The Bourne Legacy"
          ],
          [
           "Looper"
          ],
          [
           "Safe"
          ],
          [
           "The Tourist"
          ],
          [
           "The First Purge"
          ],
          [
           "Snow White and the Huntsman"
          ],
          [
           "Stardust"
          ],
          [
           "The Book of Eli"
          ],
          [
           "Hitman's Wife's Bodyguard"
          ],
          [
           "Tomb Raider"
          ],
          [
           "The Punisher"
          ],
          [
           "The Last Castle"
          ],
          [
           "AVP: Alien vs. Predator"
          ],
          [
           "Ghostbusters"
          ],
          [
           "Déjà Vu"
          ],
          [
           "The Descent"
          ],
          [
           "Alice Through the Looking Glass"
          ],
          [
           "127 Hours"
          ],
          [
           "Fantastic Mr. Fox"
          ],
          [
           "Kandahar"
          ],
          [
           "Spy"
          ],
          [
           "The 355"
          ],
          [
           "The Chronicles of Narnia: Prince Caspian"
          ],
          [
           "The Call of the Wild"
          ],
          [
           "This Is the End"
          ],
          [
           "Need for Speed"
          ],
          [
           "Army of Thieves"
          ],
          [
           "The Bourne Ultimatum"
          ],
          [
           "Die Another Day"
          ],
          [
           "Unstoppable"
          ],
          [
           "The Bourne Supremacy"
          ],
          [
           "Monkey Man"
          ],
          [
           "The Mummy: Tomb of the Dragon Emperor"
          ],
          [
           "Captain Fantastic"
          ],
          [
           "Arthur the King"
          ],
          [
           "A Good Day to Die Hard"
          ],
          [
           "Live Free or Die Hard"
          ],
          [
           "Southpaw"
          ],
          [
           "Hollow Man"
          ],
          [
           "Star Trek Beyond"
          ],
          [
           "The Chronicles of Narnia: The Voyage of the Dawn Treader"
          ],
          [
           "The Marksman"
          ],
          [
           "Charlie's Angels"
          ],
          [
           "The Scorpion King"
          ],
          [
           "American Made"
          ],
          [
           "Fantastic Four"
          ],
          [
           "Crank: High Voltage"
          ],
          [
           "The Secret Life of Walter Mitty"
          ],
          [
           "Taxi"
          ],
          [
           "Priest"
          ],
          [
           "Paycheck"
          ],
          [
           "Conan the Barbarian"
          ],
          [
           "The Fall"
          ],
          [
           "The Hitman's Bodyguard"
          ],
          [
           "Storks"
          ],
          [
           "Anacondas: The Hunt for the Blood Orchid"
          ],
          [
           "Red Dawn"
          ],
          [
           "Sky High"
          ],
          [
           "Hugo"
          ],
          [
           "Robin Hood"
          ],
          [
           "White House Down"
          ],
          [
           "Four Brothers"
          ],
          [
           "The Forever Purge"
          ],
          [
           "Allied"
          ],
          [
           "Kick-Ass 2"
          ],
          [
           "Cowboys & Aliens"
          ],
          [
           "Green Lantern"
          ],
          [
           "Central Intelligence"
          ],
          [
           "The Adventures of Tintin"
          ],
          [
           "Escape Plan"
          ],
          [
           "Skyscraper"
          ],
          [
           "Hunter Killer"
          ],
          [
           "Quantum of Solace"
          ],
          [
           "Hercules"
          ],
          [
           "The Unbearable Weight of Massive Talent"
          ],
          [
           "The Golden Compass"
          ],
          [
           "Jumper"
          ],
          [
           "Tower Heist"
          ],
          [
           "The Hitchhiker's Guide to the Galaxy"
          ],
          [
           "Safe House"
          ],
          [
           "Unhinged"
          ],
          [
           "Patriots Day"
          ],
          [
           "I Am Number Four"
          ],
          [
           "Lemony Snicket's A Series of Unfortunate Events"
          ],
          [
           "Journey to the Center of the Earth"
          ],
          [
           "Crank"
          ],
          [
           "The Grey"
          ],
          [
           "The Darkest Minds"
          ],
          [
           "The Count of Monte Cristo"
          ],
          [
           "The Transporter Refueled"
          ],
          [
           "Blacklight"
          ],
          [
           "Mirror Mirror"
          ],
          [
           "The Green Knight"
          ],
          [
           "Holes"
          ],
          [
           "Transporter 3"
          ],
          [
           "Master and Commander: The Far Side of the World"
          ],
          [
           "Robin Hood"
          ],
          [
           "Bloodshot"
          ],
          [
           "Pompeii"
          ],
          [
           "Final Fantasy: The Spirits Within"
          ],
          [
           "Blade: Trinity"
          ],
          [
           "Olympus Has Fallen"
          ],
          [
           "Jack Ryan: Shadow Recruit"
          ],
          [
           "RED 2"
          ],
          [
           "The Adventures of Sharkboy and Lavagirl"
          ],
          [
           "The BFG"
          ],
          [
           "The Green Hornet"
          ],
          [
           "The Forbidden Kingdom"
          ],
          [
           "Shaft"
          ],
          [
           "Monster Hunter"
          ],
          [
           "Night at the Museum: Battle of the Smithsonian"
          ],
          [
           "Knowing"
          ],
          [
           "The Three Musketeers"
          ],
          [
           "Hummingbird"
          ],
          [
           "Undisputed"
          ],
          [
           "Next"
          ],
          [
           "Babylon A.D."
          ],
          [
           "The Last Kumite"
          ],
          [
           "Thelma"
          ],
          [
           "Monte Carlo"
          ],
          [
           "2 Guns"
          ],
          [
           "Hounds of War"
          ],
          [
           "Abraham Lincoln: Vampire Hunter"
          ],
          [
           "Goosebumps"
          ],
          [
           "Allegiant"
          ],
          [
           "Death Proof"
          ],
          [
           "Mile 22"
          ],
          [
           "Parker"
          ],
          [
           "The Rundown"
          ],
          [
           "War"
          ],
          [
           "Equilibrium"
          ],
          [
           "The Sentinel"
          ],
          [
           "The Last Airbender"
          ],
          [
           "Johnny English Strikes Again"
          ],
          [
           "Last Holiday"
          ],
          [
           "King Arthur"
          ],
          [
           "The Guardian"
          ],
          [
           "The Little Prince"
          ],
          [
           "Percy Jackson: Sea of Monsters"
          ],
          [
           "The One"
          ],
          [
           "Smokin' Aces"
          ],
          [
           "American Assassin"
          ],
          [
           "Rampage"
          ],
          [
           "Point Break"
          ],
          [
           "Captain Phillips"
          ],
          [
           "Grimsby"
          ],
          [
           "The Lego Movie 2: The Second Part"
          ],
          [
           "The Peanut Butter Falcon"
          ],
          [
           "Moana"
          ],
          [
           "Tomorrow, When the War Began"
          ],
          [
           "The Bricklayer"
          ],
          [
           "Into the Blue"
          ],
          [
           "Once Upon a Time in Mexico"
          ],
          [
           "Poseidon"
          ],
          [
           "xXx: State of the Union"
          ],
          [
           "Snakes on a Plane"
          ],
          [
           "The Commuter"
          ],
          [
           "Eight Legged Freaks"
          ],
          [
           "The Lone Ranger"
          ],
          [
           "Miami Vice"
          ],
          [
           "Ride Along 2"
          ],
          [
           "The Lost City of Z"
          ],
          [
           "The Secret of Moonacre"
          ],
          [
           "The Legend of Zorro"
          ],
          [
           "The Brothers Grimm"
          ],
          [
           "Rat Race"
          ],
          [
           "This Means War"
          ],
          [
           "The Kid Who Would Be King"
          ],
          [
           "Machete"
          ],
          [
           "The Host"
          ],
          [
           "Killer Elite"
          ],
          [
           "Doom"
          ],
          [
           "Cold Pursuit"
          ],
          [
           "Sahara"
          ],
          [
           "Season of the Witch"
          ],
          [
           "The Hurricane Heist"
          ],
          [
           "Non-Stop"
          ],
          [
           "Elektra"
          ],
          [
           "Black and Blue"
          ],
          [
           "O Brother, Where Art Thou?"
          ],
          [
           "The Darjeeling Limited"
          ],
          [
           "Christopher Robin"
          ],
          [
           "Get Him to the Greek"
          ],
          [
           "Everest"
          ],
          [
           "Violent Night"
          ],
          [
           "The Losers"
          ],
          [
           "Lockout"
          ],
          [
           "Doomsday"
          ],
          [
           "D.E.B.S."
          ],
          [
           "Peppermint"
          ],
          [
           "Killers"
          ],
          [
           "Alpha"
          ],
          [
           "Team America: World Police"
          ],
          [
           "Curious George"
          ],
          [
           "Shaft"
          ],
          [
           "Hanna"
          ],
          [
           "Medieval"
          ],
          [
           "In the Name of the King: A Dungeon Siege Tale"
          ],
          [
           "Act of Valor"
          ],
          [
           "Space Cowboys"
          ],
          [
           "Pineapple Express"
          ],
          [
           "10,000 BC"
          ],
          [
           "Beowulf"
          ],
          [
           "The Road"
          ],
          [
           "American Ultra"
          ],
          [
           "The Imaginarium of Doctor Parnassus"
          ],
          [
           "Cellular"
          ],
          [
           "The Eagle"
          ],
          [
           "We Were Soldiers"
          ],
          [
           "Lara Croft: Tomb Raider - The Cradle of Life"
          ],
          [
           "CHiPS"
          ],
          [
           "Kidnap"
          ],
          [
           "Solomon Kane"
          ],
          [
           "The Assignment"
          ],
          [
           "Johnny English"
          ],
          [
           "Fantasy Island"
          ],
          [
           "Sucker Punch"
          ],
          [
           "Behind Enemy Lines"
          ],
          [
           "Falcon Rising"
          ],
          [
           "TMNT"
          ],
          [
           "Fool's Gold"
          ],
          [
           "The Physician"
          ],
          [
           "The Heat"
          ],
          [
           "Pete's Dragon"
          ],
          [
           "Get Smart"
          ],
          [
           "Wild Hogs"
          ],
          [
           "Australia"
          ],
          [
           "Hot Pursuit"
          ],
          [
           "Stolen"
          ],
          [
           "Peter Pan"
          ],
          [
           "Unleashed"
          ],
          [
           "Gunpowder Milkshake"
          ],
          [
           "The Bounty Hunter"
          ],
          [
           "Risen"
          ],
          [
           "Man on a Ledge"
          ],
          [
           "The Cold Light of Day"
          ],
          [
           "The Secret Life of Pets"
          ],
          [
           "Shanghai Noon"
          ],
          [
           "The Fast and the Furious: Tokyo Drift"
          ],
          [
           "Max"
          ],
          [
           "The Tax Collector"
          ],
          [
           "The Marine"
          ],
          [
           "Masterminds"
          ],
          [
           "Sanctum"
          ],
          [
           "The Life Aquatic with Steve Zissou"
          ],
          [
           "Haywire"
          ],
          [
           "The Recruit"
          ],
          [
           "Run All Night"
          ],
          [
           "Batman: The Killing Joke"
          ],
          [
           "DOA: Dead or Alive"
          ],
          [
           "The Happytime Murders"
          ],
          [
           "Outcast"
          ],
          [
           "Torque"
          ],
          [
           "Criminal"
          ],
          [
           "Vengeance: A Love Story"
          ],
          [
           "Collateral Damage"
          ],
          [
           "Casanova"
          ],
          [
           "Mars Needs Moms"
          ],
          [
           "Eight Below"
          ],
          [
           "Transformers"
          ],
          [
           "Defiance"
          ],
          [
           "The Debt Collector"
          ],
          [
           "Shoot 'Em Up"
          ],
          [
           "Gold"
          ],
          [
           "The Last Legion"
          ],
          [
           "Bullet to the Head"
          ],
          [
           "Crouching Tiger, Hidden Dragon: Sword of Destiny"
          ],
          [
           "A Man Apart"
          ],
          [
           "Ride Along"
          ],
          [
           "Monster Trucks"
          ],
          [
           "Kiss of the Dragon"
          ],
          [
           "3 Days to Kill"
          ],
          [
           "Gamer"
          ],
          [
           "The Girl in the Spider's Web"
          ],
          [
           "Body of Lies"
          ],
          [
           "Belly of the Beast"
          ],
          [
           "Aliens in the Attic"
          ],
          [
           "Cradle 2 the Grave"
          ],
          [
           "Transformers: Dark of the Moon"
          ],
          [
           "Biker Boyz"
          ],
          [
           "Driven"
          ],
          [
           "Antitrust"
          ],
          [
           "Paul Blart: Mall Cop 2"
          ],
          [
           "The Spy Next Door"
          ],
          [
           "Dragonball Evolution"
          ],
          [
           "Extinction"
          ],
          [
           "Stuber"
          ],
          [
           "The Warrior's Way"
          ],
          [
           "Armored"
          ],
          [
           "Punisher: War Zone"
          ],
          [
           "Land of the Lost"
          ],
          [
           "Fred Claus"
          ],
          [
           "The Magic Flute"
          ],
          [
           "I Spy"
          ],
          [
           "Gold"
          ],
          [
           "The Cave"
          ],
          [
           "Shanghai Knights"
          ],
          [
           "After the Sunset"
          ],
          [
           "The Descent: Part 2"
          ],
          [
           "Heist"
          ],
          [
           "Hardcore Henry"
          ],
          [
           "Big Trouble"
          ],
          [
           "30 Minutes or Less"
          ],
          [
           "The Finest Hours"
          ],
          [
           "Ben-Hur"
          ],
          [
           "A Wrinkle in Time"
          ],
          [
           "Takers"
          ],
          [
           "Ghosts of Mars"
          ],
          [
           "Mayhem"
          ],
          [
           "The Chronicles of Riddick"
          ],
          [
           "The International"
          ],
          [
           "Inkheart"
          ],
          [
           "Firewall"
          ],
          [
           "Walking Tall"
          ],
          [
           "Skiptrace"
          ],
          [
           "Sleepless"
          ],
          [
           "Brick Mansions"
          ],
          [
           "Attack the Block"
          ],
          [
           "Repo Men"
          ],
          [
           "The Sweeney"
          ],
          [
           "The Kitchen"
          ],
          [
           "Big Miracle"
          ],
          [
           "Paul Blart: Mall Cop"
          ],
          [
           "City of Ember"
          ],
          [
           "Miss Bala"
          ],
          [
           "Guns Akimbo"
          ],
          [
           "Get the Gringo"
          ],
          [
           "Valhalla Rising"
          ],
          [
           "Exit Wounds"
          ],
          [
           "Agent Cody Banks"
          ],
          [
           "Hostage"
          ],
          [
           "Batman and Harley Quinn"
          ],
          [
           "Primal"
          ],
          [
           "Around the World in 80 Days"
          ],
          [
           "The Green Inferno"
          ],
          [
           "Return to Never Land"
          ],
          [
           "USS Indianapolis: Men of Courage"
          ],
          [
           "Empire State"
          ],
          [
           "The Mexican"
          ],
          [
           "Rage"
          ],
          [
           "The Boondock Saints II: All Saints Day"
          ],
          [
           "Marauders"
          ],
          [
           "Crocodile Dundee in Los Angeles"
          ],
          [
           "Race to Witch Mountain"
          ],
          [
           "SuperFly"
          ],
          [
           "Happily N'Ever After"
          ],
          [
           "The Book of Clarence"
          ],
          [
           "Letters from Iwo Jima"
          ],
          [
           "The Aeronauts"
          ],
          [
           "Kickboxer: Retaliation"
          ],
          [
           "Vertical Limit"
          ],
          [
           "Into the Storm"
          ],
          [
           "Pandorum"
          ],
          [
           "The Man"
          ],
          [
           "Timeline"
          ],
          [
           "Triple 9"
          ],
          [
           "Stargate: The Ark of Truth"
          ],
          [
           "Lions for Lambs"
          ],
          [
           "Reign of Fire"
          ],
          [
           "Midnight Special"
          ],
          [
           "Twisted"
          ],
          [
           "Bait"
          ],
          [
           "In Hell"
          ],
          [
           "Ninja"
          ],
          [
           "Flyboys"
          ],
          [
           "Trapped"
          ],
          [
           "Escape Plan: The Extractors"
          ],
          [
           "Fanboys"
          ],
          [
           "Seeking Justice"
          ],
          [
           "Free State of Jones"
          ],
          [
           "One for the Money"
          ],
          [
           "The Double"
          ],
          [
           "The Score"
          ],
          [
           "The Condemned"
          ],
          [
           "The Man with the Iron Fists"
          ],
          [
           "Cop Out"
          ],
          [
           "Showtime"
          ],
          [
           "Samson"
          ],
          [
           "Man of Tai Chi"
          ],
          [
           "Spy Game"
          ],
          [
           "The Baytown Outlaws"
          ],
          [
           "Essex Boys: Law of Survival"
          ],
          [
           "Whiteout"
          ],
          [
           "Rescue Dawn"
          ],
          [
           "Alex Cross"
          ],
          [
           "Bad Company"
          ],
          [
           "A Lonely Place to Die"
          ],
          [
           "Osmosis Jones"
          ],
          [
           "The Man Who Killed Don Quixote"
          ],
          [
           "The Rhythm Section"
          ],
          [
           "RocknRolla"
          ],
          [
           "Bilal: A New Breed of Hero"
          ],
          [
           "Cirque du Freak: The Vampire's Assistant"
          ],
          [
           "Jiu Jitsu"
          ],
          [
           "Snatched"
          ],
          [
           "Fortress"
          ],
          [
           "Barely Lethal"
          ],
          [
           "Keanu"
          ],
          [
           "Run Hide Fight"
          ],
          [
           "Universal Soldier: Regeneration"
          ],
          [
           "Impostor"
          ],
          [
           "Agora"
          ],
          [
           "15 Minutes"
          ],
          [
           "Domino"
          ],
          [
           "Birth of the Dragon"
          ],
          [
           "9 Bullets"
          ],
          [
           "Get Carter"
          ],
          [
           "The Three Burials of Melquiades Estrada"
          ],
          [
           "Jonah Hex"
          ],
          [
           "Rabbit-Proof Fence"
          ],
          [
           "Force of Nature"
          ],
          [
           "Rogue"
          ],
          [
           "Blue Crush"
          ],
          [
           "Mutant Chronicles"
          ]
         ],
         "hovertemplate": "genre1=Adventure<br>Budget ($)=%{x}<br>Revenue ($)=%{y}<br>popularity=%{marker.size}<br>title=%{customdata[0]}<extra></extra>",
         "legendgroup": "Adventure",
         "marker": {
          "color": "#636efa",
          "size": [
           188.4232,
           165.7082,
           163.5647,
           162.5665,
           135.3738,
           132.3304,
           131.5534,
           128.6543,
           125.6714,
           117.7879,
           109.6605,
           108.412,
           107.1353,
           107.091,
           104.9705,
           103.7143,
           93.3181,
           83.7044,
           82.2178,
           74.596,
           73.6437,
           72.7622,
           72.4588,
           68.758,
           65.9092,
           65.6672,
           62.7447,
           56.4243,
           50.8585,
           50.3278,
           50.2323,
           48.4439,
           47.1014,
           47.0733,
           46.8603,
           44.8964,
           43.4254,
           41.5933,
           39.6862,
           39.5975,
           38.7712,
           38.2982,
           37.7561,
           36.785,
           36.705,
           36.2278,
           34.48,
           34.0103,
           30.935,
           30.5692,
           29.1296,
           28.9191,
           28.8813,
           28.1298,
           27.8994,
           27.663,
           27.0472,
           26.6901,
           25.0781,
           24.5571,
           24.1767,
           22.6517,
           22.4361,
           22.2987,
           22.2896,
           22.1094,
           21.9397,
           21.7782,
           21.5335,
           21.4316,
           21.3322,
           21.0824,
           21.064,
           20.4321,
           19.5383,
           19.2081,
           19.2076,
           19.2005,
           19.1958,
           19.1779,
           19.1331,
           19.0816,
           19.0533,
           18.5734,
           18.4229,
           18.3967,
           18.3825,
           18.3128,
           18.2709,
           17.9833,
           17.8514,
           17.0482,
           16.9879,
           16.763,
           16.3181,
           16.2593,
           15.9996,
           15.6844,
           15.5465,
           15.5451,
           15.5163,
           15.4529,
           15.3598,
           15.2076,
           15.199,
           15.1548,
           15.092,
           15.0736,
           14.925,
           14.8055,
           14.7763,
           14.7633,
           14.6417,
           14.5404,
           14.1997,
           14.1856,
           14.0735,
           14.0628,
           13.9277,
           13.8921,
           13.8272,
           13.7636,
           13.6541,
           13.6199,
           13.5998,
           13.4548,
           13.3673,
           13.3205,
           13.2662,
           13.248,
           13.236,
           13.2102,
           13.1401,
           13.1069,
           13.0673,
           13.0358,
           13.0109,
           12.9798,
           12.9516,
           12.9502,
           12.9482,
           12.7198,
           12.6683,
           12.3502,
           12.334,
           12.2442,
           12.2075,
           12.1659,
           12.1186,
           11.8335,
           11.8232,
           11.7687,
           11.7398,
           11.4967,
           11.4612,
           11.3496,
           11.3255,
           11.295,
           11.266,
           11.2616,
           11.2552,
           11.1932,
           11.0589,
           11.041,
           11.021,
           10.9613,
           10.9054,
           10.828,
           10.7138,
           10.6423,
           10.6203,
           10.6015,
           10.6011,
           10.5343,
           10.4642,
           10.4142,
           10.4136,
           10.3972,
           10.3857,
           10.3544,
           10.1566,
           10.1218,
           10.0735,
           10.0697,
           10.0044,
           9.9864,
           9.9793,
           9.9534,
           9.9268,
           9.6826,
           9.5839,
           9.5797,
           9.5585,
           9.4521,
           9.3599,
           9.3569,
           9.3395,
           9.2694,
           9.235,
           9.1989,
           9.192,
           9.1486,
           9.1152,
           9.0938,
           9.0929,
           9.0515,
           9.0034,
           8.963,
           8.9527,
           8.9506,
           8.8371,
           8.7991,
           8.78,
           8.7428,
           8.7172,
           8.7127,
           8.6475,
           8.6401,
           8.6338,
           8.5991,
           8.5871,
           8.5847,
           8.5826,
           8.5206,
           8.512,
           8.502,
           8.5015,
           8.4956,
           8.4766,
           8.4402,
           8.4311,
           8.4249,
           8.4209,
           8.405,
           8.2726,
           8.2726,
           8.2411,
           8.1885,
           8.1647,
           8.1411,
           8.1398,
           8.1193,
           8.1108,
           8.0762,
           7.9671,
           7.9385,
           7.9343,
           7.9252,
           7.9163,
           7.8788,
           7.8588,
           7.8514,
           7.8477,
           7.8439,
           7.8392,
           7.8329,
           7.7668,
           7.7571,
           7.7306,
           7.7281,
           7.7234,
           7.7232,
           7.7084,
           7.686,
           7.6618,
           7.6396,
           7.6171,
           7.6138,
           7.5731,
           7.5594,
           7.5585,
           7.5505,
           7.5472,
           7.52,
           7.5169,
           7.4742,
           7.4542,
           7.4446,
           7.4259,
           7.4227,
           7.4112,
           7.4048,
           7.3807,
           7.3748,
           7.3717,
           7.3655,
           7.3642,
           7.328,
           7.324,
           7.3207,
           7.3193,
           7.3151,
           7.3057,
           7.305,
           7.3035,
           7.3019,
           7.2561,
           7.245,
           7.2292,
           7.2012,
           7.1848,
           7.1831,
           7.1809,
           7.1591,
           7.1473,
           7.1371,
           7.1199,
           7.0854,
           7.0732,
           7.0691,
           7.0318,
           7.0201,
           7.0179,
           6.9895,
           6.9645,
           6.9084,
           6.8985,
           6.8912,
           6.8781,
           6.8751,
           6.8702,
           6.8284,
           6.7955,
           6.7873,
           6.7645,
           6.7385,
           6.7265,
           6.72,
           6.7122,
           6.7068,
           6.6949,
           6.6845,
           6.6836,
           6.6833,
           6.6499,
           6.5871,
           6.5781,
           6.5744,
           6.5652,
           6.5515,
           6.5509,
           6.51,
           6.4889,
           6.4578,
           6.4545,
           6.4462,
           6.4411,
           6.4199,
           6.4051,
           6.3542,
           6.3228,
           6.3219,
           6.321,
           6.3169,
           6.2997,
           6.2755,
           6.2658,
           6.2612,
           6.1873,
           6.1846,
           6.1835,
           6.0952,
           6.0562,
           6.0461,
           6.035,
           6.0237,
           6.0093,
           5.9997,
           5.991,
           5.9771,
           5.9362,
           5.9033,
           5.8715,
           5.8627,
           5.8622,
           5.8564,
           5.8555,
           5.8477,
           5.8218,
           5.82,
           5.8172,
           5.8138,
           5.8116,
           5.81,
           5.7979,
           5.7772,
           5.7749,
           5.7541,
           5.7468,
           5.7433,
           5.741,
           5.7323,
           5.7308,
           5.7062,
           5.7,
           5.6902,
           5.6867,
           5.6858,
           5.663,
           5.654,
           5.6367,
           5.6288,
           5.5947,
           5.5899,
           5.5817,
           5.5587,
           5.5423,
           5.5342,
           5.5054,
           5.4668,
           5.4572,
           5.4395,
           5.438,
           5.4364,
           5.4203,
           5.4053,
           5.3818,
           5.377,
           5.3365,
           5.3182,
           5.3024,
           5.3016,
           5.2989,
           5.2716,
           5.2542,
           5.2517,
           5.2422,
           5.2101,
           5.2077,
           5.1963,
           5.1751,
           5.1714,
           5.1419,
           5.139,
           5.1334,
           5.1331,
           5.0945,
           5.0941,
           5.0939,
           5.0555,
           5.0502,
           5.0306,
           5.029,
           5.0186,
           5.0178,
           4.9904,
           4.9837,
           4.976,
           4.9409,
           4.9348,
           4.9136,
           4.8874,
           4.8827,
           4.8624,
           4.8519,
           4.8428,
           4.8275,
           4.8097,
           4.8087,
           4.7714,
           4.7301,
           4.7262,
           4.7005,
           4.6877,
           4.6695,
           4.6682,
           4.6402,
           4.6307,
           4.6248,
           4.6085,
           4.6001,
           4.5998,
           4.5653,
           4.5596,
           4.5415,
           4.539,
           4.5328,
           4.5291,
           4.5258,
           4.5071,
           4.5057,
           4.501,
           4.4976,
           4.4946,
           4.4738,
           4.471,
           4.4622,
           4.4538,
           4.4514,
           4.4507,
           4.4098,
           4.403,
           4.4004,
           4.3597,
           4.3534,
           4.3236,
           4.3193,
           4.2797,
           4.2642,
           4.2623,
           4.2556,
           4.2483,
           4.241,
           4.2309,
           4.227,
           4.2097,
           4.2085,
           4.1796,
           4.1785,
           4.1727,
           4.1684,
           4.1651,
           4.1649,
           4.1645,
           4.1576,
           4.1429,
           4.1374,
           4.1256,
           4.1205,
           4.1148,
           4.1143,
           4.1074,
           4.0994,
           4.0894,
           4.0737,
           4.0726,
           4.0722,
           4.0375,
           4.0131,
           4.0062,
           4.0052,
           3.9924,
           3.9669,
           3.9604,
           3.9484,
           3.9434,
           3.9238,
           3.9118,
           3.905,
           3.899,
           3.8927,
           3.8377,
           3.8291,
           3.8164,
           3.8125,
           3.8118,
           3.7993,
           3.7887,
           3.7856,
           3.7556,
           3.7461,
           3.7234,
           3.7179,
           3.7154,
           3.7146,
           3.7142,
           3.6962,
           3.6525,
           3.6423,
           3.6329,
           3.6316,
           3.6246,
           3.5837,
           3.5825,
           3.5799,
           3.5639,
           3.5618,
           3.5501,
           3.55,
           3.5378,
           3.5339,
           3.5258,
           3.5258,
           3.5222,
           3.5072,
           3.5046,
           3.5028,
           3.4877,
           3.4735,
           3.4727,
           3.4538,
           3.4476,
           3.4442,
           3.4366,
           3.4365,
           3.436,
           3.4263,
           3.4152,
           3.4103,
           3.3963,
           3.3861,
           3.385,
           3.3835,
           3.359,
           3.3366,
           3.3316,
           3.3284,
           3.3252,
           3.3193,
           3.3184,
           3.3181,
           3.3077,
           3.3023,
           3.2843,
           3.2815,
           3.2784,
           3.2782,
           3.2664,
           3.2515,
           3.2471,
           3.2406,
           3.2399,
           3.2319,
           3.2175,
           3.2132,
           3.2004,
           3.1774,
           3.1678,
           3.1672,
           3.163,
           3.1542,
           3.153,
           3.1508,
           3.1426,
           3.1366,
           3.134,
           3.1327,
           3.1233,
           3.121,
           3.1152,
           3.1123,
           3.1075,
           3.1039,
           3.1023,
           3.1001,
           3.0989,
           3.0908,
           3.089,
           3.0793,
           3.0722,
           3.0701,
           3.0672,
           3.065,
           3.065,
           3.0579,
           3.056,
           3.0489,
           3.0487,
           3.0439,
           3.0431,
           3.0391,
           3.0386,
           3.0263,
           3.0256,
           3.008,
           2.9858,
           2.9698,
           2.9683,
           2.9599,
           2.948,
           2.939,
           2.9344,
           2.9309,
           2.9214,
           2.9173,
           2.912,
           2.9104,
           2.9014,
           2.8979,
           2.8873,
           2.8848,
           2.8836,
           2.8621,
           2.8543,
           2.8532,
           2.8109,
           2.8031,
           2.798,
           2.7914,
           2.7757,
           2.7698,
           2.7679,
           2.7664,
           2.7587,
           2.7546,
           2.754,
           2.7445,
           2.7412,
           2.7401,
           2.7389,
           2.7361,
           2.7259,
           2.7085,
           2.6996,
           2.6897,
           2.6875,
           2.6723,
           2.6682,
           2.6617,
           2.6582,
           2.6467,
           2.6388,
           2.637,
           2.6356,
           2.6275,
           2.6192,
           2.6174,
           2.6048,
           2.6047,
           2.5985,
           2.5983,
           2.5929,
           2.59,
           2.5865,
           2.5827,
           2.572,
           2.5684,
           2.5575,
           2.5489,
           2.5463,
           2.5411,
           2.5314,
           2.5278,
           2.5105,
           2.5099,
           2.5005,
           2.5004,
           2.4785,
           2.4709,
           2.4663,
           2.4544,
           2.4484,
           2.435,
           2.4327,
           2.4304,
           2.4255,
           2.4239,
           2.4227,
           2.4187,
           2.4174,
           2.4142,
           2.4081,
           2.4072,
           2.3958,
           2.3935,
           2.3908,
           2.3897,
           2.3875,
           2.3803,
           2.3776,
           2.3717,
           2.3692,
           2.3602,
           2.3574,
           2.3381,
           2.3322,
           2.3237,
           2.3232,
           2.3228,
           2.2748,
           2.2732,
           2.269,
           2.2608,
           2.2589,
           2.2561,
           2.2493,
           2.2415,
           2.2405,
           2.2385
          ],
          "sizemode": "area",
          "sizeref": 0.47105800000000003,
          "symbol": "circle"
         },
         "mode": "markers",
         "name": "Adventure",
         "showlegend": true,
         "type": "scattergl",
         "x": [
          300000000,
          175000000,
          185000000,
          200000000,
          200000000,
          185000000,
          110000000,
          300000000,
          200000000,
          149000000,
          356000000,
          180000000,
          97000000,
          260000000,
          200000000,
          150000000,
          250000000,
          416000000,
          152000000,
          170000000,
          122000000,
          55000000,
          70000000,
          200000000,
          250000000,
          245000000,
          30000000,
          105000000,
          291000000,
          14500000,
          120000000,
          200000000,
          217000000,
          100000000,
          200000000,
          178000000,
          2500000,
          20000000,
          100000000,
          125000000,
          120000000,
          310000000,
          165000000,
          150000000,
          200000000,
          100000000,
          48000000,
          58000000,
          180000000,
          160000000,
          250000000,
          200000000,
          100000000,
          340000000,
          100000000,
          200000000,
          170000000,
          130000000,
          150000000,
          34000000,
          160000000,
          237000000,
          93000000,
          25000000,
          465400000,
          150000000,
          103000000,
          150000000,
          140000000,
          18000000,
          145000000,
          250000000,
          139000000,
          40000000,
          130000000,
          220000000,
          250000000,
          165000000,
          150000000,
          35000000,
          205000000,
          168000000,
          150000000,
          94000000,
          250000000,
          125000000,
          200000000,
          250000000,
          20000000,
          365000000,
          110000000,
          140000000,
          17000000,
          79000000,
          379000000,
          150000000,
          300000000,
          40000000,
          150000000,
          250000000,
          12000000,
          40000000,
          25000000,
          110000000,
          50000000,
          200000000,
          120000000,
          258000000,
          250000000,
          150000000,
          150000000,
          245000000,
          250000000,
          40000000,
          70000000,
          125000000,
          30000000,
          115000000,
          25000000,
          92000000,
          200000000,
          151000000,
          215000000,
          175000000,
          85000000,
          297000000,
          60000000,
          110000000,
          190000000,
          60000000,
          120000000,
          180000000,
          129000000,
          200000000,
          100000000,
          110000000,
          90000000,
          60000000,
          388369742,
          200000000,
          80000000,
          183000000,
          52000000,
          40000000,
          155000000,
          68000000,
          180000000,
          25000000,
          125000000,
          150000000,
          200000000,
          200000000,
          150000000,
          85000000,
          30000000,
          225000000,
          50000000,
          178000000,
          30000000,
          170000000,
          200000000,
          92000000,
          170000000,
          150000000,
          294700000,
          40000000,
          230000000,
          22000000,
          75000000,
          205000000,
          30000000,
          40000000,
          120000000,
          113000000,
          90000000,
          85000000,
          30000000,
          88000000,
          40000000,
          145000000,
          104000000,
          21000000,
          150000000,
          132000000,
          160000000,
          250000000,
          98000000,
          150000000,
          34000000,
          160000000,
          130000000,
          250000000,
          45000000,
          80000000,
          140000000,
          65000000,
          90000000,
          30000000,
          90000000,
          120000000,
          100000000,
          50000000,
          54000000,
          120000000,
          44000000,
          30000000,
          130000000,
          135000000,
          160000000,
          175000000,
          190000000,
          90000000,
          95000000,
          100000000,
          92000000,
          30000000,
          38000000,
          50000000,
          207000000,
          200000000,
          18000000,
          178000000,
          13000000,
          60000000,
          120000000,
          140000000,
          120000000,
          200000000,
          35000000,
          140000000,
          115000000,
          34000000,
          110000000,
          200000000,
          200000000,
          35000000,
          200000000,
          20000000,
          15000000,
          45000000,
          34000000,
          50000000,
          5000000,
          110000000,
          102000000,
          135000000,
          120000000,
          62770198,
          42000000,
          50000000,
          200000000,
          104000000,
          170000000,
          170000000,
          190000000,
          80000000,
          100000000,
          60000000,
          140000000,
          160000000,
          75000000,
          160000000,
          3000000,
          125000000,
          37000000,
          70000000,
          25000000,
          90000000,
          175000000,
          40000000,
          100000000,
          225000000,
          30000000,
          95000000,
          200000000,
          150000000,
          40000000,
          40000000,
          40000000,
          140000000,
          80000000,
          60000000,
          57000000,
          175000000,
          200000000,
          62000000,
          200000000,
          22000000,
          110000000,
          90000000,
          120000000,
          19000000,
          105000000,
          58000000,
          185000000,
          80000000,
          170000000,
          45000000,
          125000000,
          14000000,
          20000000,
          45000000,
          130000000,
          70000000,
          70000000,
          125000000,
          110000000,
          40000000,
          65000000,
          75000000,
          8000000,
          30000000,
          115000000,
          24000000,
          79000000,
          65000000,
          125000000,
          200000000,
          250000000,
          128000000,
          30000000,
          74000000,
          150000000,
          177200000,
          200000000,
          28000000,
          10000000,
          40000000,
          140000000,
          45000000,
          126000000,
          120000000,
          110000000,
          32000000,
          117000000,
          60000000,
          85000000,
          127000000,
          140000000,
          130000000,
          25000000,
          35000000,
          30000000,
          110000000,
          95000000,
          125000000,
          165000000,
          30000000,
          175000000,
          100000000,
          100000000,
          149000000,
          40000000,
          50000000,
          88000000,
          130000000,
          30000000,
          30000000,
          100000000,
          13000000,
          170000000,
          70000000,
          80000000,
          70000000,
          94000000,
          33000000,
          72000000,
          70000000,
          144000000,
          75000000,
          3500000,
          170000000,
          18000000,
          40000000,
          30000000,
          65000000,
          75000000,
          225000000,
          109000000,
          32000000,
          66000000,
          30000000,
          70000000,
          142000000,
          100000000,
          75000000,
          10000000,
          145000000,
          5000000,
          19000000,
          92000000,
          110000000,
          30000000,
          95000000,
          185000000,
          155000000,
          23000000,
          92000000,
          60000000,
          50000000,
          120000000,
          20000000,
          90000000,
          25000000,
          60000000,
          60000000,
          90000000,
          30000000,
          30000000,
          70000000,
          20000000,
          65000000,
          35000000,
          170000000,
          200000000,
          150000000,
          45000000,
          18000000,
          106000000,
          28000000,
          163000000,
          200000000,
          50000000,
          130000000,
          50000000,
          125000000,
          40000000,
          200000000,
          100000000,
          30000000,
          180000000,
          85000000,
          75000000,
          50000000,
          85000000,
          33000000,
          45000000,
          50000000,
          140000000,
          45000000,
          12000000,
          25000000,
          34000000,
          35000000,
          25000000,
          43000000,
          85000000,
          15000000,
          20000000,
          30000000,
          150000000,
          100000000,
          42000000,
          100000000,
          137000000,
          65000000,
          70000000,
          60000000,
          84000000,
          50000000,
          140000000,
          120000000,
          55000000,
          46000000,
          60000000,
          150000000,
          50000000,
          75000000,
          20000000,
          20000000,
          70000000,
          70000000,
          1303000,
          5000000,
          20000000,
          61000000,
          13000000,
          69000000,
          58000000,
          110000000,
          25000000,
          35000000,
          35000000,
          85000000,
          25000000,
          20000000,
          60000000,
          150000000,
          25000000,
          45000000,
          120000000,
          10000000,
          64000000,
          90000000,
          49000000,
          17000000,
          33000000,
          120,
          105000000,
          55000000,
          35000000,
          99000000,
          6200000,
          150000000,
          27000000,
          23900000,
          50000000,
          29000000,
          160000000,
          60000000,
          33000000,
          30000000,
          30000000,
          215000000,
          135000000,
          40000000,
          30000000,
          32000000,
          75000000,
          88000000,
          48000000,
          65000000,
          59000000,
          10500000,
          44000000,
          66000000,
          60000000,
          60000000,
          130000000,
          40000000,
          35000000,
          50000000,
          43000000,
          12000000,
          26000000,
          16000000,
          75000000,
          40000000,
          55000000,
          20000000,
          25000000,
          20000000,
          30000000,
          3500000,
          25000000,
          75000000,
          51000000,
          32000000,
          50000000,
          30000000,
          30000000,
          23000000,
          60000000,
          12000000,
          65000000,
          27000000,
          105000000,
          70000000,
          32000000,
          28000000,
          30000000,
          25000000,
          25000000,
          75000000,
          95000000,
          25000000,
          21000000,
          45000000,
          5000000,
          40000000,
          7000000,
          82000000,
          40000000,
          4500000,
          34000000,
          70000000,
          36000000,
          43000000,
          65000000,
          80000000,
          60000000,
          130000000,
          35000000,
          35000000,
          100000000,
          45000000,
          30000000,
          40000000,
          20000000,
          42000000,
          20000000,
          75000000,
          55000000,
          85000000,
          20000000,
          30000000,
          20000000,
          25000000,
          30000000,
          50000000,
          23000000,
          46000000,
          50000000,
          3500000,
          21000000,
          40000000,
          25000000,
          40000000,
          31500000,
          28000000,
          85000000,
          20000000,
          150000000,
          40000000,
          150000000,
          32000000,
          3000000,
          39000000,
          20000000,
          67000000,
          55000000,
          20000000,
          36000000,
          25000000,
          125000000,
          25000000,
          28000000,
          50000000,
          43000000,
          70000000,
          14300000,
          45000000,
          25000000,
          195000000,
          24000000,
          94000000,
          30000000,
          38000000,
          28000000,
          30000000,
          7000000,
          16000000,
          42000000,
          20000000,
          20500000,
          100000000,
          100000000,
          6500000,
          70000000,
          6500000,
          30000000,
          50000000,
          60000000,
          6000200,
          8900000,
          2000000,
          40000000,
          28000000,
          80000000,
          100000000,
          103000000,
          32000000,
          28000000,
          2500000,
          105000000,
          50000000,
          60000000,
          45000000,
          46000000,
          32000000,
          30000000,
          28000000,
          14350531,
          32000000,
          3730500,
          38000000,
          40000000,
          26000000,
          55000000,
          15000000,
          15000000,
          35000000,
          5650000,
          33000000,
          28000000,
          52000000,
          3500000,
          9000000,
          110000000,
          5000000,
          20000000,
          40000000,
          11000000,
          57000000,
          15000000,
          8000000,
          15000000,
          21150000,
          50000000,
          16000000,
          47000000,
          40000000,
          19000000,
          40000000,
          13000000,
          75000000,
          50000000,
          33000000,
          33000000,
          80000000,
          20000000,
          7000000,
          35000000,
          60000000,
          18000000,
          50000000,
          35000000,
          17000000,
          10000000,
          60000000,
          30000000,
          3600000,
          3900000,
          17000000,
          50000000,
          40000000,
          17000000,
          68000000,
          20000000,
          15000000,
          30000000,
          85000000,
          3500000,
          25000000,
          115000000,
          4000000,
          60000,
          40000000,
          10000000,
          45000000,
          70000000,
          4000000,
          75000000,
          19116000,
          50000000,
          18000000,
          30000000,
          40000000,
          23000000,
          42000000,
          20000000,
          15000000,
          15000000,
          2000000,
          14000000,
          40000000,
          70000000,
          60000000,
          50000000,
          31000000,
          3000000,
          63600000,
          15000000,
          47000000,
          6000000,
          15000000,
          20000000,
          25000000,
          8000000
         ],
         "xaxis": "x",
         "y": [
          2052415039,
          880166924,
          168717425,
          1349926083,
          169601036,
          566652812,
          785896632,
          661326987,
          1332698830,
          823970682,
          2799439100,
          855301806,
          619021436,
          1662020819,
          379751131,
          530517320,
          774153024,
          1074144248,
          1131416446,
          1310466296,
          492162604,
          326709727,
          277448382,
          722631756,
          874362803,
          880707597,
          34017028,
          142300000,
          571125435,
          250600000,
          478103649,
          69965374,
          605425157,
          125897478,
          1338073645,
          791658205,
          23900000,
          17592626,
          82102379,
          976475550,
          59184643,
          462180717,
          746606706,
          599045960,
          760098996,
          440157245,
          73279888,
          782837347,
          745013115,
          1131927996,
          185700759,
          1921847111,
          404547819,
          704709660,
          876688482,
          14400000,
          1488732821,
          789804554,
          895921036,
          348319861,
          839030630,
          2923706026,
          871368364,
          41914915,
          1001978080,
          571750016,
          465516248,
          938212738,
          655011224,
          3300000,
          694713380,
          933959197,
          821708551,
          171539887,
          632091832,
          271333313,
          954305868,
          657870525,
          682716636,
          152720535,
          439381226,
          174287546,
          398479497,
          1118888979,
          859102154,
          546388108,
          1066179747,
          956019788,
          88761661,
          1405403694,
          405421518,
          585174222,
          61779301,
          926287400,
          1046721266,
          1671537444,
          961691209,
          103966489,
          378858340,
          1081041287,
          631272,
          359126022,
          226830568,
          712171856,
          24109036,
          531865000,
          829747654,
          894983373,
          1155046416,
          432243292,
          475000000,
          2068223624,
          1021103568,
          458863600,
          191067560,
          181073291,
          3854594,
          32978510,
          139200000,
          631442092,
          623933331,
          208200000,
          757930663,
          607274134,
          319715683,
          569626289,
          137587063,
          299300000,
          1515400000,
          29768915,
          428028233,
          411000000,
          384056482,
          791217826,
          169327687,
          487287646,
          239300000,
          121700000,
          476071180,
          393452111,
          100498764,
          1097831681,
          52800000,
          173900000,
          372262265,
          698491347,
          676343174,
          91036760,
          801693929,
          449326618,
          1056057273,
          1215577205,
          331957105,
          346118277,
          100014025,
          668045518,
          709827462,
          370541256,
          80509622,
          644783140,
          708962323,
          172989651,
          405000000,
          374218673,
          383963057,
          120654337,
          795922298,
          51695362,
          342463063,
          365304105,
          180906076,
          130290885,
          407141258,
          850000000,
          429632142,
          288885818,
          5928351,
          244900000,
          71508440,
          521170825,
          130788072,
          43900000,
          738599701,
          603873119,
          1152028393,
          1236000000,
          443280904,
          424988211,
          226945087,
          653428261,
          865011746,
          747862775,
          76000000,
          429434163,
          370569774,
          456082343,
          162400000,
          84997446,
          347325802,
          609016565,
          333535934,
          113200000,
          134686457,
          286168572,
          12342632,
          152159461,
          273339556,
          467989645,
          178143,
          332207671,
          467381584,
          995339117,
          226497209,
          37917985,
          195702811,
          2826064,
          5410749,
          48983306,
          562363449,
          470116094,
          7021101,
          543934787,
          6903033,
          162100000,
          347234916,
          109578115,
          649398328,
          1108594176,
          81967450,
          258097122,
          164989338,
          52300000,
          574480841,
          454023,
          96221061,
          75836683,
          1242805359,
          84426031,
          56255142,
          376100000,
          31626978,
          91500000,
          16706680,
          337580051,
          147080413,
          245623848,
          221600160,
          64337744,
          201585328,
          97300000,
          435000000,
          410902662,
          409912892,
          714766572,
          209200000,
          207700000,
          314975955,
          214034224,
          445135288,
          433677183,
          205537933,
          524978362,
          282548,
          552639571,
          173600000,
          69633110,
          74515586,
          524028679,
          149175066,
          98000000,
          83869818,
          654213485,
          13900000,
          214657577,
          371353001,
          449762638,
          9112817,
          61601280,
          290132513,
          622674139,
          367799011,
          176070171,
          132563930,
          302500000,
          726229501,
          190400157,
          336365676,
          205000000,
          473990832,
          237200000,
          415484914,
          140705322,
          408579038,
          199006387,
          786636033,
          1034800131,
          772776600,
          104900000,
          493214993,
          10550350,
          14397593,
          2000000,
          371900000,
          123200000,
          130300000,
          240700000,
          293329073,
          125729635,
          39407616,
          167635712,
          1361,
          192610372,
          274703340,
          99965753,
          355692760,
          117487473,
          334615000,
          788976453,
          284100000,
          250397798,
          130786397,
          192907684,
          290061297,
          225973340,
          1028600000,
          96188903,
          118587880,
          51070807,
          150680864,
          60730568,
          162949164,
          259175788,
          297002527,
          89100000,
          261989769,
          205754447,
          51691156,
          363204635,
          268031828,
          459200000,
          170764026,
          145374099,
          48428063,
          177238796,
          114178613,
          198800000,
          389681935,
          318618,
          749200054,
          127400000,
          347500000,
          178120010,
          146661977,
          41037742,
          36964325,
          276600000,
          47042000,
          40300000,
          278731369,
          137056262,
          396600000,
          137500000,
          157107755,
          70060492,
          274650803,
          54700105,
          27642707,
          177427090,
          229147509,
          180557550,
          57130027,
          299457024,
          35700000,
          46471023,
          9400000,
          235666219,
          55700000,
          419665568,
          111200000,
          126041322,
          203277636,
          46900000,
          442824138,
          431971116,
          167805466,
          288500217,
          35271631,
          403449830,
          23123592,
          40829138,
          304654182,
          383531464,
          91709827,
          190213455,
          343471816,
          415686217,
          23076711,
          264105545,
          165333180,
          133511855,
          167977596,
          34600000,
          188133322,
          71255003,
          78309131,
          117248958,
          63523283,
          3984390,
          176586701,
          182379278,
          70992898,
          44806783,
          86369815,
          185770160,
          321669741,
          205366737,
          92374674,
          76994245,
          119520023,
          60795985,
          174822325,
          219851172,
          216972543,
          373993951,
          137328301,
          292400000,
          31672678,
          589593688,
          244819862,
          29116320,
          372200000,
          222231186,
          152930623,
          104500000,
          208076205,
          39238300,
          50548152,
          149900000,
          209073645,
          101702060,
          42900000,
          79781695,
          41142379,
          75395048,
          72629670,
          15902207,
          183018522,
          18887953,
          71406573,
          109000000,
          212000000,
          86493046,
          39861118,
          117831631,
          85131830,
          128905366,
          170270201,
          135500000,
          148075565,
          72000000,
          195243411,
          227817248,
          127906624,
          107626125,
          42145959,
          413106170,
          155446362,
          132274484,
          8352885,
          14946150,
          76066841,
          72109200,
          65000000,
          12537071,
          39800000,
          131940411,
          126540,
          116500000,
          158261424,
          179246868,
          31126421,
          66308758,
          46216641,
          80900000,
          40452643,
          5400000,
          78810595,
          319713881,
          158972570,
          38399961,
          203567857,
          94973540,
          97571250,
          199850315,
          72689126,
          57103895,
          67200000,
          428,
          133782481,
          218791811,
          28000000,
          199603202,
          23712097,
          690860472,
          16533595,
          899683,
          46117696,
          98769390,
          181700000,
          71410636,
          62022014,
          119942387,
          45900000,
          260500000,
          163800000,
          124827316,
          8574339,
          7162618,
          142400065,
          105300000,
          85498534,
          156974557,
          32140970,
          45491656,
          63300000,
          57777106,
          58100000,
          76419755,
          119269486,
          91627228,
          32517248,
          222809600,
          56681566,
          22741061,
          71900000,
          24377151,
          99138899,
          90029656,
          203427584,
          75734910,
          23580000,
          32948113,
          22472631,
          97446,
          53918723,
          98159963,
          99630675,
          50826898,
          69834815,
          21360215,
          63782078,
          4311284,
          13097915,
          82499399,
          128900000,
          101624843,
          269784201,
          195735876,
          27635305,
          27100000,
          64352607,
          57678321,
          27122040,
          114660784,
          160099222,
          26800152,
          30718107,
          19700000,
          388789,
          160466000,
          49500000,
          89792502,
          91753202,
          11774,
          95608995,
          111231041,
          57300000,
          158674180,
          143695338,
          230685453,
          253625427,
          211787511,
          51680201,
          2106557,
          121975011,
          50871113,
          1015760,
          136300000,
          46100000,
          46221189,
          16863583,
          875457937,
          99274467,
          158964610,
          43956255,
          942666,
          22165608,
          29200000,
          108609310,
          34808403,
          33372606,
          101200000,
          71561644,
          3775000,
          7600000,
          27500000,
          5148503,
          46546197,
          14708696,
          14940116,
          78382433,
          37700000,
          39000000,
          120453565,
          709709780,
          51155219,
          28645,
          26800000,
          14880939,
          25303038,
          9489829,
          38659039,
          44350926,
          153997819,
          64493915,
          64437847,
          53260230,
          40800000,
          35164920,
          113280098,
          254988,
          57881056,
          56500000,
          1123794079,
          23510601,
          54744738,
          18200000,
          107597242,
          66166000,
          58228460,
          2350695,
          32400000,
          11100000,
          22942221,
          10089373,
          68688831,
          97800000,
          492000,
          51386477,
          176048,
          33296457,
          88323487,
          61300000,
          7048886,
          4100000,
          16810562,
          8493890,
          40500000,
          52099090,
          94061311,
          132675864,
          80205382,
          14010832,
          17366,
          115772733,
          60161391,
          62803180,
          82800000,
          57223888,
          58500000,
          32540674,
          71416730,
          3964682,
          18409891,
          6294161,
          16000000,
          24719215,
          183293131,
          17869048,
          15200000,
          835102,
          8826837,
          31000,
          79958599,
          58795814,
          77944725,
          39091,
          146863,
          72178895,
          12666449,
          109862682,
          2158568,
          3639345,
          147845033,
          2424381,
          10629321,
          1616004,
          39438674,
          106387141,
          20545116,
          38100000,
          6205230,
          68673228,
          3485251,
          4537,
          215663859,
          160600000,
          20648328,
          13485145,
          43935763,
          12600000,
          8900000,
          64811540,
          82150183,
          7112282,
          40954603,
          15500000,
          293671,
          194243,
          17834865,
          13414416,
          1766092,
          948753,
          14089528,
          25035950,
          36893721,
          4729855,
          113579918,
          8600000,
          20546518,
          55600000,
          77885672,
          4900000,
          2054941,
          143049560,
          37470,
          37500,
          17976667,
          7177143,
          30353232,
          65977295,
          25345000,
          13596911,
          2433457,
          5989583,
          25740863,
          1750000,
          28169671,
          99924,
          60800000,
          52169,
          933847,
          20609977,
          34561,
          844447,
          8694320,
          39457342,
          56359980,
          22900000,
          7125027,
          193908,
          19412993,
          12036149,
          10539000,
          16200000,
          638221,
          4600000,
          51842679,
          2131057
         ],
         "yaxis": "y"
        },
        {
         "customdata": [
          [
           "The Accountant"
          ],
          [
           "Wind River"
          ],
          [
           "London Fields"
          ],
          [
           "The Wolf of Wall Street"
          ],
          [
           "Joker"
          ],
          [
           "The Batman"
          ],
          [
           "No Country for Old Men"
          ],
          [
           "Ocean's Eight"
          ],
          [
           "Love Lies Bleeding"
          ],
          [
           "Kingsman: The Secret Service"
          ],
          [
           "The Town"
          ],
          [
           "Killers of the Flower Moon"
          ],
          [
           "Strange Darling"
          ],
          [
           "Snatch"
          ],
          [
           "Legend"
          ],
          [
           "Zodiac"
          ],
          [
           "Longlegs"
          ],
          [
           "Three Billboards Outside Ebbing, Missouri"
          ],
          [
           "Knock Knock"
          ],
          [
           "Chappie"
          ],
          [
           "Jack Reacher"
          ],
          [
           "Juror #2"
          ],
          [
           "Nightcrawler"
          ],
          [
           "Inside Man"
          ],
          [
           "Hot Fuzz"
          ],
          [
           "The Killer"
          ],
          [
           "Sin City"
          ],
          [
           "22 Jump Street"
          ],
          [
           "Perfume: The Story of a Murderer"
          ],
          [
           "End of Watch"
          ],
          [
           "Blow"
          ],
          [
           "Blitz"
          ],
          [
           "The Exorcism of Emily Rose"
          ],
          [
           "A Walk Among the Tombstones"
          ],
          [
           "The Irishman"
          ],
          [
           "Lord of War"
          ],
          [
           "Army of the Dead"
          ],
          [
           "Requiem for a Dream"
          ],
          [
           "The Mule"
          ],
          [
           "The Order"
          ],
          [
           "The Bikeriders"
          ],
          [
           "Ocean's Thirteen"
          ],
          [
           "The Raven"
          ],
          [
           "Big Momma's House"
          ],
          [
           "BlacKkKlansman"
          ],
          [
           "Nightmare Alley"
          ],
          [
           "The Lincoln Lawyer"
          ],
          [
           "21 Bridges"
          ],
          [
           "Gangster Squad"
          ],
          [
           "Panic Room"
          ],
          [
           "Lawless"
          ],
          [
           "Road to Perdition"
          ],
          [
           "Monster"
          ],
          [
           "Big Mommas: Like Father, Like Son"
          ],
          [
           "Freedom Writers"
          ],
          [
           "Widows"
          ],
          [
           "Public Enemies"
          ],
          [
           "Johnny English Reborn"
          ],
          [
           "Going in Style"
          ],
          [
           "Boy Kills World"
          ],
          [
           "The Girl on the Train"
          ],
          [
           "Basic Instinct 2"
          ],
          [
           "The Last House on the Left"
          ],
          [
           "The Hate U Give"
          ],
          [
           "The American"
          ],
          [
           "Dogville"
          ],
          [
           "Before the Devil Knows You're Dead"
          ],
          [
           "Faster"
          ],
          [
           "The Pledge"
          ],
          [
           "The Outfit"
          ],
          [
           "Emily the Criminal"
          ],
          [
           "Max Payne"
          ],
          [
           "Gone Baby Gone"
          ],
          [
           "Trust"
          ],
          [
           "No Good Deed"
          ],
          [
           "Gridiron Gang"
          ],
          [
           "Baby Boy"
          ],
          [
           "Good Time"
          ],
          [
           "The Visitor"
          ],
          [
           "Dragged Across Concrete"
          ],
          [
           "Blackhat"
          ],
          [
           "The November Man"
          ],
          [
           "The Family"
          ],
          [
           "Blue Story"
          ],
          [
           "Cleaner"
          ],
          [
           "The Brave One"
          ],
          [
           "Under the Silver Lake"
          ],
          [
           "Capote"
          ],
          [
           "Along Came a Spider"
          ],
          [
           "Edge of Darkness"
          ],
          [
           "The Black Dahlia"
          ],
          [
           "The Many Saints of Newark"
          ],
          [
           "The Call"
          ],
          [
           "Killing Them Softly"
          ],
          [
           "Hacker"
          ],
          [
           "Marlowe"
          ],
          [
           "Premium Rush"
          ],
          [
           "Midnight in the Switchgrass"
          ],
          [
           "White Boy Rick"
          ],
          [
           "Killer Joe"
          ],
          [
           "The Taking of Pelham 1 2 3"
          ],
          [
           "Child 44"
          ],
          [
           "Filth"
          ],
          [
           "Runner Runner"
          ],
          [
           "25th Hour"
          ],
          [
           "Animal Kingdom"
          ],
          [
           "All the Money in the World"
          ],
          [
           "You Were Never Really Here"
          ],
          [
           "Dope"
          ],
          [
           "Havoc"
          ],
          [
           "The Spirit"
          ],
          [
           "Mr. Brooks"
          ],
          [
           "Detroit"
          ],
          [
           "Changeling"
          ],
          [
           "Savages"
          ],
          [
           "The Hole"
          ],
          [
           "Elephant"
          ],
          [
           "The Snowman"
          ],
          [
           "Animal Factory"
          ],
          [
           "A Most Violent Year"
          ],
          [
           "Rampart"
          ],
          [
           "Alpha Dog"
          ],
          [
           "Half Past Dead"
          ],
          [
           "Swimming Pool"
          ],
          [
           "The Good Liar"
          ],
          [
           "The Yards"
          ],
          [
           "Queen & Slim"
          ],
          [
           "The Conspirator"
          ],
          [
           "Brooklyn's Finest"
          ],
          [
           "Harsh Times"
          ],
          [
           "Crown Vic"
          ],
          [
           "Wonderland"
          ],
          [
           "Gotti"
          ],
          [
           "Siberia"
          ],
          [
           "The Interpreter"
          ],
          [
           "Dark Blue"
          ],
          [
           "Boiler Room"
          ],
          [
           "Cassandra's Dream"
          ],
          [
           "The Fanatic"
          ],
          [
           "Snowtown"
          ]
         ],
         "hovertemplate": "genre1=Crime<br>Budget ($)=%{x}<br>Revenue ($)=%{y}<br>popularity=%{marker.size}<br>title=%{customdata[0]}<extra></extra>",
         "legendgroup": "Crime",
         "marker": {
          "color": "#EF553B",
          "size": [
           178.4133,
           50.6881,
           26.4796,
           21.494,
           18.9285,
           16.928,
           12.9179,
           11.3795,
           11.1401,
           11.0233,
           10.9621,
           10.9417,
           10.7597,
           10.6369,
           10.417,
           10.1849,
           10.1692,
           9.7984,
           9.5995,
           9.5012,
           9.249,
           8.9867,
           8.626,
           8.3544,
           7.8376,
           7.0992,
           6.7941,
           6.7477,
           6.6114,
           6.2273,
           6.2244,
           6.1039,
           6.0539,
           6.0009,
           5.9568,
           5.9407,
           5.8671,
           5.8173,
           5.6266,
           5.5916,
           5.5295,
           5.363,
           5.1675,
           5.0807,
           5.0466,
           4.9459,
           4.9076,
           4.9029,
           4.8602,
           4.8465,
           4.7946,
           4.734,
           4.6831,
           4.6113,
           4.5978,
           4.5852,
           4.4889,
           4.4866,
           4.4143,
           4.3938,
           4.3207,
           4.2614,
           4.193,
           4.1601,
           4.1549,
           4.1362,
           4.1352,
           4.0237,
           3.9827,
           3.9324,
           3.8875,
           3.8764,
           3.8749,
           3.8451,
           3.8419,
           3.8416,
           3.7216,
           3.7133,
           3.6727,
           3.6606,
           3.586,
           3.5815,
           3.5524,
           3.5086,
           3.4859,
           3.485,
           3.4661,
           3.4632,
           3.4005,
           3.3901,
           3.3395,
           3.3302,
           3.315,
           3.2223,
           3.1941,
           3.1486,
           3.0923,
           3.0687,
           3.0616,
           3.0512,
           3.0434,
           2.9898,
           2.9726,
           2.9482,
           2.9277,
           2.8912,
           2.891,
           2.8711,
           2.8666,
           2.8468,
           2.8136,
           2.7683,
           2.7562,
           2.7269,
           2.7186,
           2.7176,
           2.6661,
           2.6605,
           2.641,
           2.6377,
           2.6374,
           2.6032,
           2.6001,
           2.5221,
           2.5217,
           2.4708,
           2.4585,
           2.4535,
           2.4277,
           2.4028,
           2.3986,
           2.3931,
           2.3774,
           2.3679,
           2.3592,
           2.3264,
           2.2996,
           2.282,
           2.2728,
           2.2412
          ],
          "sizemode": "area",
          "sizeref": 0.47105800000000003,
          "symbol": "circle"
         },
         "mode": "markers",
         "name": "Crime",
         "showlegend": true,
         "type": "scattergl",
         "x": [
          44000000,
          11000000,
          8000000,
          100000000,
          55000000,
          185000000,
          25000000,
          70000000,
          10000000,
          81000000,
          37000000,
          200000000,
          4000000,
          10000000,
          25000000,
          65000000,
          10000000,
          15000000,
          10000000,
          49000000,
          60000000,
          30000000,
          8500000,
          45000000,
          12000000,
          175000000,
          40000000,
          50000000,
          60000000,
          7000000,
          53000000,
          15774948,
          19000000,
          28000000,
          159000000,
          50000000,
          90000000,
          4500000,
          50000000,
          20000000,
          40000000,
          85000000,
          26000000,
          30000000,
          15000000,
          60000000,
          40000000,
          33000000,
          60000000,
          48000000,
          26000000,
          80000000,
          8000000,
          32000000,
          21000000,
          42000000,
          100000000,
          45000000,
          25000000,
          18000000,
          45000000,
          70000000,
          15000000,
          23000000,
          20000000,
          10000000,
          18000000,
          24000000,
          35000000,
          5000000,
          2000000,
          35000000,
          19000000,
          9500000,
          13200000,
          30000000,
          16000000,
          2000000,
          4000000,
          15000000,
          70000000,
          15000000,
          30000000,
          1600000,
          25000000,
          70000000,
          8500000,
          7000000,
          60000000,
          80000000,
          50000000,
          50000000,
          13000000,
          15000000,
          2000000,
          20000000,
          35000000,
          15000000,
          29000000,
          10000000,
          100000000,
          50000000,
          5000000,
          30000000,
          5000000,
          5000000,
          50000000,
          17000000,
          7000000,
          9000000,
          60000000,
          20000000,
          34000000,
          55000000,
          45000000,
          4158370,
          3000000,
          35000000,
          3600000,
          20000000,
          12000000,
          9500000,
          25000000,
          7800000,
          10000000,
          24000000,
          20000000,
          25000000,
          17000000,
          2000000,
          3600000,
          5000000,
          10000000,
          2000000,
          80000000,
          15000000,
          7000000,
          15000000,
          18000000,
          2000000
         ],
         "xaxis": "x",
         "y": [
          155160045,
          44998252,
          487420,
          407038432,
          1078958629,
          772319315,
          171627166,
          297718711,
          12778225,
          414351546,
          154026136,
          158722599,
          4853595,
          83557872,
          42972994,
          84785914,
          127961936,
          162729321,
          6341684,
          104399548,
          218300000,
          21418477,
          50300000,
          186003591,
          80600000,
          362113,
          158733820,
          331333876,
          135039924,
          55078146,
          83300000,
          15800000,
          145166804,
          58834384,
          968853,
          72600000,
          190700000,
          7390108,
          174800000,
          1970445,
          36110860,
          311312624,
          29657751,
          173959438,
          93411426,
          39629195,
          85412898,
          49900000,
          105200000,
          197100000,
          55404207,
          181001478,
          60400000,
          82686066,
          43095175,
          73900000,
          214104620,
          160078586,
          84618541,
          3139717,
          173200000,
          38629478,
          32721635,
          34934009,
          67900000,
          16690617,
          25005257,
          23081726,
          29419291,
          4000000,
          2157673,
          85416905,
          34600000,
          120000,
          53830415,
          41500000,
          29381649,
          3283369,
          18197518,
          660132,
          17752940,
          32600000,
          36894225,
          5750000,
          5796630,
          69766619,
          2053469,
          49327405,
          105200000,
          81126522,
          49111202,
          13037403,
          68572378,
          37930465,
          11239,
          6262663,
          31100000,
          229811,
          26000000,
          4633668,
          150166126,
          12951093,
          9114264,
          62600000,
          23932055,
          1000000,
          56996304,
          9400000,
          17986781,
          371000,
          39031337,
          48443734,
          23400000,
          113400000,
          82966152,
          7819851,
          10000000,
          43203413,
          43805,
          12007070,
          972512,
          32400000,
          19233280,
          22441323,
          33856058,
          889352,
          47803176,
          15478800,
          45700000,
          6000000,
          3868,
          2466444,
          4343227,
          2006704,
          162944923,
          12150301,
          28780255,
          22687639,
          3153,
          1349387
         ],
         "yaxis": "y"
        },
        {
         "customdata": [
          [
           "Beauty and the Beast"
          ],
          [
           "The Super Mario Bros. Movie"
          ],
          [
           "Coco"
          ],
          [
           "The Garfield Movie"
          ],
          [
           "Paddington in Peru"
          ],
          [
           "Madagascar"
          ],
          [
           "Like Mike"
          ],
          [
           "Wonder"
          ],
          [
           "Cars 3"
          ],
          [
           "Wreck-It Ralph"
          ],
          [
           "PAW Patrol: The Mighty Movie"
          ],
          [
           "The Bad Guys"
          ],
          [
           "Alice in Wonderland"
          ],
          [
           "Maleficent: Mistress of Evil"
          ],
          [
           "Toy Story 4"
          ],
          [
           "The Day the Earth Blew Up: A Looney Tunes Movie"
          ],
          [
           "Frozen II"
          ],
          [
           "Penguins of Madagascar"
          ],
          [
           "Bee Movie"
          ],
          [
           "The Angry Birds Movie 2"
          ],
          [
           "The SpongeBob SquarePants Movie"
          ],
          [
           "Madagascar: Escape 2 Africa"
          ],
          [
           "The SpongeBob Movie: Sponge on the Run"
          ],
          [
           "PAW Patrol: The Movie"
          ],
          [
           "Harold and the Purple Crayon"
          ],
          [
           "How the Grinch Stole Christmas"
          ],
          [
           "Trolls World Tour"
          ],
          [
           "Trolls"
          ],
          [
           "The Grinch"
          ],
          [
           "The Jungle Book"
          ],
          [
           "Dora and the Lost City of Gold"
          ],
          [
           "The SpongeBob Movie: Sponge Out of Water"
          ],
          [
           "Over the Hedge"
          ],
          [
           "The Spiderwick Chronicles"
          ],
          [
           "Ralph Breaks the Internet"
          ],
          [
           "Space Jam: A New Legacy"
          ],
          [
           "Onward"
          ],
          [
           "Sinbad: Legend of the Seven Seas"
          ],
          [
           "Minions"
          ],
          [
           "Freaky Friday"
          ],
          [
           "The Road to El Dorado"
          ],
          [
           "Smurfs: The Lost Village"
          ],
          [
           "The Cat in the Hat"
          ],
          [
           "Roald Dahl's Matilda the Musical"
          ],
          [
           "Abominable"
          ],
          [
           "ParaNorman"
          ],
          [
           "The Addams Family"
          ],
          [
           "Dumbo"
          ],
          [
           "Speed Racer"
          ],
          [
           "Miracles from Heaven"
          ],
          [
           "A Dog's Journey"
          ],
          [
           "Spy Kids"
          ],
          [
           "Clifford the Big Red Dog"
          ],
          [
           "The Secret Life of Bees"
          ],
          [
           "August Rush"
          ],
          [
           "Captain Underpants: The First Epic Movie"
          ],
          [
           "Spy Kids 2: The Island of Lost Dreams"
          ],
          [
           "Peter Rabbit 2: The Runaway"
          ],
          [
           "The Lizzie McGuire Movie"
          ],
          [
           "Dolittle"
          ],
          [
           "Alvin and the Chipmunks: The Road Chip"
          ],
          [
           "The Wild"
          ],
          [
           "Diary of a Wimpy Kid: Rodrick Rules"
          ],
          [
           "Mr. Bean's Holiday"
          ],
          [
           "RV"
          ],
          [
           "The Lego Ninjago Movie"
          ],
          [
           "Stuart Little 2"
          ],
          [
           "Lady and the Tramp"
          ],
          [
           "My Spy"
          ],
          [
           "Ella Enchanted"
          ],
          [
           "My Little Pony: The Movie"
          ],
          [
           "Gulliver's Travels"
          ],
          [
           "Smallfoot"
          ],
          [
           "Soul Surfer"
          ],
          [
           "Spy Kids 3-D: Game Over"
          ],
          [
           "The Muppets"
          ],
          [
           "Cats & Dogs: The Revenge of Kitty Galore"
          ],
          [
           "Spy Kids: All the Time in the World"
          ],
          [
           "The Water Horse"
          ],
          [
           "G-Force"
          ],
          [
           "The Jungle Book 2"
          ],
          [
           "The Wolf and the Lion"
          ],
          [
           "Playing with Fire"
          ],
          [
           "Sleepover"
          ],
          [
           "The Son of Bigfoot"
          ],
          [
           "Underdog"
          ],
          [
           "Zoom"
          ],
          [
           "Early Man"
          ],
          [
           "A Street Cat Named Bob"
          ],
          [
           "Kicking & Screaming"
          ],
          [
           "Cats & Dogs"
          ],
          [
           "Missing Link"
          ],
          [
           "Valiant"
          ],
          [
           "Shaun the Sheep Movie"
          ],
          [
           "102 Dalmatians"
          ],
          [
           "Alexander and the Terrible, Horrible, No Good, Very Bad Day"
          ],
          [
           "Marmaduke"
          ],
          [
           "Jimmy Neutron: Boy Genius"
          ],
          [
           "Pooh's Heffalump Movie"
          ],
          [
           "Playmobil: The Movie"
          ],
          [
           "Are We There Yet?"
          ],
          [
           "Cats & Dogs 3: Paws Unite"
          ],
          [
           "Middle School: The Worst Years of My Life"
          ],
          [
           "Nancy Drew"
          ],
          [
           "Ice Princess"
          ]
         ],
         "hovertemplate": "genre1=Family<br>Budget ($)=%{x}<br>Revenue ($)=%{y}<br>popularity=%{marker.size}<br>title=%{customdata[0]}<extra></extra>",
         "legendgroup": "Family",
         "marker": {
          "color": "#00cc96",
          "size": [
           167.1654,
           30.8584,
           21.5793,
           21.3332,
           18.7446,
           14.5296,
           13.3044,
           12.3699,
           12.2053,
           12.1239,
           11.6857,
           11.6464,
           11.3805,
           11.3329,
           10.5926,
           10.4486,
           10.1108,
           9.4296,
           8.9719,
           8.663,
           8.497,
           8.4754,
           8.3914,
           8.1704,
           7.9096,
           7.8842,
           7.771,
           7.7276,
           7.7167,
           7.5854,
           7.4892,
           7.3423,
           7.1143,
           7.0298,
           6.967,
           6.8511,
           6.5371,
           6.288,
           6.1506,
           5.7709,
           5.7278,
           5.7086,
           5.6002,
           5.4755,
           5.4645,
           5.448,
           5.3708,
           5.1742,
           5.1695,
           5.0733,
           4.8684,
           4.8086,
           4.7617,
           4.6891,
           4.6819,
           4.5909,
           4.5788,
           4.567,
           4.5352,
           4.4988,
           4.4957,
           4.4548,
           4.4488,
           4.4488,
           4.4267,
           4.2698,
           4.1214,
           4.0796,
           4.0532,
           4.0385,
           3.87,
           3.8224,
           3.7375,
           3.6922,
           3.6187,
           3.5837,
           3.5825,
           3.5804,
           3.3755,
           3.2644,
           3.2589,
           3.1575,
           3.0885,
           3.0621,
           3.0451,
           2.9572,
           2.9503,
           2.9395,
           2.8292,
           2.7514,
           2.7344,
           2.7235,
           2.6777,
           2.6553,
           2.6266,
           2.613,
           2.504,
           2.4905,
           2.4697,
           2.43,
           2.4217,
           2.4154,
           2.3792,
           2.3363,
           2.2796
          ],
          "sizemode": "area",
          "sizeref": 0.47105800000000003,
          "symbol": "circle"
         },
         "mode": "markers",
         "name": "Family",
         "showlegend": true,
         "type": "scattergl",
         "x": [
          160000000,
          100000000,
          175000000,
          60000000,
          90000000,
          75000000,
          30000000,
          20000000,
          175000000,
          165000000,
          30000000,
          80000000,
          200000000,
          185000000,
          175000000,
          15000000,
          150000000,
          132000000,
          150000000,
          65000000,
          30000000,
          150000000,
          60000000,
          26000000,
          40000000,
          123000000,
          90000000,
          125000000,
          75000000,
          175000000,
          49000000,
          74000000,
          80000000,
          90000000,
          175000000,
          150000000,
          200000000,
          60000000,
          74000000,
          26000000,
          95000000,
          60000000,
          109000000,
          25000000,
          75000000,
          60000000,
          40000000,
          170000000,
          120000000,
          16000000,
          16000000,
          35000000,
          64000000,
          11000000,
          25000000,
          38000000,
          38000000,
          45000000,
          17000000,
          175000000,
          90000000,
          80000000,
          21000000,
          25000000,
          50000000,
          70000000,
          120000000,
          60000000,
          18000000,
          31000000,
          6000000,
          112000000,
          80000000,
          18000000,
          38000000,
          45000000,
          85000000,
          27000000,
          40000000,
          150000000,
          20000000,
          11900000,
          29900000,
          10000000,
          30000000,
          25000000,
          75600000,
          50000000,
          8000000,
          45000000,
          60000000,
          100000000,
          35000000,
          25000000,
          85000000,
          28000000,
          50000000,
          25000000,
          20000000,
          75000000,
          32000000,
          17000000,
          8500000,
          20000000,
          25000000
         ],
         "xaxis": "x",
         "y": [
          1266115964,
          1362000000,
          807816196,
          254907482,
          209470312,
          542064525,
          62300000,
          315025930,
          383925276,
          471222889,
          202231360,
          250162278,
          1025467110,
          491730089,
          1073841394,
          15076954,
          1453683476,
          373515621,
          287594577,
          137792047,
          140161792,
          603900354,
          4700000,
          144327371,
          32227855,
          345800000,
          49276818,
          347337803,
          508600000,
          966550600,
          120600000,
          311594032,
          343397247,
          164200000,
          529323962,
          163692228,
          141940042,
          80767884,
          1159457503,
          160846332,
          76400000,
          197183546,
          133800000,
          37289659,
          190304772,
          107139399,
          204394183,
          353284621,
          93900000,
          74000000,
          78871079,
          147934180,
          107347356,
          38105395,
          66122026,
          125427681,
          119723358,
          153000000,
          55534455,
          251410631,
          233755553,
          102338515,
          72526996,
          232225908,
          87528173,
          123081555,
          169956806,
          51000000,
          10200000,
          27400000,
          61294644,
          237382724,
          214115531,
          47088990,
          197101678,
          165184237,
          112483764,
          85564310,
          103967384,
          292817841,
          135700000,
          15300000,
          69412425,
          10143022,
          46372519,
          65270477,
          12506188,
          53431158,
          17900000,
          56070433,
          93375151,
          26565710,
          61746888,
          106209378,
          183611771,
          100654149,
          83761844,
          80936232,
          52900000,
          1630000,
          97918663,
          4200000,
          23316139,
          30715465,
          27645491
         ],
         "yaxis": "y"
        },
        {
         "customdata": [
          [
           "Lilo & Stitch"
          ],
          [
           "Moana 2"
          ],
          [
           "Despicable Me 4"
          ],
          [
           "The Wild Robot"
          ],
          [
           "Inside Out 2"
          ],
          [
           "Kung Fu Panda 4"
          ],
          [
           "Spider-Man: Across the Spider-Verse"
          ],
          [
           "Coraline"
          ],
          [
           "Shrek"
          ],
          [
           "Memoir of a Snail"
          ],
          [
           "How to Train Your Dragon: The Hidden World"
          ],
          [
           "The Lord of the Rings: The War of the Rohirrim"
          ],
          [
           "Puss in Boots: The Last Wish"
          ],
          [
           "Transformers One"
          ],
          [
           "Zootopia"
          ],
          [
           "Monsters, Inc."
          ],
          [
           "Tangled"
          ],
          [
           "Encanto"
          ],
          [
           "Frozen"
          ],
          [
           "Migration"
          ],
          [
           "Ice Age"
          ],
          [
           "Shrek 2"
          ],
          [
           "Ratatouille"
          ],
          [
           "Inside Out"
          ],
          [
           "Elemental"
          ],
          [
           "Up"
          ],
          [
           "Spider-Man: Into the Spider-Verse"
          ],
          [
           "Turning Red"
          ],
          [
           "Finding Nemo"
          ],
          [
           "Sing 2"
          ],
          [
           "Luca"
          ],
          [
           "Cars 2"
          ],
          [
           "Soul"
          ],
          [
           "Brave"
          ],
          [
           "Cars"
          ],
          [
           "Hotel Transylvania: Transformania"
          ],
          [
           "The Lorax"
          ],
          [
           "Despicable Me 2"
          ],
          [
           "Rango"
          ],
          [
           "WALL·E"
          ],
          [
           "The Croods: A New Age"
          ],
          [
           "Kung Fu Panda 2"
          ],
          [
           "Wish"
          ],
          [
           "The Princess and the Frog"
          ],
          [
           "Sing"
          ],
          [
           "Hotel Transylvania"
          ],
          [
           "Despicable Me"
          ],
          [
           "Ice Age: Dawn of the Dinosaurs"
          ],
          [
           "Rio"
          ],
          [
           "Monsters University"
          ],
          [
           "Toy Story 3"
          ],
          [
           "Trolls Band Together"
          ],
          [
           "Raya and the Last Dragon"
          ],
          [
           "Ice Age: Continental Drift"
          ],
          [
           "Ballerina"
          ],
          [
           "Spirit: Stallion of the Cimarron"
          ],
          [
           "Minions: The Rise of Gru"
          ],
          [
           "Madagascar 3: Europe's Most Wanted"
          ],
          [
           "The Croods"
          ],
          [
           "Teenage Mutant Ninja Turtles: Mutant Mayhem"
          ],
          [
           "Ice Age: The Meltdown"
          ],
          [
           "The Simpsons Movie"
          ],
          [
           "Hotel Transylvania 3: Summer Vacation"
          ],
          [
           "Megamind"
          ],
          [
           "The Boss Baby: Family Business"
          ],
          [
           "Rise of the Guardians"
          ],
          [
           "Puss in Boots"
          ],
          [
           "Robots"
          ],
          [
           "The Smurfs"
          ],
          [
           "Ferdinand"
          ],
          [
           "Shark Tale"
          ],
          [
           "Ruby Gillman, Teenage Kraken"
          ],
          [
           "Chicken Little"
          ],
          [
           "The Lego Batman Movie"
          ],
          [
           "Monster House"
          ],
          [
           "The Lego Movie"
          ],
          [
           "Turbo"
          ],
          [
           "Hotel Transylvania 2"
          ],
          [
           "Bolt"
          ],
          [
           "The Polar Express"
          ],
          [
           "Meet the Robinsons"
          ],
          [
           "Dinosaur"
          ],
          [
           "Monsters vs Aliens"
          ],
          [
           "Lightyear"
          ],
          [
           "Happy Feet"
          ],
          [
           "Chicken Run"
          ],
          [
           "Cloudy with a Chance of Meatballs"
          ],
          [
           "Cloudy with a Chance of Meatballs 2"
          ],
          [
           "The Angry Birds Movie"
          ],
          [
           "Epic"
          ],
          [
           "Mr. Peabody & Sherman"
          ],
          [
           "Open Season"
          ],
          [
           "Home on the Range"
          ],
          [
           "The Emoji Movie"
          ],
          [
           "Surf's Up"
          ],
          [
           "Spies in Disguise"
          ],
          [
           "Peter Rabbit"
          ],
          [
           "Red Shoes and the Seven Dwarfs"
          ],
          [
           "Frankenweenie"
          ],
          [
           "The Canterville Ghost"
          ],
          [
           "The Book of Life"
          ],
          [
           "DC League of Super-Pets"
          ],
          [
           "Astro Boy"
          ],
          [
           "Rio 2"
          ],
          [
           "Chip 'n Dale: Rescue Rangers"
          ],
          [
           "Scoob!"
          ],
          [
           "Teen Titans Go! To the Movies"
          ],
          [
           "Hop"
          ],
          [
           "Horton Hears a Who!"
          ],
          [
           "Barnyard"
          ],
          [
           "Atlantis: The Lost Empire"
          ],
          [
           "Mary and Max"
          ],
          [
           "Legend of the Guardians: The Owls of Ga'Hoole"
          ],
          [
           "Strange World"
          ],
          [
           "The Animatrix"
          ],
          [
           "Hoodwinked!"
          ],
          [
           "Star Wars: The Clone Wars"
          ],
          [
           "Gnomeo & Juliet"
          ],
          [
           "Winnie the Pooh"
          ],
          [
           "Spirit Untamed"
          ],
          [
           "Happy Feet Two"
          ],
          [
           "Walking with Dinosaurs"
          ],
          [
           "Kubo and the Two Strings"
          ],
          [
           "Marcel the Shell with Shoes On"
          ],
          [
           "Wolfwalkers"
          ],
          [
           "The Boss Baby"
          ],
          [
           "A Christmas Carol"
          ],
          [
           "Justice League: War"
          ],
          [
           "Paws of Fury: The Legend of Hank"
          ],
          [
           "Titan A.E."
          ],
          [
           "Piece by Piece"
          ],
          [
           "Planes"
          ],
          [
           "UglyDolls"
          ],
          [
           "The Boxtrolls"
          ],
          [
           "Looney Tunes: Back in Action"
          ],
          [
           "Fantasia 2000"
          ],
          [
           "The Powerpuff Girls Movie"
          ],
          [
           "The Amazing Maurice"
          ],
          [
           "The Tigger Movie"
          ],
          [
           "Escape from Planet Earth"
          ],
          [
           "The Bob's Burgers Movie"
          ],
          [
           "Planes: Fire & Rescue"
          ],
          [
           "The Pirates! In an Adventure with Scientists!"
          ],
          [
           "Sgt. Stubby: An American Hero"
          ],
          [
           "Bigfoot Family"
          ],
          [
           "The Secret of Kells"
          ],
          [
           "Piglet's Big Movie"
          ],
          [
           "Rugrats Go Wild"
          ],
          [
           "The Nut Job"
          ],
          [
           "Alpha and Omega"
          ],
          [
           "Planet 51"
          ],
          [
           "The Nut Job 2: Nutty by Nature"
          ],
          [
           "Charming"
          ],
          [
           "A Scanner Darkly"
          ],
          [
           "Legends of Oz: Dorothy's Return"
          ],
          [
           "Rock Dog"
          ],
          [
           "Igor"
          ]
         ],
         "hovertemplate": "genre1=Animation<br>Budget ($)=%{x}<br>Revenue ($)=%{y}<br>popularity=%{marker.size}<br>title=%{customdata[0]}<extra></extra>",
         "legendgroup": "Animation",
         "marker": {
          "color": "#ab63fa",
          "size": [
           120.9177,
           101.2256,
           49.5239,
           47.3293,
           41.5177,
           40.6703,
           29.7443,
           28.5771,
           27.9314,
           27.0731,
           23.8191,
           23.0338,
           22.7693,
           21.6237,
           19.956,
           19.5479,
           18.7585,
           18.4326,
           17.936,
           17.7447,
           17.4335,
           17.2922,
           17.2769,
           17.0903,
           16.9248,
           15.0427,
           14.8206,
           14.7678,
           14.5472,
           14.3001,
           14.2277,
           14.0245,
           13.6391,
           13.1407,
           13.044,
           12.9686,
           12.9483,
           12.8374,
           12.5763,
           12.3313,
           12.0225,
           11.9587,
           11.8828,
           11.8462,
           11.5184,
           11.4597,
           11.4284,
           11.3485,
           11.3429,
           11.0272,
           11.0141,
           10.7263,
           10.4736,
           10.3047,
           10.2089,
           10.1279,
           10.107,
           10.1055,
           9.9596,
           9.8385,
           9.7152,
           9.4645,
           9.293,
           9.15,
           9.1213,
           8.6318,
           8.609,
           8.279,
           8.1983,
           8.1664,
           8.1151,
           8.015,
           7.6498,
           7.6314,
           7.3856,
           7.3438,
           7.3102,
           7.2545,
           7.1687,
           7.1651,
           6.8745,
           6.8723,
           6.8245,
           6.6918,
           6.5305,
           6.1691,
           6.1658,
           6.115,
           6.0427,
           5.9671,
           5.7628,
           5.6696,
           5.5112,
           5.4299,
           5.3536,
           5.3435,
           5.2852,
           5.1575,
           5.125,
           5.0881,
           5.0194,
           5.0032,
           4.9327,
           4.9263,
           4.9117,
           4.9068,
           4.8632,
           4.8248,
           4.7449,
           4.7135,
           4.6369,
           4.4043,
           4.3205,
           4.1861,
           4.1784,
           4.0878,
           4.0581,
           4.056,
           3.8725,
           3.8438,
           3.8136,
           3.7453,
           3.6264,
           3.588,
           3.5602,
           3.4353,
           3.4135,
           3.3064,
           3.2923,
           3.1355,
           3.0749,
           3.0324,
           3.0209,
           3.0066,
           3.0055,
           2.9902,
           2.9318,
           2.9087,
           2.871,
           2.8059,
           2.7864,
           2.6758,
           2.6254,
           2.6203,
           2.6018,
           2.5169,
           2.4791,
           2.4696,
           2.4631,
           2.4576,
           2.4436,
           2.3696,
           2.3502,
           2.2957,
           2.2889,
           2.2836,
           2.2762
          ],
          "sizemode": "area",
          "sizeref": 0.47105800000000003,
          "symbol": "circle"
         },
         "mode": "markers",
         "name": "Animation",
         "showlegend": true,
         "type": "scattergl",
         "x": [
          80000000,
          150000000,
          100000000,
          78000000,
          200000000,
          80000000,
          100000000,
          60000000,
          60000000,
          4350000,
          129000000,
          30000000,
          90000000,
          75000000,
          150000000,
          115000000,
          260000000,
          150000000,
          150000000,
          72000000,
          59000000,
          150000000,
          150000000,
          175000000,
          200000000,
          175000000,
          90000000,
          175000000,
          94000000,
          85000000,
          200000000,
          200000000,
          150000000,
          185000000,
          120000000,
          75000000,
          70000000,
          76000000,
          135000000,
          180000000,
          65000000,
          150000000,
          175000000,
          105000000,
          75000000,
          85000000,
          69000000,
          90000000,
          90000000,
          200000000,
          200000000,
          95000000,
          100000000,
          95000000,
          30000000,
          80000000,
          85000000,
          145000000,
          135000000,
          75000000,
          80000000,
          75000000,
          80000000,
          130000000,
          82000000,
          145000000,
          130000000,
          75000000,
          110000000,
          111000000,
          75000000,
          70000000,
          150000000,
          80000000,
          75000000,
          60000000,
          135000000,
          80000000,
          150000000,
          165000000,
          150000000,
          127500000,
          175000000,
          200000000,
          100000000,
          45000000,
          100000000,
          78000000,
          73000000,
          100000000,
          145000000,
          85000000,
          110000000,
          50000000,
          85000000,
          100000000,
          50000000,
          20000000,
          39000000,
          10000000,
          50000000,
          90000000,
          10000000,
          103000000,
          70000000,
          90000000,
          10000000,
          63000000,
          85000000,
          51000000,
          120000000,
          8240000,
          80000000,
          180000000,
          5000000,
          8000000,
          8500000,
          36000000,
          30000000,
          30000000,
          130000000,
          80000000,
          60000000,
          6000000,
          12000000,
          125000000,
          200000000,
          3500000,
          45000000,
          75000000,
          16000000,
          50000000,
          45000000,
          60000000,
          80000000,
          80000000,
          11000000,
          17000000,
          30000000,
          40000000,
          38000000,
          50000000,
          60000000,
          25000000,
          17520000,
          8000000,
          46000000,
          25000000,
          42000000,
          20000000,
          70000000,
          40000000,
          20000000,
          8700000,
          70000000,
          60000000,
          25000000
         ],
         "xaxis": "x",
         "y": [
          273144151,
          1059242164,
          969280910,
          331982078,
          1698863816,
          548040835,
          690897910,
          185860104,
          488628188,
          7,
          524580592,
          20658572,
          484700000,
          128888103,
          1023784195,
          579700000,
          592461732,
          261289554,
          1274219009,
          298776052,
          383257136,
          935454538,
          623726000,
          857611174,
          496444308,
          735099082,
          384298736,
          21328962,
          940335536,
          408402685,
          51074773,
          559852396,
          121977511,
          539000000,
          461983149,
          18500000,
          349305397,
          970766005,
          245700000,
          521311860,
          215905815,
          665692281,
          254997360,
          270997378,
          634151679,
          358375603,
          543284256,
          886686817,
          483866772,
          743600000,
          1067316101,
          209646030,
          130423032,
          877244782,
          109573511,
          122563539,
          940203765,
          746921274,
          587204668,
          180513586,
          660998756,
          527068851,
          528600000,
          321885765,
          146745280,
          306941670,
          554987477,
          262511490,
          563749323,
          295038508,
          367300000,
          46247409,
          314400000,
          311950384,
          140175006,
          470759687,
          282570682,
          473200000,
          309979994,
          318432432,
          169332978,
          354248063,
          381509870,
          226425420,
          384335608,
          224834564,
          242988466,
          248384621,
          349779543,
          268426634,
          272912430,
          197300000,
          145358062,
          216909830,
          149000000,
          171616764,
          351266433,
          10054356,
          81493846,
          2000000,
          97437106,
          203000000,
          19551067,
          498781117,
          623190,
          28600000,
          52390236,
          183953723,
          298572799,
          116755080,
          186053725,
          1740429,
          140073390,
          73621640,
          68000000,
          110000000,
          68282844,
          189712432,
          14460000,
          17635215,
          150406466,
          126500000,
          76249438,
          6909209,
          1310720,
          527965936,
          325286646,
          5155325,
          42500000,
          36754634,
          10591426,
          219788712,
          32500000,
          108255770,
          68500000,
          60655420,
          16426471,
          21110363,
          45554533,
          74597643,
          34148750,
          151165787,
          123054041,
          4900000,
          10855626,
          1803412,
          62870546,
          55443032,
          122500000,
          50507267,
          104945765,
          65100000,
          8751856,
          7659918,
          21755418,
          23270926,
          30700000
         ],
         "yaxis": "y"
        },
        {
         "customdata": [
          [
           "Moonlight"
          ],
          [
           "War for the Planet of the Apes"
          ],
          [
           "Battle of the Sexes"
          ],
          [
           "Anora"
          ],
          [
           "Manchester by the Sea"
          ],
          [
           "It Comes at Night"
          ],
          [
           "Nocturnal Animals"
          ],
          [
           "Hacksaw Ridge"
          ],
          [
           "Oppenheimer"
          ],
          [
           "Life Itself"
          ],
          [
           "Wicked"
          ],
          [
           "The Room"
          ],
          [
           "The Dressmaker"
          ],
          [
           "Fifty Shades of Grey"
          ],
          [
           "Conclave"
          ],
          [
           "The Dark Knight"
          ],
          [
           "Richard Jewell"
          ],
          [
           "Prisoners"
          ],
          [
           "Whiplash"
          ],
          [
           "Babygirl"
          ],
          [
           "Catch Me If You Can"
          ],
          [
           "Me Before You"
          ],
          [
           "Fifty Shades Freed"
          ],
          [
           "Inglourious Basterds"
          ],
          [
           "Kingdom of Heaven"
          ],
          [
           "The Brutalist"
          ],
          [
           "Challengers"
          ],
          [
           "The Prestige"
          ],
          [
           "Pride & Prejudice"
          ],
          [
           "Shutter Island"
          ],
          [
           "Mean Girls"
          ],
          [
           "Django Unchained"
          ],
          [
           "Joker: Folie à Deux"
          ],
          [
           "The Devil Wears Prada"
          ],
          [
           "The Hunger Games: The Ballad of Songbirds & Snakes"
          ],
          [
           "Love & Other Drugs"
          ],
          [
           "A Complete Unknown"
          ],
          [
           "The Pursuit of Happyness"
          ],
          [
           "The Martian"
          ],
          [
           "Hidden Figures"
          ],
          [
           "The Curious Case of Benjamin Button"
          ],
          [
           "Babylon"
          ],
          [
           "The Boy in the Striped Pyjamas"
          ],
          [
           "Arrival"
          ],
          [
           "The Social Network"
          ],
          [
           "I Am Legend"
          ],
          [
           "About Time"
          ],
          [
           "Three Thousand Years of Longing"
          ],
          [
           "Remember the Titans"
          ],
          [
           "Shooter"
          ],
          [
           "Green Book"
          ],
          [
           "9 Songs"
          ],
          [
           "Rush"
          ],
          [
           "The Pianist"
          ],
          [
           "Past Lives"
          ],
          [
           "The Founder"
          ],
          [
           "The Help"
          ],
          [
           "Fifty Shades Darker"
          ],
          [
           "The Departed"
          ],
          [
           "A Beautiful Mind"
          ],
          [
           "Creed II"
          ],
          [
           "8 Mile"
          ],
          [
           "The Last Samurai"
          ],
          [
           "There Will Be Blood"
          ],
          [
           "Air"
          ],
          [
           "The Passion of the Christ"
          ],
          [
           "Drive"
          ],
          [
           "Homestead"
          ],
          [
           "The Longest Yard"
          ],
          [
           "Saltburn"
          ],
          [
           "Nymphomaniac: Vol. II"
          ],
          [
           "12 Years a Slave"
          ],
          [
           "A.I. Artificial Intelligence"
          ],
          [
           "The Dreamers"
          ],
          [
           "Brothers"
          ],
          [
           "Beautiful Boy"
          ],
          [
           "Ford v Ferrari"
          ],
          [
           "It Ends with Us"
          ],
          [
           "Brokeback Mountain"
          ],
          [
           "Creed III"
          ],
          [
           "The Hateful Eight"
          ],
          [
           "21"
          ],
          [
           "Black Swan"
          ],
          [
           "The Zone of Interest"
          ],
          [
           "The Perks of Being a Wallflower"
          ],
          [
           "American Gangster"
          ],
          [
           "I Saw the TV Glow"
          ],
          [
           "Queer"
          ],
          [
           "The Great Gatsby"
          ],
          [
           "Atonement"
          ],
          [
           "Men, Women & Children"
          ],
          [
           "The Shape of Water"
          ],
          [
           "Nickel Boys"
          ],
          [
           "Law Abiding Citizen"
          ],
          [
           "Never Back Down"
          ],
          [
           "One Day"
          ],
          [
           "Passengers"
          ],
          [
           "Little Women"
          ],
          [
           "Argo"
          ],
          [
           "The Greatest Showman"
          ],
          [
           "Gran Torino"
          ],
          [
           "Elvis"
          ],
          [
           "Children of Men"
          ],
          [
           "CODA"
          ],
          [
           "The In Crowd"
          ],
          [
           "Flight"
          ],
          [
           "Moneyball"
          ],
          [
           "Shame"
          ],
          [
           "Enemy at the Gates"
          ],
          [
           "The Reader"
          ],
          [
           "Silver Linings Playbook"
          ],
          [
           "Birdman or (The Unexpected Virtue of Ignorance)"
          ],
          [
           "Straight Outta Compton"
          ],
          [
           "Valkyrie"
          ],
          [
           "Warrior"
          ],
          [
           "The Whale"
          ],
          [
           "Disobedience"
          ],
          [
           "The Patriot"
          ],
          [
           "The Babadook"
          ],
          [
           "Noah"
          ],
          [
           "Revolutionary Road"
          ],
          [
           "True Grit"
          ],
          [
           "A Walk to Remember"
          ],
          [
           "Where the Crawdads Sing"
          ],
          [
           "Lost in Translation"
          ],
          [
           "The Color Purple"
          ],
          [
           "Collateral"
          ],
          [
           "Gifted"
          ],
          [
           "John Q"
          ],
          [
           "The French Dispatch"
          ],
          [
           "Million Dollar Baby"
          ],
          [
           "My Sister's Keeper"
          ],
          [
           "Hachi: A Dog's Tale"
          ],
          [
           "Blood Diamond"
          ],
          [
           "Ex Machina"
          ],
          [
           "47 Ronin"
          ],
          [
           "Missing"
          ],
          [
           "The Impossible"
          ],
          [
           "Rocky Balboa"
          ],
          [
           "Cloud Atlas"
          ],
          [
           "The Shack"
          ],
          [
           "Erin Brockovich"
          ],
          [
           "Contagion"
          ],
          [
           "The Father"
          ],
          [
           "Ray"
          ],
          [
           "Gangs of New York"
          ],
          [
           "The Blind Side"
          ],
          [
           "Licorice Pizza"
          ],
          [
           "The Forge"
          ],
          [
           "Uncut Gems"
          ],
          [
           "The Fabelmans"
          ],
          [
           "The Virgin Suicides"
          ],
          [
           "The Bucket List"
          ],
          [
           "The Last Showgirl"
          ],
          [
           "The Post"
          ],
          [
           "Coach Carter"
          ],
          [
           "Slumdog Millionaire"
          ],
          [
           "Billy Elliot"
          ],
          [
           "Eat Pray Love"
          ],
          [
           "The Place Beyond the Pines"
          ],
          [
           "Benji"
          ],
          [
           "The Judge"
          ],
          [
           "West Side Story"
          ],
          [
           "The Vault"
          ],
          [
           "Lion"
          ],
          [
           "Moulin Rouge!"
          ],
          [
           "Here"
          ],
          [
           "Sing Sing"
          ],
          [
           "We Bought a Zoo"
          ],
          [
           "Almost Famous"
          ],
          [
           "Tinker Tailor Soldier Spy"
          ],
          [
           "King Richard"
          ],
          [
           "The Little Things"
          ],
          [
           "Radio"
          ],
          [
           "Only the Brave"
          ],
          [
           "Priscilla"
          ],
          [
           "The Giver"
          ],
          [
           "The Banshees of Inisherin"
          ],
          [
           "Marriage Story"
          ],
          [
           "Munich"
          ],
          [
           "The Village"
          ],
          [
           "A Dog's Way Home"
          ],
          [
           "The Lighthouse"
          ],
          [
           "Layer Cake"
          ],
          [
           "The Beach"
          ],
          [
           "The Tree of Life"
          ],
          [
           "Seven Pounds"
          ],
          [
           "Sully"
          ],
          [
           "Hustlers"
          ],
          [
           "The Theory of Everything"
          ],
          [
           "Joy"
          ],
          [
           "Boyhood"
          ],
          [
           "Chloe"
          ],
          [
           "Blue Valentine"
          ],
          [
           "Dog"
          ],
          [
           "Downton Abbey"
          ],
          [
           "Darkest Hour"
          ],
          [
           "Bombshell"
          ],
          [
           "Ali"
          ],
          [
           "Closer"
          ],
          [
           "Silence"
          ],
          [
           "Good Night, and Good Luck."
          ],
          [
           "Bridget Jones's Baby"
          ],
          [
           "The Florida Project"
          ],
          [
           "Everything, Everything"
          ],
          [
           "The Fighter"
          ],
          [
           "The Drop"
          ],
          [
           "Dark Waters"
          ],
          [
           "Breakthrough"
          ],
          [
           "The Assassination of Jesse James by the Coward Robert Ford"
          ],
          [
           "Crash"
          ],
          [
           "Room"
          ],
          [
           "The King's Speech"
          ],
          [
           "Precious"
          ],
          [
           "Molly's Game"
          ],
          [
           "The Lucky One"
          ],
          [
           "Magic Mike"
          ],
          [
           "The Hurt Locker"
          ],
          [
           "Lady Bird"
          ],
          [
           "Signs"
          ],
          [
           "Sweeney Todd: The Demon Barber of Fleet Street"
          ],
          [
           "Fireproof"
          ],
          [
           "Oldboy"
          ],
          [
           "American Hustle"
          ],
          [
           "Jarhead"
          ],
          [
           "P.S. I Love You"
          ],
          [
           "May December"
          ],
          [
           "Lucky Number Slevin"
          ],
          [
           "The Vow"
          ],
          [
           "Vicky Cristina Barcelona"
          ],
          [
           "Deepwater Horizon"
          ],
          [
           "Melancholia"
          ],
          [
           "The House That Jack Built"
          ],
          [
           "Professor Marston and the Wonder Women"
          ],
          [
           "The Woman in Black"
          ],
          [
           "Ticket to Paradise"
          ],
          [
           "House of Gucci"
          ],
          [
           "Remember Me"
          ],
          [
           "Walk the Line"
          ],
          [
           "Rough Night"
          ],
          [
           "Pig"
          ],
          [
           "White Bird"
          ],
          [
           "Runaway Jury"
          ],
          [
           "The Trial of the Chicago 7"
          ],
          [
           "The Aviator"
          ],
          [
           "Just Like Heaven"
          ],
          [
           "Anna Karenina"
          ],
          [
           "A Ghost Story"
          ],
          [
           "Antichrist"
          ],
          [
           "Mysterious Skin"
          ],
          [
           "The World's Fastest Indian"
          ],
          [
           "Carrie"
          ],
          [
           "Phantom Thread"
          ],
          [
           "The Master"
          ],
          [
           "Downton Abbey: A New Era"
          ],
          [
           "Unbroken"
          ],
          [
           "Searching"
          ],
          [
           "The Day the Earth Stood Still"
          ],
          [
           "Maestro"
          ],
          [
           "Kinds of Kindness"
          ],
          [
           "The Hours"
          ],
          [
           "Just Mercy"
          ],
          [
           "Spotlight"
          ],
          [
           "Judy"
          ],
          [
           "Downsizing"
          ],
          [
           "Ordinary Angels"
          ],
          [
           "The Mountain Between Us"
          ],
          [
           "Sleeping Beauty"
          ],
          [
           "Step Up 3D"
          ],
          [
           "We Need to Talk About Kevin"
          ],
          [
           "Monsters"
          ],
          [
           "Footloose"
          ],
          [
           "Vantage Point"
          ],
          [
           "Trouble with the Curve"
          ],
          [
           "What Lies Beneath"
          ],
          [
           "The Longest Ride"
          ],
          [
           "Invictus"
          ],
          [
           "The Good Lie"
          ],
          [
           "The Art of Racing in the Rain"
          ],
          [
           "Men of Honor"
          ],
          [
           "Before Sunset"
          ],
          [
           "Heaven Is for Real"
          ],
          [
           "Thirteen"
          ],
          [
           "Fences"
          ],
          [
           "Hostiles"
          ],
          [
           "Burnt"
          ],
          [
           "Wall Street: Money Never Sleeps"
          ],
          [
           "Black Mass"
          ],
          [
           "Burlesque"
          ],
          [
           "The Perfect Storm"
          ],
          [
           "The Way Back"
          ],
          [
           "A History of Violence"
          ],
          [
           "She Said"
          ],
          [
           "The Rite"
          ],
          [
           "After.Life"
          ],
          [
           "Chaos"
          ],
          [
           "A Beautiful Day in the Neighborhood"
          ],
          [
           "Marie Antoinette"
          ],
          [
           "The Time Traveler's Wife"
          ],
          [
           "The Eye"
          ],
          [
           "The Skeleton Key"
          ],
          [
           "Judas and the Black Messiah"
          ],
          [
           "Nomadland"
          ],
          [
           "The Words"
          ],
          [
           "Roman J. Israel, Esq."
          ],
          [
           "War Room"
          ],
          [
           "Dear Evan Hansen"
          ],
          [
           "Son of God"
          ],
          [
           "Big Eyes"
          ],
          [
           "Vice"
          ],
          [
           "Miss Sloane"
          ],
          [
           "The Other Boleyn Girl"
          ],
          [
           "Courageous"
          ],
          [
           "The Sisterhood of the Traveling Pants"
          ],
          [
           "The Bling Ring"
          ],
          [
           "Thank You for Your Service"
          ],
          [
           "mid90s"
          ],
          [
           "J. Edgar"
          ],
          [
           "Arthur Christmas"
          ],
          [
           "Jane Eyre"
          ],
          [
           "Something's Gotta Give"
          ],
          [
           "Let Me In"
          ],
          [
           "Black Snake Moan"
          ],
          [
           "Little Children"
          ],
          [
           "Inherent Vice"
          ],
          [
           "Stillwater"
          ],
          [
           "Pay It Forward"
          ],
          [
           "Synecdoche, New York"
          ],
          [
           "Flatliners"
          ],
          [
           "The Last King of Scotland"
          ],
          [
           "The Jacket"
          ],
          [
           "Antlers"
          ],
          [
           "The Station Agent"
          ],
          [
           "We Are Your Friends"
          ],
          [
           "Obsessed"
          ],
          [
           "Memoirs of a Geisha"
          ],
          [
           "Frida"
          ],
          [
           "Mary Magdalene"
          ],
          [
           "Gosford Park"
          ],
          [
           "Hotel Rwanda"
          ],
          [
           "The Great Debaters"
          ],
          [
           "Ken Park"
          ],
          [
           "A Thousand Words"
          ],
          [
           "This Is Where I Leave You"
          ],
          [
           "Snowden"
          ],
          [
           "Braven"
          ],
          [
           "Get Rich or Die Tryin'"
          ],
          [
           "The Report"
          ],
          [
           "Do You Believe?"
          ],
          [
           "Still Alice"
          ],
          [
           "Father Stu"
          ],
          [
           "A Single Man"
          ],
          [
           "Adore"
          ],
          [
           "Morning Glory"
          ],
          [
           "Mr. Holmes"
          ],
          [
           "The 33"
          ],
          [
           "The Ring Two"
          ],
          [
           "Arbitrage"
          ],
          [
           "Across the Universe"
          ],
          [
           "Red Rocket"
          ],
          [
           "Acrimony"
          ],
          [
           "Dreamcatcher"
          ],
          [
           "Babel"
          ],
          [
           "21 Grams"
          ],
          [
           "Words on Bathroom Walls"
          ],
          [
           "Minari"
          ],
          [
           "I, Tonya"
          ],
          [
           "Red Tails"
          ],
          [
           "Mary Queen of Scots"
          ],
          [
           "North Country"
          ],
          [
           "Collateral Beauty"
          ],
          [
           "The Fountain"
          ],
          [
           "If I Stay"
          ],
          [
           "The Informer"
          ],
          [
           "Lovelace"
          ],
          [
           "Unforgettable"
          ],
          [
           "Dreamgirls"
          ],
          [
           "The Believer"
          ],
          [
           "Beasts of No Nation"
          ],
          [
           "American Underdog"
          ],
          [
           "Race"
          ],
          [
           "Elizabeth: The Golden Age"
          ],
          [
           "Hard Candy"
          ],
          [
           "Michael Clayton"
          ],
          [
           "The Book Thief"
          ],
          [
           "Up in the Air"
          ],
          [
           "The Killing of a Sacred Deer"
          ],
          [
           "Dallas Buyers Club"
          ],
          [
           "Labor Day"
          ],
          [
           "Solaris"
          ],
          [
           "High Fidelity"
          ],
          [
           "Goal!"
          ],
          [
           "Aftermath"
          ],
          [
           "Blindness"
          ],
          [
           "Straw Dogs"
          ],
          [
           "My Week with Marilyn"
          ],
          [
           "Spencer"
          ],
          [
           "Winter's Tale"
          ],
          [
           "The Kite Runner"
          ],
          [
           "The Fifth Estate"
          ],
          [
           "Somewhere"
          ],
          [
           "Finding Neverland"
          ],
          [
           "Match Point"
          ],
          [
           "The Perfect Game"
          ],
          [
           "Luther"
          ],
          [
           "Concussion"
          ],
          [
           "Enough"
          ],
          [
           "Hitchcock"
          ],
          [
           "Shall We Dance?"
          ],
          [
           "LOL"
          ],
          [
           "Marshall"
          ],
          [
           "Water for Elephants"
          ],
          [
           "The Good Shepherd"
          ],
          [
           "Cake"
          ],
          [
           "God's Not Dead 2"
          ],
          [
           "The Lake House"
          ],
          [
           "Save the Last Dance"
          ],
          [
           "The Legend of Bagger Vance"
          ],
          [
           "A Dangerous Method"
          ],
          [
           "A Journal for Jordan"
          ],
          [
           "The Lost Daughter"
          ],
          [
           "The Glass House"
          ],
          [
           "5 Flights Up"
          ],
          [
           "Wild"
          ],
          [
           "T2 Trainspotting"
          ],
          [
           "Charlie St. Cloud"
          ],
          [
           "Finding Forrester"
          ],
          [
           "Monster's Ball"
          ],
          [
           "Dancer in the Dark"
          ],
          [
           "Compliance"
          ],
          [
           "The Choice"
          ],
          [
           "Jackie"
          ],
          [
           "Diary of a Mad Black Woman"
          ],
          [
           "United 93"
          ],
          [
           "Tristan & Isolde"
          ],
          [
           "The Manchurian Candidate"
          ],
          [
           "Arctic"
          ],
          [
           "Derailed"
          ],
          [
           "Eye in the Sky"
          ],
          [
           "Cadillac Records"
          ],
          [
           "Extremely Loud & Incredibly Close"
          ],
          [
           "Draft Day"
          ],
          [
           "The Boys in the Boat"
          ],
          [
           "The Good Doctor"
          ],
          [
           "Facing the Giants"
          ],
          [
           "Fair Game"
          ],
          [
           "The Boat That Rocked"
          ],
          [
           "Bad Lieutenant: Port of Call - New Orleans"
          ],
          [
           "Top Five"
          ],
          [
           "Drumline"
          ],
          [
           "Cosmopolis"
          ],
          [
           "Respect"
          ],
          [
           "42"
          ],
          [
           "Never Let Me Go"
          ],
          [
           "Dear John"
          ],
          [
           "Paul, Apostle of Christ"
          ],
          [
           "Inside Llewyn Davis"
          ],
          [
           "Stoker"
          ],
          [
           "Reign Over Me"
          ],
          [
           "Akeelah and the Bee"
          ],
          [
           "The Way Back"
          ],
          [
           "Before I Fall"
          ],
          [
           "Summer of 84"
          ],
          [
           "Winter's Bone"
          ],
          [
           "Welcome to Marwen"
          ],
          [
           "Freud's Last Session"
          ],
          [
           "Billy Lynn's Long Halftime Walk"
          ],
          [
           "Camp X-Ray"
          ],
          [
           "Invincible"
          ],
          [
           "Women Talking"
          ],
          [
           "Rent"
          ],
          [
           "ATL"
          ],
          [
           "Hereafter"
          ],
          [
           "Empire of Light"
          ],
          [
           "Hands of Stone"
          ],
          [
           "Seabiscuit"
          ],
          [
           "20th Century Women"
          ],
          [
           "The Best Exotic Marigold Hotel"
          ],
          [
           "Columbus"
          ],
          [
           "Lords of Dogtown"
          ],
          [
           "The Glass Castle"
          ],
          [
           "The Zookeeper's Wife"
          ],
          [
           "Gods and Generals"
          ],
          [
           "The Rookie"
          ],
          [
           "I Used to Be Funny"
          ],
          [
           "I Am Sam"
          ],
          [
           "Stomp the Yard"
          ],
          [
           "Overcomer"
          ],
          [
           "The Wrestler"
          ],
          [
           "The Life of David Gale"
          ],
          [
           "The Duchess"
          ],
          [
           "Girl with a Pearl Earring"
          ],
          [
           "Jobs"
          ],
          [
           "The Danish Girl"
          ],
          [
           "The Butler"
          ],
          [
           "The Ides of March"
          ],
          [
           "Raising Helen"
          ],
          [
           "90 Minutes in Heaven"
          ],
          [
           "Vox Lux"
          ],
          [
           "The Second Best Exotic Marigold Hotel"
          ],
          [
           "Jesus Revolution"
          ],
          [
           "Foxcatcher"
          ],
          [
           "God's Not Dead"
          ],
          [
           "Once"
          ],
          [
           "Unsung Hero"
          ],
          [
           "The 15:17 to Paris"
          ],
          [
           "The Last Full Measure"
          ],
          [
           "K-19: The Widowmaker"
          ],
          [
           "Endless Love"
          ],
          [
           "The Debt"
          ],
          [
           "The Light Between Oceans"
          ],
          [
           "Imagine Me & You"
          ],
          [
           "Living"
          ],
          [
           "The Case for Christ"
          ],
          [
           "Woman in Gold"
          ],
          [
           "I'm Not Ashamed"
          ],
          [
           "Aloha"
          ],
          [
           "The Blind"
          ],
          [
           "Hope Springs"
          ],
          [
           "Rabbit Hole"
          ],
          [
           "Stronger"
          ],
          [
           "Nine"
          ],
          [
           "Maggie's Plan"
          ],
          [
           "The Circle"
          ],
          [
           "White Girl"
          ],
          [
           "The Best of Me"
          ],
          [
           "The Last Song"
          ],
          [
           "Paterson"
          ],
          [
           "Boy Erased"
          ],
          [
           "Open Water 2: Adrift"
          ],
          [
           "Buried"
          ],
          [
           "Like Crazy"
          ],
          [
           "Doubt"
          ],
          [
           "Young Adam"
          ],
          [
           "Brick"
          ],
          [
           "Fruitvale Station"
          ],
          [
           "Woodlawn"
          ],
          [
           "Love in the Time of Cholera"
          ],
          [
           "Mank"
          ],
          [
           "News of the World"
          ],
          [
           "Martha Marcy May Marlene"
          ],
          [
           "Dungeons & Dragons"
          ],
          [
           "Till"
          ],
          [
           "Armageddon Time"
          ],
          [
           "Steve Jobs"
          ],
          [
           "American Animals"
          ],
          [
           "The Constant Gardener"
          ],
          [
           "Proof"
          ],
          [
           "Rendition"
          ],
          [
           "Open Water"
          ],
          [
           "Secretariat"
          ],
          [
           "The Devil's Rejects"
          ],
          [
           "Spring Breakers"
          ],
          [
           "Lady in the Water"
          ],
          [
           "Operation Finale"
          ],
          [
           "Whip It"
          ],
          [
           "In the Heights"
          ],
          [
           "Temptation: Confessions of a Marriage Counselor"
          ],
          [
           "Half Nelson"
          ],
          [
           "Crossroads"
          ],
          [
           "Transamerica"
          ],
          [
           "Misconduct"
          ],
          [
           "The Mothman Prophecies"
          ],
          [
           "The Secret: Dare to Dream"
          ],
          [
           "Motherless Brooklyn"
          ],
          [
           "The Company You Keep"
          ],
          [
           "I'm Not There"
          ],
          [
           "Ghost Town"
          ],
          [
           "Wonderstruck"
          ],
          [
           "Honey Boy"
          ],
          [
           "Paranoia"
          ],
          [
           "Joe Bell"
          ],
          [
           "Equals"
          ],
          [
           "Everybody's Fine"
          ],
          [
           "Wasp Network"
          ],
          [
           "Whatever It Takes"
          ],
          [
           "Lakeview Terrace"
          ],
          [
           "Wonder Wheel"
          ],
          [
           "Be Kind Rewind"
          ],
          [
           "The Man Who Invented Christmas"
          ],
          [
           "About Schmidt"
          ],
          [
           "Belfast"
          ],
          [
           "His Only Son"
          ],
          [
           "Mona Lisa Smile"
          ],
          [
           "The Magdalene Sisters"
          ],
          [
           "Bleed for This"
          ],
          [
           "God's Not Dead: A Light in Darkness"
          ],
          [
           "The Birth of a Nation"
          ],
          [
           "One Hour Photo"
          ],
          [
           "Suite Française"
          ],
          [
           "Salmon Fishing in the Yemen"
          ],
          [
           "W.E."
          ],
          [
           "Another Year"
          ],
          [
           "Belle"
          ]
         ],
         "hovertemplate": "genre1=Drama<br>Budget ($)=%{x}<br>Revenue ($)=%{y}<br>popularity=%{marker.size}<br>title=%{customdata[0]}<extra></extra>",
         "legendgroup": "Drama",
         "marker": {
          "color": "#FFA15A",
          "size": [
           117.8004,
           96.6202,
           73.3332,
           61.9364,
           59.6534,
           53.0738,
           42.8121,
           42.0868,
           40.8624,
           39.83,
           38.7032,
           32.4417,
           30.1222,
           22.4514,
           22.0822,
           22.0239,
           19.9601,
           19.0068,
           18.8375,
           18.1333,
           17.7575,
           16.9176,
           16.8601,
           16.2705,
           15.9396,
           15.7129,
           15.5768,
           15.0748,
           15.0594,
           14.4005,
           14.3536,
           14.1883,
           13.706,
           13.6345,
           13.5594,
           12.8803,
           12.7525,
           12.4768,
           12.1005,
           11.8006,
           11.4832,
           11.2285,
           11.1938,
           11.147,
           10.7806,
           10.7588,
           10.7583,
           10.7375,
           10.7008,
           10.6942,
           10.6819,
           10.2644,
           10.2328,
           10.1715,
           10.1522,
           10.1328,
           10.0734,
           9.9511,
           9.937,
           9.7863,
           9.6314,
           9.4105,
           9.375,
           9.2566,
           9.1422,
           9.114,
           9.0754,
           9.0371,
           9.0152,
           9.0112,
           8.9707,
           8.9021,
           8.8639,
           8.7931,
           8.6525,
           8.6283,
           8.6211,
           8.5384,
           8.5151,
           8.4886,
           8.4748,
           8.3685,
           8.3603,
           8.351,
           8.2945,
           8.2826,
           7.9866,
           7.9357,
           7.8377,
           7.8288,
           7.8116,
           7.6261,
           7.5979,
           7.5622,
           7.5045,
           7.4972,
           7.4619,
           7.4192,
           7.3962,
           7.3137,
           7.3048,
           7.1841,
           7.146,
           7.1325,
           7.0999,
           7.0561,
           7.0525,
           6.9796,
           6.9694,
           6.9445,
           6.833,
           6.8043,
           6.7682,
           6.7646,
           6.7546,
           6.7288,
           6.7257,
           6.7122,
           6.6288,
           6.5202,
           6.5091,
           6.4566,
           6.437,
           6.4239,
           6.4052,
           6.3222,
           6.2807,
           6.2559,
           6.2216,
           6.192,
           6.1811,
           6.1326,
           6.1181,
           6.0963,
           6.0518,
           6.0259,
           5.9288,
           5.9095,
           5.8861,
           5.8802,
           5.8671,
           5.8411,
           5.8339,
           5.723,
           5.7123,
           5.6433,
           5.6327,
           5.6234,
           5.5785,
           5.5727,
           5.5661,
           5.5507,
           5.5156,
           5.5153,
           5.4975,
           5.4927,
           5.4571,
           5.4164,
           5.4125,
           5.3463,
           5.3125,
           5.3061,
           5.301,
           5.2798,
           5.2778,
           5.2533,
           5.2308,
           5.206,
           5.1776,
           5.1287,
           5.0798,
           5.0789,
           5.0767,
           5.0184,
           5.0086,
           5.0044,
           5.0008,
           4.9993,
           4.997,
           4.9535,
           4.9498,
           4.9212,
           4.9114,
           4.7969,
           4.7906,
           4.785,
           4.7455,
           4.7412,
           4.7404,
           4.7315,
           4.7289,
           4.7202,
           4.7087,
           4.6531,
           4.6453,
           4.6431,
           4.6292,
           4.5985,
           4.5856,
           4.5729,
           4.552,
           4.5443,
           4.5403,
           4.5321,
           4.5229,
           4.5201,
           4.5017,
           4.4778,
           4.4716,
           4.4464,
           4.4234,
           4.412,
           4.4044,
           4.4015,
           4.386,
           4.3821,
           4.3811,
           4.3719,
           4.3686,
           4.3585,
           4.3411,
           4.3384,
           4.3376,
           4.3374,
           4.3363,
           4.3268,
           4.3266,
           4.3208,
           4.3191,
           4.3133,
           4.2916,
           4.273,
           4.2524,
           4.2418,
           4.2278,
           4.2149,
           4.2137,
           4.2125,
           4.2099,
           4.185,
           4.1633,
           4.1544,
           4.1513,
           4.1468,
           4.136,
           4.1258,
           4.1231,
           4.1081,
           4.096,
           4.0915,
           4.0876,
           4.0831,
           4.0806,
           4.0522,
           4.0337,
           4.0326,
           4.0267,
           4.0242,
           4.0233,
           4.0129,
           4.0101,
           4.0056,
           3.9978,
           3.9968,
           3.9828,
           3.9738,
           3.9736,
           3.9586,
           3.9484,
           3.9474,
           3.9448,
           3.9212,
           3.9172,
           3.9169,
           3.9152,
           3.9058,
           3.903,
           3.8944,
           3.8896,
           3.8517,
           3.8492,
           3.8426,
           3.833,
           3.8159,
           3.8019,
           3.8007,
           3.7998,
           3.7958,
           3.7944,
           3.7938,
           3.7687,
           3.7425,
           3.7371,
           3.7296,
           3.7249,
           3.7181,
           3.7146,
           3.7079,
           3.6998,
           3.6938,
           3.6921,
           3.6812,
           3.6753,
           3.654,
           3.6418,
           3.6332,
           3.6293,
           3.599,
           3.5988,
           3.5981,
           3.5939,
           3.5851,
           3.5766,
           3.5733,
           3.56,
           3.5399,
           3.5171,
           3.5165,
           3.4999,
           3.4947,
           3.4915,
           3.4886,
           3.4838,
           3.4838,
           3.4731,
           3.4684,
           3.4637,
           3.4611,
           3.458,
           3.4451,
           3.4425,
           3.418,
           3.3964,
           3.3944,
           3.3935,
           3.3887,
           3.3858,
           3.3853,
           3.383,
           3.3827,
           3.3776,
           3.3739,
           3.3662,
           3.3391,
           3.3349,
           3.3326,
           3.3255,
           3.3254,
           3.318,
           3.3103,
           3.3042,
           3.2968,
           3.2948,
           3.2922,
           3.2832,
           3.2828,
           3.2802,
           3.274,
           3.2623,
           3.2548,
           3.2454,
           3.2435,
           3.2288,
           3.2276,
           3.2199,
           3.2182,
           3.2127,
           3.2092,
           3.2049,
           3.204,
           3.2009,
           3.1994,
           3.1897,
           3.1863,
           3.1788,
           3.1677,
           3.1583,
           3.153,
           3.1481,
           3.1408,
           3.1349,
           3.1314,
           3.1306,
           3.1299,
           3.1238,
           3.1016,
           3.101,
           3.0941,
           3.0898,
           3.0849,
           3.0742,
           3.0731,
           3.073,
           3.0711,
           3.0655,
           3.0584,
           3.0524,
           3.0479,
           3.0472,
           3.047,
           3.0413,
           3.0377,
           3.029,
           3.028,
           3.0273,
           3.015,
           3.0133,
           3.0072,
           3.003,
           3.0024,
           2.9998,
           2.9953,
           2.9905,
           2.9902,
           2.9865,
           2.9705,
           2.9683,
           2.9635,
           2.9628,
           2.9621,
           2.9545,
           2.9503,
           2.9475,
           2.9411,
           2.9395,
           2.9392,
           2.9383,
           2.9305,
           2.9294,
           2.9225,
           2.9192,
           2.9164,
           2.9008,
           2.8981,
           2.8916,
           2.8898,
           2.8858,
           2.8794,
           2.8737,
           2.8679,
           2.8659,
           2.8646,
           2.8618,
           2.8585,
           2.8549,
           2.8519,
           2.8502,
           2.8404,
           2.8365,
           2.8347,
           2.833,
           2.8318,
           2.8305,
           2.8297,
           2.8246,
           2.8222,
           2.8199,
           2.819,
           2.8149,
           2.8115,
           2.8082,
           2.7982,
           2.7925,
           2.7878,
           2.7866,
           2.7825,
           2.7774,
           2.7766,
           2.769,
           2.7591,
           2.7526,
           2.7503,
           2.7492,
           2.746,
           2.736,
           2.7297,
           2.7253,
           2.7221,
           2.7203,
           2.7137,
           2.7101,
           2.7066,
           2.6919,
           2.6866,
           2.6769,
           2.6758,
           2.6726,
           2.666,
           2.6647,
           2.6573,
           2.6554,
           2.6524,
           2.6494,
           2.6431,
           2.6421,
           2.6418,
           2.6363,
           2.6334,
           2.6285,
           2.6179,
           2.6164,
           2.6135,
           2.6131,
           2.6115,
           2.6088,
           2.607,
           2.6069,
           2.6063,
           2.6052,
           2.6038,
           2.6011,
           2.6008,
           2.5821,
           2.5729,
           2.5713,
           2.5686,
           2.5615,
           2.5609,
           2.552,
           2.5496,
           2.5453,
           2.5448,
           2.5431,
           2.5425,
           2.5231,
           2.5215,
           2.5213,
           2.5184,
           2.515,
           2.5065,
           2.5039,
           2.502,
           2.5005,
           2.5002,
           2.4981,
           2.4893,
           2.4872,
           2.4846,
           2.4808,
           2.4762,
           2.4742,
           2.4694,
           2.4666,
           2.4639,
           2.4398,
           2.4395,
           2.4366,
           2.4274,
           2.4262,
           2.426,
           2.4182,
           2.4169,
           2.4145,
           2.4107,
           2.3978,
           2.3911,
           2.3867,
           2.3798,
           2.3786,
           2.353,
           2.3519,
           2.3516,
           2.3452,
           2.3416,
           2.3393,
           2.3368,
           2.3269,
           2.3251,
           2.3237,
           2.3216,
           2.3178,
           2.314,
           2.3127,
           2.3126,
           2.3081,
           2.3062,
           2.3056,
           2.3037,
           2.2995,
           2.2927,
           2.291,
           2.2742,
           2.2673,
           2.2592,
           2.2545,
           2.2541,
           2.2532,
           2.2509,
           2.2491,
           2.2394,
           2.238,
           2.2374,
           2.2353,
           2.2346
          ],
          "sizemode": "area",
          "sizeref": 0.47105800000000003,
          "symbol": "circle"
         },
         "mode": "markers",
         "name": "Drama",
         "showlegend": true,
         "type": "scattergl",
         "x": [
          4000000,
          150000000,
          25000000,
          6000000,
          9000000,
          5000000,
          22500000,
          40000000,
          100000000,
          10000000,
          150000000,
          6000000,
          11930000,
          40000000,
          20000000,
          185000000,
          45000000,
          46000000,
          3300000,
          20000000,
          52000000,
          20000000,
          55000000,
          70000000,
          130000000,
          9600000,
          55000000,
          40000000,
          28000000,
          80000000,
          17000000,
          100000000,
          190000000,
          35000000,
          100000000,
          30000000,
          65000000,
          55000000,
          108000000,
          25000000,
          150000000,
          78000000,
          12500000,
          47000000,
          40000000,
          150000000,
          12000000,
          60000000,
          30000000,
          61000000,
          23000000,
          1000000,
          38000000,
          35000000,
          12000000,
          15000000,
          25000000,
          55000000,
          90000000,
          58000000,
          50000000,
          41000000,
          140000000,
          25000000,
          80000000,
          30000000,
          15000000,
          5000000,
          90000000,
          20000000,
          2350000,
          20000000,
          100000000,
          15000000,
          26000000,
          25000000,
          97600000,
          25000000,
          14000000,
          75000000,
          44000000,
          35000000,
          13000000,
          15000000,
          13000000,
          100000000,
          10000000,
          53400000,
          105000000,
          30000000,
          16000000,
          19500000,
          23200000,
          53000000,
          20000000,
          15000000,
          110000000,
          40000000,
          44500000,
          84000000,
          33000000,
          85000000,
          76000000,
          10000000,
          15000000,
          31000000,
          50000000,
          6500000,
          68000000,
          32000000,
          21000000,
          18000000,
          28000000,
          75000000,
          25000000,
          3000000,
          6000000,
          110000000,
          2000000,
          125000000,
          35000000,
          38000000,
          11800000,
          24000000,
          4000000,
          90000000,
          65000000,
          7000000,
          36000000,
          25000000,
          30000000,
          30000000,
          16000000,
          100000000,
          15000000,
          175000000,
          7000000,
          45000000,
          24000000,
          102000000,
          20000000,
          52000000,
          60000000,
          6000000,
          40000000,
          100000000,
          29000000,
          40000000,
          5000000,
          19000000,
          40000000,
          6000000,
          45000000,
          2000000,
          50000000,
          30000000,
          15000000,
          5000000,
          60000000,
          15000000,
          6000000,
          40000000,
          100000000,
          15000000,
          12000000,
          52500000,
          40000000,
          2000000,
          50000000,
          60000000,
          30000000,
          50000000,
          30000000,
          35000000,
          38000000,
          20000000,
          25000000,
          20000000,
          18000000,
          70000000,
          60000000,
          18000000,
          11000000,
          6500000,
          40000000,
          32000000,
          55000000,
          60000000,
          20000000,
          15000000,
          60000000,
          4000000,
          14000000,
          1000000,
          20000000,
          20000000,
          30000000,
          32000000,
          107000000,
          27000000,
          46000000,
          7000000,
          35000000,
          2000000,
          10000000,
          25000000,
          12600000,
          20000000,
          14000000,
          30000000,
          6500000,
          13000000,
          15000000,
          10000000,
          30000000,
          25000000,
          7000000,
          15000000,
          10000000,
          72000000,
          50000000,
          500000,
          30000000,
          40000000,
          72000000,
          30000000,
          20000000,
          27000000,
          30000000,
          15000000,
          110000000,
          7400000,
          9800000,
          7000000,
          32000000,
          20000000,
          75000000,
          16000000,
          28000000,
          20000000,
          3000000,
          20000000,
          60000000,
          35000000,
          110000000,
          58000000,
          40600000,
          100000,
          11000000,
          3000000,
          25000000,
          30000000,
          35000000,
          32000000,
          40000000,
          65000000,
          1000000,
          80000000,
          80000000,
          15000000,
          25000000,
          25000000,
          20000000,
          10000000,
          68000000,
          13000000,
          35000000,
          10000000,
          30000000,
          7000000,
          500000,
          24000000,
          40000000,
          60000000,
          100000000,
          34000000,
          60000000,
          20000000,
          18000000,
          32000000,
          2700000,
          12000000,
          2000000,
          24000000,
          55000000,
          20000000,
          70000000,
          53000000,
          55000000,
          130000000,
          30000000,
          32000000,
          32000000,
          37000000,
          4500000,
          30000000,
          25000000,
          40000000,
          39000000,
          12000000,
          43000000,
          26000000,
          5000000,
          6000000,
          22000000,
          3000000,
          27500000,
          22000000,
          10000000,
          60000000,
          13000000,
          35000000,
          1000000,
          25000000,
          15000000,
          20000000,
          1700000,
          35000000,
          10000000,
          13000000,
          80000000,
          20000000,
          15000000,
          26000000,
          20000000,
          20000000,
          40000000,
          20000000,
          19000000,
          6000000,
          29000000,
          17000000,
          500000,
          6000000,
          20000000,
          85000000,
          12000000,
          20000000,
          19800000,
          17500000,
          15000000,
          1300000,
          40000000,
          19800000,
          40000000,
          5000000,
          40000000,
          8000000,
          2300000,
          5000000,
          4000000,
          7000000,
          16000000,
          40000000,
          11000000,
          25000000,
          50000000,
          12000000,
          45000000,
          1100000,
          20000000,
          68000000,
          25000000,
          20000000,
          8000000,
          2000000,
          11000000,
          58000000,
          25000000,
          35000000,
          36000000,
          35000000,
          11000000,
          60000000,
          10000000,
          12000000,
          70000000,
          1500000,
          6000000,
          25000000,
          5000000,
          55000000,
          950000,
          25000000,
          19000000,
          25000000,
          3000000,
          5000000,
          18000000,
          47000000,
          30000000,
          10000000,
          10500000,
          25000000,
          25000000,
          6400000,
          18000000,
          60000000,
          20000000,
          28000000,
          8000000,
          25000000,
          15000000,
          12500000,
          30000000,
          35000000,
          38000000,
          15700000,
          50000000,
          11000000,
          12000000,
          38000000,
          85000000,
          7000000,
          5000000,
          40000000,
          13000000,
          80000000,
          15000000,
          25000000,
          5000000,
          30000000,
          6000000,
          15000000,
          18000000,
          44000000,
          43000000,
          4000000,
          12500000,
          270000,
          10000000,
          9000000,
          5500000,
          15000000,
          31000000,
          80000000,
          2000000,
          22000000,
          13000000,
          12000000,
          40000000,
          25000000,
          40000000,
          6000000,
          100000,
          22000000,
          50000000,
          25000000,
          12000000,
          20000000,
          20500000,
          55000000,
          40000000,
          15000000,
          25000000,
          5000000,
          11000000,
          12000000,
          20000000,
          8000000,
          23000000,
          5000000,
          1500000,
          2000000,
          39000000,
          10000000,
          40000000,
          1000000,
          30000000,
          20000000,
          40000000,
          20000000,
          50000000,
          13500000,
          20000000,
          87000000,
          7000000,
          10000000,
          700000,
          25000000,
          9000000,
          20000000,
          56000000,
          20000000,
          2000000,
          22000000,
          13000000,
          5000000,
          6000000,
          50000000,
          17759769,
          10500000,
          12000000,
          15000000,
          25000000,
          12500000,
          50000000,
          5000000,
          7000000,
          10000000,
          15000000,
          24000000,
          17000000,
          160000,
          6000000,
          30000000,
          20000000,
          100000000,
          20000000,
          20000000,
          20000000,
          1000000,
          10000000,
          3000000,
          11000000,
          1500000,
          37000000,
          30000000,
          30000000,
          5000000,
          30000000,
          80000000,
          2000000,
          18000000,
          700000,
          26000000,
          20000000,
          5000000,
          15000000,
          1200000,
          1987650,
          250000,
          20000000,
          6400000,
          475000,
          900000,
          12000000,
          45000000,
          25000000,
          38000000,
          1000000,
          35000000,
          33000000,
          15000000,
          30000000,
          3000000,
          25000000,
          20000000,
          27500000,
          120000,
          35000000,
          7000000,
          5000000,
          70000000,
          24000000,
          15000000,
          55000000,
          37000000,
          700000,
          12000000,
          1000000,
          11000000,
          32000000,
          21000000,
          26000000,
          2000000,
          20000000,
          20000000,
          7000000,
          3500000,
          35000000,
          3500000,
          16000000,
          21000000,
          10530000,
          15000000,
          20000000,
          25000000,
          20000000,
          17000000,
          30000000,
          11000000,
          250000,
          72300000,
          5000000,
          6000000,
          5700000,
          8500000,
          12000000,
          15000000,
          14400000,
          15000000,
          8000000,
          10900000
         ],
         "xaxis": "x",
         "y": [
          65046687,
          490719763,
          12638526,
          56286295,
          79000000,
          19280931,
          29300000,
          175302354,
          952000000,
          7997774,
          756085570,
          1752988,
          25003426,
          569651467,
          115657988,
          1004558444,
          33900000,
          122126687,
          50307484,
          60934894,
          352114312,
          207945075,
          371985018,
          321457747,
          218366336,
          50145227,
          94182533,
          109676311,
          124604345,
          294804195,
          130161094,
          425368238,
          207500287,
          326706115,
          337371917,
          102800000,
          138003641,
          307077295,
          631058917,
          235957472,
          335802786,
          65267446,
          20416563,
          203388186,
          224920315,
          585410052,
          87100449,
          20300000,
          136700000,
          95700000,
          321752656,
          1574623,
          90200000,
          120098945,
          28126646,
          24121245,
          216600000,
          381545846,
          291465000,
          316791257,
          214200000,
          242875078,
          456800000,
          77208711,
          90100000,
          610063468,
          78100000,
          20811864,
          191466556,
          21013738,
          4934725,
          187000000,
          235926552,
          15100000,
          43500000,
          7700000,
          225508210,
          350993761,
          178043761,
          275300000,
          155760117,
          159808370,
          329398046,
          52631884,
          33384127,
          269755430,
          5396508,
          5450715,
          351040419,
          131016624,
          1700000,
          195300000,
          3016380,
          127900000,
          41627431,
          59400000,
          303144152,
          216600000,
          232300000,
          459066134,
          270000000,
          288670284,
          70595464,
          1905058,
          5280035,
          161772575,
          110206216,
          3909002,
          96976270,
          108902486,
          236412453,
          103215094,
          201634991,
          200276000,
          23300000,
          55101305,
          8000000,
          215294342,
          10300000,
          362600000,
          76000000,
          252300000,
          47494916,
          144353965,
          119723856,
          68919191,
          220239925,
          40300000,
          102244770,
          46333545,
          216763646,
          95714875,
          46800000,
          171700000,
          36869414,
          151783839,
          45100756,
          198100000,
          155929020,
          130482868,
          96942115,
          256271286,
          137551594,
          21029340,
          124700000,
          193772504,
          309231694,
          33276075,
          40392664,
          50023780,
          45629909,
          10409377,
          175400000,
          6380079,
          179769467,
          76669554,
          378400000,
          109280263,
          204594016,
          47135966,
          585333,
          84419388,
          76016171,
          8804000,
          140312928,
          179213434,
          15397270,
          3401789,
          120081841,
          47386287,
          80600000,
          39400000,
          29942746,
          53293628,
          25754775,
          30140906,
          66980456,
          49300000,
          2300000,
          130982129,
          256700000,
          17643857,
          18262464,
          11900000,
          144056873,
          54700000,
          168167691,
          240800000,
          157563598,
          123726688,
          101134059,
          48137666,
          13657649,
          15440333,
          84774243,
          194694725,
          150847207,
          61404394,
          87700000,
          115505027,
          23834809,
          54600000,
          211952420,
          11303040,
          61621140,
          129190869,
          19054534,
          13601384,
          49200000,
          14711793,
          98400000,
          35401758,
          414211549,
          47536959,
          59284015,
          99400000,
          167200000,
          49259766,
          79000000,
          408200000,
          152000000,
          33473297,
          5200000,
          251171807,
          97076152,
          156835339,
          4232370,
          56300000,
          196114570,
          96409830,
          121790376,
          15946321,
          5566776,
          1600000,
          129000000,
          168800000,
          153235995,
          56000000,
          186800000,
          45056771,
          3889432,
          8799528,
          80154140,
          107423,
          213719942,
          102900000,
          68929150,
          1929659,
          7413863,
          2148548,
          18300000,
          84790678,
          47756590,
          28258060,
          92651384,
          163400000,
          75462037,
          233093859,
          300000,
          16398509,
          108846217,
          50401502,
          98690254,
          38981322,
          55003890,
          20571534,
          62832209,
          408680,
          159291809,
          10800000,
          5639730,
          63543328,
          152039882,
          49000000,
          291420351,
          63013281,
          122400000,
          3396345,
          33800000,
          82300000,
          15992615,
          101300000,
          10128960,
          64400000,
          36976336,
          36606743,
          134748021,
          99975678,
          89500000,
          328718434,
          24200000,
          61477797,
          13900000,
          96047633,
          3606395,
          7000000,
          67900000,
          60917189,
          101344412,
          58010320,
          93983911,
          6416063,
          39458207,
          13231461,
          13025860,
          73267874,
          19133454,
          67800064,
          28900000,
          76100000,
          9101546,
          78269970,
          35690739,
          39053061,
          19145732,
          9995692,
          9303022,
          84606030,
          151300000,
          34710627,
          270000000,
          24145613,
          10900000,
          14821658,
          14710975,
          19754272,
          55707411,
          4383538,
          45158254,
          48600000,
          21733230,
          18867659,
          8701337,
          11100000,
          73830340,
          162242962,
          56298474,
          11710110,
          87754044,
          38000000,
          30226144,
          447741,
          22044277,
          41300000,
          37357216,
          854319,
          46442528,
          275000,
          14410698,
          44779195,
          21591034,
          25000000,
          1600000,
          60040976,
          29355203,
          24900000,
          161451538,
          35500000,
          29625761,
          2200000,
          34800000,
          81240206,
          135330835,
          60427839,
          3151849,
          12900000,
          53900000,
          50365377,
          46712809,
          25224242,
          88528280,
          15304890,
          78300000,
          2927708,
          1585582,
          17800000,
          154937680,
          1309316,
          9077700,
          26514814,
          24804129,
          74237563,
          7000000,
          92991835,
          76586316,
          166842739,
          10700000,
          55736588,
          20275812,
          30002758,
          47100000,
          27610873,
          840809,
          19844979,
          10324441,
          35100000,
          14000000,
          30800231,
          73276047,
          8555008,
          14788642,
          116766556,
          85306374,
          3878993,
          29400000,
          50400000,
          51800000,
          23570541,
          170128460,
          10500000,
          10051659,
          117094902,
          100266865,
          2360281,
          24487848,
          114830111,
          131706809,
          39459427,
          27462041,
          6700000,
          703281,
          23619609,
          1020921,
          52501541,
          41681746,
          48200000,
          80100000,
          44900000,
          40061153,
          592116,
          23730891,
          13960394,
          50652203,
          76300000,
          28000000,
          96105964,
          4100000,
          57479076,
          18704595,
          8880045,
          55200000,
          28831145,
          54401583,
          5206,
          10307987,
          25806953,
          36348784,
          10589102,
          26117471,
          57600000,
          6063556,
          31217372,
          95020213,
          9918093,
          114977104,
          25915966,
          32935319,
          12077441,
          22222308,
          18948425,
          14590514,
          16373843,
          42027,
          13831503,
          13061491,
          1697993,
          30930984,
          59744,
          57800000,
          7589419,
          31670620,
          21170563,
          107000000,
          11395604,
          5000000,
          148300000,
          5664764,
          136800000,
          1015744,
          13411957,
          22088533,
          26152835,
          12900000,
          75597042,
          160499,
          92542418,
          75511123,
          38026103,
          44734660,
          38955598,
          43306325,
          31500000,
          42100000,
          64200000,
          177313795,
          76338111,
          49700000,
          4842699,
          1300000,
          86000000,
          52300000,
          12096300,
          29789000,
          20710513,
          21220422,
          57076286,
          3364426,
          65700000,
          34100000,
          45636368,
          25975621,
          2500000,
          6999027,
          18200000,
          61619773,
          2082980,
          26250020,
          17265487,
          114281051,
          5144717,
          8484418,
          53825515,
          3400000,
          40651864,
          200242,
          35926213,
          89137047,
          2152738,
          7900000,
          6816129,
          19152480,
          3542353,
          50907234,
          2500000,
          3900000,
          17600000,
          14394097,
          4607608,
          122252,
          12700000,
          3500000,
          15185241,
          11498884,
          6524886,
          34400000,
          2847319,
          82468097,
          7535331,
          24748670,
          54683487,
          60300000,
          20901859,
          32016127,
          72785169,
          17506878,
          16633035,
          43000000,
          53143144,
          4911725,
          61141030,
          13350369,
          2049761,
          55305279,
          3215636,
          18377736,
          20014680,
          4001121,
          27100000,
          1947099,
          3400977,
          17056265,
          1700000,
          2084628,
          16443609,
          1400000,
          9902115,
          27640028,
          15366466,
          30600000,
          8100000,
          105834556,
          49158343,
          12100000,
          141337989,
          21107578,
          6174491,
          7414178,
          15861566,
          52223306,
          9104716,
          34564651,
          868439,
          18124262,
          16500000
         ],
         "yaxis": "y"
        },
        {
         "customdata": [
          [
           "Ready or Not"
          ],
          [
           "Infinity Pool"
          ],
          [
           "Final Destination"
          ],
          [
           "The Substance"
          ],
          [
           "Final Destination 5"
          ],
          [
           "Alien: Romulus"
          ],
          [
           "Final Destination 2"
          ],
          [
           "The Conjuring"
          ],
          [
           "Final Destination 3"
          ],
          [
           "The Final Destination"
          ],
          [
           "28 Days Later"
          ],
          [
           "Five Nights at Freddy's"
          ],
          [
           "Nosferatu"
          ],
          [
           "The Black Phone"
          ],
          [
           "Smile 2"
          ],
          [
           "Terrifier 3"
          ],
          [
           "The Conjuring: The Devil Made Me Do It"
          ],
          [
           "Life"
          ],
          [
           "The Nun II"
          ],
          [
           "Heretic"
          ],
          [
           "The Nun"
          ],
          [
           "The Conjuring 2"
          ],
          [
           "Annabelle"
          ],
          [
           "A Quiet Place: Day One"
          ],
          [
           "Smile"
          ],
          [
           "Beetlejuice Beetlejuice"
          ],
          [
           "A Quiet Place"
          ],
          [
           "It"
          ],
          [
           "28 Weeks Later"
          ],
          [
           "Saw"
          ],
          [
           "Evil Dead Rise"
          ],
          [
           "Subservience"
          ],
          [
           "Abigail"
          ],
          [
           "Annabelle Comes Home"
          ],
          [
           "Saw X"
          ],
          [
           "Scream"
          ],
          [
           "It Chapter Two"
          ],
          [
           "Hereditary"
          ],
          [
           "Midsommar"
          ],
          [
           "Scream VI"
          ],
          [
           "Talk to Me"
          ],
          [
           "Terrifier 2"
          ],
          [
           "Speak No Evil"
          ],
          [
           "Terrifier"
          ],
          [
           "X"
          ],
          [
           "Annabelle: Creation"
          ],
          [
           "Wrong Turn"
          ],
          [
           "MaXXXine"
          ],
          [
           "The Ritual"
          ],
          [
           "Split"
          ],
          [
           "The Cabin in the Woods"
          ],
          [
           "Pearl"
          ],
          [
           "The Autopsy of Jane Doe"
          ],
          [
           "The First Omen"
          ],
          [
           "Winnie-the-Pooh: Blood and Honey 2"
          ],
          [
           "Late Night with the Devil"
          ],
          [
           "Tarot"
          ],
          [
           "Van Helsing"
          ],
          [
           "Jennifer's Body"
          ],
          [
           "It Follows"
          ],
          [
           "Texas Chainsaw 3D"
          ],
          [
           "Dawn of the Dead"
          ],
          [
           "Barbarian"
          ],
          [
           "Insidious"
          ],
          [
           "Us"
          ],
          [
           "Orphan"
          ],
          [
           "The Ring"
          ],
          [
           "The Mist"
          ],
          [
           "Insidious: The Red Door"
          ],
          [
           "Jeepers Creepers"
          ],
          [
           "Shaun of the Dead"
          ],
          [
           "Mama"
          ],
          [
           "The Curse of La Llorona"
          ],
          [
           "The Pope's Exorcist"
          ],
          [
           "The Others"
          ],
          [
           "Ma"
          ],
          [
           "Don't Worry Darling"
          ],
          [
           "Sinister"
          ],
          [
           "Triangle"
          ],
          [
           "Scream 3"
          ],
          [
           "The Texas Chainsaw Massacre"
          ],
          [
           "Escape Room"
          ],
          [
           "Jeepers Creepers 2"
          ],
          [
           "The Invasion"
          ],
          [
           "Saw IV"
          ],
          [
           "The Hills Have Eyes"
          ],
          [
           "The Exorcist: Believer"
          ],
          [
           "Never Let Go"
          ],
          [
           "Saw III"
          ],
          [
           "The Witch"
          ],
          [
           "Freaky"
          ],
          [
           "Thanksgiving"
          ],
          [
           "The Last Voyage of the Demeter"
          ],
          [
           "The Purge: Anarchy"
          ],
          [
           "Immaculate"
          ],
          [
           "The Empty Man"
          ],
          [
           "Knock at the Cabin"
          ],
          [
           "Insidious: The Last Key"
          ],
          [
           "Spiral: From the Book of Saw"
          ],
          [
           "The Exorcism"
          ],
          [
           "Seed of Chucky"
          ],
          [
           "Insidious: Chapter 2"
          ],
          [
           "Cobweb"
          ],
          [
           "Doctor Sleep"
          ],
          [
           "Silent Hill"
          ],
          [
           "Cuckoo"
          ],
          [
           "The Mouse Trap"
          ],
          [
           "Last Night in Soho"
          ],
          [
           "Crawl"
          ],
          [
           "In a Violent Nature"
          ],
          [
           "Dead Silence"
          ],
          [
           "Saw II"
          ],
          [
           "Escape Room: Tournament of Champions"
          ],
          [
           "Suspiria"
          ],
          [
           "Overlord"
          ],
          [
           "Halloween"
          ],
          [
           "Don't Breathe"
          ],
          [
           "30 Days of Night"
          ],
          [
           "Orphan: First Kill"
          ],
          [
           "Freddy vs. Jason"
          ],
          [
           "Bodies Bodies Bodies"
          ],
          [
           "Drag Me to Hell"
          ],
          [
           "Halloween Ends"
          ],
          [
           "A Cure for Wellness"
          ],
          [
           "Evil Dead"
          ],
          [
           "Halloween Kills"
          ],
          [
           "Thir13en Ghosts"
          ],
          [
           "Friday the 13th"
          ],
          [
           "Legion"
          ],
          [
           "Insidious: Chapter 3"
          ],
          [
           "Scary Stories to Tell in the Dark"
          ],
          [
           "Host"
          ],
          [
           "The Wolfman"
          ],
          [
           "1408"
          ],
          [
           "Saw 3D"
          ],
          [
           "Jigsaw"
          ],
          [
           "Ghost Ship"
          ],
          [
           "Saw VI"
          ],
          [
           "The Dead Don't Die"
          ],
          [
           "As Above, So Below"
          ],
          [
           "Paranormal Activity"
          ],
          [
           "Jeepers Creepers: Reborn"
          ],
          [
           "Scream 4"
          ],
          [
           "Cult of Chucky"
          ],
          [
           "Countdown"
          ],
          [
           "Afraid"
          ],
          [
           "Krampus"
          ],
          [
           "Warm Bodies"
          ],
          [
           "Devil"
          ],
          [
           "Bones and All"
          ],
          [
           "Brightburn"
          ],
          [
           "The Shallows"
          ],
          [
           "Hostel"
          ],
          [
           "The Last Breath"
          ],
          [
           "The Boy"
          ],
          [
           "Eden Lake"
          ],
          [
           "47 Meters Down: Uncaged"
          ],
          [
           "Imaginary"
          ],
          [
           "Mirrors"
          ],
          [
           "Jeepers Creepers 3"
          ],
          [
           "Curse of Chucky"
          ],
          [
           "The Collector"
          ],
          [
           "Lights Out"
          ],
          [
           "The Hills Have Eyes 2"
          ],
          [
           "Pet Sematary"
          ],
          [
           "Paranormal Activity 3"
          ],
          [
           "Malignant"
          ],
          [
           "The Texas Chainsaw Massacre: The Beginning"
          ],
          [
           "Resident Evil"
          ],
          [
           "47 Meters Down"
          ],
          [
           "The Visit"
          ],
          [
           "Watcher"
          ],
          [
           "Slither"
          ],
          [
           "The Possession of Hannah Grace"
          ],
          [
           "Bait"
          ],
          [
           "Underwater"
          ],
          [
           "Child's Play"
          ],
          [
           "Dracula Untold"
          ],
          [
           "Umma"
          ],
          [
           "The Thing"
          ],
          [
           "The Strangers: Chapter 1"
          ],
          [
           "Ouija: Origin of Evil"
          ],
          [
           "The Cell"
          ],
          [
           "Poltergeist"
          ],
          [
           "The Ruins"
          ],
          [
           "Saw V"
          ],
          [
           "The Unholy"
          ],
          [
           "Gretel & Hansel"
          ],
          [
           "The Invitation"
          ],
          [
           "A Nightmare on Elm Street"
          ],
          [
           "The Omen"
          ],
          [
           "Crimson Peak"
          ],
          [
           "The Gift"
          ],
          [
           "Case 39"
          ],
          [
           "Halloween"
          ],
          [
           "Nefarious"
          ],
          [
           "Lisa Frankenstein"
          ],
          [
           "Maggie"
          ],
          [
           "Piranha 3DD"
          ],
          [
           "Willy's Wonderland"
          ],
          [
           "The Darkest Hour"
          ],
          [
           "Oculus"
          ],
          [
           "The Last Exorcism"
          ],
          [
           "Resident Evil: Apocalypse"
          ],
          [
           "The Awakening"
          ],
          [
           "The Boogeyman"
          ],
          [
           "Fright Night"
          ],
          [
           "Ouija"
          ],
          [
           "The Grudge"
          ],
          [
           "Night Swim"
          ],
          [
           "Amityville: The Awakening"
          ],
          [
           "Timber Falls"
          ],
          [
           "Jason X"
          ],
          [
           "Planet Terror"
          ],
          [
           "Color Out of Space"
          ],
          [
           "The Front Room"
          ],
          [
           "Hostel: Part II"
          ],
          [
           "The Blackening"
          ],
          [
           "The Possession"
          ],
          [
           "Black Christmas"
          ],
          [
           "Paranormal Activity 4"
          ],
          [
           "Unfriended"
          ],
          [
           "Unfriended: Dark Web"
          ],
          [
           "From Hell"
          ],
          [
           "House of 1000 Corpses"
          ],
          [
           "1922"
          ],
          [
           "The Strangers"
          ],
          [
           "Gothika"
          ],
          [
           "The Grudge"
          ],
          [
           "The Fog"
          ],
          [
           "Possessor"
          ],
          [
           "Paranormal Activity 2"
          ],
          [
           "Slender Man"
          ],
          [
           "Men"
          ],
          [
           "Land of the Dead"
          ],
          [
           "The Craft: Legacy"
          ],
          [
           "The Prodigy"
          ],
          [
           "I, Frankenstein"
          ],
          [
           "You're Next"
          ],
          [
           "The Strangers: Prey at Night"
          ],
          [
           "Halloween II"
          ],
          [
           "The Belko Experiment"
          ],
          [
           "Candyman"
          ],
          [
           "Winnie the Pooh: Blood and Honey"
          ],
          [
           "The Forest"
          ],
          [
           "Pulse"
          ],
          [
           "Black Christmas"
          ],
          [
           "Chernobyl Diaries"
          ],
          [
           "The Devil Inside"
          ],
          [
           "The Ward"
          ],
          [
           "The Amityville Horror"
          ],
          [
           "The Wicker Man"
          ],
          [
           "31"
          ],
          [
           "Green Room"
          ],
          [
           "Firestarter"
          ],
          [
           "The Rental"
          ],
          [
           "The Stepfather"
          ],
          [
           "Wolf Creek"
          ],
          [
           "P2"
          ],
          [
           "The Requin"
          ],
          [
           "Come Play"
          ],
          [
           "House at the End of the Street"
          ],
          [
           "A Girl Walks Home Alone at Night"
          ],
          [
           "Cursed"
          ],
          [
           "Hell Fest"
          ],
          [
           "Sinister 2"
          ],
          [
           "Rings"
          ],
          [
           "3 from Hell"
          ],
          [
           "Antebellum"
          ],
          [
           "Winchester"
          ],
          [
           "Morgan"
          ],
          [
           "The Unborn"
          ],
          [
           "The Grudge 2"
          ],
          [
           "Trick 'r Treat"
          ],
          [
           "The Bye Bye Man"
          ],
          [
           "See No Evil"
          ],
          [
           "Dog Soldiers"
          ],
          [
           "Book of Shadows: Blair Witch 2"
          ],
          [
           "The Bad Batch"
          ],
          [
           "Inland Empire"
          ],
          [
           "Wish Upon"
          ],
          [
           "Hide and Seek"
          ],
          [
           "Paranormal Activity: The Ghost Dimension"
          ],
          [
           "The Reaping"
          ],
          [
           "Haunt"
          ],
          [
           "My Bloody Valentine"
          ],
          [
           "Prom Night"
          ],
          [
           "The Turning"
          ],
          [
           "Dark Water"
          ],
          [
           "Relic"
          ],
          [
           "Hatchet II"
          ],
          [
           "Paranormal Activity: The Marked Ones"
          ],
          [
           "The Innkeepers"
          ],
          [
           "Unsane"
          ],
          [
           "The Midnight Meat Train"
          ],
          [
           "Shark Bait"
          ],
          [
           "6 Souls"
          ],
          [
           "Turistas"
          ],
          [
           "Sorority Row"
          ],
          [
           "Halloween: Resurrection"
          ],
          [
           "Exorcist: The Beginning"
          ]
         ],
         "hovertemplate": "genre1=Horror<br>Budget ($)=%{x}<br>Revenue ($)=%{y}<br>popularity=%{marker.size}<br>title=%{customdata[0]}<extra></extra>",
         "legendgroup": "Horror",
         "marker": {
          "color": "#19d3f3",
          "size": [
           114.9843,
           65.9086,
           43.0417,
           41.3507,
           38.3227,
           30.6654,
           27.5663,
           26.3462,
           25.7105,
           25.699,
           24.1824,
           21.9655,
           21.7875,
           21.5392,
           20.966,
           20.4886,
           18.9823,
           17.2769,
           16.4154,
           16.2407,
           16.0172,
           15.7583,
           15.295,
           15.1322,
           15.0793,
           15.0223,
           14.8565,
           13.7109,
           13.5775,
           13.4937,
           13.4638,
           13.4572,
           13.1028,
           12.6124,
           12.5324,
           12.3834,
           12.0849,
           12.0729,
           11.9936,
           11.755,
           11.5578,
           10.6229,
           10.5995,
           10.5336,
           10.469,
           10.4633,
           9.9928,
           9.8714,
           9.7427,
           9.5615,
           9.229,
           9.2287,
           9.188,
           9.172,
           9.0844,
           8.9683,
           8.8897,
           8.8158,
           8.6579,
           8.5305,
           8.4808,
           8.328,
           8.319,
           8.1623,
           8.139,
           8.1135,
           8.0181,
           7.9504,
           7.8147,
           7.7364,
           7.7276,
           7.6583,
           7.5666,
           7.4969,
           7.4734,
           7.4254,
           7.3929,
           7.1947,
           7.1222,
           7.0962,
           7.0265,
           6.9647,
           6.8692,
           6.8546,
           6.8319,
           6.6622,
           6.6449,
           6.5635,
           6.561,
           6.4957,
           6.4399,
           6.4372,
           6.4155,
           6.3862,
           6.351,
           6.2099,
           6.1771,
           6.1753,
           6.1621,
           6.1295,
           6.0845,
           6.0723,
           5.9565,
           5.8804,
           5.8526,
           5.7416,
           5.7236,
           5.6832,
           5.6142,
           5.6008,
           5.5857,
           5.5364,
           5.5163,
           5.4997,
           5.4642,
           5.454,
           5.449,
           5.4459,
           5.4291,
           5.3807,
           5.3623,
           5.2714,
           5.2474,
           5.2347,
           5.2143,
           5.1995,
           5.1284,
           5.103,
           5.0646,
           5.032,
           5.016,
           4.9902,
           4.986,
           4.9678,
           4.9205,
           4.909,
           4.8202,
           4.7196,
           4.6679,
           4.6672,
           4.6658,
           4.6428,
           4.6138,
           4.6011,
           4.5645,
           4.5626,
           4.5416,
           4.5413,
           4.5256,
           4.5153,
           4.5084,
           4.4969,
           4.4816,
           4.4801,
           4.4707,
           4.4684,
           4.4335,
           4.3955,
           4.3903,
           4.3499,
           4.327,
           4.3034,
           4.2732,
           4.2693,
           4.251,
           4.2352,
           4.2315,
           4.2287,
           4.2207,
           4.2197,
           4.1986,
           4.174,
           4.1645,
           4.1403,
           4.1272,
           4.0929,
           4.0591,
           4.0154,
           4.0103,
           4.0097,
           4.0065,
           4.0058,
           3.9149,
           3.9052,
           3.8823,
           3.8647,
           3.8287,
           3.8029,
           3.7984,
           3.7916,
           3.7854,
           3.763,
           3.7429,
           3.7145,
           3.6751,
           3.6607,
           3.6122,
           3.6072,
           3.6046,
           3.6007,
           3.5808,
           3.5797,
           3.5397,
           3.509,
           3.5079,
           3.4615,
           3.4267,
           3.3991,
           3.3919,
           3.3819,
           3.3641,
           3.3608,
           3.3465,
           3.3462,
           3.3415,
           3.3082,
           3.3047,
           3.3043,
           3.2834,
           3.2536,
           3.2211,
           3.2031,
           3.1916,
           3.1858,
           3.1847,
           3.1842,
           3.1752,
           3.1705,
           3.1687,
           3.155,
           3.1197,
           3.1184,
           3.0798,
           3.063,
           3.0604,
           3.0457,
           3.0401,
           3.0384,
           3.0355,
           3.0314,
           3.0312,
           3.0199,
           3.0056,
           2.9382,
           2.938,
           2.9223,
           2.9131,
           2.8395,
           2.837,
           2.817,
           2.7969,
           2.7794,
           2.7793,
           2.7723,
           2.742,
           2.7273,
           2.7188,
           2.7186,
           2.7112,
           2.6997,
           2.6993,
           2.6949,
           2.6764,
           2.6737,
           2.6561,
           2.6538,
           2.6467,
           2.6329,
           2.5947,
           2.588,
           2.5724,
           2.5686,
           2.5557,
           2.5476,
           2.5312,
           2.5069,
           2.4907,
           2.4823,
           2.4818,
           2.478,
           2.4549,
           2.4455,
           2.4124,
           2.412,
           2.3855,
           2.3739,
           2.3668,
           2.3613,
           2.3574,
           2.3468,
           2.3437,
           2.3285,
           2.3255,
           2.3126,
           2.3121,
           2.3066,
           2.3054,
           2.2816,
           2.2688,
           2.265,
           2.2498
          ],
          "sizemode": "area",
          "sizeref": 0.47105800000000003,
          "symbol": "circle"
         },
         "mode": "markers",
         "name": "Horror",
         "showlegend": true,
         "type": "scattergl",
         "x": [
          6000000,
          4500000,
          23000000,
          17500000,
          40000000,
          80000000,
          26000000,
          13000000,
          25000000,
          40000000,
          8000000,
          20000000,
          50000000,
          16000000,
          28000000,
          2000000,
          39000000,
          58000000,
          38500000,
          10000000,
          22000000,
          40000000,
          6500000,
          67000000,
          17000000,
          99000000,
          17000000,
          35000000,
          15000000,
          1200000,
          15000000,
          4400000,
          28000000,
          27000000,
          13000000,
          24000000,
          79000000,
          10000000,
          9000000,
          35000000,
          4500000,
          250000,
          15000000,
          35000,
          1000000,
          15000000,
          12600000,
          1000000,
          1000000,
          9000000,
          30000000,
          1000000,
          4000000,
          30000000,
          500000,
          2000000,
          8000000,
          160000000,
          16000000,
          2300000,
          20000000,
          26000000,
          4500000,
          1500000,
          20000000,
          20000000,
          48000000,
          18000000,
          16000000,
          10000000,
          6000000,
          15000000,
          9000000,
          18000000,
          17000000,
          5000000,
          35000000,
          3000000,
          12000000,
          40000000,
          9500000,
          9000000,
          17000000,
          80000000,
          10000000,
          15000000,
          30000000,
          20000000,
          10000000,
          4000000,
          5000000,
          15000000,
          45000000,
          9000000,
          9000000,
          16000000,
          20000000,
          10000000,
          20000000,
          22000000,
          12000000,
          5000000,
          13000000,
          45000000,
          50000000,
          7000000,
          800000,
          43000000,
          13500000,
          600000,
          20000000,
          4000000,
          15000000,
          20000000,
          38000000,
          10000000,
          9900000,
          30000000,
          10000000,
          30000000,
          3000000,
          30000000,
          33000000,
          40000000,
          17000000,
          20000000,
          42000000,
          19000000,
          26000000,
          10000000,
          25000000,
          100000,
          150000000,
          25000000,
          20000000,
          10000000,
          35000000,
          11000000,
          11000000,
          5000000,
          215000,
          5000000,
          40000000,
          6500000,
          6500000,
          12000000,
          15000000,
          35000000,
          10000000,
          16000000,
          6000000,
          17000000,
          4800000,
          30000,
          10000000,
          12850990,
          12000000,
          13000000,
          35000000,
          6200000,
          5000000,
          3400000,
          4900000,
          15000000,
          21000000,
          5000000,
          40000000,
          16000000,
          33000000,
          5500000,
          5000000,
          5000000,
          15000000,
          9500000,
          30000000,
          50000000,
          10000000,
          70000000,
          3000000,
          35000000,
          8500000,
          9000000,
          33000000,
          35000000,
          8000000,
          10800000,
          10000000,
          5000000,
          10000000,
          35000000,
          25000000,
          55000000,
          10000000,
          27000000,
          15000000,
          3000000,
          13400000,
          4000000,
          5000000,
          5000000,
          30000000,
          5000000,
          1800000,
          45000000,
          4798235,
          35000000,
          30000000,
          5000000,
          10000000,
          15000000,
          12000000,
          2600000,
          11000000,
          23000000,
          6000000,
          3500000,
          10200000,
          5000000,
          14000000,
          5000000,
          5000000,
          1000000,
          1000000,
          35000000,
          7000000,
          5000000,
          9000000,
          40000000,
          10000000,
          18000000,
          2500000,
          3000000,
          10000000,
          6500000,
          15000000,
          18000000,
          6000000,
          65000000,
          1000000,
          12500000,
          10000000,
          5000000,
          25000000,
          100000,
          10000000,
          38000000,
          9000000,
          1000000,
          1000000,
          10000000,
          19000000,
          40000000,
          1500000,
          5000000,
          12000000,
          3500000,
          20000000,
          1000000,
          3500000,
          8500000,
          9000000,
          6900000,
          1000000,
          35000000,
          5500000,
          10000000,
          25000000,
          3000000,
          15000000,
          3500000,
          8000000,
          16000000,
          20000000,
          12000000,
          7400000,
          8000000,
          2000000,
          15000000,
          6000000,
          15000000,
          12000000,
          30000000,
          10000000,
          40000000,
          5000000,
          15000000,
          20000000,
          14000000,
          30000000,
          1229578,
          2500000,
          5000000,
          750000,
          1500000,
          15000000,
          5000000,
          22000000,
          10000000,
          12500000,
          13000000,
          80000000
         ],
         "xaxis": "x",
         "y": [
          57600000,
          5078400,
          112880294,
          76506196,
          157887643,
          350865342,
          90941129,
          320415166,
          118890272,
          187384627,
          85032676,
          297144130,
          180928503,
          161440742,
          138128854,
          90322103,
          206431050,
          100541806,
          269670590,
          51913394,
          366082797,
          322811702,
          257589952,
          261907653,
          217408513,
          451900435,
          340955294,
          703000000,
          65048725,
          104004218,
          147156372,
          262793,
          43015969,
          231252591,
          125319714,
          137743924,
          473123154,
          87825916,
          48015416,
          168961389,
          91959188,
          15741780,
          76756109,
          421798,
          15113105,
          306592201,
          28650575,
          22057160,
          1786396,
          278454358,
          71038838,
          10139416,
          6170043,
          53992802,
          7582541,
          15469415,
          49256239,
          300257475,
          31556061,
          23374076,
          47300000,
          102278712,
          45400000,
          100106454,
          256067149,
          77912251,
          249348933,
          57470220,
          189086877,
          59217789,
          39396175,
          146428180,
          123233739,
          76987621,
          210002906,
          61220856,
          86700000,
          82515113,
          1594955,
          161834276,
          107967319,
          155712077,
          63102666,
          40170558,
          139352633,
          69623713,
          136284218,
          21768945,
          164874275,
          40423945,
          15100000,
          46553280,
          21600000,
          111928365,
          35340015,
          4796993,
          54700000,
          172811971,
          40618920,
          12610418,
          24829644,
          161921515,
          10091821,
          72381712,
          100605135,
          6680396,
          5737,
          22957625,
          91500000,
          4258197,
          22217407,
          152925093,
          65774490,
          7953089,
          41657844,
          259939869,
          158906350,
          80276156,
          9572765,
          116643421,
          13900000,
          91388487,
          104374176,
          26620002,
          99010045,
          133423964,
          68467960,
          91509154,
          67900000,
          120453155,
          104545505,
          443807,
          140700000,
          133000000,
          136151680,
          104223315,
          71142361,
          69752402,
          15800000,
          41900000,
          193355800,
          6175213,
          97231420,
          2332018,
          48021766,
          12977758,
          61800000,
          117000000,
          33583175,
          15234907,
          33224654,
          119100758,
          81979826,
          273650,
          73929392,
          3984669,
          47582563,
          43787034,
          72400000,
          4017852,
          3876587,
          114000000,
          149368835,
          37697773,
          113118226,
          207039844,
          34891791,
          50517763,
          102984862,
          62198461,
          98450062,
          2543216,
          12800000,
          43000000,
          32500000,
          40882928,
          44902237,
          217124280,
          2100000,
          31505287,
          48166448,
          81700000,
          104155843,
          95682614,
          22818256,
          118209778,
          30832137,
          22304357,
          33628000,
          115664037,
          119975084,
          74700000,
          12008642,
          29000000,
          80460948,
          5400000,
          9927714,
          187112,
          8493728,
          431020,
          64626786,
          44459951,
          69400000,
          129342769,
          6879667,
          82344833,
          41002607,
          103600000,
          49511319,
          54771241,
          8481997,
          677548,
          16951798,
          11446172,
          1023510,
          3165361,
          35728183,
          16000000,
          85446075,
          18529730,
          142802657,
          62900000,
          16000000,
          74558115,
          17949758,
          2943477,
          82391145,
          141591324,
          183474602,
          46201432,
          911000,
          177512032,
          11817275,
          11152071,
          47074133,
          2300000,
          21200000,
          76801179,
          14347000,
          31039126,
          39421467,
          10166820,
          77411570,
          7717044,
          37608299,
          29907685,
          21510851,
          38390020,
          101800000,
          5343820,
          107516369,
          38805380,
          850419,
          3800000,
          15000000,
          4311042,
          31198531,
          30894796,
          7766240,
          130493,
          13182254,
          44287131,
          395000,
          19300000,
          18160930,
          53329150,
          83080890,
          2295825,
          7060384,
          44019588,
          8810591,
          76514050,
          39143839,
          27909,
          26700000,
          18700000,
          3537283,
          47737094,
          180851,
          4304157,
          14300000,
          127369981,
          78903124,
          62771059,
          2243353,
          102836002,
          14800000,
          19428166,
          68357079,
          3238539,
          156190,
          90894962,
          78396,
          14293601,
          3533227,
          1824152,
          851517,
          14652825,
          27200000,
          37664855,
          78000586
         ],
         "yaxis": "y"
        },
        {
         "customdata": [
          [
           "Alien: Covenant"
          ],
          [
           "Blade Runner 2049"
          ],
          [
           "Annihilation"
          ],
          [
           "Guardians of the Galaxy Vol. 2"
          ],
          [
           "Dark Phoenix"
          ],
          [
           "Ghost in the Shell"
          ],
          [
           "The Avengers"
          ],
          [
           "Dune: Part Two"
          ],
          [
           "Avatar: The Way of Water"
          ],
          [
           "Dune"
          ],
          [
           "Transformers: Rise of the Beasts"
          ],
          [
           "Solo: A Star Wars Story"
          ],
          [
           "Kingdom of the Planet of the Apes"
          ],
          [
           "Venom"
          ],
          [
           "Guardians of the Galaxy Vol. 3"
          ],
          [
           "Predators"
          ],
          [
           "The Hunger Games: Mockingjay - Part 1"
          ],
          [
           "M3GAN"
          ],
          [
           "Teenage Mutant Ninja Turtles"
          ],
          [
           "Transformers: Age of Extinction"
          ],
          [
           "The Creator"
          ],
          [
           "Terminator Genisys"
          ],
          [
           "Poor Things"
          ],
          [
           "Eternals"
          ],
          [
           "Venom: Let There Be Carnage"
          ],
          [
           "The Predator"
          ],
          [
           "Eternal Sunshine of the Spotless Mind"
          ],
          [
           "A Quiet Place Part II"
          ],
          [
           "Ant-Man"
          ],
          [
           "The Incredible Hulk"
          ],
          [
           "The Marvels"
          ],
          [
           "Prometheus"
          ],
          [
           "The Matrix Resurrections"
          ],
          [
           "Terminator: Dark Fate"
          ],
          [
           "Star Trek"
          ],
          [
           "The Hunger Games"
          ],
          [
           "Jupiter Ascending"
          ],
          [
           "Megalopolis"
          ],
          [
           "Ad Astra"
          ],
          [
           "Dawn of the Planet of the Apes"
          ],
          [
           "Maze Runner: The Scorch Trials"
          ],
          [
           "Nope"
          ],
          [
           "Godzilla: King of the Monsters"
          ],
          [
           "Maze Runner: The Death Cure"
          ],
          [
           "Minority Report"
          ],
          [
           "Predestination"
          ],
          [
           "Elysium"
          ],
          [
           "Gravity"
          ],
          [
           "Hulk"
          ],
          [
           "Anon"
          ],
          [
           "The Purge"
          ],
          [
           "Fantastic Four: Rise of the Silver Surfer"
          ],
          [
           "The Butterfly Effect"
          ],
          [
           "The 5th Wave"
          ],
          [
           "What Happened to Monday"
          ],
          [
           "RoboCop"
          ],
          [
           "Chronicle"
          ],
          [
           "Zathura: A Space Adventure"
          ],
          [
           "Moonfall"
          ],
          [
           "District 9"
          ],
          [
           "Battle: Los Angeles"
          ],
          [
           "The New Mutants"
          ],
          [
           "Gemini Man"
          ],
          [
           "The Core"
          ],
          [
           "Mr. Nobody"
          ],
          [
           "Riddick"
          ],
          [
           "Superman Returns"
          ],
          [
           "Serenity"
          ],
          [
           "The Adjustment Bureau"
          ],
          [
           "Code 8"
          ],
          [
           "After Earth"
          ],
          [
           "Replicas"
          ],
          [
           "Transformers: Revenge of the Fallen"
          ],
          [
           "Vivarium"
          ],
          [
           "The Endless"
          ],
          [
           "Ender's Game"
          ],
          [
           "Surrogates"
          ],
          [
           "Æon Flux"
          ],
          [
           "Moon"
          ],
          [
           "Skyline"
          ],
          [
           "Kin"
          ],
          [
           "Project Gemini"
          ],
          [
           "The 6th Day"
          ],
          [
           "Star Trek: Nemesis"
          ],
          [
           "Hot Tub Time Machine"
          ],
          [
           "Captive State"
          ],
          [
           "Sunshine"
          ],
          [
           "Dark Skies"
          ],
          [
           "Voyagers"
          ],
          [
           "The Time Machine"
          ],
          [
           "Self/less"
          ],
          [
           "I.S.S."
          ],
          [
           "Primer"
          ],
          [
           "Stealth"
          ],
          [
           "Freaks"
          ],
          [
           "Outlander"
          ],
          [
           "Push"
          ],
          [
           "Frequency"
          ],
          [
           "Songbird"
          ],
          [
           "K-PAX"
          ],
          [
           "Ultraviolet"
          ],
          [
           "Prospect"
          ],
          [
           "High Life"
          ],
          [
           "Cosmic Sin"
          ],
          [
           "Crimes of the Future"
          ],
          [
           "Mission to Mars"
          ],
          [
           "Battlefield Earth"
          ],
          [
           "Project Almanac"
          ],
          [
           "S1m0ne"
          ]
         ],
         "hovertemplate": "genre1=Science Fiction<br>Budget ($)=%{x}<br>Revenue ($)=%{y}<br>popularity=%{marker.size}<br>title=%{customdata[0]}<extra></extra>",
         "legendgroup": "Science Fiction",
         "marker": {
          "color": "#FF6692",
          "size": [
           113.1935,
           104.5758,
           98.2235,
           94.4967,
           82.4448,
           67.6689,
           31.5235,
           31.0708,
           25.657,
           23.1668,
           21.7313,
           17.6637,
           17.2588,
           16.3431,
           15.8235,
           14.2665,
           14.0344,
           13.8089,
           13.5565,
           13.3844,
           12.634,
           12.521,
           12.3655,
           11.6614,
           11.4411,
           11.3956,
           10.9442,
           10.6286,
           10.5624,
           10.2443,
           9.8995,
           9.6151,
           9.5992,
           9.334,
           9.0465,
           8.9882,
           8.9778,
           8.9383,
           8.77,
           8.348,
           8.3228,
           8.2434,
           8.1218,
           7.8145,
           7.4908,
           7.47,
           7.1463,
           7.1365,
           7.0817,
           7.0544,
           6.9429,
           6.9346,
           6.9212,
           6.7865,
           6.5984,
           6.5958,
           6.5944,
           6.4975,
           6.3441,
           5.8154,
           5.62,
           5.5159,
           5.3673,
           5.3525,
           5.0432,
           4.9459,
           4.9206,
           4.892,
           4.8585,
           4.7454,
           4.7327,
           4.7143,
           4.6795,
           4.5576,
           4.451,
           4.4175,
           4.3808,
           4.1842,
           4.116,
           4.0967,
           3.5364,
           3.4943,
           3.3558,
           3.3309,
           3.2322,
           3.1988,
           3.1553,
           3.0284,
           3.0247,
           3.0218,
           3.0082,
           2.9977,
           2.9595,
           2.9224,
           2.9001,
           2.8416,
           2.8122,
           2.8072,
           2.7401,
           2.6938,
           2.6902,
           2.6823,
           2.6706,
           2.5619,
           2.5407,
           2.4953,
           2.4919,
           2.4524,
           2.4217
          ],
          "sizemode": "area",
          "sizeref": 0.47105800000000003,
          "symbol": "circle"
         },
         "mode": "markers",
         "name": "Science Fiction",
         "showlegend": true,
         "type": "scattergl",
         "x": [
          97000000,
          150000000,
          40000000,
          200000000,
          200000000,
          110000000,
          220000000,
          190000000,
          460000000,
          165000000,
          195000000,
          250000000,
          160000000,
          116000000,
          250000000,
          40000000,
          125000000,
          12000000,
          125000000,
          210000000,
          80000000,
          155000000,
          35000000,
          200000000,
          110000000,
          88000000,
          20000000,
          55000000,
          130000000,
          150000000,
          274800000,
          130000000,
          190000000,
          185000000,
          150000000,
          75000000,
          176000000,
          120000000,
          87500000,
          170000000,
          61000000,
          68000000,
          170000000,
          62000000,
          102000000,
          5500000,
          115000000,
          105000000,
          137000000,
          20000000,
          3000000,
          130000000,
          13000000,
          38000000,
          20000000,
          120000000,
          15000000,
          65000000,
          146000000,
          30000000,
          70000000,
          67000000,
          140000000,
          60000000,
          47000000,
          38000000,
          223000000,
          39000000,
          50200000,
          15000000,
          130000000,
          30000000,
          200000000,
          4000000,
          1000000,
          110000000,
          80000000,
          62000000,
          5000000,
          10500000,
          30000000,
          6000000,
          82000000,
          60000000,
          36000000,
          25000000,
          50000000,
          3500000,
          20000000,
          80000000,
          26000000,
          13800000,
          7000,
          135000000,
          2000,
          50000000,
          38000000,
          31000000,
          2500000,
          48000000,
          30000000,
          4000000,
          8933400,
          20000000,
          27000000,
          90000000,
          44000000,
          12000000,
          10000000
         ],
         "xaxis": "x",
         "y": [
          240891763,
          259239658,
          43070915,
          863756051,
          252442974,
          169801921,
          1518815515,
          714444358,
          2320250281,
          407573628,
          441381193,
          392952373,
          397378150,
          856085151,
          845600000,
          127200000,
          755356711,
          181796517,
          485004754,
          1104054072,
          104272136,
          440603537,
          117607117,
          402064899,
          506863592,
          160542134,
          72258126,
          297372261,
          519311965,
          264770996,
          206136825,
          403354469,
          156497322,
          261119292,
          386839614,
          694394724,
          184000000,
          13857002,
          127461872,
          710644566,
          312296056,
          170823080,
          387300138,
          288175335,
          358372926,
          4942449,
          286140700,
          723192705,
          245360480,
          1197741,
          91266581,
          301913131,
          96800000,
          109906372,
          27975429,
          242688965,
          145000000,
          65079104,
          67319703,
          210888950,
          211800000,
          49169594,
          173469516,
          74208267,
          2331721,
          98337295,
          391081192,
          38869464,
          127900000,
          157209,
          243843127,
          8100000,
          836303693,
          488000,
          956425,
          125537191,
          122444772,
          53321673,
          9760104,
          66984887,
          10023153,
          211674,
          96085477,
          67336470,
          64780213,
          8808611,
          34800000,
          25174316,
          4298184,
          123700000,
          31807156,
          6605079,
          545436,
          76932943,
          368410,
          7033683,
          49678401,
          68106245,
          1000000,
          50315140,
          31070211,
          22777,
          2133033,
          349757,
          4551565,
          110983407,
          29725663,
          33200000,
          19576023
         ],
         "yaxis": "y"
        },
        {
         "customdata": [
          [
           "Baywatch"
          ],
          [
           "Jojo Rabbit"
          ],
          [
           "The Holdovers"
          ],
          [
           "The Disaster Artist"
          ],
          [
           "Logan Lucky"
          ],
          [
           "The Hangover"
          ],
          [
           "Barbie"
          ],
          [
           "Scouts Guide to the Zombie Apocalypse"
          ],
          [
           "Grown Ups"
          ],
          [
           "IF"
          ],
          [
           "Cruella"
          ],
          [
           "Knives Out"
          ],
          [
           "Wonka"
          ],
          [
           "Once Upon a Time... in Hollywood"
          ],
          [
           "White Chicks"
          ],
          [
           "Grown Ups 2"
          ],
          [
           "Scary Movie"
          ],
          [
           "Girl Play"
          ],
          [
           "Ted 2"
          ],
          [
           "The Girl Next Door"
          ],
          [
           "La La Land"
          ],
          [
           "No Hard Feelings"
          ],
          [
           "Shrek Forever After"
          ],
          [
           "My Old Ass"
          ],
          [
           "The Hangover Part II"
          ],
          [
           "Just Go with It"
          ],
          [
           "The Menu"
          ],
          [
           "Free Guy"
          ],
          [
           "Zombieland"
          ],
          [
           "Ted"
          ],
          [
           "Idiocracy"
          ],
          [
           "Superbad"
          ],
          [
           "Palm Springs"
          ],
          [
           "(500) Days of Summer"
          ],
          [
           "Norbit"
          ],
          [
           "Crazy, Stupid, Love."
          ],
          [
           "Legally Blonde"
          ],
          [
           "50 First Dates"
          ],
          [
           "She's the Man"
          ],
          [
           "Bridesmaids"
          ],
          [
           "The Intern"
          ],
          [
           "The Proposal"
          ],
          [
           "A Man Called Otto"
          ],
          [
           "How to Lose a Guy in 10 Days"
          ],
          [
           "Click"
          ],
          [
           "Project X"
          ],
          [
           "The Princess Diaries"
          ],
          [
           "A Real Pain"
          ],
          [
           "He's Just Not That Into You"
          ],
          [
           "Shazam! Fury of the Gods"
          ],
          [
           "Alvin and the Chipmunks"
          ],
          [
           "Scary Movie 2"
          ],
          [
           "The Terminal"
          ],
          [
           "The Gentlemen"
          ],
          [
           "We're the Millers"
          ],
          [
           "Garfield"
          ],
          [
           "Crazy Rich Asians"
          ],
          [
           "Instant Family"
          ],
          [
           "Paddington"
          ],
          [
           "Blended"
          ],
          [
           "That's My Boy"
          ],
          [
           "Enchanted"
          ],
          [
           "Zombieland: Double Tap"
          ],
          [
           "Mean Girls"
          ],
          [
           "The Grand Budapest Hotel"
          ],
          [
           "A Haunted House 2"
          ],
          [
           "The Best Christmas Pageant Ever"
          ],
          [
           "Hit Man"
          ],
          [
           "Glass Onion: A Knives Out Mystery"
          ],
          [
           "The Hangover Part III"
          ],
          [
           "Little Man"
          ],
          [
           "The Big Short"
          ],
          [
           "The Dictator"
          ],
          [
           "Mamma Mia!"
          ],
          [
           "Dark Shadows"
          ],
          [
           "American Reunion"
          ],
          [
           "Don't Look Up"
          ],
          [
           "American Wedding"
          ],
          [
           "Men in Black: International"
          ],
          [
           "Zoolander"
          ],
          [
           "Scary Movie 5"
          ],
          [
           "Asteroid City"
          ],
          [
           "Snack Shack"
          ],
          [
           "Scary Movie 3"
          ],
          [
           "Love and Monsters"
          ],
          [
           "Happy Death Day"
          ],
          [
           "EuroTrip"
          ],
          [
           "The 40 Year Old Virgin"
          ],
          [
           "War Dogs"
          ],
          [
           "Love Actually"
          ],
          [
           "What Women Want"
          ],
          [
           "Sex and the City"
          ],
          [
           "Hitch"
          ],
          [
           "Due Date"
          ],
          [
           "Tom & Jerry"
          ],
          [
           "Scary Movie 4"
          ],
          [
           "No Strings Attached"
          ],
          [
           "The Other Guys"
          ],
          [
           "American Pie Presents: Beta House"
          ],
          [
           "The Change-Up"
          ],
          [
           "Austin Powers in Goldmember"
          ],
          [
           "The Family Man"
          ],
          [
           "Wedding Crashers"
          ],
          [
           "Piranha 3D"
          ],
          [
           "Shallow Hal"
          ],
          [
           "What Men Want"
          ],
          [
           "Anchorman: The Legend of Ron Burgundy"
          ],
          [
           "DodgeBall: A True Underdog Story"
          ],
          [
           "Bridget Jones's Diary"
          ],
          [
           "Daddy's Home 2"
          ],
          [
           "Movie 43"
          ],
          [
           "American Pie 2"
          ],
          [
           "You Don't Mess with the Zohan"
          ],
          [
           "Lyle, Lyle, Crocodile"
          ],
          [
           "Yes Man"
          ],
          [
           "Old School"
          ],
          [
           "Nacho Libre"
          ],
          [
           "Pitch Perfect"
          ],
          [
           "13 Going on 30"
          ],
          [
           "Alvin and the Chipmunks: Chipwrecked"
          ],
          [
           "Pain & Gain"
          ],
          [
           "Pitch Perfect 2"
          ],
          [
           "Easy A"
          ],
          [
           "Sisters"
          ],
          [
           "Uptown Girls"
          ],
          [
           "The Royal Tenenbaums"
          ],
          [
           "Alvin and the Chipmunks: The Squeakquel"
          ],
          [
           "Annie"
          ],
          [
           "The Hustle"
          ],
          [
           "Meet the Fockers"
          ],
          [
           "Waiting..."
          ],
          [
           "Horrible Bosses 2"
          ],
          [
           "Beau Is Afraid"
          ],
          [
           "Vacation"
          ],
          [
           "Trainwreck"
          ],
          [
           "A Haunted House"
          ],
          [
           "Girls Trip"
          ],
          [
           "Mamma Mia! Here We Go Again"
          ],
          [
           "Tag"
          ],
          [
           "Horrible Bosses"
          ],
          [
           "Me, Myself & Irene"
          ],
          [
           "Daddy's Home"
          ],
          [
           "Road Trip"
          ],
          [
           "The Upside"
          ],
          [
           "Triangle of Sadness"
          ],
          [
           "I Now Pronounce You Chuck & Larry"
          ],
          [
           "Nightbitch"
          ],
          [
           "27 Dresses"
          ],
          [
           "The Lobster"
          ],
          [
           "Sex Tape"
          ],
          [
           "The Nice Guys"
          ],
          [
           "Napoleon Dynamite"
          ],
          [
           "Big Stan"
          ],
          [
           "Yesterday"
          ],
          [
           "Dream Scenario"
          ],
          [
           "Serendipity"
          ],
          [
           "New York, I Love You"
          ],
          [
           "Juno"
          ],
          [
           "Y2K"
          ],
          [
           "Little Miss Sunshine"
          ],
          [
           "Bad Teacher"
          ],
          [
           "Here Comes the Boom"
          ],
          [
           "Jack and Jill"
          ],
          [
           "Renfield"
          ],
          [
           "Not Another Teen Movie"
          ],
          [
           "Mr. Deeds"
          ],
          [
           "Wild Child"
          ],
          [
           "Superhero Movie"
          ],
          [
           "The Holiday"
          ],
          [
           "Walk of Shame"
          ],
          [
           "Hairspray"
          ],
          [
           "Entourage"
          ],
          [
           "Haunted Mansion"
          ],
          [
           "High School Musical"
          ],
          [
           "Moonrise Kingdom"
          ],
          [
           "Diary of a Wimpy Kid"
          ],
          [
           "Epic Movie"
          ],
          [
           "Forgetting Sarah Marshall"
          ],
          [
           "In Bruges"
          ],
          [
           "Strays"
          ],
          [
           "The Hot Chick"
          ],
          [
           "The Princess Diaries 2: Royal Engagement"
          ],
          [
           "Knocked Up"
          ],
          [
           "Anger Management"
          ],
          [
           "Accepted"
          ],
          [
           "Nanny McPhee and the Big Bang"
          ],
          [
           "A Cinderella Story"
          ],
          [
           "School of Rock"
          ],
          [
           "Burn After Reading"
          ],
          [
           "The Dukes of Hazzard"
          ],
          [
           "Bottoms"
          ],
          [
           "Goosebumps 2: Haunted Halloween"
          ],
          [
           "Why Him?"
          ],
          [
           "Emma."
          ],
          [
           "Borat: Cultural Learnings of America for Make Benefit Glorious Nation of Kazakhstan"
          ],
          [
           "Zookeeper"
          ],
          [
           "Evolution"
          ],
          [
           "The World's End"
          ],
          [
           "Love, Simon"
          ],
          [
           "Neighbors"
          ],
          [
           "American Pie Presents: The Book of Love"
          ],
          [
           "Vampires Suck"
          ],
          [
           "Bridget Jones: The Edge of Reason"
          ],
          [
           "Little Nicky"
          ],
          [
           "Starsky & Hutch"
          ],
          [
           "Coyote Ugly"
          ],
          [
           "Meet the Spartans"
          ],
          [
           "Little Fockers"
          ],
          [
           "The Death of Stalin"
          ],
          [
           "Good Boys"
          ],
          [
           "The Switch"
          ],
          [
           "The Man from U.N.C.L.E."
          ],
          [
           "Date Night"
          ],
          [
           "Dumb and Dumber To"
          ],
          [
           "Garfield: A Tail of Two Kitties"
          ],
          [
           "Tucker and Dale vs. Evil"
          ],
          [
           "The Edge of Seventeen"
          ],
          [
           "Miss Congeniality"
          ],
          [
           "The Game Plan"
          ],
          [
           "The Wedding Ringer"
          ],
          [
           "Meet the Parents"
          ],
          [
           "New Year's Eve"
          ],
          [
           "Confessions of a Shopaholic"
          ],
          [
           "How High"
          ],
          [
           "17 Again"
          ],
          [
           "Along Came Polly"
          ],
          [
           "Life As We Know It"
          ],
          [
           "Step Brothers"
          ],
          [
           "Life or Something Like It"
          ],
          [
           "Be Cool"
          ],
          [
           "What Happens in Vegas"
          ],
          [
           "BlackBerry"
          ],
          [
           "The Pacifier"
          ],
          [
           "The War with Grandpa"
          ],
          [
           "Charlotte's Web"
          ],
          [
           "No Reservations"
          ],
          [
           "Couples Retreat"
          ],
          [
           "How to Be Single"
          ],
          [
           "The Ugly Truth"
          ],
          [
           "Elf"
          ],
          [
           "The Spy Who Dumped Me"
          ],
          [
           "A Million Ways to Die in the West"
          ],
          [
           "The Heartbreak Kid"
          ],
          [
           "Bad Moms"
          ],
          [
           "Legally Blonde 2: Red, White & Blonde"
          ],
          [
           "Tenacious D in The Pick of Destiny"
          ],
          [
           "This Is 40"
          ],
          [
           "Fun with Dick and Jane"
          ],
          [
           "Magic Mike's Last Dance"
          ],
          [
           "Sex and the City 2"
          ],
          [
           "Hall Pass"
          ],
          [
           "Lars and the Real Girl"
          ],
          [
           "Chicago"
          ],
          [
           "Dirty Grandpa"
          ],
          [
           "The Watch"
          ],
          [
           "John Tucker Must Die"
          ],
          [
           "Little"
          ],
          [
           "Walk Hard: The Dewey Cox Story"
          ],
          [
           "Booksmart"
          ],
          [
           "The Other Woman"
          ],
          [
           "Eddie the Eagle"
          ],
          [
           "Uncle Drew"
          ],
          [
           "Mortdecai"
          ],
          [
           "Tooth Fairy"
          ],
          [
           "Woody Woodpecker"
          ],
          [
           "Chef"
          ],
          [
           "Chocolat"
          ],
          [
           "Talladega Nights: The Ballad of Ricky Bobby"
          ],
          [
           "Let's Be Cops"
          ],
          [
           "Seven Psychopaths"
          ],
          [
           "Deuce Bigalow: European Gigolo"
          ],
          [
           "Dude, Where's My Car?"
          ],
          [
           "Larry Crowne"
          ],
          [
           "Get Hard"
          ],
          [
           "Sex Drive"
          ],
          [
           "What a Girl Wants"
          ],
          [
           "80 for Brady"
          ],
          [
           "The House with a Clock in Its Walls"
          ],
          [
           "Drive-Away Dolls"
          ],
          [
           "Cheaper by the Dozen 2"
          ],
          [
           "The Big Sick"
          ],
          [
           "Happy Death Day 2U"
          ],
          [
           "The Campaign"
          ],
          [
           "Diary of a Wimpy Kid: The Long Haul"
          ],
          [
           "The Peanuts Movie"
          ],
          [
           "The Stepford Wives"
          ],
          [
           "Year One"
          ],
          [
           "Maid in Manhattan"
          ],
          [
           "What's Your Number?"
          ],
          [
           "Pitch Perfect 3"
          ],
          [
           "Good Luck Chuck"
          ],
          [
           "Fighting with My Family"
          ],
          [
           "Barefoot"
          ],
          [
           "Mr. Popper's Penguins"
          ],
          [
           "I Feel Pretty"
          ],
          [
           "The Spectacular Now"
          ],
          [
           "Night School"
          ],
          [
           "Are You There God? It's Me, Margaret."
          ],
          [
           "Think Like a Man"
          ],
          [
           "Gigli"
          ],
          [
           "Blades of Glory"
          ],
          [
           "Rock of Ages"
          ],
          [
           "The Five-Year Engagement"
          ],
          [
           "A Good Year"
          ],
          [
           "The Invention of Lying"
          ],
          [
           "The Pink Panther"
          ],
          [
           "Jersey Girl"
          ],
          [
           "50/50"
          ],
          [
           "Eighth Grade"
          ],
          [
           "A Bad Moms Christmas"
          ],
          [
           "Zack and Miri Make a Porno"
          ],
          [
           "Bend It Like Beckham"
          ],
          [
           "Big Momma's House 2"
          ],
          [
           "Bring It On"
          ],
          [
           "Daddy Day Care"
          ],
          [
           "Rumor Has It..."
          ],
          [
           "Popstar: Never Stop Never Stopping"
          ],
          [
           "Bros"
          ],
          [
           "Boat Trip"
          ],
          [
           "Something Borrowed"
          ],
          [
           "The Nanny Diaries"
          ],
          [
           "Mike and Dave Need Wedding Dates"
          ],
          [
           "Deck the Halls"
          ],
          [
           "The Ladykillers"
          ],
          [
           "Racing Stripes"
          ],
          [
           "The Flintstones in Viva Rock Vegas"
          ],
          [
           "But I'm a Cheerleader"
          ],
          [
           "It's a Boy Girl Thing"
          ],
          [
           "The Opposite Sex"
          ],
          [
           "Bride Wars"
          ],
          [
           "Bewitched"
          ],
          [
           "Herbie Fully Loaded"
          ],
          [
           "Charlie Wilson's War"
          ],
          [
           "The Benchwarmers"
          ],
          [
           "Grandma's Boy"
          ],
          [
           "Mother's Day"
          ],
          [
           "Drillbit Taylor"
          ],
          [
           "Marley & Me"
          ],
          [
           "Death at a Funeral"
          ],
          [
           "The Guilt Trip"
          ],
          [
           "Tusk"
          ],
          [
           "Blockers"
          ],
          [
           "Cheaper by the Dozen"
          ],
          [
           "Role Models"
          ],
          [
           "My Big Fat Greek Wedding"
          ],
          [
           "Bill & Ted Face the Music"
          ],
          [
           "Ezra"
          ],
          [
           "The Three Stooges"
          ],
          [
           "Once Upon a Deadpool"
          ],
          [
           "Diary of a Wimpy Kid: Dog Days"
          ],
          [
           "The Sitter"
          ],
          [
           "Late Night"
          ],
          [
           "Alfie"
          ],
          [
           "The Kill Room"
          ],
          [
           "The Farewell"
          ],
          [
           "Fist Fight"
          ],
          [
           "You Again"
          ],
          [
           "Kiss Kiss Bang Bang"
          ],
          [
           "Home Again"
          ],
          [
           "The King of Staten Island"
          ],
          [
           "Letters to Juliet"
          ],
          [
           "Wanderlust"
          ],
          [
           "The Wedding Planner"
          ],
          [
           "Anchorman 2: The Legend Continues"
          ],
          [
           "St. Vincent"
          ],
          [
           "Beverly Hills Chihuahua"
          ],
          [
           "I Love You, Man"
          ],
          [
           "Super"
          ],
          [
           "Like a Boss"
          ],
          [
           "Last Christmas"
          ],
          [
           "Neighbors 2: Sorority Rising"
          ],
          [
           "Tomcats"
          ],
          [
           "Next Friday"
          ],
          [
           "The Night Before"
          ],
          [
           "Sydney White"
          ],
          [
           "Harold & Kumar Go to White Castle"
          ],
          [
           "Café Society"
          ],
          [
           "Just My Luck"
          ],
          [
           "Isn't It Romantic"
          ],
          [
           "Ali G Indahouse"
          ],
          [
           "Jay and Silent Bob Reboot"
          ],
          [
           "Tangerine"
          ],
          [
           "Analyze That"
          ],
          [
           "Goodrich"
          ],
          [
           "Life of the Party"
          ],
          [
           "Jackass Forever"
          ],
          [
           "Hoodwinked Too! Hood VS. Evil"
          ],
          [
           "The Family Stone"
          ],
          [
           "The Whole Nine Yards"
          ],
          [
           "The Big Wedding"
          ],
          [
           "Identity Thief"
          ],
          [
           "Think Like a Man Too"
          ],
          [
           "The Replacements"
          ],
          [
           "Babes"
          ],
          [
           "Last Vegas"
          ],
          [
           "Dinner for Schmucks"
          ],
          [
           "National Lampoon's Van Wilder"
          ],
          [
           "Sex and Death 101"
          ],
          [
           "The Dilemma"
          ],
          [
           "The Art of Self-Defense"
          ],
          [
           "Confess, Fletch"
          ],
          [
           "School for Scoundrels"
          ],
          [
           "Fired Up!"
          ],
          [
           "Guess Who"
          ],
          [
           "How Do You Know"
          ],
          [
           "Bachelorette"
          ],
          [
           "High School Musical 3: Senior Year"
          ],
          [
           "World's Greatest Dad"
          ],
          [
           "The Producers"
          ],
          [
           "Sweet Home Alabama"
          ],
          [
           "Zoolander 2"
          ],
          [
           "Bandits"
          ],
          [
           "Wonder Park"
          ],
          [
           "Funny People"
          ],
          [
           "Elizabethtown"
          ],
          [
           "Madea Goes to Jail"
          ],
          [
           "Employee of the Month"
          ],
          [
           "Scoop"
          ],
          [
           "Demolition"
          ],
          [
           "Date Movie"
          ],
          [
           "Novocaine"
          ],
          [
           "Joy Ride"
          ],
          [
           "The Descendants"
          ],
          [
           "Dan in Real Life"
          ],
          [
           "Jackass: The Movie"
          ],
          [
           "A Lot Like Love"
          ],
          [
           "Chalet Girl"
          ],
          [
           "Zola"
          ],
          [
           "A Very Harold & Kumar Christmas"
          ],
          [
           "The Pink Panther 2"
          ],
          [
           "The Rum Diary"
          ],
          [
           "The New Guy"
          ],
          [
           "Stan & Ollie"
          ],
          [
           "I Love You Phillip Morris"
          ],
          [
           "Saturday Night"
          ],
          [
           "About My Father"
          ],
          [
           "Life of Crime"
          ],
          [
           "Confessions of a Dangerous Mind"
          ],
          [
           "Office Christmas Party"
          ],
          [
           "Head of State"
          ],
          [
           "The Notorious Bettie Page"
          ],
          [
           "The Love Guru"
          ],
          [
           "Made of Honor"
          ],
          [
           "Barbershop 2: Back in Business"
          ],
          [
           "Almost Christmas"
          ],
          [
           "The House"
          ],
          [
           "Young Adult"
          ],
          [
           "Youth in Revolt"
          ],
          [
           "Goon"
          ],
          [
           "Hatchet"
          ],
          [
           "Four Christmases"
          ],
          [
           "Barbershop: The Next Cut"
          ],
          [
           "Sideways"
          ],
          [
           "Thank You for Smoking"
          ],
          [
           "The Whole Ten Yards"
          ],
          [
           "Hail, Caesar!"
          ],
          [
           "Yogi Bear"
          ],
          [
           "Wicked Little Letters"
          ],
          [
           "Meet Dave"
          ],
          [
           "Without a Paddle"
          ],
          [
           "Stuck on You"
          ],
          [
           "Mafia Mamma"
          ],
          [
           "Book Club: The Next Chapter"
          ],
          [
           "Arthur"
          ],
          [
           "Swept Away"
          ],
          [
           "Daddy's Little Girls"
          ],
          [
           "Hannah Montana: The Movie"
          ],
          [
           "Garden State"
          ],
          [
           "Malibu's Most Wanted"
          ],
          [
           "Dumb and Dumberer: When Harry Met Lloyd"
          ],
          [
           "It's Complicated"
          ],
          [
           "Valentine's Day"
          ],
          [
           "The Santa Clause 3: The Escape Clause"
          ],
          [
           "Mean Machine"
          ],
          [
           "Going the Distance"
          ],
          [
           "Baby Mama"
          ],
          [
           "Barney's Version"
          ],
          [
           "Nobody's Fool"
          ],
          [
           "Shiva Baby"
          ],
          [
           "The Incredible Burt Wonderstone"
          ],
          [
           "Unaccompanied Minors"
          ],
          [
           "Your Highness"
          ],
          [
           "Gringo"
          ],
          [
           "Bottle Shock"
          ],
          [
           "What We Do in the Shadows"
          ],
          [
           "All About Steve"
          ],
          [
           "Friends with Money"
          ],
          [
           "Sorority Boys"
          ],
          [
           "What Just Happened"
          ],
          [
           "Whiskey Tango Foxtrot"
          ],
          [
           "I Love You, Beth Cooper"
          ],
          [
           "Holmes & Watson"
          ],
          [
           "The Big Year"
          ],
          [
           "The Boss"
          ],
          [
           "Beerfest"
          ],
          [
           "Barbershop"
          ],
          [
           "Two for the Money"
          ],
          [
           "Bucky Larson: Born to Be a Star"
          ],
          [
           "Theater Camp"
          ],
          [
           "Wet Hot American Summer"
          ],
          [
           "Harold & Kumar Escape from Guantanamo Bay"
          ],
          [
           "The Beach Bum"
          ],
          [
           "For a Good Time, Call..."
          ],
          [
           "Death at a Funeral"
          ],
          [
           "Clerks II"
          ],
          [
           "American Fiction"
          ],
          [
           "It's Kind of a Funny Story"
          ],
          [
           "The Personal History of David Copperfield"
          ],
          [
           "Four Lions"
          ],
          [
           "Brüno"
          ],
          [
           "Snow Dogs"
          ],
          [
           "Dr. Dolittle 2"
          ],
          [
           "Take Me Home Tonight"
          ],
          [
           "Maybe I Do"
          ],
          [
           "Jexi"
          ],
          [
           "In the Loop"
          ],
          [
           "Table 19"
          ],
          [
           "The Back-Up Plan"
          ],
          [
           "Super Troopers"
          ],
          [
           "Oxidan"
          ],
          [
           "Don't Worry, He Won't Get Far on Foot"
          ],
          [
           "Begin Again"
          ],
          [
           "Jay and Silent Bob Strike Back"
          ],
          [
           "The Lady in the Van"
          ],
          [
           "Next Goal Wins"
          ],
          [
           "Hot Rod"
          ],
          [
           "Agent Cody Banks 2: Destination London"
          ],
          [
           "A Madea Family Funeral"
          ],
          [
           "Adaptation."
          ],
          [
           "Black Knight"
          ],
          [
           "Absolutely Fabulous: The Movie"
          ],
          [
           "Hello, My Name Is Doris"
          ],
          [
           "Mr. Right"
          ],
          [
           "The Animal"
          ],
          [
           "Confessions of a Teenage Drama Queen"
          ],
          [
           "Leatherheads"
          ],
          [
           "Duplex"
          ],
          [
           "A Serious Man"
          ],
          [
           "When in Rome"
          ],
          [
           "Playing for Keeps"
          ],
          [
           "My Baby's Daddy"
          ],
          [
           "Surfer, Dude"
          ],
          [
           "License to Wed"
          ]
         ],
         "hovertemplate": "genre1=Comedy<br>Budget ($)=%{x}<br>Revenue ($)=%{y}<br>popularity=%{marker.size}<br>title=%{customdata[0]}<extra></extra>",
         "legendgroup": "Comedy",
         "marker": {
          "color": "#B6E880",
          "size": [
           109.7327,
           88.5143,
           60.9477,
           52.9415,
           33.7376,
           25.3048,
           24.6757,
           20.0052,
           19.1195,
           17.1443,
           17.1072,
           16.0412,
           14.2575,
           13.5665,
           13.0361,
           12.9958,
           12.9095,
           12.8996,
           12.8141,
           12.803,
           12.5318,
           12.278,
           12.2326,
           12.0925,
           11.9702,
           11.9124,
           11.667,
           11.4435,
           11.4405,
           11.3628,
           11.2173,
           10.9129,
           10.8485,
           10.736,
           10.559,
           10.5039,
           10.1662,
           9.6621,
           9.6514,
           9.632,
           9.5974,
           9.4825,
           9.4062,
           9.363,
           9.3083,
           9.164,
           9.1501,
           9.0772,
           9.0416,
           9.0324,
           8.6965,
           8.6367,
           8.5326,
           8.464,
           8.4348,
           8.3814,
           8.3486,
           8.3005,
           8.2736,
           8.2251,
           8.1028,
           8.0497,
           8.0357,
           8.0144,
           7.9721,
           7.9396,
           7.9208,
           7.8992,
           7.8114,
           7.7726,
           7.7563,
           7.7232,
           7.7126,
           7.6472,
           7.6329,
           7.5786,
           7.4846,
           7.4223,
           7.4088,
           7.3994,
           7.3435,
           7.3368,
           7.3092,
           7.3016,
           7.277,
           7.268,
           7.2666,
           7.229,
           7.1346,
           7.1306,
           7.1174,
           7.0218,
           6.9384,
           6.8559,
           6.849,
           6.8429,
           6.7899,
           6.6687,
           6.6071,
           6.5573,
           6.55,
           6.5488,
           6.4695,
           6.4678,
           6.4082,
           6.3643,
           6.3403,
           6.321,
           6.311,
           6.3078,
           6.2127,
           6.2003,
           6.1547,
           6.1379,
           6.132,
           6.1182,
           6.0914,
           6.0888,
           6.0844,
           6.0657,
           6.0466,
           5.9989,
           5.9938,
           5.9835,
           5.9718,
           5.8711,
           5.8671,
           5.8643,
           5.8602,
           5.859,
           5.8574,
           5.8418,
           5.7653,
           5.7364,
           5.7217,
           5.7032,
           5.6654,
           5.6551,
           5.6492,
           5.6342,
           5.63,
           5.6199,
           5.5937,
           5.573,
           5.5587,
           5.5463,
           5.493,
           5.4908,
           5.4863,
           5.4229,
           5.4018,
           5.3728,
           5.3621,
           5.3516,
           5.3237,
           5.3032,
           5.2997,
           5.2967,
           5.2859,
           5.2836,
           5.266,
           5.2595,
           5.2272,
           5.2228,
           5.2154,
           5.1998,
           5.1959,
           5.1901,
           5.1832,
           5.1516,
           5.1467,
           5.1322,
           5.129,
           5.1184,
           5.0983,
           5.0824,
           5.0618,
           5.061,
           5.0539,
           5.0505,
           4.9763,
           4.9574,
           4.9528,
           4.9267,
           4.9115,
           4.9063,
           4.9051,
           4.8996,
           4.8965,
           4.8919,
           4.8907,
           4.8672,
           4.8429,
           4.8389,
           4.8386,
           4.822,
           4.8206,
           4.7747,
           4.7588,
           4.7515,
           4.7476,
           4.6722,
           4.666,
           4.6585,
           4.6581,
           4.6563,
           4.6533,
           4.6313,
           4.6182,
           4.6107,
           4.5937,
           4.5928,
           4.582,
           4.5771,
           4.5607,
           4.5531,
           4.5449,
           4.5295,
           4.5284,
           4.5112,
           4.5001,
           4.4568,
           4.4294,
           4.4271,
           4.4266,
           4.4178,
           4.4121,
           4.3822,
           4.3301,
           4.3142,
           4.2961,
           4.2856,
           4.279,
           4.2647,
           4.2612,
           4.2508,
           4.2182,
           4.2156,
           4.2085,
           4.2001,
           4.1894,
           4.1725,
           4.1689,
           4.1498,
           4.1353,
           4.1267,
           4.1243,
           4.1231,
           4.119,
           4.1071,
           4.0979,
           4.093,
           4.0917,
           4.0898,
           4.088,
           4.0551,
           4.0483,
           4.0463,
           4.0371,
           4.0369,
           4.0304,
           4.0262,
           4.0237,
           4.009,
           4.0043,
           4.004,
           3.9872,
           3.9838,
           3.9761,
           3.9739,
           3.9705,
           3.9477,
           3.9465,
           3.9369,
           3.9323,
           3.9319,
           3.9302,
           3.9244,
           3.9238,
           3.8845,
           3.8751,
           3.8613,
           3.8545,
           3.8519,
           3.8451,
           3.8334,
           3.8267,
           3.8172,
           3.8086,
           3.8068,
           3.8015,
           3.7911,
           3.7769,
           3.7652,
           3.7514,
           3.742,
           3.7267,
           3.7204,
           3.7162,
           3.7157,
           3.7118,
           3.6988,
           3.6819,
           3.6784,
           3.6602,
           3.6499,
           3.6374,
           3.6364,
           3.6363,
           3.6218,
           3.5905,
           3.5754,
           3.5752,
           3.5562,
           3.5422,
           3.5354,
           3.5339,
           3.5259,
           3.5083,
           3.5028,
           3.4828,
           3.4814,
           3.4635,
           3.4544,
           3.4504,
           3.4485,
           3.443,
           3.4319,
           3.42,
           3.4119,
           3.4112,
           3.4109,
           3.4068,
           3.4021,
           3.4016,
           3.3875,
           3.3802,
           3.3792,
           3.3707,
           3.3649,
           3.3626,
           3.3616,
           3.348,
           3.3475,
           3.3472,
           3.3466,
           3.339,
           3.338,
           3.3123,
           3.3056,
           3.2983,
           3.2669,
           3.2623,
           3.2593,
           3.2513,
           3.245,
           3.2423,
           3.2337,
           3.2266,
           3.2253,
           3.2136,
           3.193,
           3.1929,
           3.1917,
           3.1843,
           3.1795,
           3.1725,
           3.1695,
           3.1613,
           3.1574,
           3.1488,
           3.1486,
           3.1452,
           3.1313,
           3.1237,
           3.1228,
           3.1221,
           3.1133,
           3.1055,
           3.1035,
           3.0855,
           3.0818,
           3.0764,
           3.0738,
           3.0714,
           3.0712,
           3.0477,
           3.0448,
           3.0386,
           3.0276,
           3.0052,
           3.0047,
           2.9968,
           2.9963,
           2.9963,
           2.9922,
           2.9718,
           2.9684,
           2.9518,
           2.9485,
           2.9241,
           2.9235,
           2.9229,
           2.9226,
           2.9216,
           2.9158,
           2.9123,
           2.9113,
           2.9098,
           2.8935,
           2.8909,
           2.8899,
           2.8877,
           2.8852,
           2.8809,
           2.8743,
           2.8513,
           2.8483,
           2.8438,
           2.8433,
           2.8414,
           2.8413,
           2.8373,
           2.8288,
           2.8265,
           2.8256,
           2.8106,
           2.8034,
           2.7925,
           2.7883,
           2.7869,
           2.7848,
           2.7813,
           2.7805,
           2.7779,
           2.7678,
           2.7654,
           2.7613,
           2.7584,
           2.7568,
           2.7547,
           2.7522,
           2.7486,
           2.7475,
           2.7441,
           2.732,
           2.7304,
           2.7215,
           2.7077,
           2.7042,
           2.7041,
           2.7015,
           2.6995,
           2.6985,
           2.6891,
           2.6855,
           2.6836,
           2.6798,
           2.6771,
           2.6752,
           2.6741,
           2.6725,
           2.6698,
           2.6607,
           2.6603,
           2.6418,
           2.6402,
           2.6373,
           2.6318,
           2.6309,
           2.6284,
           2.6258,
           2.6224,
           2.6155,
           2.6127,
           2.6049,
           2.6047,
           2.6015,
           2.593,
           2.5896,
           2.5891,
           2.5809,
           2.5795,
           2.5754,
           2.5712,
           2.5486,
           2.5442,
           2.5284,
           2.5098,
           2.5084,
           2.5036,
           2.5012,
           2.4924,
           2.4911,
           2.4831,
           2.4819,
           2.4799,
           2.4702,
           2.4694,
           2.4638,
           2.4521,
           2.4509,
           2.4508,
           2.4475,
           2.4382,
           2.4267,
           2.4231,
           2.4212,
           2.42,
           2.4165,
           2.4142,
           2.4028,
           2.4019,
           2.3952,
           2.3936,
           2.3933,
           2.3913,
           2.3913,
           2.3869,
           2.3839,
           2.3813,
           2.3811,
           2.376,
           2.3732,
           2.3621,
           2.3464,
           2.3428,
           2.3316,
           2.331,
           2.3274,
           2.3154,
           2.314,
           2.3012,
           2.281,
           2.2751,
           2.2681,
           2.2634,
           2.2614,
           2.259,
           2.2549,
           2.2547,
           2.2492,
           2.2377
          ],
          "sizemode": "area",
          "sizeref": 0.47105800000000003,
          "symbol": "circle"
         },
         "mode": "markers",
         "name": "Comedy",
         "showlegend": true,
         "type": "scattergl",
         "x": [
          69000000,
          14000000,
          13000000,
          10000000,
          29000000,
          35000000,
          145000000,
          15000000,
          80000000,
          110000000,
          200000000,
          40000000,
          125000000,
          95000000,
          37000000,
          80000000,
          19000000,
          1000000,
          68000000,
          21000000,
          30000000,
          45000000,
          165000000,
          3000000,
          80000000,
          80000000,
          35000000,
          110000000,
          23600000,
          50000000,
          30000000,
          20000000,
          5000000,
          7500000,
          10000000,
          50000000,
          18000000,
          75000000,
          20000000,
          32500000,
          35000000,
          40000000,
          50000000,
          50000000,
          82500000,
          12000000,
          37000000,
          3000000,
          40000000,
          125000000,
          60000000,
          45000000,
          60000000,
          22000000,
          37000000,
          50000000,
          30000000,
          48000000,
          55000000,
          40000000,
          70000000,
          85000000,
          42000000,
          36000000,
          30000000,
          4000000,
          10000000,
          8800000,
          40000000,
          103000000,
          64000000,
          28000000,
          65000000,
          52000000,
          150000000,
          50000000,
          75000000,
          55000000,
          110000000,
          28000000,
          20000000,
          25000000,
          3000000,
          48000000,
          30000000,
          4800000,
          25000000,
          26000000,
          50000000,
          40000000,
          70000000,
          65000000,
          70000000,
          65000000,
          50000000,
          45000000,
          25000000,
          100000000,
          10000000,
          52000000,
          63000000,
          60000000,
          40000000,
          24000000,
          40000000,
          20000000,
          26000000,
          20000000,
          25000000,
          69000000,
          6000000,
          30000000,
          90000000,
          50000000,
          70000000,
          24000000,
          35000000,
          17000000,
          37000000,
          75000000,
          25000000,
          29000000,
          8000000,
          30000000,
          20000000,
          21000000,
          75000000,
          65000000,
          21000000,
          80000000,
          3000000,
          42000000,
          35000000,
          31000000,
          35000000,
          2500000,
          19000000,
          75000000,
          28000000,
          35000000,
          51000000,
          50000000,
          16000000,
          37500000,
          15600000,
          85000000,
          20000000,
          30000000,
          4000000,
          40000000,
          50000000,
          400000,
          7500000,
          26000000,
          10000000,
          28000000,
          14700000,
          7500000,
          15000000,
          8000000,
          20000000,
          42000000,
          79000000,
          65000000,
          16000000,
          50000000,
          20000000,
          35000000,
          85000000,
          6000000,
          75000000,
          30000000,
          157800000,
          4200000,
          16000000,
          15000000,
          20000000,
          30000000,
          15000000,
          46000000,
          34000000,
          40000000,
          30000000,
          75000000,
          23000000,
          35000000,
          19000000,
          35000000,
          37000000,
          50000000,
          11300000,
          35000000,
          38000000,
          10000000,
          18000000,
          80000000,
          80000000,
          20000000,
          17000000,
          18000000,
          8000000,
          20000000,
          40000000,
          85000000,
          60000000,
          45000000,
          30000000,
          100000000,
          13000000,
          20000000,
          19000000,
          75000000,
          55000000,
          40000000,
          60000000,
          5000000,
          9000000,
          45000000,
          22000000,
          23000000,
          55000000,
          56000000,
          40000000,
          12000000,
          20000000,
          42000000,
          38000000,
          65000000,
          40000000,
          53000000,
          35000000,
          5000000,
          56000000,
          18000000,
          85000000,
          28000000,
          70000000,
          38000000,
          38000000,
          32000000,
          40000000,
          40000000,
          60000000,
          20000000,
          45000000,
          22000000,
          35000000,
          100000000,
          45000000,
          100000000,
          36000000,
          12000000,
          45000000,
          11500000,
          68000000,
          18000000,
          20000000,
          35000000,
          6000000,
          40000000,
          23000000,
          19000000,
          60000000,
          48000000,
          10000000,
          11000000,
          25000000,
          72500000,
          17000000,
          15000000,
          22000000,
          13000000,
          30000000,
          40000000,
          19000000,
          20000000,
          28000000,
          42000000,
          8000000,
          60000000,
          5000000,
          9000000,
          95000000,
          22000000,
          99000000,
          90000000,
          60000000,
          55000000,
          20000000,
          45000000,
          25000000,
          11000000,
          6000000,
          55000000,
          32000000,
          2500000,
          29000000,
          30000000,
          12000000,
          75600000,
          53000000,
          75000000,
          30000000,
          35000000,
          18500000,
          65000000,
          35000000,
          8000000,
          2000000,
          28000000,
          24000000,
          3500000,
          40000000,
          28000000,
          60000000,
          70000000,
          20000000,
          22000000,
          20000000,
          35000000,
          20000000,
          33000000,
          51000000,
          35000000,
          30000000,
          83000000,
          1200000,
          15500000,
          3300000,
          30000000,
          85000000,
          50000000,
          75000000,
          33000000,
          5000000,
          25000000,
          40000000,
          60000000,
          21000000,
          40000000,
          3000000,
          21000000,
          40000000,
          28000000,
          5000000,
          25000000,
          5000000,
          30000000,
          110000000,
          22000000,
          25000000,
          4000000,
          60000000,
          50000000,
          250300,
          22000000,
          20000000,
          15000000,
          12000000,
          35000000,
          30000000,
          35000000,
          35000000,
          50000000,
          13000000,
          20000000,
          41000000,
          2500000,
          29000000,
          30000000,
          35000000,
          11000000,
          11000000,
          25000000,
          16500000,
          9000000,
          30000000,
          28000000,
          31000000,
          7000000,
          10000000,
          100000,
          60000000,
          5000000,
          30000000,
          10000000,
          30000000,
          19000000,
          41300000,
          35000000,
          35000000,
          24000000,
          50000000,
          3700000,
          28000000,
          69000000,
          6000000,
          5,
          70000000,
          1800000,
          20000000,
          20000000,
          20000000,
          35000000,
          120000000,
          3000000,
          11000000,
          10000000,
          45000000,
          30000000,
          50000000,
          75000000,
          100000000,
          75000000,
          57000000,
          17500000,
          12000000,
          4000000,
          10000000,
          20000000,
          6000000,
          20000000,
          20000000,
          25000000,
          5000000,
          30000000,
          8000000,
          5000000,
          19000000,
          70000000,
          45000000,
          13000000,
          10000000,
          13000000,
          25000000,
          29100000,
          12000000,
          30000000,
          45000000,
          35200000,
          90,
          62000000,
          40000000,
          18000000,
          17000000,
          40000000,
          12000000,
          18000000,
          12000000,
          1500000,
          80000000,
          20000000,
          16000000,
          6500000,
          40000000,
          22000000,
          80000000,
          12600000,
          60000000,
          19000000,
          55000000,
          41000000,
          20000000,
          40000000,
          10000000,
          10000000,
          35000000,
          2500000,
          15000000,
          19000000,
          85000000,
          52000000,
          12000000,
          2750000,
          32000000,
          30000000,
          30000000,
          19000000,
          250000,
          30000000,
          26000000,
          49900000,
          10000000,
          5000000,
          1600000,
          15000000,
          6500000,
          12000000,
          25000000,
          35000000,
          18000000,
          42000000,
          41000000,
          29000000,
          17500000,
          12000000,
          35000000,
          10000000,
          5000000,
          5000000,
          12000000,
          5000000,
          850000,
          9000000,
          5000000,
          16000000,
          8000000,
          15600000,
          3900000,
          42000000,
          35000000,
          70000000,
          19000000,
          7500000,
          5000000,
          1100000,
          5000000,
          35000000,
          3000000,
          10000,
          3500000,
          8000000,
          22000000,
          6000000,
          14000000,
          25000000,
          26000000,
          20000000,
          19000000,
          50000000,
          10000000,
          1000000,
          8000000,
          22000000,
          15000000,
          58000000,
          40000000,
          7000000,
          55000000,
          35000000,
          12000000,
          6000000,
          35000000
         ],
         "xaxis": "x",
         "y": [
          177900000,
          82468705,
          42513270,
          29820616,
          48453605,
          469310836,
          1445638421,
          14900000,
          271430189,
          190309707,
          233503234,
          312897920,
          634502312,
          392105159,
          113100000,
          247022278,
          278019771,
          11522,
          215863606,
          31635150,
          509183536,
          83000000,
          752600867,
          5705895,
          586764305,
          214945591,
          79628200,
          331526598,
          102391540,
          549368315,
          495303,
          170800000,
          1818417,
          60781545,
          159814490,
          145079584,
          141774679,
          196482882,
          33900000,
          288383523,
          194564672,
          317400000,
          108961677,
          177500000,
          240685326,
          102731865,
          165335153,
          24856027,
          178866158,
          134038006,
          361366633,
          141220678,
          219417255,
          115171795,
          270000000,
          200800000,
          238539198,
          121000000,
          326088587,
          128000000,
          58100000,
          340487652,
          122800000,
          104970953,
          174600318,
          25343661,
          40262167,
          5101673,
          15000000,
          362000072,
          101600000,
          133346506,
          179379533,
          609841637,
          245527149,
          234989584,
          791863,
          231449203,
          253890701,
          60780981,
          78378744,
          47281670,
          455708,
          220673217,
          1122066,
          125479266,
          22605153,
          177400000,
          86234523,
          250779876,
          374100000,
          418800000,
          371600000,
          211800000,
          136536687,
          178262620,
          149200000,
          170432927,
          18610260,
          75500000,
          296938801,
          124700000,
          288500000,
          83188165,
          141069860,
          69766483,
          90574188,
          168423227,
          281929795,
          180613180,
          32443111,
          287553595,
          204313400,
          104088441,
          223200000,
          87100000,
          99255460,
          115647426,
          96500000,
          342695435,
          87305549,
          287144079,
          75026327,
          105000000,
          44600000,
          71441250,
          443140005,
          136853506,
          97400000,
          516642939,
          18637690,
          107645357,
          12337378,
          104400000,
          140795793,
          60141683,
          140376621,
          395607854,
          75100000,
          209838559,
          149270999,
          242786137,
          119754278,
          125000000,
          24733572,
          187134117,
          170737,
          160300000,
          15700000,
          126069509,
          71261763,
          46118097,
          8742330,
          154608856,
          14114415,
          77516304,
          14600000,
          232372681,
          4210306,
          100523181,
          216197492,
          73100000,
          149700000,
          26874347,
          66468332,
          171269565,
          22000000,
          71571300,
          205219880,
          8100000,
          90450008,
          49263404,
          117449790,
          3746,
          68263166,
          76196538,
          87238158,
          105173115,
          34533783,
          32000000,
          54639553,
          134734481,
          219900000,
          195745823,
          38505009,
          93251121,
          70067909,
          131100000,
          163700000,
          110803676,
          12976079,
          93320380,
          118102725,
          25200000,
          262552893,
          169900000,
          98376292,
          46100000,
          66316289,
          270665134,
          5021219,
          80547866,
          265126918,
          58292295,
          170300000,
          113900000,
          85897593,
          310650585,
          24600000,
          111037232,
          49830607,
          110045109,
          152300000,
          169837010,
          141700000,
          5224938,
          18803648,
          212000000,
          147880543,
          79799880,
          330444045,
          142044638,
          108394089,
          31200000,
          136300000,
          178300000,
          105734416,
          128100000,
          16872671,
          95200000,
          219400000,
          2600000,
          198636868,
          43387445,
          148964660,
          92601050,
          171844840,
          112343513,
          321700000,
          228500000,
          33562069,
          86400000,
          128453183,
          183936074,
          124914842,
          13405595,
          88200000,
          202026112,
          52000000,
          290700000,
          83200000,
          11293663,
          306776732,
          94100000,
          68267862,
          68844775,
          17399000,
          18317151,
          24849029,
          196800000,
          46152411,
          17700000,
          47318560,
          112462508,
          15316635,
          45967935,
          152500000,
          163000000,
          136600000,
          33035736,
          45109561,
          73180723,
          75055070,
          111800000,
          18755936,
          50700000,
          29637811,
          131523093,
          7935363,
          129181830,
          56303596,
          64600152,
          104907746,
          40120144,
          246233113,
          102000000,
          62357900,
          154906693,
          30426096,
          185400345,
          59768495,
          39055536,
          15071,
          187361754,
          94539426,
          6854611,
          33157615,
          21800000,
          96070507,
          7266209,
          118200000,
          59400000,
          54169363,
          42064105,
          32400000,
          158851357,
          35492921,
          39187783,
          13539709,
          130560428,
          42105111,
          76585951,
          141522961,
          90449929,
          164433867,
          88900000,
          9500000,
          14800000,
          8586376,
          65090821,
          47817020,
          77100000,
          47231070,
          76700000,
          90754475,
          59468275,
          2600000,
          7385434,
          50206,
          115375850,
          131426169,
          144100000,
          119483446,
          65000000,
          6538177,
          48782670,
          32900000,
          255700000,
          49050886,
          41863726,
          1882074,
          94017294,
          190212113,
          92380927,
          368744044,
          6274027,
          3046741,
          54819301,
          51349833,
          76196538,
          34942188,
          22384741,
          35060882,
          476375,
          23076657,
          41087017,
          32054369,
          15785148,
          27020284,
          2200000,
          82148538,
          24200000,
          94700000,
          173700000,
          54837234,
          149281606,
          92000000,
          1185012,
          26900000,
          121600000,
          108007109,
          23400000,
          59827328,
          52395996,
          13620075,
          23936908,
          43763247,
          38159905,
          48800000,
          23280529,
          1011305,
          925000,
          55003135,
          1320429,
          61700416,
          80340218,
          13500000,
          92884429,
          106371651,
          21800000,
          173965010,
          70181428,
          50054511,
          3663309,
          134400000,
          86387857,
          39241323,
          1,
          67112664,
          2400000,
          500000,
          17800000,
          18599102,
          103100000,
          48668907,
          11947954,
          252909177,
          295750,
          38058335,
          180622424,
          56722693,
          67631903,
          119559110,
          71600000,
          52200000,
          90508336,
          38528984,
          31584901,
          4366460,
          85749034,
          2025238,
          15800000,
          177200000,
          68474305,
          64282312,
          42886719,
          5468650,
          3500000,
          36192775,
          75871032,
          24000000,
          31200000,
          24420923,
          20768906,
          9802525,
          18167819,
          265452,
          33013805,
          114500000,
          37788228,
          1410778,
          40854735,
          106407672,
          65070412,
          42580920,
          34200000,
          22939027,
          19651093,
          6985158,
          155873,
          164112721,
          55030051,
          109502303,
          24793509,
          26155781,
          63647656,
          203509374,
          27219729,
          50650079,
          69600000,
          65784503,
          3900000,
          27849137,
          48147945,
          598645,
          31600000,
          155545279,
          26781723,
          34000000,
          39267515,
          219103655,
          216528528,
          84500122,
          7310206,
          42045846,
          64400000,
          8454301,
          29200000,
          359247,
          27437881,
          21949234,
          28013733,
          11001627,
          4040588,
          6300000,
          40105542,
          13400000,
          12517488,
          6673422,
          48000000,
          15300000,
          40500000,
          8200000,
          78600000,
          19179969,
          77063924,
          30526509,
          2500000,
          4400000,
          295206,
          43493123,
          4600000,
          1243961,
          46789413,
          26888376,
          22483370,
          6491240,
          11620337,
          6200000,
          138805831,
          81000000,
          176100000,
          6900000,
          4393504,
          9341824,
          6200000,
          5042014,
          77477008,
          23182223,
          200000,
          4200000,
          63500000,
          33788161,
          41387687,
          18062279,
          14353654,
          28818995,
          74747725,
          32800000,
          33422806,
          37915971,
          14659448,
          34694,
          84772742,
          29331068,
          41299492,
          19322135,
          31400000,
          43042835,
          30962335,
          18490423,
          69000,
          69307224
         ],
         "yaxis": "y"
        },
        {
         "customdata": [
          [
           "Doctor Strange in the Multiverse of Madness"
          ],
          [
           "The Dark Tower"
          ],
          [
           "Fantastic Beasts: The Crimes of Grindelwald"
          ],
          [
           "How to Train Your Dragon"
          ],
          [
           "How to Train Your Dragon 2"
          ],
          [
           "Twilight"
          ],
          [
           "Harry Potter and the Deathly Hallows: Part 2"
          ],
          [
           "Maleficent"
          ],
          [
           "Shrek the Third"
          ],
          [
           "Thor: Love and Thunder"
          ],
          [
           "The Hobbit: The Desolation of Smaug"
          ],
          [
           "Constantine"
          ],
          [
           "Damsel"
          ],
          [
           "Fantastic Beasts: The Secrets of Dumbledore"
          ],
          [
           "Fantastic Beasts and Where to Find Them"
          ],
          [
           "Donnie Darko"
          ],
          [
           "Wrath of the Titans"
          ],
          [
           "Jack the Giant Slayer"
          ],
          [
           "Ghostbusters: Frozen Empire"
          ],
          [
           "Hansel & Gretel: Witch Hunters"
          ],
          [
           "Hellboy: The Crooked Man"
          ],
          [
           "Bruce Almighty"
          ],
          [
           "Hancock"
          ],
          [
           "Ghostbusters: Afterlife"
          ],
          [
           "Miss Peregrine's Home for Peculiar Children"
          ],
          [
           "Jungle Cruise"
          ],
          [
           "The Watchers"
          ],
          [
           "The Smurfs 2"
          ],
          [
           "Knights of the Zodiac"
          ],
          [
           "Home"
          ],
          [
           "The Lovely Bones"
          ],
          [
           "The Mummy"
          ],
          [
           "The Last Witch Hunter"
          ],
          [
           "Immortals"
          ],
          [
           "Hellboy"
          ],
          [
           "Daredevil"
          ],
          [
           "Midnight in Paris"
          ],
          [
           "The Sorcerer's Apprentice"
          ],
          [
           "Underworld"
          ],
          [
           "Hellboy"
          ],
          [
           "R.I.P.D."
          ],
          [
           "Oz the Great and Powerful"
          ],
          [
           "Underworld: Blood Wars"
          ],
          [
           "Underworld: Evolution"
          ],
          [
           "Underworld: Awakening"
          ],
          [
           "The Ant Bully"
          ],
          [
           "The Legend of Tarzan"
          ],
          [
           "Chaos Walking"
          ],
          [
           "Drive Angry"
          ],
          [
           "Hellboy II: The Golden Army"
          ],
          [
           "Nanny McPhee"
          ],
          [
           "The Mortal Instruments: City of Bones"
          ],
          [
           "Blade II"
          ],
          [
           "Son of the Mask"
          ],
          [
           "Underworld: Rise of the Lycans"
          ],
          [
           "Bedazzled"
          ],
          [
           "The Nutcracker and the Four Realms"
          ],
          [
           "Sorry to Bother You"
          ],
          [
           "The League of Extraordinary Gentlemen"
          ],
          [
           "The Illusionist"
          ],
          [
           "Eragon"
          ],
          [
           "Mary Poppins Returns"
          ],
          [
           "Evan Almighty"
          ],
          [
           "A Monster Calls"
          ],
          [
           "Mandy"
          ],
          [
           "The Covenant"
          ],
          [
           "Cats"
          ],
          [
           "Aquamarine"
          ],
          [
           "The Santa Clause 2"
          ],
          [
           "The Kid"
          ],
          [
           "Pan"
          ],
          [
           "Enter the Void"
          ],
          [
           "Don't Be Afraid of the Dark"
          ],
          [
           "If Only"
          ],
          [
           "Bedtime Stories"
          ],
          [
           "Ghosts of Girlfriends Past"
          ],
          [
           "Where the Wild Things Are"
          ],
          [
           "MirrorMask"
          ],
          [
           "The King's Daughter"
          ],
          [
           "Into the Woods"
          ],
          [
           "Beautiful Creatures"
          ],
          [
           "Penelope"
          ],
          [
           "Nutty Professor II: The Klumps"
          ]
         ],
         "hovertemplate": "genre1=Fantasy<br>Budget ($)=%{x}<br>Revenue ($)=%{y}<br>popularity=%{marker.size}<br>title=%{customdata[0]}<extra></extra>",
         "legendgroup": "Fantasy",
         "marker": {
          "color": "#FF97FF",
          "size": [
           81.2365,
           74.6404,
           47.6529,
           43.1004,
           31.3777,
           23.9546,
           22.2997,
           16.4794,
           13.7684,
           13.4913,
           12.6771,
           11.1948,
           11.0089,
           10.3885,
           9.8792,
           9.3002,
           8.3817,
           8.3303,
           8.2594,
           8.2429,
           8.1642,
           7.9432,
           7.7781,
           7.7701,
           7.5259,
           7.508,
           7.1998,
           7.1611,
           7.1519,
           7.0257,
           6.9352,
           6.68,
           6.6051,
           6.5673,
           6.5462,
           6.428,
           6.1941,
           5.9762,
           5.943,
           5.6916,
           5.6616,
           5.5223,
           5.4758,
           5.4218,
           5.295,
           5.1082,
           5.0519,
           5.0471,
           4.9644,
           4.9538,
           4.9414,
           4.8575,
           4.7672,
           4.7384,
           4.5989,
           4.3891,
           4.353,
           4.1248,
           4.0793,
           3.933,
           3.8321,
           3.7713,
           3.7193,
           3.637,
           3.6181,
           3.5567,
           3.5274,
           3.5063,
           3.313,
           3.2638,
           3.1863,
           3.1292,
           3.1278,
           2.9895,
           2.95,
           2.8434,
           2.7817,
           2.7472,
           2.4901,
           2.4806,
           2.4417,
           2.4085,
           2.2507
          ],
          "sizemode": "area",
          "sizeref": 0.47105800000000003,
          "symbol": "circle"
         },
         "mode": "markers",
         "name": "Fantasy",
         "showlegend": true,
         "type": "scattergl",
         "x": [
          200000000,
          60000000,
          200000000,
          165000000,
          145000000,
          37000000,
          125000000,
          180000000,
          160000000,
          250000000,
          250000000,
          100000000,
          60000000,
          200000000,
          180000000,
          4500000,
          150000000,
          195000000,
          100000000,
          50000000,
          20000000,
          80000000,
          150000000,
          75000000,
          110000000,
          200000000,
          30000000,
          105000000,
          60000000,
          135000000,
          65000000,
          125000000,
          90000000,
          75000000,
          50000000,
          78000000,
          17000000,
          150000000,
          22000000,
          66000000,
          130000000,
          200000000,
          35000000,
          50000000,
          70000000,
          50000000,
          180000000,
          125000000,
          50000000,
          85000000,
          25000000,
          60000000,
          54000000,
          84000000,
          35000000,
          48000000,
          120000000,
          3200000,
          78000000,
          16500000,
          100000000,
          130000000,
          175000000,
          43000000,
          6000000,
          20000000,
          95000000,
          12000000,
          65000000,
          65000000,
          150000000,
          13000000,
          25000000,
          532673,
          80000000,
          37500000,
          100000000,
          4000000,
          40500000,
          50000000,
          60000000,
          15000000,
          84000000
         ],
         "xaxis": "x",
         "y": [
          955775804,
          113231078,
          654900000,
          494879471,
          621537519,
          393616788,
          1341511219,
          758539785,
          813367380,
          760900000,
          958400000,
          230900000,
          5000,
          407200000,
          809342332,
          7500000,
          301970083,
          197700000,
          201967521,
          226349749,
          2014050,
          484592874,
          629400000,
          204334455,
          296482446,
          220889446,
          51147812,
          347434178,
          7000000,
          368871007,
          93600000,
          409231607,
          146936910,
          226904017,
          55065289,
          179179718,
          151119219,
          215300000,
          95708457,
          99318987,
          61600000,
          491868548,
          81093313,
          111476513,
          160112671,
          55200000,
          356743061,
          26508132,
          40909909,
          160388063,
          123276807,
          95396573,
          155010032,
          59918422,
          92158961,
          90383208,
          173961069,
          18200000,
          179265204,
          87892388,
          250425512,
          348807090,
          174440724,
          47309313,
          1653784,
          37597471,
          77276321,
          23006849,
          172842355,
          110317580,
          128388320,
          754249,
          36993168,
          3000000,
          212874864,
          102366815,
          100140916,
          973613,
          2200000,
          212902372,
          60052138,
          21156270,
          123307945
         ],
         "yaxis": "y"
        },
        {
         "customdata": [
          [
           "Glass"
          ],
          [
           "10 Cloverfield Lane"
          ],
          [
           "Fall"
          ],
          [
           "The Equalizer"
          ],
          [
           "Now You See Me"
          ],
          [
           "Cocaine Bear"
          ],
          [
           "The Expendables"
          ],
          [
           "Bad Boys for Life"
          ],
          [
           "American Psycho"
          ],
          [
           "Taken 3"
          ],
          [
           "The Da Vinci Code"
          ],
          [
           "Trap"
          ],
          [
           "Mulholland Drive"
          ],
          [
           "Margin Call"
          ],
          [
           "Ocean's Eleven"
          ],
          [
           "Now You See Me 2"
          ],
          [
           "Rise of the Planet of the Apes"
          ],
          [
           "Unbreakable"
          ],
          [
           "Ghost Rider"
          ],
          [
           "Limitless"
          ],
          [
           "The Girl with the Dragon Tattoo"
          ],
          [
           "Unfaithful"
          ],
          [
           "Run"
          ],
          [
           "Coherence"
          ],
          [
           "A Simple Favor"
          ],
          [
           "Battleship"
          ],
          [
           "Red Sparrow"
          ],
          [
           "Angels & Demons"
          ],
          [
           "Old"
          ],
          [
           "Planet of the Apes"
          ],
          [
           "Source Code"
          ],
          [
           "Retribution"
          ],
          [
           "Wild Card"
          ],
          [
           "The Sum of All Fears"
          ],
          [
           "The Loft"
          ],
          [
           "Ambulance"
          ],
          [
           "Zero Dark Thirty"
          ],
          [
           "Miller's Girl"
          ],
          [
           "Ocean's Twelve"
          ],
          [
           "Truth or Dare"
          ],
          [
           "Collide"
          ],
          [
           "The Machinist"
          ],
          [
           "The Invisible Man"
          ],
          [
           "Under the Skin"
          ],
          [
           "I Spit on Your Grave"
          ],
          [
           "Fracture"
          ],
          [
           "The Bank Job"
          ],
          [
           "Original Sin"
          ],
          [
           "Mystic River"
          ],
          [
           "The Phantom of the Opera"
          ],
          [
           "Those Who Wish Me Dead"
          ],
          [
           "Before I Go to Sleep"
          ],
          [
           "Promising Young Woman"
          ],
          [
           "The Happening"
          ],
          [
           "Flightplan"
          ],
          [
           "Super 8"
          ],
          [
           "The Ledge"
          ],
          [
           "Disturbia"
          ],
          [
           "Red Eye"
          ],
          [
           "Bad Times at the El Royale"
          ],
          [
           "Serenity"
          ],
          [
           "Silent Hill: Revelation 3D"
          ],
          [
           "Money Monster"
          ],
          [
           "The Gambler"
          ],
          [
           "Abduction"
          ],
          [
           "Don't Breathe 2"
          ],
          [
           "mother!"
          ],
          [
           "Take Shelter"
          ],
          [
           "Red Riding Hood"
          ],
          [
           "Let Him Go"
          ],
          [
           "Red Lights"
          ],
          [
           "Insomnia"
          ],
          [
           "Exam"
          ],
          [
           "Copshop"
          ],
          [
           "Phone Booth"
          ],
          [
           "Suburbicon"
          ],
          [
           "Broken City"
          ],
          [
           "Left Behind"
          ],
          [
           "Contraband"
          ],
          [
           "The Kingdom"
          ],
          [
           "Bridge of Spies"
          ],
          [
           "Assault on Precinct 13"
          ],
          [
           "Transcendence"
          ],
          [
           "Eastern Promises"
          ],
          [
           "Hotel Mumbai"
          ],
          [
           "Shark Night 3D"
          ],
          [
           "Traffic"
          ],
          [
           "The Tuxedo"
          ],
          [
           "Eileen"
          ],
          [
           "Adrift"
          ],
          [
           "No Escape"
          ],
          [
           "The Number 23"
          ],
          [
           "The Iceman"
          ],
          [
           "The Haunted Mansion"
          ],
          [
           "In the Heart of the Sea"
          ],
          [
           "Reindeer Games"
          ],
          [
           "Awake"
          ],
          [
           "Escobar: Paradise Lost"
          ],
          [
           "The Boy Next Door"
          ],
          [
           "Overdrive"
          ],
          [
           "Trance"
          ],
          [
           "Acts of Vengeance"
          ],
          [
           "The Neon Demon"
          ],
          [
           "Out of Time"
          ],
          [
           "Deliver Us from Evil"
          ],
          [
           "Hotel Artemis"
          ],
          [
           "The Frozen Ground"
          ],
          [
           "The Invitation"
          ],
          [
           "The Paperboy"
          ],
          [
           "'71"
          ],
          [
           "Perfect Stranger"
          ],
          [
           "Changing Lanes"
          ],
          [
           "Funny Games"
          ],
          [
           "Trespass"
          ],
          [
           "State of Play"
          ],
          [
           "The Ghost Writer"
          ],
          [
           "The Secrets We Keep"
          ],
          [
           "Cat Person"
          ],
          [
           "Dead Man Down"
          ],
          [
           "Blood Ties"
          ],
          [
           "The Roommate"
          ],
          [
           "Automata"
          ],
          [
           "88 Minutes"
          ],
          [
           "The Woman in Black 2: Angel of Death"
          ],
          [
           "Blair Witch"
          ],
          [
           "Deception"
          ],
          [
           "Batman: Gotham by Gaslight"
          ],
          [
           "Taking Lives"
          ],
          [
           "Infinite Storm"
          ],
          [
           "Term Life"
          ],
          [
           "The Prince"
          ],
          [
           "Secret in Their Eyes"
          ],
          [
           "The Vatican Tapes"
          ],
          [
           "Pitch Black"
          ],
          [
           "Proud Mary"
          ],
          [
           "The Signal"
          ],
          [
           "Side Effects"
          ],
          [
           "Untraceable"
          ],
          [
           "The Medallion"
          ],
          [
           "Dracula 2000"
          ],
          [
           "Alice, Darling"
          ],
          [
           "The Counselor"
          ],
          [
           "Anna"
          ],
          [
           "The Gift"
          ],
          [
           "Unknown"
          ],
          [
           "The Intruder"
          ],
          [
           "The Missing"
          ]
         ],
         "hovertemplate": "genre1=Thriller<br>Budget ($)=%{x}<br>Revenue ($)=%{y}<br>popularity=%{marker.size}<br>title=%{customdata[0]}<extra></extra>",
         "legendgroup": "Thriller",
         "marker": {
          "color": "#FECB52",
          "size": [
           60.6594,
           23.846,
           16.8627,
           16.3247,
           14.8417,
           13.5136,
           11.3023,
           11.2774,
           10.186,
           9.8771,
           9.5762,
           9.5071,
           9.298,
           9.2335,
           8.9234,
           8.8036,
           8.7533,
           8.6454,
           7.8197,
           7.6599,
           7.6483,
           7.4664,
           7.2921,
           6.945,
           6.8923,
           6.885,
           6.8812,
           6.778,
           6.7271,
           6.6788,
           6.5562,
           6.5288,
           6.4349,
           6.4269,
           6.4169,
           6.1824,
           6.1487,
           6.0919,
           5.8957,
           5.8034,
           5.7947,
           5.7839,
           5.7748,
           5.6256,
           5.4528,
           5.4067,
           5.3708,
           5.2961,
           5.2864,
           5.1841,
           5.105,
           5.0869,
           5.0252,
           4.9969,
           4.8706,
           4.7995,
           4.6906,
           4.6561,
           4.5732,
           4.5548,
           4.5303,
           4.5283,
           4.5115,
           4.4954,
           4.4576,
           4.34,
           4.3389,
           4.2051,
           4.0997,
           3.9278,
           3.8372,
           3.8271,
           3.8161,
           3.812,
           3.8054,
           3.7383,
           3.7164,
           3.6953,
           3.6498,
           3.6404,
           3.607,
           3.5832,
           3.5265,
           3.4897,
           3.4692,
           3.4446,
           3.3376,
           3.3206,
           3.2911,
           3.2803,
           3.2756,
           3.2241,
           3.1974,
           3.1568,
           3.1554,
           3.1551,
           3.1218,
           3.0686,
           3.0629,
           3.0581,
           2.9984,
           2.9668,
           2.9277,
           2.9182,
           2.8708,
           2.8642,
           2.79,
           2.7563,
           2.7531,
           2.7467,
           2.7427,
           2.7251,
           2.6903,
           2.6855,
           2.685,
           2.6694,
           2.6275,
           2.6221,
           2.5736,
           2.5648,
           2.5502,
           2.5472,
           2.5241,
           2.5239,
           2.4963,
           2.484,
           2.4801,
           2.4706,
           2.4641,
           2.4599,
           2.4596,
           2.4585,
           2.4524,
           2.416,
           2.3878,
           2.3876,
           2.3788,
           2.3723,
           2.3421,
           2.3353,
           2.3282,
           2.325,
           2.317,
           2.3,
           2.2817,
           2.2746,
           2.2506
          ],
          "sizemode": "area",
          "sizeref": 0.47105800000000003,
          "symbol": "circle"
         },
         "mode": "markers",
         "name": "Thriller",
         "showlegend": true,
         "type": "scattergl",
         "x": [
          20000000,
          15000000,
          3000000,
          55000000,
          75000000,
          32500000,
          80000000,
          90000000,
          7000000,
          48000000,
          125000000,
          30000000,
          15000000,
          3500000,
          85000000,
          120000000,
          93000000,
          75000000,
          110000000,
          27000000,
          90000000,
          50000000,
          1700000,
          50000,
          20000000,
          209000000,
          69000000,
          150000000,
          18000000,
          100000000,
          32000000,
          20000000,
          30000000,
          68000000,
          14000000,
          40000000,
          40000000,
          4000000,
          110000000,
          3500000,
          21500000,
          5000000,
          7000000,
          13300000,
          2000000,
          10000000,
          20000000,
          42000000,
          25000000,
          70000000,
          20000000,
          22000000,
          10000000,
          60000000,
          55000000,
          50000000,
          2500000,
          20000000,
          26000000,
          32000000,
          25000000,
          20000000,
          27000000,
          25000000,
          35000000,
          15000000,
          30000000,
          5000000,
          42000000,
          21000000,
          14000000,
          46000000,
          600000,
          43500000,
          13000000,
          25000000,
          56000000,
          16000000,
          25000000,
          70000000,
          40000000,
          30000000,
          100000000,
          51500000,
          25000000,
          28000000,
          48000000,
          60000000,
          16000000,
          35000000,
          5000000,
          30000000,
          20000000,
          90000000,
          100000000,
          42000000,
          86000000,
          17000000,
          4000000,
          28210303,
          20000000,
          10000000,
          7000000,
          50000000,
          30000000,
          15000000,
          27220000,
          1000000,
          12500000,
          11000000,
          60795000,
          45000000,
          15000000,
          36000000,
          60000000,
          45000000,
          7200000,
          12000000,
          30000000,
          25500000,
          16000000,
          7000000,
          30000000,
          15000000,
          5000000,
          25000000,
          1000000,
          45000000,
          4749917,
          16500000,
          18000000,
          19500000,
          13000000,
          23000000,
          14000000,
          4000000,
          30000000,
          35000000,
          38000000,
          28000000,
          4000000,
          25000000,
          4357373,
          5000000,
          3700000,
          8000000,
          60000000
         ],
         "xaxis": "x",
         "y": [
          246999039,
          110216998,
          17363261,
          192330738,
          351723989,
          88314672,
          274470394,
          426505244,
          34300000,
          325800000,
          760006945,
          82677281,
          20289986,
          19504039,
          450717150,
          334897606,
          481800873,
          248118121,
          228738393,
          161900000,
          232617430,
          119137784,
          5184368,
          139745,
          97644617,
          303025485,
          151572634,
          485930816,
          90146510,
          362211740,
          147332697,
          18685751,
          6738764,
          193921372,
          10100000,
          52303589,
          132800000,
          1430985,
          362744280,
          95330493,
          6817535,
          8203235,
          144492724,
          5735963,
          572809,
          91354215,
          64828421,
          35402320,
          156800000,
          154674241,
          23384502,
          17669776,
          20379604,
          163403799,
          223387299,
          260100000,
          685303,
          117760134,
          57891803,
          31882724,
          14500000,
          55362705,
          93282604,
          39171130,
          82087155,
          53785551,
          44516999,
          3741098,
          89162162,
          7997460,
          13551174,
          113714830,
          394717,
          6807158,
          97837138,
          12751667,
          34737199,
          19682924,
          96262212,
          86658558,
          165478348,
          35294470,
          103039258,
          56106607,
          16900000,
          10126458,
          207500000,
          104400000,
          1560142,
          59945012,
          54400000,
          77677553,
          1969193,
          182290266,
          93900000,
          32168970,
          14373825,
          3758328,
          52425855,
          11247280,
          24300000,
          320705,
          3400000,
          55495563,
          87937815,
          12371132,
          5496951,
          354835,
          1353868,
          3200000,
          73090611,
          94935764,
          7938872,
          9612469,
          87800000,
          60300000,
          615233,
          282000,
          19600000,
          2415472,
          52545707,
          6237990,
          32593385,
          48854305,
          45172994,
          18024545,
          3469151,
          65470529,
          1707067,
          21256,
          1289595,
          34854990,
          1784763,
          53187659,
          21753365,
          2665322,
          63414135,
          52659594,
          34300000,
          47053625,
          121067,
          71009334,
          1200000,
          58978653,
          3419456,
          40600000,
          38364277
         ],
         "yaxis": "y"
        },
        {
         "customdata": [
          [
           "Bone Tomahawk"
          ],
          [
           "The Revenant"
          ],
          [
           "Horizon: An American Saga - Chapter 1"
          ],
          [
           "The Homesman"
          ],
          [
           "3:10 to Yuma"
          ],
          [
           "Hell or High Water"
          ],
          [
           "The Sisters Brothers"
          ],
          [
           "Open Range"
          ],
          [
           "Hidalgo"
          ],
          [
           "The Kid"
          ],
          [
           "Jane Got a Gun"
          ]
         ],
         "hovertemplate": "genre1=Western<br>Budget ($)=%{x}<br>Revenue ($)=%{y}<br>popularity=%{marker.size}<br>title=%{customdata[0]}<extra></extra>",
         "legendgroup": "Western",
         "marker": {
          "color": "#636efa",
          "size": [
           51.1829,
           9.7244,
           6.093,
           5.9729,
           4.1643,
           4.0139,
           3.4119,
           3.1723,
           2.8412,
           2.3484,
           2.3317
          ],
          "sizemode": "area",
          "sizeref": 0.47105800000000003,
          "symbol": "circle"
         },
         "mode": "markers",
         "name": "Western",
         "showlegend": true,
         "type": "scattergl",
         "x": [
          1800000,
          135000000,
          50000000,
          16000000,
          55000000,
          12000000,
          38000000,
          22000000,
          100000000,
          8000000,
          25000000
         ],
         "xaxis": "x",
         "y": [
          475846,
          532950503,
          38735702,
          3442853,
          70000000,
          37600000,
          13143056,
          68296293,
          108103450,
          1561698,
          3771345
         ],
         "yaxis": "y"
        },
        {
         "customdata": [
          [
           "After"
          ],
          [
           "The Notebook"
          ],
          [
           "Cinderella"
          ],
          [
           "Her"
          ],
          [
           "Corpse Bride"
          ],
          [
           "We Live in Time"
          ],
          [
           "After We Collided"
          ],
          [
           "After Ever Happy"
          ],
          [
           "Call Me by Your Name"
          ],
          [
           "After Everything"
          ],
          [
           "Friends with Benefits"
          ],
          [
           "Anyone But You"
          ],
          [
           "After We Fell"
          ],
          [
           "Five Feet Apart"
          ],
          [
           "Beautiful Disaster"
          ],
          [
           "Flipped"
          ],
          [
           "Redeeming Love"
          ],
          [
           "Fly Me to the Moon"
          ],
          [
           "Secretary"
          ],
          [
           "The Age of Adaline"
          ],
          [
           "Beastly"
          ],
          [
           "All of Us Strangers"
          ],
          [
           "Waves"
          ],
          [
           "Focus"
          ],
          [
           "The Fault in Our Stars"
          ],
          [
           "She's Out of My League"
          ],
          [
           "The Break-Up"
          ],
          [
           "Forever My Girl"
          ],
          [
           "Monster-in-Law"
          ],
          [
           "Every Day"
          ],
          [
           "Marry Me"
          ],
          [
           "What to Expect When You're Expecting"
          ],
          [
           "Shortbus"
          ],
          [
           "Two Weeks Notice"
          ],
          [
           "The Next Three Days"
          ],
          [
           "Overboard"
          ],
          [
           "Midnight Sun"
          ],
          [
           "Failure to Launch"
          ],
          [
           "Carol"
          ],
          [
           "Love Again"
          ],
          [
           "If Beale Street Could Talk"
          ],
          [
           "Punch-Drunk Love"
          ],
          [
           "Leap Year"
          ],
          [
           "Pride and Prejudice and Zombies"
          ],
          [
           "Upside Down"
          ],
          [
           "Rules Don't Apply"
          ],
          [
           "The House Bunny"
          ],
          [
           "The DUFF"
          ],
          [
           "Cinderella Man"
          ],
          [
           "Step Up All In"
          ],
          [
           "Just Married"
          ],
          [
           "The Space Between Us"
          ],
          [
           "Soul Plane"
          ],
          [
           "Sing Street"
          ],
          [
           "Second Act"
          ],
          [
           "Becoming Jane"
          ],
          [
           "Before Midnight"
          ],
          [
           "All My Life"
          ],
          [
           "Fifty Shades of Black"
          ],
          [
           "My Big Fat Greek Wedding 2"
          ],
          [
           "The Wedding Date"
          ],
          [
           "A Long Way Off"
          ],
          [
           "Julie & Julia"
          ],
          [
           "The Painted Veil"
          ],
          [
           "Under the Tuscan Sun"
          ],
          [
           "Ironclad"
          ],
          [
           "Brooklyn"
          ],
          [
           "Green Eyes"
          ],
          [
           "The Celestine Prophecy"
          ],
          [
           "Brown Sugar"
          ],
          [
           "Freeheld"
          ],
          [
           "The Sweetest Thing"
          ],
          [
           "Song to Song"
          ],
          [
           "Book Club"
          ],
          [
           "Kate & Leopold"
          ],
          [
           "Return to Me"
          ]
         ],
         "hovertemplate": "genre1=Romance<br>Budget ($)=%{x}<br>Revenue ($)=%{y}<br>popularity=%{marker.size}<br>title=%{customdata[0]}<extra></extra>",
         "legendgroup": "Romance",
         "marker": {
          "color": "#EF553B",
          "size": [
           23.1805,
           19.5434,
           17.7079,
           15.1903,
           13.459,
           12.6524,
           12.0759,
           11.2903,
           10.8173,
           10.2619,
           9.8826,
           9.5596,
           8.7318,
           8.6722,
           8.4688,
           7.9594,
           7.7356,
           6.6627,
           6.6389,
           6.4451,
           6.24,
           5.8277,
           5.6756,
           5.5361,
           5.4783,
           5.1848,
           4.9119,
           4.8963,
           4.6222,
           4.6212,
           4.4022,
           4.3843,
           4.2905,
           4.1541,
           4.1314,
           4.1281,
           4.0823,
           4.0713,
           3.8518,
           3.8364,
           3.8132,
           3.7709,
           3.7665,
           3.6987,
           3.6843,
           3.6434,
           3.5621,
           3.5378,
           3.4338,
           3.3537,
           3.3496,
           3.2887,
           3.2548,
           3.2366,
           3.1554,
           3.1504,
           2.9221,
           2.8392,
           2.8353,
           2.8156,
           2.7616,
           2.7146,
           2.7109,
           2.672,
           2.6715,
           2.5024,
           2.4663,
           2.458,
           2.3988,
           2.3928,
           2.3833,
           2.3761,
           2.3576,
           2.3444,
           2.3177,
           2.3078
          ],
          "sizemode": "area",
          "sizeref": 0.47105800000000003,
          "symbol": "circle"
         },
         "mode": "markers",
         "name": "Romance",
         "showlegend": true,
         "type": "scattergl",
         "x": [
          14000000,
          29000000,
          95000000,
          23000000,
          40000000,
          20000000,
          14000000,
          14000000,
          3500000,
          14000000,
          35000000,
          25000000,
          14000000,
          7000000,
          25000000,
          14000000,
          30000000,
          100000000,
          4000000,
          25000000,
          17000000,
          5000000,
          6000000,
          50100000,
          14000000,
          20000000,
          52000000,
          3500000,
          43000000,
          4900000,
          23000000,
          40000000,
          2000000,
          60000000,
          30000000,
          12000000,
          2800000,
          50000000,
          11800000,
          9000000,
          12000000,
          25000000,
          19000000,
          28000000,
          60000000,
          25000000,
          25000000,
          8500000,
          88000000,
          45000000,
          18000000,
          30000000,
          16000000,
          4000000,
          16000000,
          16500000,
          3000000,
          25000000,
          20000000,
          18000000,
          15000000,
          500000,
          40000000,
          19400000,
          18000000,
          25000000,
          11000000,
          20000,
          10000000,
          8000000,
          7000000,
          43000000,
          10000000,
          10000000,
          48000000,
          24000000
         ],
         "xaxis": "x",
         "y": [
          69497587,
          115600000,
          543514353,
          47351251,
          118133252,
          37182814,
          47990414,
          19238073,
          43143046,
          10644463,
          149500000,
          214891370,
          21753705,
          92600000,
          6850036,
          4324817,
          9464198,
          42247783,
          9300000,
          65663276,
          43200000,
          14864960,
          2576990,
          153962963,
          307166834,
          49800000,
          205700000,
          16367326,
          154749918,
          10400000,
          44000000,
          79700000,
          5557564,
          199043242,
          67448651,
          91244913,
          27365467,
          130224158,
          40272135,
          10000000,
          20572691,
          24665649,
          32686500,
          16457494,
          22187813,
          3900000,
          70442940,
          43528634,
          108539911,
          86165646,
          101564935,
          14793385,
          14800000,
          13624522,
          72282227,
          37311672,
          11176469,
          2000000,
          21164799,
          90632641,
          47175038,
          28951,
          129500000,
          26910847,
          58878723,
          5151023,
          62076141,
          5000,
          615752,
          27362712,
          573335,
          68696770,
          1710528,
          78720293,
          76019048,
          36600000
         ],
         "yaxis": "y"
        },
        {
         "customdata": [
          [
           "Fury"
          ],
          [
           "Civil War"
          ],
          [
           "Troy"
          ],
          [
           "Guy Ritchie's The Covenant"
          ],
          [
           "Pearl Harbor"
          ],
          [
           "1917"
          ],
          [
           "American Sniper"
          ],
          [
           "Dunkirk"
          ],
          [
           "13 Hours: The Secret Soldiers of Benghazi"
          ],
          [
           "12 Strong"
          ],
          [
           "Tears of the Sun"
          ],
          [
           "The Wall"
          ],
          [
           "Lone Survivor"
          ],
          [
           "Devotion"
          ],
          [
           "Alexander"
          ],
          [
           "The Outpost"
          ],
          [
           "War Horse"
          ],
          [
           "Green Zone"
          ],
          [
           "Tolkien"
          ],
          [
           "Cold Mountain"
          ],
          [
           "U-571"
          ],
          [
           "Windtalkers"
          ],
          [
           "Flags of Our Fathers"
          ],
          [
           "Jackboots on Whitehall"
          ],
          [
           "Danger Close: The Battle of Long Tan"
          ],
          [
           "The Man with the Iron Heart"
          ],
          [
           "The Monuments Men"
          ],
          [
           "The Water Diviner"
          ]
         ],
         "hovertemplate": "genre1=War<br>Budget ($)=%{x}<br>Revenue ($)=%{y}<br>popularity=%{marker.size}<br>title=%{customdata[0]}<extra></extra>",
         "legendgroup": "War",
         "marker": {
          "color": "#00cc96",
          "size": [
           17.2811,
           15.6385,
           15.5856,
           12.8492,
           9.9712,
           9.6553,
           8.6606,
           8.3849,
           7.7276,
           6.8328,
           5.661,
           5.2751,
           5.1565,
           5.0216,
           4.7243,
           4.4945,
           4.3985,
           4.1771,
           3.9985,
           3.9471,
           3.831,
           3.2008,
           3.1368,
           3.0944,
           3.0789,
           2.6707,
           2.516,
           2.2656
          ],
          "sizemode": "area",
          "sizeref": 0.47105800000000003,
          "symbol": "circle"
         },
         "mode": "markers",
         "name": "War",
         "showlegend": true,
         "type": "scattergl",
         "x": [
          68000000,
          50000000,
          175000000,
          55000000,
          140000000,
          100000000,
          58800000,
          150000000,
          50000000,
          35000000,
          75000000,
          3000000,
          40000000,
          90000000,
          155000000,
          18000000,
          66000000,
          100000000,
          20000000,
          79000000,
          62000000,
          115000000,
          90000000,
          6000000,
          23934823,
          32679734,
          70000000,
          22500000
         ],
         "xaxis": "x",
         "y": [
          211817906,
          126542249,
          497409852,
          21948551,
          449220945,
          394638258,
          542300000,
          527000000,
          69411370,
          67450815,
          86500000,
          4500000,
          149295601,
          20000000,
          167298192,
          2133452,
          177584879,
          94882889,
          8654322,
          173013509,
          127700000,
          77600000,
          65900249,
          20776,
          2078370,
          4412639,
          154984035,
          15520023
         ],
         "yaxis": "y"
        },
        {
         "customdata": [
          [
           "Watchmen"
          ],
          [
           "Gone Girl"
          ],
          [
           "Blink Twice"
          ],
          [
           "Get Out"
          ],
          [
           "Memento"
          ],
          [
           "Murder on the Orient Express"
          ],
          [
           "Death on the Nile"
          ],
          [
           "A Haunting in Venice"
          ],
          [
           "Scooby-Doo"
          ],
          [
           "Game Night"
          ],
          [
           "Vanilla Sky"
          ],
          [
           "Hypnotic"
          ],
          [
           "Eagle Eye"
          ],
          [
           "Inferno"
          ],
          [
           "House of Wax"
          ],
          [
           "Nerve"
          ],
          [
           "Identity"
          ],
          [
           "Stay"
          ],
          [
           "Amsterdam"
          ],
          [
           "The Crazies"
          ],
          [
           "The Fourth Kind"
          ],
          [
           "The Guest"
          ],
          [
           "See How They Run"
          ],
          [
           "Sky Captain and the World of Tomorrow"
          ],
          [
           "Reminiscence"
          ],
          [
           "The X Files: I Want to Believe"
          ],
          [
           "Odd Thomas"
          ],
          [
           "Paper Towns"
          ],
          [
           "Femme Fatale"
          ],
          [
           "Secret Window"
          ],
          [
           "Joe Dirt"
          ],
          [
           "Dream House"
          ],
          [
           "Scooby-Doo 2: Monsters Unleashed"
          ],
          [
           "Joy Ride"
          ]
         ],
         "hovertemplate": "genre1=Mystery<br>Budget ($)=%{x}<br>Revenue ($)=%{y}<br>popularity=%{marker.size}<br>title=%{customdata[0]}<extra></extra>",
         "legendgroup": "Mystery",
         "marker": {
          "color": "#ab63fa",
          "size": [
           15.8129,
           15.3159,
           13.223,
           11.2364,
           11.1221,
           8.6473,
           7.4855,
           7.2161,
           7.1423,
           6.8796,
           6.4094,
           5.234,
           4.9615,
           4.8778,
           4.7487,
           4.4836,
           4.4832,
           4.4579,
           4.157,
           3.7698,
           3.7431,
           3.7178,
           3.6137,
           3.5596,
           3.4938,
           3.3404,
           2.9736,
           2.7485,
           2.6514,
           2.6343,
           2.5984,
           2.4681,
           2.4027,
           2.3592
          ],
          "sizemode": "area",
          "sizeref": 0.47105800000000003,
          "symbol": "circle"
         },
         "mode": "markers",
         "name": "Mystery",
         "showlegend": true,
         "type": "scattergl",
         "x": [
          130000000,
          61000000,
          20000000,
          4500000,
          9000000,
          55000000,
          90000000,
          60000000,
          84000000,
          37000000,
          68000000,
          70000000,
          80000000,
          75000000,
          40000000,
          19000000,
          28000000,
          50000000,
          80000000,
          20000000,
          10000000,
          5000000,
          40000000,
          70000000,
          68000000,
          30000000,
          27000000,
          12000000,
          35000000,
          40000000,
          17700000,
          50000000,
          80000000,
          23000000
         ],
         "xaxis": "x",
         "y": [
          185258983,
          370890259,
          46393906,
          255407969,
          40047236,
          352800000,
          137307235,
          121400000,
          275650703,
          117501013,
          203388341,
          16014123,
          178800000,
          220021259,
          68766121,
          85241496,
          90259536,
          8342132,
          31245810,
          54956140,
          47709193,
          2700051,
          21921551,
          57958696,
          18717947,
          69363381,
          1149267,
          85500000,
          16800000,
          92900000,
          30987695,
          39984400,
          181466833,
          36642838
         ],
         "yaxis": "y"
        },
        {
         "customdata": [
          [
           "Better Man"
          ],
          [
           "Bohemian Rhapsody"
          ],
          [
           "A Star Is Born"
          ],
          [
           "Bob Marley: One Love"
          ],
          [
           "TÁR"
          ],
          [
           "Dance Flick"
          ],
          [
           "Step Up"
          ],
          [
           "Rocketman"
          ],
          [
           "Step Up 2: The Streets"
          ],
          [
           "Back to Black"
          ],
          [
           "Step Up Revolution"
          ],
          [
           "I Can Only Imagine"
          ],
          [
           "I Still Believe"
          ],
          [
           "Strange Magic"
          ],
          [
           "TAYLOR SWIFT | THE ERAS TOUR"
          ],
          [
           "Honey"
          ],
          [
           "Whitney Houston: I Wanna Dance with Somebody"
          ],
          [
           "The Nutcracker"
          ]
         ],
         "hovertemplate": "genre1=Music<br>Budget ($)=%{x}<br>Revenue ($)=%{y}<br>popularity=%{marker.size}<br>title=%{customdata[0]}<extra></extra>",
         "legendgroup": "Music",
         "marker": {
          "color": "#FFA15A",
          "size": [
           11.3576,
           9.9646,
           5.9384,
           5.648,
           5.1287,
           5.0254,
           4.6407,
           4.2889,
           4.1994,
           4.0112,
           3.863,
           3.7217,
           3.2494,
           3.1552,
           2.6685,
           2.6297,
           2.6247,
           2.4784
          ],
          "sizemode": "area",
          "sizeref": 0.47105800000000003,
          "symbol": "circle"
         },
         "mode": "markers",
         "name": "Music",
         "showlegend": true,
         "type": "scattergl",
         "x": [
          110000000,
          52000000,
          36000000,
          70000000,
          35000000,
          25000000,
          12000000,
          40000000,
          23000000,
          30000000,
          33000000,
          7000000,
          12000000,
          100000000,
          15000000,
          18000000,
          50000000,
          90000000
         ],
         "xaxis": "x",
         "y": [
          22541033,
          910813521,
          436388866,
          180828556,
          29048571,
          31439140,
          114194847,
          167300000,
          150816700,
          51001975,
          140470746,
          86086881,
          16069730,
          13603453,
          261656269,
          62646763,
          59800000,
          17177993
         ],
         "yaxis": "y"
        },
        {
         "customdata": [
          [
           "Napoleon"
          ],
          [
           "The Fire Inside"
          ],
          [
           "The Imitation Game"
          ],
          [
           "The Iron Claw"
          ],
          [
           "Les Misérables"
          ],
          [
           "Lincoln"
          ],
          [
           "The Last Duel"
          ],
          [
           "Dumb Money"
          ],
          [
           "The Apprentice"
          ],
          [
           "The Walk"
          ],
          [
           "The Return"
          ],
          [
           "The Favourite"
          ],
          [
           "Big George Foreman"
          ],
          [
           "Young Woman and the Sea"
          ],
          [
           "Reagan"
          ],
          [
           "Ferrari"
          ],
          [
           "Selma"
          ],
          [
           "First Man"
          ],
          [
           "The Promise"
          ],
          [
           "A Hidden Life"
          ],
          [
           "Cabrini"
          ],
          [
           "Milk"
          ],
          [
           "The Iron Lady"
          ],
          [
           "Thirteen Days"
          ],
          [
           "Bonhoeffer: Pastor. Spy. Assassin"
          ],
          [
           "All Eyez on Me"
          ],
          [
           "In the Valley of Elah"
          ],
          [
           "The Professor and the Madman"
          ]
         ],
         "hovertemplate": "genre1=History<br>Budget ($)=%{x}<br>Revenue ($)=%{y}<br>popularity=%{marker.size}<br>title=%{customdata[0]}<extra></extra>",
         "legendgroup": "History",
         "marker": {
          "color": "#19d3f3",
          "size": [
           10.5421,
           10.4113,
           9.103,
           8.0578,
           7.229,
           6.1116,
           5.8388,
           5.7077,
           5.5959,
           5.4757,
           4.7875,
           4.6642,
           4.5773,
           4.0854,
           3.741,
           3.74,
           3.7099,
           3.5009,
           3.1817,
           3.142,
           3.1395,
           2.776,
           2.6276,
           2.605,
           2.5049,
           2.4805,
           2.3725,
           2.366
          ],
          "sizemode": "area",
          "sizeref": 0.47105800000000003,
          "symbol": "circle"
         },
         "mode": "markers",
         "name": "History",
         "showlegend": true,
         "type": "scattergl",
         "x": [
          165000000,
          12000000,
          14000000,
          15900000,
          61000000,
          65000000,
          100000000,
          30000000,
          16000000,
          35000000,
          20000000,
          15000000,
          32000000,
          40000000,
          25000000,
          95000000,
          20000000,
          70000000,
          90000000,
          9000000,
          50000000,
          20000000,
          13000000,
          80000000,
          25000000,
          40000000,
          23000000,
          25000000
         ],
         "xaxis": "x",
         "y": [
          220597098,
          8104331,
          233555708,
          40130232,
          442636309,
          275300000,
          30552111,
          20703794,
          17271613,
          61181942,
          2106733,
          95918706,
          3800000,
          581725,
          30107173,
          39220516,
          66787908,
          105713218,
          12448676,
          4645140,
          20592796,
          54600000,
          115890792,
          34566746,
          12165702,
          44922302,
          29541790,
          4957273
         ],
         "yaxis": "y"
        },
        {
         "customdata": [
          [
           "David Lynch: The Art Life"
          ],
          [
           "The Secret"
          ]
         ],
         "hovertemplate": "genre1=Documentary<br>Budget ($)=%{x}<br>Revenue ($)=%{y}<br>popularity=%{marker.size}<br>title=%{customdata[0]}<extra></extra>",
         "legendgroup": "Documentary",
         "marker": {
          "color": "#FF6692",
          "size": [
           4.0093,
           3.21
          ],
          "sizemode": "area",
          "sizeref": 0.47105800000000003,
          "symbol": "circle"
         },
         "mode": "markers",
         "name": "Documentary",
         "showlegend": true,
         "type": "scattergl",
         "x": [
          179554,
          3500000
         ],
         "xaxis": "x",
         "y": [
          311470,
          65600000
         ],
         "yaxis": "y"
        }
       ],
       "layout": {
        "legend": {
         "itemsizing": "constant",
         "title": {
          "text": "genre1"
         },
         "tracegroupgap": 0
        },
        "template": {
         "data": {
          "bar": [
           {
            "error_x": {
             "color": "#2a3f5f"
            },
            "error_y": {
             "color": "#2a3f5f"
            },
            "marker": {
             "line": {
              "color": "white",
              "width": 0.5
             },
             "pattern": {
              "fillmode": "overlay",
              "size": 10,
              "solidity": 0.2
             }
            },
            "type": "bar"
           }
          ],
          "barpolar": [
           {
            "marker": {
             "line": {
              "color": "white",
              "width": 0.5
             },
             "pattern": {
              "fillmode": "overlay",
              "size": 10,
              "solidity": 0.2
             }
            },
            "type": "barpolar"
           }
          ],
          "carpet": [
           {
            "aaxis": {
             "endlinecolor": "#2a3f5f",
             "gridcolor": "#C8D4E3",
             "linecolor": "#C8D4E3",
             "minorgridcolor": "#C8D4E3",
             "startlinecolor": "#2a3f5f"
            },
            "baxis": {
             "endlinecolor": "#2a3f5f",
             "gridcolor": "#C8D4E3",
             "linecolor": "#C8D4E3",
             "minorgridcolor": "#C8D4E3",
             "startlinecolor": "#2a3f5f"
            },
            "type": "carpet"
           }
          ],
          "choropleth": [
           {
            "colorbar": {
             "outlinewidth": 0,
             "ticks": ""
            },
            "type": "choropleth"
           }
          ],
          "contour": [
           {
            "colorbar": {
             "outlinewidth": 0,
             "ticks": ""
            },
            "colorscale": [
             [
              0,
              "#0d0887"
             ],
             [
              0.1111111111111111,
              "#46039f"
             ],
             [
              0.2222222222222222,
              "#7201a8"
             ],
             [
              0.3333333333333333,
              "#9c179e"
             ],
             [
              0.4444444444444444,
              "#bd3786"
             ],
             [
              0.5555555555555556,
              "#d8576b"
             ],
             [
              0.6666666666666666,
              "#ed7953"
             ],
             [
              0.7777777777777778,
              "#fb9f3a"
             ],
             [
              0.8888888888888888,
              "#fdca26"
             ],
             [
              1,
              "#f0f921"
             ]
            ],
            "type": "contour"
           }
          ],
          "contourcarpet": [
           {
            "colorbar": {
             "outlinewidth": 0,
             "ticks": ""
            },
            "type": "contourcarpet"
           }
          ],
          "heatmap": [
           {
            "colorbar": {
             "outlinewidth": 0,
             "ticks": ""
            },
            "colorscale": [
             [
              0,
              "#0d0887"
             ],
             [
              0.1111111111111111,
              "#46039f"
             ],
             [
              0.2222222222222222,
              "#7201a8"
             ],
             [
              0.3333333333333333,
              "#9c179e"
             ],
             [
              0.4444444444444444,
              "#bd3786"
             ],
             [
              0.5555555555555556,
              "#d8576b"
             ],
             [
              0.6666666666666666,
              "#ed7953"
             ],
             [
              0.7777777777777778,
              "#fb9f3a"
             ],
             [
              0.8888888888888888,
              "#fdca26"
             ],
             [
              1,
              "#f0f921"
             ]
            ],
            "type": "heatmap"
           }
          ],
          "heatmapgl": [
           {
            "colorbar": {
             "outlinewidth": 0,
             "ticks": ""
            },
            "colorscale": [
             [
              0,
              "#0d0887"
             ],
             [
              0.1111111111111111,
              "#46039f"
             ],
             [
              0.2222222222222222,
              "#7201a8"
             ],
             [
              0.3333333333333333,
              "#9c179e"
             ],
             [
              0.4444444444444444,
              "#bd3786"
             ],
             [
              0.5555555555555556,
              "#d8576b"
             ],
             [
              0.6666666666666666,
              "#ed7953"
             ],
             [
              0.7777777777777778,
              "#fb9f3a"
             ],
             [
              0.8888888888888888,
              "#fdca26"
             ],
             [
              1,
              "#f0f921"
             ]
            ],
            "type": "heatmapgl"
           }
          ],
          "histogram": [
           {
            "marker": {
             "pattern": {
              "fillmode": "overlay",
              "size": 10,
              "solidity": 0.2
             }
            },
            "type": "histogram"
           }
          ],
          "histogram2d": [
           {
            "colorbar": {
             "outlinewidth": 0,
             "ticks": ""
            },
            "colorscale": [
             [
              0,
              "#0d0887"
             ],
             [
              0.1111111111111111,
              "#46039f"
             ],
             [
              0.2222222222222222,
              "#7201a8"
             ],
             [
              0.3333333333333333,
              "#9c179e"
             ],
             [
              0.4444444444444444,
              "#bd3786"
             ],
             [
              0.5555555555555556,
              "#d8576b"
             ],
             [
              0.6666666666666666,
              "#ed7953"
             ],
             [
              0.7777777777777778,
              "#fb9f3a"
             ],
             [
              0.8888888888888888,
              "#fdca26"
             ],
             [
              1,
              "#f0f921"
             ]
            ],
            "type": "histogram2d"
           }
          ],
          "histogram2dcontour": [
           {
            "colorbar": {
             "outlinewidth": 0,
             "ticks": ""
            },
            "colorscale": [
             [
              0,
              "#0d0887"
             ],
             [
              0.1111111111111111,
              "#46039f"
             ],
             [
              0.2222222222222222,
              "#7201a8"
             ],
             [
              0.3333333333333333,
              "#9c179e"
             ],
             [
              0.4444444444444444,
              "#bd3786"
             ],
             [
              0.5555555555555556,
              "#d8576b"
             ],
             [
              0.6666666666666666,
              "#ed7953"
             ],
             [
              0.7777777777777778,
              "#fb9f3a"
             ],
             [
              0.8888888888888888,
              "#fdca26"
             ],
             [
              1,
              "#f0f921"
             ]
            ],
            "type": "histogram2dcontour"
           }
          ],
          "mesh3d": [
           {
            "colorbar": {
             "outlinewidth": 0,
             "ticks": ""
            },
            "type": "mesh3d"
           }
          ],
          "parcoords": [
           {
            "line": {
             "colorbar": {
              "outlinewidth": 0,
              "ticks": ""
             }
            },
            "type": "parcoords"
           }
          ],
          "pie": [
           {
            "automargin": true,
            "type": "pie"
           }
          ],
          "scatter": [
           {
            "fillpattern": {
             "fillmode": "overlay",
             "size": 10,
             "solidity": 0.2
            },
            "type": "scatter"
           }
          ],
          "scatter3d": [
           {
            "line": {
             "colorbar": {
              "outlinewidth": 0,
              "ticks": ""
             }
            },
            "marker": {
             "colorbar": {
              "outlinewidth": 0,
              "ticks": ""
             }
            },
            "type": "scatter3d"
           }
          ],
          "scattercarpet": [
           {
            "marker": {
             "colorbar": {
              "outlinewidth": 0,
              "ticks": ""
             }
            },
            "type": "scattercarpet"
           }
          ],
          "scattergeo": [
           {
            "marker": {
             "colorbar": {
              "outlinewidth": 0,
              "ticks": ""
             }
            },
            "type": "scattergeo"
           }
          ],
          "scattergl": [
           {
            "marker": {
             "colorbar": {
              "outlinewidth": 0,
              "ticks": ""
             }
            },
            "type": "scattergl"
           }
          ],
          "scattermapbox": [
           {
            "marker": {
             "colorbar": {
              "outlinewidth": 0,
              "ticks": ""
             }
            },
            "type": "scattermapbox"
           }
          ],
          "scatterpolar": [
           {
            "marker": {
             "colorbar": {
              "outlinewidth": 0,
              "ticks": ""
             }
            },
            "type": "scatterpolar"
           }
          ],
          "scatterpolargl": [
           {
            "marker": {
             "colorbar": {
              "outlinewidth": 0,
              "ticks": ""
             }
            },
            "type": "scatterpolargl"
           }
          ],
          "scatterternary": [
           {
            "marker": {
             "colorbar": {
              "outlinewidth": 0,
              "ticks": ""
             }
            },
            "type": "scatterternary"
           }
          ],
          "surface": [
           {
            "colorbar": {
             "outlinewidth": 0,
             "ticks": ""
            },
            "colorscale": [
             [
              0,
              "#0d0887"
             ],
             [
              0.1111111111111111,
              "#46039f"
             ],
             [
              0.2222222222222222,
              "#7201a8"
             ],
             [
              0.3333333333333333,
              "#9c179e"
             ],
             [
              0.4444444444444444,
              "#bd3786"
             ],
             [
              0.5555555555555556,
              "#d8576b"
             ],
             [
              0.6666666666666666,
              "#ed7953"
             ],
             [
              0.7777777777777778,
              "#fb9f3a"
             ],
             [
              0.8888888888888888,
              "#fdca26"
             ],
             [
              1,
              "#f0f921"
             ]
            ],
            "type": "surface"
           }
          ],
          "table": [
           {
            "cells": {
             "fill": {
              "color": "#EBF0F8"
             },
             "line": {
              "color": "white"
             }
            },
            "header": {
             "fill": {
              "color": "#C8D4E3"
             },
             "line": {
              "color": "white"
             }
            },
            "type": "table"
           }
          ]
         },
         "layout": {
          "annotationdefaults": {
           "arrowcolor": "#2a3f5f",
           "arrowhead": 0,
           "arrowwidth": 1
          },
          "autotypenumbers": "strict",
          "coloraxis": {
           "colorbar": {
            "outlinewidth": 0,
            "ticks": ""
           }
          },
          "colorscale": {
           "diverging": [
            [
             0,
             "#8e0152"
            ],
            [
             0.1,
             "#c51b7d"
            ],
            [
             0.2,
             "#de77ae"
            ],
            [
             0.3,
             "#f1b6da"
            ],
            [
             0.4,
             "#fde0ef"
            ],
            [
             0.5,
             "#f7f7f7"
            ],
            [
             0.6,
             "#e6f5d0"
            ],
            [
             0.7,
             "#b8e186"
            ],
            [
             0.8,
             "#7fbc41"
            ],
            [
             0.9,
             "#4d9221"
            ],
            [
             1,
             "#276419"
            ]
           ],
           "sequential": [
            [
             0,
             "#0d0887"
            ],
            [
             0.1111111111111111,
             "#46039f"
            ],
            [
             0.2222222222222222,
             "#7201a8"
            ],
            [
             0.3333333333333333,
             "#9c179e"
            ],
            [
             0.4444444444444444,
             "#bd3786"
            ],
            [
             0.5555555555555556,
             "#d8576b"
            ],
            [
             0.6666666666666666,
             "#ed7953"
            ],
            [
             0.7777777777777778,
             "#fb9f3a"
            ],
            [
             0.8888888888888888,
             "#fdca26"
            ],
            [
             1,
             "#f0f921"
            ]
           ],
           "sequentialminus": [
            [
             0,
             "#0d0887"
            ],
            [
             0.1111111111111111,
             "#46039f"
            ],
            [
             0.2222222222222222,
             "#7201a8"
            ],
            [
             0.3333333333333333,
             "#9c179e"
            ],
            [
             0.4444444444444444,
             "#bd3786"
            ],
            [
             0.5555555555555556,
             "#d8576b"
            ],
            [
             0.6666666666666666,
             "#ed7953"
            ],
            [
             0.7777777777777778,
             "#fb9f3a"
            ],
            [
             0.8888888888888888,
             "#fdca26"
            ],
            [
             1,
             "#f0f921"
            ]
           ]
          },
          "colorway": [
           "#636efa",
           "#EF553B",
           "#00cc96",
           "#ab63fa",
           "#FFA15A",
           "#19d3f3",
           "#FF6692",
           "#B6E880",
           "#FF97FF",
           "#FECB52"
          ],
          "font": {
           "color": "#2a3f5f"
          },
          "geo": {
           "bgcolor": "white",
           "lakecolor": "white",
           "landcolor": "white",
           "showlakes": true,
           "showland": true,
           "subunitcolor": "#C8D4E3"
          },
          "hoverlabel": {
           "align": "left"
          },
          "hovermode": "closest",
          "mapbox": {
           "style": "light"
          },
          "paper_bgcolor": "white",
          "plot_bgcolor": "white",
          "polar": {
           "angularaxis": {
            "gridcolor": "#EBF0F8",
            "linecolor": "#EBF0F8",
            "ticks": ""
           },
           "bgcolor": "white",
           "radialaxis": {
            "gridcolor": "#EBF0F8",
            "linecolor": "#EBF0F8",
            "ticks": ""
           }
          },
          "scene": {
           "xaxis": {
            "backgroundcolor": "white",
            "gridcolor": "#DFE8F3",
            "gridwidth": 2,
            "linecolor": "#EBF0F8",
            "showbackground": true,
            "ticks": "",
            "zerolinecolor": "#EBF0F8"
           },
           "yaxis": {
            "backgroundcolor": "white",
            "gridcolor": "#DFE8F3",
            "gridwidth": 2,
            "linecolor": "#EBF0F8",
            "showbackground": true,
            "ticks": "",
            "zerolinecolor": "#EBF0F8"
           },
           "zaxis": {
            "backgroundcolor": "white",
            "gridcolor": "#DFE8F3",
            "gridwidth": 2,
            "linecolor": "#EBF0F8",
            "showbackground": true,
            "ticks": "",
            "zerolinecolor": "#EBF0F8"
           }
          },
          "shapedefaults": {
           "line": {
            "color": "#2a3f5f"
           }
          },
          "ternary": {
           "aaxis": {
            "gridcolor": "#DFE8F3",
            "linecolor": "#A2B1C6",
            "ticks": ""
           },
           "baxis": {
            "gridcolor": "#DFE8F3",
            "linecolor": "#A2B1C6",
            "ticks": ""
           },
           "bgcolor": "white",
           "caxis": {
            "gridcolor": "#DFE8F3",
            "linecolor": "#A2B1C6",
            "ticks": ""
           }
          },
          "title": {
           "x": 0.05
          },
          "xaxis": {
           "automargin": true,
           "gridcolor": "#EBF0F8",
           "linecolor": "#EBF0F8",
           "ticks": "",
           "title": {
            "standoff": 15
           },
           "zerolinecolor": "#EBF0F8",
           "zerolinewidth": 2
          },
          "yaxis": {
           "automargin": true,
           "gridcolor": "#EBF0F8",
           "linecolor": "#EBF0F8",
           "ticks": "",
           "title": {
            "standoff": 15
           },
           "zerolinecolor": "#EBF0F8",
           "zerolinewidth": 2
          }
         }
        },
        "title": {
         "text": "Budget vs Revenue (Colored by Genre)"
        },
        "xaxis": {
         "anchor": "y",
         "domain": [
          0,
          1
         ],
         "title": {
          "text": "Budget ($)"
         }
        },
        "yaxis": {
         "anchor": "x",
         "domain": [
          0,
          1
         ],
         "title": {
          "text": "Revenue ($)"
         }
        }
       }
      }
     },
     "metadata": {},
     "output_type": "display_data"
    }
   ],
   "source": [
    "import plotly.express as px\n",
    "\n",
    "#Option 1\n",
    "\n",
    "fig1 = px.scatter(\n",
    "    df_model,\n",
    "    x='budget',\n",
    "    y='revenue',\n",
    "    color='genre1',          # color by genre string (e.g., Action, Comedy)\n",
    "    size='popularity',       # optional: size points by popularity\n",
    "    hover_data=['title'],    # optional: show movie title on hover\n",
    "    title='Budget vs Revenue (Colored by Genre)',\n",
    "    labels={'budget': 'Budget ($)', 'revenue': 'Revenue ($)'}\n",
    ")\n",
    "\n",
    "fig1.update_layout(template='plotly_white')\n",
    "fig1.show()"
   ]
  },
  {
   "cell_type": "code",
   "execution_count": 44,
   "metadata": {},
   "outputs": [
    {
     "data": {
      "application/vnd.plotly.v1+json": {
       "config": {
        "plotlyServerURL": "https://plot.ly"
       },
       "data": [
        {
         "alignmentgroup": "True",
         "boxpoints": "all",
         "hovertemplate": "genre1=%{x}<br>revenue=%{y}<extra></extra>",
         "legendgroup": "",
         "marker": {
          "color": "#636efa"
         },
         "name": "",
         "notched": false,
         "offsetgroup": "",
         "orientation": "v",
         "showlegend": false,
         "type": "box",
         "x": [
          "Adventure",
          "Crime",
          "Family",
          "Action",
          "Action",
          "Action",
          "Action",
          "Action",
          "Action",
          "Action",
          "Adventure",
          "Animation",
          "Drama",
          "Action",
          "Horror",
          "Science Fiction",
          "Comedy",
          "Adventure",
          "Action",
          "Action",
          "Adventure",
          "Action",
          "Science Fiction",
          "Action",
          "Animation",
          "Science Fiction",
          "Drama",
          "Science Fiction",
          "Action",
          "Comedy",
          "Adventure",
          "Science Fiction",
          "Action",
          "Fantasy",
          "Fantasy",
          "Action",
          "Action",
          "Drama",
          "Action",
          "Action",
          "Adventure",
          "Science Fiction",
          "Action",
          "Horror",
          "Action",
          "Action",
          "Drama",
          "Comedy",
          "Thriller",
          "Drama",
          "Action",
          "Drama",
          "Comedy",
          "Western",
          "Action",
          "Crime",
          "Action",
          "Action",
          "Animation",
          "Adventure",
          "Fantasy",
          "Animation",
          "Action",
          "Action",
          "Action",
          "Action",
          "Adventure",
          "Fantasy",
          "Horror",
          "Drama",
          "Drama",
          "Action",
          "Animation",
          "Horror",
          "Drama",
          "Animation",
          "Drama",
          "Action",
          "Adventure",
          "Action",
          "Drama",
          "Horror",
          "Action",
          "Adventure",
          "Adventure",
          "Action",
          "Action",
          "Action",
          "Action",
          "Comedy",
          "Drama",
          "Science Fiction",
          "Fantasy",
          "Science Fiction",
          "Adventure",
          "Family",
          "Horror",
          "Action",
          "Drama",
          "Animation",
          "Action",
          "Action",
          "Action",
          "Animation",
          "Action",
          "Animation",
          "Adventure",
          "Action",
          "Horror",
          "Animation",
          "Action",
          "Adventure",
          "Crime",
          "Horror",
          "Horror",
          "Horror",
          "Science Fiction",
          "Comedy",
          "Adventure",
          "Comedy",
          "Action",
          "Horror",
          "Action",
          "Fantasy",
          "Thriller",
          "Animation",
          "Romance",
          "Science Fiction",
          "Animation",
          "Animation",
          "Action",
          "Drama",
          "Adventure",
          "Fantasy",
          "Action",
          "Adventure",
          "Action",
          "Drama",
          "Drama",
          "Horror",
          "Action",
          "Horror",
          "Adventure",
          "Science Fiction",
          "Animation",
          "Family",
          "Horror",
          "Adventure",
          "Crime",
          "Action",
          "Family",
          "Action",
          "Adventure",
          "Action",
          "Horror",
          "Horror",
          "Action",
          "Comedy",
          "Drama",
          "Animation",
          "Animation",
          "Romance",
          "Action",
          "Adventure",
          "Adventure",
          "Adventure",
          "Action",
          "Action",
          "Action",
          "Comedy",
          "Action",
          "Adventure",
          "Drama",
          "Horror",
          "Crime",
          "Drama",
          "Animation",
          "Family",
          "Adventure",
          "Animation",
          "Action",
          "Adventure",
          "Adventure",
          "Action",
          "Action",
          "Drama",
          "Action",
          "Animation",
          "Action",
          "Drama",
          "Animation",
          "Romance",
          "Science Fiction",
          "Animation",
          "Animation",
          "War",
          "Horror",
          "Animation",
          "Science Fiction",
          "Comedy",
          "Comedy",
          "Animation",
          "Action",
          "Action",
          "Crime",
          "Animation",
          "Drama",
          "Thriller",
          "Drama",
          "Adventure",
          "Fantasy",
          "Horror",
          "Science Fiction",
          "Thriller",
          "Adventure",
          "Drama",
          "Action",
          "Horror",
          "Comedy",
          "Horror",
          "Adventure",
          "Drama",
          "Science Fiction",
          "Mystery",
          "Horror",
          "Drama",
          "Action",
          "War",
          "War",
          "Drama",
          "Action",
          "Action",
          "Action",
          "Action",
          "Action",
          "Mystery",
          "Horror",
          "Adventure",
          "Action",
          "Romance",
          "Action",
          "Horror",
          "Adventure",
          "Horror",
          "Drama",
          "Action",
          "Drama",
          "Animation",
          "Horror",
          "Adventure",
          "Horror",
          "Thriller",
          "Animation",
          "Action",
          "Adventure",
          "Animation",
          "Adventure",
          "Adventure",
          "Animation",
          "Action",
          "Family",
          "Drama",
          "Drama",
          "Animation",
          "Science Fiction",
          "Comedy",
          "Animation",
          "Action",
          "Drama",
          "Action",
          "Action",
          "Action",
          "Science Fiction",
          "Animation",
          "Action",
          "Action",
          "Adventure",
          "Science Fiction",
          "Fantasy",
          "Adventure",
          "Horror",
          "Drama",
          "Action",
          "Animation",
          "Drama",
          "Adventure",
          "Action",
          "Horror",
          "Comedy",
          "Drama",
          "Science Fiction",
          "Thriller",
          "Horror",
          "Fantasy",
          "Horror",
          "Romance",
          "Horror",
          "Adventure",
          "Science Fiction",
          "Adventure",
          "Action",
          "Family",
          "Action",
          "Action",
          "Action",
          "Mystery",
          "Action",
          "Animation",
          "Action",
          "Action",
          "Horror",
          "Adventure",
          "Animation",
          "Comedy",
          "Action",
          "Action",
          "Comedy",
          "Adventure",
          "Animation",
          "Action",
          "Action",
          "Animation",
          "Action",
          "Crime",
          "Comedy",
          "Comedy",
          "Drama",
          "War",
          "Animation",
          "Comedy",
          "Comedy",
          "Drama",
          "Adventure",
          "Fantasy",
          "Action",
          "Romance",
          "Science Fiction",
          "Horror",
          "Animation",
          "Horror",
          "Comedy",
          "Science Fiction",
          "Drama",
          "Horror",
          "Family",
          "Science Fiction",
          "Action",
          "Action",
          "Animation",
          "Comedy",
          "Adventure",
          "Comedy",
          "Action",
          "Family",
          "Action",
          "Family",
          "Adventure",
          "Drama",
          "Comedy",
          "Horror",
          "Romance",
          "Horror",
          "Animation",
          "Horror",
          "Comedy",
          "Animation",
          "Comedy",
          "Animation",
          "Animation",
          "Adventure",
          "Action",
          "Drama",
          "Action",
          "Horror",
          "Action",
          "Family",
          "Comedy",
          "Science Fiction",
          "Family",
          "Horror",
          "Animation",
          "Action",
          "Drama",
          "Action",
          "Animation",
          "Comedy",
          "Science Fiction",
          "Comedy",
          "Animation",
          "Science Fiction",
          "Family",
          "Crime",
          "Comedy",
          "Music",
          "Action",
          "Animation",
          "Animation",
          "Family",
          "Adventure",
          "Thriller",
          "Action",
          "Romance",
          "Thriller",
          "Action",
          "Action",
          "Action",
          "Mystery",
          "Drama",
          "Comedy",
          "Fantasy",
          "Drama",
          "Action",
          "Drama",
          "Crime",
          "Mystery",
          "Action",
          "Action",
          "Animation",
          "Crime",
          "Adventure",
          "Animation",
          "Fantasy",
          "Crime",
          "Action",
          "Science Fiction",
          "Crime",
          "Comedy",
          "Adventure",
          "Comedy",
          "Action",
          "Romance",
          "Drama",
          "Crime",
          "Drama",
          "Drama",
          "Drama",
          "Comedy",
          "Animation",
          "Action",
          "Drama",
          "Drama",
          "Drama",
          "Action",
          "Crime",
          "Science Fiction",
          "Horror",
          "Action",
          "Action",
          "Action",
          "Horror",
          "Family",
          "Science Fiction",
          "Comedy",
          "History",
          "Adventure",
          "Horror",
          "Comedy",
          "Animation",
          "Horror",
          "Adventure",
          "Horror",
          "Family",
          "Crime",
          "Action",
          "Action",
          "History",
          "Action",
          "Fantasy",
          "Action",
          "Action",
          "Animation",
          "Drama",
          "Romance",
          "Science Fiction",
          "Drama",
          "Animation",
          "Thriller",
          "Crime",
          "Drama",
          "Crime",
          "Comedy",
          "Action",
          "Drama",
          "Drama",
          "Animation",
          "Action",
          "Family",
          "Animation",
          "Animation",
          "Adventure",
          "Drama",
          "Adventure",
          "Action",
          "Horror",
          "Action",
          "Adventure",
          "War",
          "Music",
          "Animation",
          "Adventure",
          "Drama",
          "Drama",
          "Action",
          "Science Fiction",
          "Romance",
          "Fantasy",
          "Thriller",
          "Horror",
          "Animation",
          "Crime",
          "Drama",
          "Horror",
          "Western",
          "Animation",
          "Action",
          "Comedy",
          "War",
          "Comedy",
          "Comedy",
          "Drama",
          "Science Fiction",
          "Crime",
          "Science Fiction",
          "Comedy",
          "Adventure",
          "Action",
          "Thriller",
          "Horror",
          "Romance",
          "Action",
          "Thriller",
          "Crime",
          "Comedy",
          "Animation",
          "Adventure",
          "Family",
          "Drama",
          "Comedy",
          "Drama",
          "Comedy",
          "Action",
          "Action",
          "Adventure",
          "Science Fiction",
          "Comedy",
          "Fantasy",
          "Thriller",
          "Animation",
          "Action",
          "Drama",
          "Crime",
          "Action",
          "Thriller",
          "Horror",
          "Horror",
          "Adventure",
          "Action",
          "Horror",
          "Horror",
          "Comedy",
          "Comedy",
          "Animation",
          "Action",
          "Drama",
          "Animation",
          "Action",
          "Drama",
          "History",
          "Action",
          "Action",
          "Horror",
          "Comedy",
          "Drama",
          "Action",
          "Science Fiction",
          "Comedy",
          "Drama",
          "Comedy",
          "Drama",
          "Drama",
          "Action",
          "Science Fiction",
          "Crime",
          "Science Fiction",
          "Family",
          "Drama",
          "Horror",
          "Action",
          "Action",
          "Adventure",
          "Science Fiction",
          "Thriller",
          "Drama",
          "Horror",
          "Drama",
          "Action",
          "Horror",
          "Thriller",
          "Adventure",
          "Drama",
          "Adventure",
          "Science Fiction",
          "Thriller",
          "Action",
          "Romance",
          "Action",
          "Action",
          "Comedy",
          "Romance",
          "Family",
          "War",
          "Horror",
          "Drama",
          "Adventure",
          "Mystery",
          "Thriller",
          "Action",
          "Comedy",
          "Adventure",
          "Animation",
          "Drama",
          "Crime",
          "Drama",
          "Animation",
          "Action",
          "Action",
          "Action",
          "Action",
          "Drama",
          "Comedy",
          "Horror",
          "Action",
          "Drama",
          "Action",
          "Adventure",
          "Adventure",
          "Family",
          "Action",
          "Drama",
          "Horror",
          "Action",
          "Family",
          "Drama",
          "Romance",
          "Comedy",
          "Action",
          "Comedy",
          "Action",
          "Action",
          "Action",
          "Action",
          "Family",
          "War",
          "Fantasy",
          "Comedy",
          "Drama",
          "Drama",
          "Crime",
          "Drama",
          "Comedy",
          "Science Fiction",
          "Fantasy",
          "Horror",
          "Science Fiction",
          "Horror",
          "Comedy",
          "Drama",
          "Drama",
          "Animation",
          "Comedy",
          "Action",
          "Action",
          "Fantasy",
          "Science Fiction",
          "Fantasy",
          "Action",
          "Comedy",
          "Animation",
          "Action",
          "Family",
          "Animation",
          "Adventure",
          "Fantasy",
          "Horror",
          "Action",
          "Action",
          "Horror",
          "Science Fiction",
          "Action",
          "Animation",
          "Horror",
          "Action",
          "Comedy",
          "Action",
          "History",
          "Comedy",
          "Comedy",
          "Horror",
          "Animation",
          "Comedy",
          "Drama",
          "Comedy",
          "Action",
          "Romance",
          "Horror",
          "Fantasy",
          "Comedy",
          "Action",
          "Drama",
          "Action",
          "Adventure",
          "Comedy",
          "Action",
          "Family",
          "Comedy",
          "Family",
          "Action",
          "Action",
          "Action",
          "Adventure",
          "Action",
          "Adventure",
          "Drama",
          "Crime",
          "Action",
          "Drama",
          "Thriller",
          "Horror",
          "Science Fiction",
          "Drama",
          "Comedy",
          "Fantasy",
          "Comedy",
          "Family",
          "Fantasy",
          "Action",
          "Action",
          "Comedy",
          "Horror",
          "Romance",
          "Action",
          "Action",
          "War",
          "Family",
          "Horror",
          "Action",
          "Comedy",
          "Action",
          "Family",
          "Comedy",
          "Action",
          "Action",
          "Action",
          "Thriller",
          "Horror",
          "Animation",
          "Thriller",
          "Comedy",
          "Action",
          "Comedy",
          "Animation",
          "Drama",
          "Action",
          "Action",
          "Drama",
          "Family",
          "Comedy",
          "Action",
          "Horror",
          "Drama",
          "Adventure",
          "Adventure",
          "Action",
          "Action",
          "Fantasy",
          "Action",
          "Action",
          "Fantasy",
          "Drama",
          "Drama",
          "Horror",
          "Science Fiction",
          "Family",
          "Mystery",
          "Comedy",
          "Action",
          "Horror",
          "Science Fiction",
          "Thriller",
          "Drama",
          "Action",
          "Action",
          "Adventure",
          "Horror",
          "Action",
          "Comedy",
          "Drama",
          "Action",
          "Comedy",
          "Action",
          "Comedy",
          "Drama",
          "Horror",
          "Animation",
          "Action",
          "Adventure",
          "Action",
          "Action",
          "Adventure",
          "Animation",
          "Comedy",
          "Family",
          "Comedy",
          "Adventure",
          "Action",
          "Action",
          "Action",
          "Adventure",
          "Drama",
          "Animation",
          "Comedy",
          "Adventure",
          "Action",
          "Drama",
          "Adventure",
          "Action",
          "Comedy",
          "Thriller",
          "Comedy",
          "Comedy",
          "Comedy",
          "Action",
          "Animation",
          "Action",
          "Adventure",
          "History",
          "Comedy",
          "Mystery",
          "Action",
          "Fantasy",
          "Horror",
          "Action",
          "Drama",
          "Action",
          "Action",
          "Animation",
          "Animation",
          "Fantasy",
          "Adventure",
          "Fantasy",
          "Action",
          "Science Fiction",
          "Drama",
          "Mystery",
          "Action",
          "Science Fiction",
          "Comedy",
          "Drama",
          "Comedy",
          "Horror",
          "Action",
          "Comedy",
          "Family",
          "Drama",
          "Crime",
          "Horror",
          "Action",
          "Science Fiction",
          "Action",
          "Action",
          "Drama",
          "Science Fiction",
          "Drama",
          "Action",
          "Family",
          "Horror",
          "Fantasy",
          "Comedy",
          "Adventure",
          "Adventure",
          "Action",
          "Drama",
          "Drama",
          "Family",
          "Horror",
          "Adventure",
          "Thriller",
          "Drama",
          "Science Fiction",
          "Comedy",
          "Fantasy",
          "Science Fiction",
          "Science Fiction",
          "Adventure",
          "Adventure",
          "Thriller",
          "Action",
          "Thriller",
          "Thriller",
          "Mystery",
          "Action",
          "Adventure",
          "Animation",
          "Animation",
          "Action",
          "Horror",
          "Comedy",
          "Horror",
          "Family",
          "Comedy",
          "Comedy",
          "Drama",
          "War",
          "Horror",
          "Action",
          "Animation",
          "Drama",
          "Action",
          "Crime",
          "Comedy",
          "Adventure",
          "Science Fiction",
          "Thriller",
          "Drama",
          "Drama",
          "Adventure",
          "Drama",
          "Crime",
          "Action",
          "Drama",
          "Thriller",
          "Action",
          "Drama",
          "Action",
          "Action",
          "Drama",
          "Action",
          "Action",
          "Animation",
          "Action",
          "Action",
          "Action",
          "Fantasy",
          "Thriller",
          "Comedy",
          "Romance",
          "Horror",
          "Action",
          "Horror",
          "Romance",
          "Drama",
          "Crime",
          "Comedy",
          "Fantasy",
          "Science Fiction",
          "Science Fiction",
          "Science Fiction",
          "Action",
          "Action",
          "Adventure",
          "Fantasy",
          "Adventure",
          "Horror",
          "Horror",
          "Comedy",
          "Thriller",
          "Action",
          "Action",
          "Comedy",
          "Comedy",
          "Fantasy",
          "Family",
          "Animation",
          "Thriller",
          "Drama",
          "Action",
          "Drama",
          "Science Fiction",
          "Horror",
          "Action",
          "Comedy",
          "Comedy",
          "Action",
          "Drama",
          "Adventure",
          "Action",
          "Romance",
          "Action",
          "Horror",
          "Horror",
          "Drama",
          "Thriller",
          "Fantasy",
          "Thriller",
          "Drama",
          "Action",
          "Thriller",
          "Horror",
          "Mystery",
          "Comedy",
          "Drama",
          "Action",
          "Horror",
          "Comedy",
          "Action",
          "Horror",
          "Science Fiction",
          "Comedy",
          "Adventure",
          "Drama",
          "Adventure",
          "Action",
          "Comedy",
          "Action",
          "Comedy",
          "Comedy",
          "Action",
          "Family",
          "Drama",
          "Action",
          "Action",
          "Action",
          "Drama",
          "Romance",
          "Crime",
          "Crime",
          "Drama",
          "Comedy",
          "Horror",
          "Comedy",
          "Fantasy",
          "Drama",
          "Action",
          "Action",
          "Adventure",
          "Thriller",
          "Drama",
          "Horror",
          "Horror",
          "Animation",
          "Animation",
          "Horror",
          "Comedy",
          "Family",
          "Thriller",
          "Comedy",
          "Drama",
          "Comedy",
          "Horror",
          "Comedy",
          "Drama",
          "Animation",
          "History",
          "Crime",
          "Drama",
          "Adventure",
          "Western",
          "Thriller",
          "Comedy",
          "Comedy",
          "Horror",
          "Comedy",
          "Horror",
          "Comedy",
          "Action",
          "Crime",
          "Drama",
          "Comedy",
          "Action",
          "Animation",
          "Action",
          "Drama",
          "Action",
          "Action",
          "Crime",
          "Adventure",
          "Comedy",
          "Comedy",
          "Action",
          "Comedy",
          "Action",
          "Fantasy",
          "Western",
          "Comedy",
          "Animation",
          "Crime",
          "Horror",
          "Fantasy",
          "Crime",
          "Music",
          "Adventure",
          "Drama",
          "Drama",
          "Adventure",
          "Thriller",
          "Drama",
          "Horror",
          "Drama",
          "Adventure",
          "Comedy",
          "Crime",
          "Drama",
          "Comedy",
          "Comedy",
          "Adventure",
          "Action",
          "Comedy",
          "Comedy",
          "Comedy",
          "Action",
          "Action",
          "Horror",
          "Adventure",
          "Comedy",
          "Drama",
          "History",
          "Drama",
          "Romance",
          "Adventure",
          "Action",
          "Crime",
          "Action",
          "Science Fiction",
          "Action",
          "Action",
          "Adventure",
          "Thriller",
          "Action",
          "Thriller",
          "Thriller",
          "Action",
          "Action",
          "Thriller",
          "Family",
          "Comedy",
          "Animation",
          "Adventure",
          "Adventure",
          "Adventure",
          "Horror",
          "Action",
          "Comedy",
          "Action",
          "Action",
          "Family",
          "Horror",
          "Drama",
          "Comedy",
          "Drama",
          "Family",
          "History",
          "Action",
          "Comedy",
          "Action",
          "Fantasy",
          "Adventure",
          "Action",
          "Action",
          "Horror",
          "Romance",
          "Animation",
          "Comedy",
          "Action",
          "Fantasy",
          "War",
          "Comedy",
          "Action",
          "Comedy",
          "Music",
          "Drama",
          "Action",
          "Comedy",
          "Drama",
          "Comedy",
          "Action",
          "Crime",
          "Thriller",
          "Drama",
          "Science Fiction",
          "Comedy",
          "Horror",
          "Horror",
          "Family",
          "History",
          "Adventure",
          "Comedy",
          "Crime",
          "Action",
          "Horror",
          "Action",
          "Drama",
          "Comedy",
          "Drama",
          "Drama",
          "Comedy",
          "Action",
          "Drama",
          "Comedy",
          "Adventure",
          "Horror",
          "Romance",
          "Adventure",
          "Crime",
          "Fantasy",
          "Horror",
          "Science Fiction",
          "Drama",
          "Drama",
          "Animation",
          "Action",
          "Horror",
          "Drama",
          "Comedy",
          "Drama",
          "Comedy",
          "Comedy",
          "Romance",
          "Fantasy",
          "History",
          "Family",
          "Adventure",
          "Family",
          "Horror",
          "Action",
          "Drama",
          "Horror",
          "Thriller",
          "Horror",
          "Family",
          "Horror",
          "Action",
          "Adventure",
          "Adventure",
          "Animation",
          "Horror",
          "Comedy",
          "Fantasy",
          "Action",
          "Drama",
          "Drama",
          "Thriller",
          "Action",
          "Comedy",
          "Action",
          "Horror",
          "Action",
          "Comedy",
          "Family",
          "Thriller",
          "Science Fiction",
          "Crime",
          "Horror",
          "Comedy",
          "Animation",
          "Science Fiction",
          "Comedy",
          "Drama",
          "Animation",
          "Action",
          "Comedy",
          "Action",
          "Drama",
          "Drama",
          "Comedy",
          "Action",
          "Adventure",
          "Drama",
          "Comedy",
          "Action",
          "Comedy",
          "Thriller",
          "Fantasy",
          "Thriller",
          "Comedy",
          "Animation",
          "Comedy",
          "Drama",
          "Drama",
          "War",
          "Adventure",
          "Horror",
          "Comedy",
          "Comedy",
          "Action",
          "Drama",
          "Action",
          "Horror",
          "Action",
          "Horror",
          "Mystery",
          "Drama",
          "Comedy",
          "Comedy",
          "Comedy",
          "Horror",
          "Adventure",
          "Action",
          "Drama",
          "Comedy",
          "Horror",
          "Action",
          "Comedy",
          "Comedy",
          "Romance",
          "Thriller",
          "Comedy",
          "Drama",
          "Adventure",
          "Family",
          "Action",
          "Family",
          "Crime",
          "Animation",
          "War",
          "Comedy",
          "Comedy",
          "Action",
          "Adventure",
          "Action",
          "Action",
          "Comedy",
          "Comedy",
          "Music",
          "Drama",
          "Horror",
          "Animation",
          "Comedy",
          "Fantasy",
          "Thriller",
          "Horror",
          "Comedy",
          "Action",
          "Action",
          "Adventure",
          "Animation",
          "Thriller",
          "Comedy",
          "Crime",
          "Drama",
          "Drama",
          "Drama",
          "Family",
          "Horror",
          "Comedy",
          "Comedy",
          "Action",
          "Comedy",
          "Fantasy",
          "Comedy",
          "Action",
          "Fantasy",
          "Crime",
          "Science Fiction",
          "Horror",
          "Action",
          "Action",
          "Music",
          "Thriller",
          "War",
          "Animation",
          "Adventure",
          "Drama",
          "Action",
          "Horror",
          "Drama",
          "Drama",
          "Animation",
          "Drama",
          "Drama",
          "Drama",
          "Thriller",
          "Action",
          "Horror",
          "Horror",
          "Adventure",
          "Comedy",
          "Adventure",
          "Horror",
          "Fantasy",
          "Mystery",
          "Comedy",
          "Fantasy",
          "Drama",
          "Comedy",
          "Drama",
          "Crime",
          "Science Fiction",
          "Fantasy",
          "Adventure",
          "Action",
          "Animation",
          "Comedy",
          "Animation",
          "Drama",
          "Science Fiction",
          "Horror",
          "Adventure",
          "Romance",
          "Animation",
          "Comedy",
          "Drama",
          "Horror",
          "Crime",
          "Animation",
          "Comedy",
          "Comedy",
          "Crime",
          "Comedy",
          "Comedy",
          "Romance",
          "Science Fiction",
          "Comedy",
          "Comedy",
          "Adventure",
          "Action",
          "Mystery",
          "Thriller",
          "Family",
          "Comedy",
          "Animation",
          "Action",
          "Crime",
          "Science Fiction",
          "Fantasy",
          "Adventure",
          "Crime",
          "Comedy",
          "Action",
          "Comedy",
          "Comedy",
          "Action",
          "Animation",
          "Comedy",
          "Comedy",
          "Horror",
          "Action",
          "Action",
          "Family",
          "Thriller",
          "Drama",
          "Crime",
          "Drama",
          "History",
          "Drama",
          "Comedy",
          "Adventure",
          "Fantasy",
          "Family",
          "Comedy",
          "Comedy",
          "Mystery",
          "Comedy",
          "Drama",
          "Science Fiction",
          "Animation",
          "Drama",
          "Drama",
          "Fantasy",
          "Crime",
          "Science Fiction",
          "Drama",
          "Adventure",
          "Drama",
          "Action",
          "War",
          "Drama",
          "Horror",
          "Science Fiction",
          "Animation",
          "Drama",
          "Action",
          "Thriller",
          "Family",
          "Action",
          "Crime",
          "Family",
          "Science Fiction",
          "Comedy",
          "Action",
          "Adventure",
          "Horror",
          "Horror",
          "Comedy",
          "Horror",
          "History",
          "Comedy",
          "Comedy",
          "Comedy",
          "Thriller",
          "Comedy",
          "Drama",
          "Drama",
          "Drama",
          "Horror",
          "Music",
          "Action",
          "Animation",
          "Comedy",
          "Adventure",
          "Drama",
          "Action",
          "Romance",
          "Romance",
          "Comedy",
          "Horror",
          "Crime",
          "Comedy",
          "Action",
          "Horror",
          "Action",
          "Action",
          "Fantasy",
          "Drama",
          "Crime",
          "Comedy",
          "Comedy",
          "Family",
          "Drama",
          "Crime",
          "Comedy",
          "Family",
          "History",
          "Comedy",
          "Thriller",
          "Drama",
          "Family",
          "Action",
          "Horror",
          "Horror",
          "Comedy",
          "Action",
          "Science Fiction",
          "Thriller",
          "Comedy",
          "Drama",
          "Comedy",
          "Drama",
          "Horror",
          "Adventure",
          "Horror",
          "Drama",
          "Action",
          "Family",
          "Action",
          "Drama",
          "Thriller",
          "Comedy",
          "Action",
          "Comedy",
          "Thriller",
          "Adventure",
          "Horror",
          "Drama",
          "Drama",
          "Horror",
          "Thriller",
          "Comedy",
          "Horror",
          "Adventure",
          "Action",
          "Drama",
          "Action",
          "Comedy",
          "Family",
          "Action",
          "Horror",
          "Family",
          "Thriller",
          "Adventure",
          "War",
          "Crime",
          "Crime",
          "Mystery",
          "Mystery",
          "Horror",
          "Horror",
          "Drama",
          "Action",
          "Drama",
          "Action",
          "Horror",
          "Horror",
          "Action",
          "Mystery",
          "Thriller",
          "Comedy",
          "Family",
          "Action",
          "Action",
          "Science Fiction",
          "Adventure",
          "Family",
          "Family",
          "Drama",
          "Horror",
          "Comedy",
          "Comedy",
          "Family",
          "Comedy",
          "Drama",
          "Comedy",
          "Science Fiction",
          "Crime",
          "Comedy",
          "Drama",
          "Adventure",
          "Drama",
          "Animation",
          "Action",
          "Romance",
          "Drama",
          "Adventure",
          "War",
          "Horror",
          "Crime",
          "Horror",
          "Fantasy",
          "Drama",
          "Romance",
          "Comedy",
          "Drama",
          "Drama",
          "Science Fiction",
          "Drama",
          "Drama",
          "Adventure",
          "Drama",
          "Action",
          "Fantasy",
          "Horror",
          "Drama",
          "Thriller",
          "Thriller",
          "Drama",
          "Drama",
          "Drama",
          "Drama",
          "Comedy",
          "Horror",
          "Drama",
          "Drama",
          "Action",
          "Drama",
          "Crime",
          "Animation",
          "Action",
          "Drama",
          "Comedy",
          "Drama",
          "Horror",
          "Comedy",
          "Drama",
          "Romance",
          "Music",
          "Comedy",
          "Action",
          "Comedy",
          "Horror",
          "Drama",
          "Family",
          "Horror",
          "Comedy",
          "Action",
          "Action",
          "Crime",
          "Comedy",
          "Action",
          "Drama",
          "Horror",
          "Comedy",
          "Action",
          "Drama",
          "Adventure",
          "Horror",
          "Horror",
          "Adventure",
          "Horror",
          "Drama",
          "Action",
          "Horror",
          "Horror",
          "Comedy",
          "Comedy",
          "Drama",
          "Drama",
          "Drama",
          "Drama",
          "Action",
          "Comedy",
          "Action",
          "Thriller",
          "Comedy",
          "Music",
          "Horror",
          "Crime",
          "Comedy",
          "Animation",
          "Drama",
          "Science Fiction",
          "Action",
          "Adventure",
          "Animation",
          "War",
          "Horror",
          "Action",
          "Comedy",
          "Comedy",
          "Action",
          "Action",
          "Action",
          "Action",
          "Horror",
          "Western",
          "Drama",
          "Crime",
          "Action",
          "Mystery",
          "Crime",
          "Drama",
          "Romance",
          "Drama",
          "Comedy",
          "Drama",
          "Action",
          "Horror",
          "Adventure",
          "Crime",
          "Drama",
          "Comedy",
          "Crime",
          "Romance",
          "Romance",
          "Horror",
          "Comedy",
          "Drama",
          "Adventure",
          "Fantasy",
          "Comedy",
          "Drama",
          "Comedy",
          "Family",
          "Action",
          "Comedy",
          "Science Fiction",
          "Adventure",
          "Adventure",
          "Drama",
          "Action",
          "Comedy",
          "Thriller",
          "Action",
          "Comedy",
          "Science Fiction",
          "Drama",
          "Comedy",
          "Horror",
          "Comedy",
          "Drama",
          "Comedy",
          "Action",
          "Comedy",
          "Animation",
          "Drama",
          "History",
          "Drama",
          "Romance",
          "Drama",
          "Family",
          "Fantasy",
          "Action",
          "Action",
          "Action",
          "Romance",
          "Horror",
          "Animation",
          "Animation",
          "Comedy",
          "Family",
          "Drama",
          "Comedy",
          "Comedy",
          "Family",
          "Action",
          "Comedy",
          "Comedy",
          "Drama",
          "Drama",
          "Comedy",
          "Drama",
          "Comedy",
          "Drama",
          "Comedy",
          "Crime",
          "Drama",
          "Horror",
          "Western",
          "Action",
          "Drama",
          "Music",
          "Horror",
          "Drama",
          "Horror",
          "Documentary",
          "Comedy",
          "Horror",
          "Adventure",
          "Horror",
          "Drama",
          "Action",
          "Comedy",
          "Comedy",
          "War",
          "Drama",
          "Drama",
          "Action",
          "Comedy",
          "Comedy",
          "Drama",
          "Crime",
          "Comedy",
          "Comedy",
          "Drama",
          "Drama",
          "Comedy",
          "Action",
          "Action",
          "Drama",
          "Drama",
          "Adventure",
          "Comedy",
          "Drama",
          "War",
          "Comedy",
          "Drama",
          "Adventure",
          "Comedy",
          "Fantasy",
          "Crime",
          "Comedy",
          "Comedy",
          "Comedy",
          "Thriller",
          "Comedy",
          "Comedy",
          "Adventure",
          "Drama",
          "Drama",
          "Drama",
          "Drama",
          "Horror",
          "Adventure",
          "Drama",
          "Horror",
          "Adventure",
          "Drama",
          "Action",
          "Drama",
          "Action",
          "Drama",
          "Crime",
          "Comedy",
          "Horror",
          "Crime",
          "Comedy",
          "Crime",
          "Animation",
          "Family",
          "Horror",
          "Music",
          "Comedy",
          "Comedy",
          "Comedy",
          "Romance",
          "Drama",
          "Drama",
          "Comedy",
          "Crime",
          "Animation",
          "Drama",
          "Crime",
          "Crime",
          "Action",
          "Thriller",
          "Romance",
          "Comedy",
          "Drama",
          "Fantasy",
          "War",
          "Action",
          "Horror",
          "Thriller",
          "Comedy",
          "Family",
          "Comedy",
          "Action",
          "Thriller",
          "Drama",
          "Animation",
          "Romance",
          "Action",
          "Thriller",
          "Action",
          "Comedy",
          "Comedy",
          "Thriller",
          "Horror",
          "Drama",
          "Comedy",
          "Drama",
          "Drama",
          "Adventure",
          "Horror",
          "Drama",
          "Drama",
          "Drama",
          "Horror",
          "Comedy",
          "Adventure",
          "Adventure",
          "Horror",
          "Comedy",
          "Fantasy",
          "Romance",
          "Mystery",
          "Drama",
          "Romance",
          "Comedy",
          "Horror",
          "Action",
          "Comedy",
          "Action",
          "Animation",
          "Mystery",
          "Horror",
          "Drama",
          "Comedy",
          "History",
          "History",
          "Thriller",
          "Family",
          "Drama",
          "Drama",
          "Comedy",
          "Drama",
          "Action",
          "Music",
          "Crime",
          "Comedy",
          "Fantasy",
          "Drama",
          "Adventure",
          "Mystery",
          "Thriller",
          "Comedy",
          "Comedy",
          "Action",
          "Drama",
          "Action",
          "Horror",
          "Action",
          "Crime",
          "Comedy",
          "History",
          "Drama",
          "Drama",
          "Comedy",
          "Romance",
          "Adventure",
          "Thriller",
          "Drama",
          "Family",
          "Drama",
          "Romance",
          "Comedy",
          "Drama",
          "Comedy",
          "Drama",
          "Horror",
          "Crime",
          "Horror",
          "Crime",
          "Comedy",
          "Drama",
          "Adventure",
          "Comedy",
          "Thriller",
          "Romance",
          "Adventure",
          "Drama",
          "Thriller",
          "Comedy",
          "Fantasy",
          "Comedy",
          "Comedy",
          "Drama",
          "Action",
          "Adventure",
          "Drama",
          "Animation",
          "Action",
          "Comedy",
          "Family",
          "Fantasy",
          "Mystery",
          "Horror",
          "Horror",
          "Thriller",
          "Horror",
          "Horror",
          "Drama",
          "Drama",
          "Drama",
          "Drama",
          "Comedy",
          "Animation",
          "Crime",
          "Drama",
          "Family",
          "Adventure",
          "Thriller",
          "Family",
          "Action",
          "Crime",
          "Horror",
          "Family",
          "Action",
          "Horror",
          "Drama",
          "Comedy",
          "Comedy",
          "Drama",
          "Action",
          "Romance",
          "Action",
          "Animation",
          "Drama",
          "Mystery",
          "Fantasy",
          "Comedy",
          "Crime",
          "Adventure",
          "Action",
          "Comedy",
          "Drama",
          "Horror",
          "Romance",
          "Adventure",
          "Science Fiction",
          "Comedy",
          "Adventure",
          "Comedy",
          "Fantasy",
          "Thriller",
          "Comedy",
          "Action",
          "Action",
          "Adventure",
          "Drama",
          "Drama",
          "Horror",
          "Crime",
          "Comedy",
          "Horror",
          "Adventure",
          "Fantasy",
          "Adventure",
          "Adventure",
          "Comedy",
          "History",
          "Drama",
          "Drama",
          "Science Fiction",
          "Mystery",
          "Drama",
          "Thriller",
          "Drama",
          "Action",
          "Crime",
          "Crime",
          "Drama",
          "Drama",
          "Comedy",
          "Comedy",
          "Adventure",
          "Drama",
          "Action",
          "Thriller",
          "Drama",
          "Crime",
          "Drama",
          "Comedy",
          "Crime",
          "Horror",
          "Drama",
          "Drama",
          "Comedy",
          "Action",
          "Comedy",
          "Comedy",
          "Adventure",
          "Drama",
          "Thriller",
          "Action",
          "Comedy",
          "Drama",
          "Action",
          "Adventure",
          "Action",
          "Animation",
          "Romance",
          "Comedy",
          "Horror",
          "Action",
          "Comedy",
          "Drama",
          "Action",
          "Animation",
          "Western",
          "Comedy",
          "Comedy",
          "Comedy",
          "Action",
          "Comedy",
          "Comedy",
          "Comedy",
          "Crime",
          "Horror",
          "Drama",
          "Action",
          "Drama",
          "Drama",
          "Horror",
          "Crime",
          "Drama",
          "Comedy",
          "Action",
          "Drama",
          "Drama",
          "Adventure",
          "Adventure",
          "Drama",
          "Drama",
          "Horror",
          "Comedy",
          "Comedy",
          "Drama",
          "Family",
          "Drama",
          "Comedy",
          "Drama",
          "Comedy",
          "Horror",
          "Comedy",
          "Comedy",
          "Horror",
          "Action",
          "Science Fiction",
          "Romance",
          "Romance",
          "Comedy",
          "Comedy",
          "Comedy",
          "Comedy",
          "Horror",
          "Horror",
          "Horror",
          "Mystery",
          "Crime",
          "Drama",
          "Comedy",
          "Comedy",
          "Thriller",
          "Adventure",
          "Drama",
          "Drama",
          "Action",
          "Science Fiction",
          "Crime",
          "Action",
          "Drama",
          "Drama",
          "Action",
          "Thriller",
          "Action",
          "Adventure",
          "Action",
          "Drama",
          "Crime",
          "Fantasy",
          "Comedy",
          "Drama",
          "Horror",
          "Action",
          "Animation",
          "Comedy",
          "Horror",
          "Horror",
          "Drama",
          "Action",
          "Comedy",
          "Drama",
          "Drama",
          "Animation",
          "Drama",
          "Thriller",
          "Romance",
          "Action",
          "Horror",
          "Drama",
          "Drama",
          "Adventure",
          "Thriller",
          "Drama",
          "Action",
          "Action",
          "Thriller",
          "Drama",
          "Comedy",
          "Action",
          "Family",
          "Fantasy",
          "Comedy",
          "Drama",
          "Comedy",
          "Family",
          "Drama",
          "Romance",
          "Horror",
          "Action",
          "Comedy",
          "Music",
          "Action",
          "Drama",
          "Comedy",
          "Drama",
          "Comedy",
          "Action",
          "Adventure",
          "Romance",
          "Comedy",
          "Science Fiction",
          "Adventure",
          "Drama",
          "Drama",
          "Comedy",
          "Comedy",
          "Thriller",
          "Crime",
          "Horror",
          "Drama",
          "Drama",
          "Adventure",
          "Comedy",
          "Adventure",
          "Drama",
          "Documentary",
          "Drama",
          "Drama",
          "Drama",
          "Horror",
          "Drama",
          "War",
          "Action",
          "Drama",
          "Science Fiction",
          "Thriller",
          "Crime",
          "Comedy",
          "Comedy",
          "Comedy",
          "Horror",
          "Drama",
          "Drama",
          "Fantasy",
          "Horror",
          "Horror",
          "Comedy",
          "Horror",
          "History",
          "Comedy",
          "Drama",
          "Action",
          "Horror",
          "Comedy",
          "Western",
          "Horror",
          "Comedy",
          "Horror",
          "Action",
          "Drama",
          "Adventure",
          "Action",
          "Comedy",
          "Drama",
          "Family",
          "Comedy",
          "Thriller",
          "Romance",
          "Thriller",
          "Science Fiction",
          "Music",
          "Thriller",
          "Horror",
          "Action",
          "Action",
          "Drama",
          "Action",
          "Romance",
          "Comedy",
          "Crime",
          "Comedy",
          "Drama",
          "Comedy",
          "Action",
          "History",
          "Drama",
          "History",
          "War",
          "Action",
          "Animation",
          "Drama",
          "Action",
          "Action",
          "Drama",
          "Comedy",
          "Drama",
          "Drama",
          "Fantasy",
          "Fantasy",
          "Drama",
          "Comedy",
          "Action",
          "Comedy",
          "Comedy",
          "Thriller",
          "Action",
          "Horror",
          "Horror",
          "Action",
          "Comedy",
          "Action",
          "Adventure",
          "Comedy",
          "Action",
          "Comedy",
          "Action",
          "Drama",
          "Drama",
          "Action",
          "Action",
          "War",
          "Drama",
          "Crime",
          "Action",
          "Drama",
          "Action",
          "Family",
          "Comedy",
          "Drama",
          "Comedy",
          "Horror",
          "Action",
          "War",
          "Comedy",
          "Animation",
          "Drama",
          "Comedy",
          "Drama",
          "Drama",
          "Action",
          "Comedy",
          "Comedy",
          "Drama",
          "Action",
          "Crime",
          "Thriller",
          "Action",
          "Drama",
          "Adventure",
          "Action",
          "Horror",
          "Thriller",
          "Family",
          "Crime",
          "Horror",
          "Drama",
          "Thriller",
          "Action",
          "Adventure",
          "Drama",
          "Crime",
          "Action",
          "Adventure",
          "Drama",
          "Comedy",
          "Drama",
          "Drama",
          "Horror",
          "Family",
          "Comedy",
          "Action",
          "Crime",
          "Action",
          "Drama",
          "Horror",
          "Action",
          "Action",
          "Comedy",
          "Horror",
          "Drama",
          "Horror",
          "Animation",
          "Horror",
          "Horror",
          "Drama",
          "Science Fiction",
          "Drama",
          "Comedy",
          "Drama",
          "Action",
          "Adventure",
          "Science Fiction",
          "Science Fiction",
          "Animation",
          "Horror",
          "Drama",
          "Drama",
          "Science Fiction",
          "Action",
          "Drama",
          "Animation",
          "Horror",
          "Animation",
          "Comedy",
          "Comedy",
          "Drama",
          "Drama",
          "Drama",
          "Thriller",
          "Science Fiction",
          "Comedy",
          "Comedy",
          "Comedy",
          "Drama",
          "Comedy",
          "Drama",
          "Drama",
          "Animation",
          "Crime",
          "Fantasy",
          "Drama",
          "Action",
          "Mystery",
          "Crime",
          "Comedy",
          "Drama",
          "Action",
          "Comedy",
          "Action",
          "Drama",
          "Thriller",
          "Drama",
          "Drama",
          "Drama",
          "Action",
          "Science Fiction",
          "Family",
          "Drama",
          "Comedy",
          "Family",
          "Drama",
          "Fantasy",
          "Comedy",
          "Crime",
          "Action",
          "Drama",
          "Drama",
          "Family",
          "Drama",
          "Drama",
          "Adventure",
          "Drama",
          "Horror",
          "Horror",
          "Action",
          "Animation",
          "Action",
          "Drama",
          "Drama",
          "Thriller",
          "Crime",
          "Comedy",
          "Comedy",
          "Comedy",
          "Comedy",
          "Drama",
          "Science Fiction",
          "Horror",
          "Romance",
          "Comedy",
          "Action",
          "Drama",
          "Thriller",
          "Action",
          "Drama",
          "Comedy",
          "Horror",
          "Comedy",
          "Action",
          "Comedy",
          "Adventure",
          "Comedy",
          "Animation",
          "Action",
          "Drama",
          "Science Fiction",
          "Drama",
          "Adventure",
          "Comedy",
          "Drama",
          "Crime",
          "Crime",
          "Comedy",
          "Comedy",
          "Drama",
          "Comedy",
          "Action",
          "Drama",
          "Comedy",
          "Action",
          "Action",
          "Comedy",
          "Drama",
          "Comedy",
          "Drama",
          "Crime",
          "Animation",
          "Thriller",
          "Drama",
          "Crime",
          "Drama",
          "Drama",
          "Thriller",
          "Action",
          "Drama",
          "Drama",
          "Drama",
          "Action",
          "Action",
          "Drama",
          "Comedy",
          "Drama",
          "Comedy",
          "Crime",
          "Comedy",
          "Fantasy",
          "Comedy",
          "Science Fiction",
          "Comedy",
          "Comedy",
          "Western",
          "Drama",
          "Horror",
          "Romance",
          "Comedy",
          "Horror",
          "Drama",
          "Romance",
          "Drama",
          "Drama",
          "Drama",
          "Drama",
          "Drama",
          "Family",
          "Comedy",
          "Comedy",
          "Comedy",
          "Drama",
          "Drama",
          "Drama",
          "Drama",
          "Horror",
          "Romance",
          "Drama",
          "Crime",
          "Science Fiction",
          "Drama",
          "Action",
          "Comedy",
          "Drama",
          "Science Fiction",
          "Animation",
          "Comedy",
          "Adventure",
          "Drama",
          "Action",
          "Horror",
          "Drama",
          "Comedy",
          "Adventure",
          "Thriller",
          "Comedy",
          "Drama",
          "Comedy",
          "Drama",
          "Animation",
          "Comedy",
          "Drama",
          "Fantasy",
          "Comedy",
          "Comedy",
          "Horror",
          "Horror",
          "Comedy",
          "Drama",
          "Drama",
          "History",
          "Action",
          "Horror",
          "Action",
          "Drama",
          "Crime",
          "Action",
          "Comedy",
          "Adventure",
          "Comedy",
          "Romance",
          "Comedy",
          "Drama",
          "Action",
          "Comedy",
          "Comedy",
          "Thriller",
          "Crime",
          "Comedy",
          "Action",
          "Action",
          "Thriller",
          "Drama",
          "Comedy",
          "Family",
          "Drama",
          "Drama",
          "Comedy",
          "Mystery",
          "Comedy",
          "Fantasy",
          "Thriller",
          "Drama",
          "Adventure",
          "Comedy",
          "Thriller",
          "Horror",
          "Action",
          "Science Fiction",
          "Action",
          "Adventure",
          "Adventure",
          "Drama",
          "Family",
          "Comedy",
          "Comedy",
          "Drama",
          "Horror",
          "Crime",
          "Action",
          "Drama",
          "Thriller",
          "Family",
          "Drama",
          "Comedy",
          "Drama",
          "Horror",
          "Crime",
          "Horror",
          "Crime",
          "Romance",
          "Drama",
          "Horror",
          "Romance",
          "Drama",
          "Action",
          "Comedy",
          "Drama",
          "Comedy",
          "Comedy",
          "Comedy",
          "Horror",
          "Action",
          "Comedy",
          "Horror",
          "Comedy",
          "Horror",
          "Science Fiction",
          "Drama",
          "Thriller",
          "Science Fiction",
          "Action",
          "Comedy",
          "Action",
          "Drama",
          "Comedy",
          "Thriller",
          "Thriller",
          "Comedy",
          "Science Fiction",
          "Comedy",
          "Family",
          "Comedy",
          "Drama",
          "Horror",
          "Animation",
          "Drama",
          "Comedy",
          "Comedy",
          "Horror",
          "Drama",
          "Comedy",
          "Action",
          "Romance",
          "Romance",
          "War",
          "Science Fiction",
          "Comedy",
          "Thriller",
          "Music",
          "Adventure",
          "Crime",
          "Drama",
          "Drama",
          "Adventure",
          "Comedy",
          "Crime",
          "Comedy",
          "Action",
          "Drama",
          "Horror",
          "Drama",
          "Family",
          "Horror",
          "Drama",
          "Mystery",
          "Drama",
          "Horror",
          "Adventure",
          "Drama",
          "Drama",
          "Comedy",
          "Drama",
          "Crime",
          "Comedy",
          "Adventure",
          "Crime",
          "Crime",
          "Comedy",
          "Action",
          "Drama",
          "Adventure",
          "Mystery",
          "Drama",
          "Horror",
          "Comedy",
          "Comedy",
          "Music",
          "Drama",
          "Comedy",
          "History",
          "Thriller",
          "Action",
          "Family",
          "Comedy",
          "Animation",
          "Music",
          "Comedy",
          "Thriller",
          "Animation",
          "Adventure",
          "Drama",
          "Action",
          "Drama",
          "Comedy",
          "Drama",
          "Drama",
          "Family",
          "Comedy",
          "Drama",
          "Drama",
          "Drama",
          "Drama",
          "Drama",
          "Drama",
          "History",
          "Comedy",
          "Action",
          "Comedy",
          "Action",
          "Drama",
          "Crime",
          "Animation",
          "Comedy",
          "Drama",
          "Drama",
          "Crime",
          "Action",
          "Mystery",
          "Action",
          "Horror",
          "Comedy",
          "Action",
          "Action",
          "Comedy",
          "Comedy",
          "Horror",
          "Adventure",
          "Adventure",
          "Drama",
          "Comedy",
          "Comedy",
          "Comedy",
          "Thriller",
          "Drama",
          "Horror",
          "Action",
          "Drama",
          "Comedy",
          "Drama",
          "Horror",
          "Action",
          "Thriller",
          "Science Fiction",
          "Drama",
          "Drama",
          "Action",
          "Horror",
          "Drama",
          "Thriller",
          "Drama",
          "Action",
          "Comedy",
          "Horror",
          "Thriller",
          "Action",
          "Drama",
          "Drama",
          "Comedy",
          "Drama",
          "Drama",
          "Action",
          "Science Fiction",
          "Action",
          "Horror",
          "Comedy",
          "Adventure",
          "Thriller",
          "Thriller",
          "Drama",
          "Crime",
          "Crime",
          "Drama",
          "Drama",
          "Drama",
          "Animation",
          "War",
          "Drama",
          "Action",
          "Action",
          "Comedy",
          "Comedy",
          "Horror",
          "Drama",
          "History",
          "Family",
          "Drama",
          "Comedy",
          "Romance",
          "Drama",
          "Comedy",
          "Action",
          "Drama",
          "Action",
          "Drama",
          "Drama",
          "Thriller",
          "Science Fiction",
          "Comedy",
          "Science Fiction",
          "Comedy",
          "Horror",
          "Family",
          "Fantasy",
          "Drama",
          "Drama",
          "Drama",
          "Thriller",
          "Comedy",
          "Horror",
          "Comedy",
          "Horror",
          "Drama",
          "Fantasy",
          "History",
          "Thriller",
          "Comedy",
          "Animation",
          "Action",
          "Music",
          "Horror",
          "Drama",
          "Drama",
          "Action",
          "Crime",
          "Thriller",
          "Comedy",
          "Family",
          "Animation",
          "Comedy",
          "Drama",
          "Mystery",
          "Drama",
          "Romance",
          "Action",
          "Thriller",
          "Drama",
          "Comedy",
          "Animation",
          "Thriller",
          "Thriller",
          "Crime",
          "Thriller",
          "Romance",
          "Animation",
          "Horror",
          "Action",
          "Crime",
          "Science Fiction",
          "Thriller",
          "Comedy",
          "Comedy",
          "Comedy",
          "Action",
          "Comedy",
          "Horror",
          "Animation",
          "Fantasy",
          "Drama",
          "Drama",
          "Comedy",
          "Drama",
          "Action",
          "Action",
          "Action",
          "Family",
          "Crime",
          "Drama",
          "Comedy",
          "Drama",
          "Drama",
          "Action",
          "Action",
          "Comedy",
          "Action",
          "Family",
          "Science Fiction",
          "Comedy",
          "Comedy",
          "Adventure",
          "Drama",
          "Action",
          "Drama",
          "Comedy",
          "Thriller",
          "Family",
          "Drama",
          "Comedy",
          "Action",
          "Horror",
          "Horror",
          "Drama",
          "Fantasy",
          "Adventure",
          "Adventure",
          "Comedy",
          "Crime",
          "Mystery",
          "Comedy",
          "Romance",
          "Crime",
          "Drama",
          "Adventure",
          "Comedy",
          "Comedy",
          "Action",
          "Comedy",
          "Crime",
          "Romance",
          "Comedy",
          "Comedy",
          "Drama",
          "Action",
          "Action",
          "Thriller",
          "Thriller",
          "Adventure",
          "Comedy",
          "Drama",
          "Horror",
          "Comedy",
          "Romance",
          "Comedy",
          "Comedy",
          "Action",
          "Drama",
          "Family",
          "Thriller",
          "Drama",
          "Action",
          "Crime",
          "Romance",
          "Comedy",
          "Horror",
          "Comedy",
          "History",
          "Thriller",
          "Action",
          "Animation",
          "Action",
          "Crime",
          "Horror",
          "History",
          "Comedy",
          "Horror",
          "Action",
          "Mystery",
          "Crime",
          "Romance",
          "Action",
          "Horror",
          "Drama",
          "Drama",
          "Drama",
          "Animation",
          "Western",
          "Horror",
          "Comedy",
          "Drama",
          "Romance",
          "Horror",
          "Comedy",
          "Thriller",
          "Drama",
          "Drama",
          "Adventure",
          "Drama",
          "Family",
          "Thriller",
          "Action",
          "Western",
          "Comedy",
          "Comedy",
          "Horror",
          "Thriller",
          "Comedy",
          "Drama",
          "Crime",
          "Horror",
          "Drama",
          "Thriller",
          "Drama",
          "Adventure",
          "Action",
          "Action",
          "Drama",
          "Drama",
          "Romance",
          "Thriller",
          "Comedy",
          "Drama",
          "Comedy",
          "Drama",
          "Horror",
          "Drama",
          "Horror",
          "Drama",
          "Romance",
          "Horror",
          "Drama",
          "Drama",
          "Horror",
          "Drama",
          "Comedy",
          "Thriller",
          "Crime",
          "Drama",
          "Animation",
          "Drama",
          "Drama",
          "Animation",
          "Animation",
          "Crime",
          "Thriller",
          "Horror",
          "Comedy",
          "Family",
          "Animation",
          "Comedy",
          "Action",
          "Thriller",
          "Drama",
          "Action",
          "Crime",
          "Action",
          "Horror",
          "Comedy",
          "Drama",
          "War",
          "Horror",
          "Comedy",
          "Comedy",
          "Adventure",
          "Drama",
          "Comedy",
          "Action",
          "Adventure",
          "Comedy",
          "Comedy",
          "Drama",
          "Drama",
          "Drama",
          "Drama",
          "Fantasy",
          "Thriller",
          "Horror",
          "Action",
          "Comedy",
          "Drama",
          "Action",
          "Crime",
          "Adventure",
          "Drama",
          "Action",
          "Drama",
          "Comedy",
          "Drama",
          "Drama",
          "Drama"
         ],
         "x0": " ",
         "xaxis": "x",
         "y": [
          2052415039,
          155160045,
          1266115964,
          880166924,
          168717425,
          1349926083,
          169601036,
          566652812,
          785896632,
          661326987,
          1332698830,
          273144151,
          65046687,
          823970682,
          57600000,
          240891763,
          177900000,
          2799439100,
          855301806,
          619021436,
          1662020819,
          379751131,
          259239658,
          530517320,
          1059242164,
          43070915,
          490719763,
          863756051,
          774153024,
          82468705,
          1074144248,
          252442974,
          1131416446,
          955775804,
          113231078,
          1310466296,
          492162604,
          12638526,
          326709727,
          277448382,
          722631756,
          169801921,
          874362803,
          5078400,
          880707597,
          34017028,
          56286295,
          42513270,
          246999039,
          79000000,
          142300000,
          19280931,
          29820616,
          475846,
          571125435,
          44998252,
          250600000,
          478103649,
          969280910,
          69965374,
          654900000,
          331982078,
          605425157,
          125897478,
          1338073645,
          791658205,
          23900000,
          494879471,
          112880294,
          29300000,
          175302354,
          17592626,
          1698863816,
          76506196,
          952000000,
          548040835,
          7997774,
          82102379,
          976475550,
          59184643,
          756085570,
          157887643,
          462180717,
          746606706,
          599045960,
          760098996,
          440157245,
          73279888,
          782837347,
          48453605,
          1752988,
          1518815515,
          621537519,
          714444358,
          745013115,
          1362000000,
          350865342,
          1131927996,
          25003426,
          690897910,
          185700759,
          1921847111,
          404547819,
          185860104,
          704709660,
          488628188,
          876688482,
          14400000,
          90941129,
          7,
          1488732821,
          789804554,
          487420,
          320415166,
          118890272,
          187384627,
          2320250281,
          469310836,
          895921036,
          1445638421,
          348319861,
          85032676,
          839030630,
          393616788,
          110216998,
          524580592,
          69497587,
          407573628,
          20658572,
          484700000,
          2923706026,
          569651467,
          871368364,
          1341511219,
          41914915,
          1001978080,
          571750016,
          115657988,
          1004558444,
          297144130,
          465516248,
          180928503,
          938212738,
          441381193,
          128888103,
          807816196,
          161440742,
          655011224,
          407038432,
          3300000,
          254907482,
          694713380,
          933959197,
          821708551,
          138128854,
          90322103,
          171539887,
          14900000,
          33900000,
          1023784195,
          579700000,
          115600000,
          632091832,
          271333313,
          954305868,
          657870525,
          682716636,
          152720535,
          439381226,
          271430189,
          174287546,
          398479497,
          122126687,
          206431050,
          1078958629,
          50307484,
          592461732,
          209470312,
          1118888979,
          261289554,
          859102154,
          546388108,
          1066179747,
          956019788,
          88761661,
          60934894,
          1405403694,
          1274219009,
          405421518,
          352114312,
          298776052,
          543514353,
          392952373,
          383257136,
          935454538,
          211817906,
          100541806,
          623726000,
          397378150,
          190309707,
          233503234,
          857611174,
          585174222,
          61779301,
          772319315,
          496444308,
          207945075,
          17363261,
          371985018,
          926287400,
          758539785,
          269670590,
          856085151,
          192330738,
          1046721266,
          321457747,
          1671537444,
          51913394,
          312897920,
          366082797,
          961691209,
          218366336,
          845600000,
          185258983,
          322811702,
          50145227,
          103966489,
          126542249,
          497409852,
          94182533,
          378858340,
          1081041287,
          631272,
          359126022,
          226830568,
          370890259,
          257589952,
          712171856,
          24109036,
          47351251,
          531865000,
          261907653,
          829747654,
          217408513,
          109676311,
          894983373,
          124604345,
          735099082,
          451900435,
          1155046416,
          340955294,
          351723989,
          384298736,
          432243292,
          475000000,
          21328962,
          2068223624,
          1021103568,
          940335536,
          458863600,
          542064525,
          294804195,
          130161094,
          408402685,
          127200000,
          634502312,
          51074773,
          191067560,
          425368238,
          181073291,
          3854594,
          32978510,
          755356711,
          559852396,
          139200000,
          631442092,
          623933331,
          181796517,
          813367380,
          208200000,
          703000000,
          207500287,
          757930663,
          121977511,
          326706115,
          607274134,
          319715683,
          65048725,
          392105159,
          337371917,
          485004754,
          88314672,
          104004218,
          760900000,
          147156372,
          118133252,
          262793,
          569626289,
          1104054072,
          137587063,
          299300000,
          62300000,
          1515400000,
          29768915,
          428028233,
          46393906,
          411000000,
          539000000,
          384056482,
          791217826,
          43015969,
          169327687,
          461983149,
          113100000,
          487287646,
          239300000,
          247022278,
          121700000,
          18500000,
          476071180,
          393452111,
          349305397,
          100498764,
          171627166,
          278019771,
          11522,
          102800000,
          21948551,
          970766005,
          215863606,
          31635150,
          138003641,
          1097831681,
          958400000,
          52800000,
          37182814,
          104272136,
          231252591,
          245700000,
          125319714,
          509183536,
          440603537,
          307077295,
          137743924,
          315025930,
          117607117,
          173900000,
          372262265,
          521311860,
          83000000,
          698491347,
          752600867,
          676343174,
          383925276,
          91036760,
          471222889,
          801693929,
          631058917,
          5705895,
          473123154,
          47990414,
          87825916,
          215905815,
          48015416,
          586764305,
          665692281,
          214945591,
          254997360,
          270997378,
          449326618,
          1056057273,
          235957472,
          1215577205,
          168961389,
          331957105,
          202231360,
          79628200,
          402064899,
          250162278,
          91959188,
          634151679,
          346118277,
          335802786,
          100014025,
          358375603,
          331526598,
          506863592,
          102391540,
          543284256,
          160542134,
          1025467110,
          297718711,
          549368315,
          22541033,
          668045518,
          886686817,
          483866772,
          491730089,
          709827462,
          274470394,
          370541256,
          19238073,
          426505244,
          80509622,
          644783140,
          708962323,
          255407969,
          65267446,
          495303,
          230900000,
          20416563,
          172989651,
          203388186,
          12778225,
          40047236,
          405000000,
          374218673,
          743600000,
          414351546,
          383963057,
          1067316101,
          5000,
          154026136,
          120654337,
          72258126,
          158722599,
          170800000,
          795922298,
          1818417,
          51695362,
          43143046,
          224920315,
          4853595,
          585410052,
          87100449,
          20300000,
          60781545,
          209646030,
          342463063,
          136700000,
          95700000,
          321752656,
          365304105,
          83557872,
          297372261,
          15741780,
          180906076,
          130290885,
          407141258,
          76756109,
          1073841394,
          519311965,
          159814490,
          220597098,
          850000000,
          421798,
          145079584,
          130423032,
          15113105,
          429632142,
          306592201,
          15076954,
          42972994,
          288885818,
          5928351,
          8104331,
          244900000,
          407200000,
          71508440,
          521170825,
          877244782,
          1574623,
          10644463,
          264770996,
          90200000,
          109573511,
          34300000,
          84785914,
          120098945,
          127961936,
          141774679,
          130788072,
          28126646,
          24121245,
          122563539,
          43900000,
          1453683476,
          940203765,
          746921274,
          738599701,
          216600000,
          603873119,
          1152028393,
          28650575,
          1236000000,
          443280904,
          449220945,
          910813521,
          587204668,
          424988211,
          381545846,
          291465000,
          226945087,
          206136825,
          149500000,
          809342332,
          325800000,
          22057160,
          180513586,
          162729321,
          316791257,
          1786396,
          532950503,
          660998756,
          653428261,
          196482882,
          394638258,
          33900000,
          288383523,
          214200000,
          403354469,
          6341684,
          156497322,
          194564672,
          865011746,
          747862775,
          760006945,
          278454358,
          214891370,
          76000000,
          82677281,
          104399548,
          317400000,
          527068851,
          429434163,
          373515621,
          242875078,
          108961677,
          456800000,
          177500000,
          370569774,
          456082343,
          162400000,
          261119292,
          240685326,
          7500000,
          20289986,
          528600000,
          84997446,
          77208711,
          218300000,
          347325802,
          19504039,
          71038838,
          10139416,
          609016565,
          333535934,
          6170043,
          53992802,
          102731865,
          165335153,
          321885765,
          113200000,
          90100000,
          146745280,
          134686457,
          610063468,
          233555708,
          286168572,
          12342632,
          7582541,
          24856027,
          78100000,
          152159461,
          386839614,
          178866158,
          20811864,
          134038006,
          191466556,
          21013738,
          273339556,
          694394724,
          21418477,
          184000000,
          287594577,
          4934725,
          15469415,
          467989645,
          178143,
          332207671,
          13857002,
          450717150,
          187000000,
          49256239,
          235926552,
          467381584,
          300257475,
          334897606,
          995339117,
          15100000,
          226497209,
          127461872,
          481800873,
          37917985,
          21753705,
          195702811,
          2826064,
          361366633,
          92600000,
          137792047,
          542300000,
          31556061,
          43500000,
          5410749,
          352800000,
          248118121,
          48983306,
          141220678,
          562363449,
          306941670,
          7700000,
          50300000,
          225508210,
          554987477,
          470116094,
          7021101,
          543934787,
          6903033,
          350993761,
          219417255,
          23374076,
          162100000,
          178043761,
          347234916,
          109578115,
          649398328,
          140161792,
          1108594176,
          275300000,
          47300000,
          81967450,
          603900354,
          155760117,
          6850036,
          115171795,
          258097122,
          270000000,
          164989338,
          52300000,
          574480841,
          454023,
          4700000,
          527000000,
          301970083,
          200800000,
          159808370,
          329398046,
          186003591,
          52631884,
          238539198,
          710644566,
          197700000,
          102278712,
          312296056,
          45400000,
          121000000,
          33384127,
          269755430,
          262511490,
          326088587,
          96221061,
          75836683,
          201967521,
          170823080,
          226349749,
          1242805359,
          128000000,
          563749323,
          84426031,
          144327371,
          295038508,
          56255142,
          2014050,
          100106454,
          376100000,
          31626978,
          256067149,
          387300138,
          91500000,
          367300000,
          77912251,
          16706680,
          58100000,
          337580051,
          40130232,
          340487652,
          122800000,
          249348933,
          46247409,
          104970953,
          5396508,
          174600318,
          147080413,
          4324817,
          57470220,
          484592874,
          25343661,
          245623848,
          5450715,
          221600160,
          64337744,
          40262167,
          201585328,
          32227855,
          5101673,
          345800000,
          97300000,
          435000000,
          410902662,
          409912892,
          714766572,
          209200000,
          351040419,
          80600000,
          207700000,
          131016624,
          228738393,
          189086877,
          288175335,
          1700000,
          15000000,
          629400000,
          362000072,
          49276818,
          204334455,
          314975955,
          214034224,
          101600000,
          59217789,
          9464198,
          445135288,
          433677183,
          69411370,
          347337803,
          39396175,
          205537933,
          133346506,
          524978362,
          508600000,
          179379533,
          282548,
          552639571,
          173600000,
          161900000,
          146428180,
          314400000,
          232617430,
          609841637,
          69633110,
          245527149,
          311950384,
          195300000,
          74515586,
          524028679,
          3016380,
          966550600,
          234989584,
          149175066,
          123233739,
          127900000,
          98000000,
          83869818,
          654213485,
          13900000,
          296482446,
          214657577,
          371353001,
          220889446,
          41627431,
          59400000,
          76987621,
          358372926,
          120600000,
          137307235,
          791863,
          449762638,
          210002906,
          4942449,
          119137784,
          303144152,
          9112817,
          61601280,
          290132513,
          61220856,
          622674139,
          231449203,
          216600000,
          367799011,
          253890701,
          176070171,
          60780981,
          232300000,
          86700000,
          140175006,
          132563930,
          302500000,
          726229501,
          190400157,
          336365676,
          470759687,
          78378744,
          311594032,
          47281670,
          205000000,
          473990832,
          237200000,
          415484914,
          140705322,
          459066134,
          282570682,
          455708,
          408579038,
          199006387,
          270000000,
          786636033,
          1034800131,
          220673217,
          5184368,
          1122066,
          125479266,
          22605153,
          772776600,
          473200000,
          104900000,
          493214993,
          442636309,
          177400000,
          121400000,
          10550350,
          51147812,
          82515113,
          14397593,
          288670284,
          2000000,
          371900000,
          309979994,
          318432432,
          347434178,
          123200000,
          7000000,
          130300000,
          286140700,
          70595464,
          275650703,
          240700000,
          723192705,
          86234523,
          1905058,
          250779876,
          1594955,
          293329073,
          374100000,
          343397247,
          5280035,
          362113,
          161834276,
          125729635,
          245360480,
          39407616,
          167635712,
          161772575,
          1197741,
          110206216,
          1361,
          164200000,
          107967319,
          368871007,
          418800000,
          192610372,
          274703340,
          99965753,
          3909002,
          96976270,
          529323962,
          155712077,
          355692760,
          139745,
          108902486,
          91266581,
          371600000,
          93600000,
          301913131,
          96800000,
          117487473,
          334615000,
          97644617,
          788976453,
          303025485,
          151572634,
          117501013,
          284100000,
          250397798,
          169332978,
          354248063,
          130786397,
          63102666,
          211800000,
          40170558,
          163692228,
          136536687,
          178262620,
          236412453,
          67450815,
          139352633,
          192907684,
          381509870,
          103215094,
          290061297,
          158733820,
          149200000,
          225973340,
          109906372,
          485930816,
          201634991,
          200276000,
          1028600000,
          23300000,
          331333876,
          96188903,
          55101305,
          90146510,
          118587880,
          8000000,
          51070807,
          150680864,
          215294342,
          60730568,
          162949164,
          226425420,
          259175788,
          297002527,
          89100000,
          409231607,
          362211740,
          170432927,
          42247783,
          69623713,
          261989769,
          136284218,
          9300000,
          10300000,
          135039924,
          18610260,
          146936910,
          27975429,
          242688965,
          145000000,
          205754447,
          51691156,
          363204635,
          226904017,
          268031828,
          21768945,
          164874275,
          75500000,
          147332697,
          459200000,
          170764026,
          296938801,
          124700000,
          55065289,
          141940042,
          384335608,
          18685751,
          362600000,
          145374099,
          76000000,
          65079104,
          40423945,
          48428063,
          288500000,
          83188165,
          177238796,
          252300000,
          114178613,
          198800000,
          65663276,
          389681935,
          15100000,
          46553280,
          47494916,
          6738764,
          179179718,
          193921372,
          144353965,
          318618,
          10100000,
          21600000,
          203388341,
          141069860,
          119723856,
          749200054,
          111928365,
          69766483,
          127400000,
          35340015,
          67319703,
          90574188,
          347500000,
          68919191,
          178120010,
          146661977,
          168423227,
          41037742,
          281929795,
          180613180,
          36964325,
          80767884,
          220239925,
          276600000,
          47042000,
          40300000,
          40300000,
          43200000,
          55078146,
          83300000,
          102244770,
          32443111,
          4796993,
          287553595,
          151119219,
          46333545,
          278731369,
          137056262,
          396600000,
          52303589,
          216763646,
          54700000,
          172811971,
          224834564,
          242988466,
          40618920,
          204313400,
          1159457503,
          132800000,
          104088441,
          95714875,
          223200000,
          12610418,
          87100000,
          46800000,
          248384621,
          275300000,
          15800000,
          171700000,
          137500000,
          38735702,
          1430985,
          99255460,
          115647426,
          24829644,
          96500000,
          161921515,
          342695435,
          157107755,
          145166804,
          36869414,
          87305549,
          70060492,
          349779543,
          274650803,
          151783839,
          54700105,
          27642707,
          58834384,
          177427090,
          287144079,
          75026327,
          229147509,
          105000000,
          180557550,
          215300000,
          3442853,
          44600000,
          268426634,
          968853,
          10091821,
          95708457,
          72600000,
          436388866,
          57130027,
          45100756,
          198100000,
          299457024,
          362744280,
          155929020,
          72381712,
          130482868,
          35700000,
          71441250,
          190700000,
          96942115,
          443140005,
          136853506,
          46471023,
          9400000,
          97400000,
          516642939,
          18637690,
          235666219,
          55700000,
          100605135,
          419665568,
          107645357,
          256271286,
          30552111,
          137551594,
          14864960,
          111200000,
          126041322,
          7390108,
          203277636,
          210888950,
          46900000,
          442824138,
          431971116,
          95330493,
          167805466,
          6817535,
          8203235,
          288500217,
          35271631,
          144492724,
          160846332,
          12337378,
          272912430,
          403449830,
          23123592,
          40829138,
          6680396,
          304654182,
          104400000,
          383531464,
          91709827,
          76400000,
          5737,
          21029340,
          140795793,
          124700000,
          197183546,
          20703794,
          190213455,
          60141683,
          343471816,
          99318987,
          415686217,
          23076711,
          264105545,
          22957625,
          2576990,
          197300000,
          140376621,
          165333180,
          61600000,
          86500000,
          395607854,
          133511855,
          75100000,
          180828556,
          193772504,
          167977596,
          209838559,
          309231694,
          149270999,
          34600000,
          174800000,
          5735963,
          33276075,
          211800000,
          242786137,
          91500000,
          4258197,
          133800000,
          17271613,
          188133322,
          119754278,
          1970445,
          71255003,
          22217407,
          78309131,
          40392664,
          125000000,
          50023780,
          45629909,
          24733572,
          117248958,
          10409377,
          187134117,
          63523283,
          152925093,
          153962963,
          3984390,
          36110860,
          491868548,
          65774490,
          49169594,
          175400000,
          6380079,
          145358062,
          176586701,
          7953089,
          179769467,
          170737,
          76669554,
          160300000,
          15700000,
          307166834,
          81093313,
          61181942,
          37289659,
          182379278,
          190304772,
          41657844,
          70992898,
          378400000,
          259939869,
          572809,
          158906350,
          107139399,
          80276156,
          44806783,
          86369815,
          185770160,
          216909830,
          9572765,
          126069509,
          111476513,
          321669741,
          109280263,
          204594016,
          91354215,
          205366737,
          71261763,
          92374674,
          116643421,
          76994245,
          46118097,
          204394183,
          64828421,
          173469516,
          311312624,
          13900000,
          8742330,
          149000000,
          74208267,
          154608856,
          47135966,
          171616764,
          119520023,
          14114415,
          60795985,
          585333,
          84419388,
          77516304,
          174822325,
          219851172,
          76016171,
          14600000,
          216972543,
          232372681,
          35402320,
          160112671,
          156800000,
          4210306,
          351266433,
          100523181,
          8804000,
          140312928,
          4500000,
          373993951,
          91388487,
          216197492,
          73100000,
          137328301,
          179213434,
          292400000,
          104374176,
          31672678,
          26620002,
          16014123,
          15397270,
          149700000,
          26874347,
          66468332,
          99010045,
          589593688,
          244819862,
          3401789,
          171269565,
          133423964,
          29116320,
          22000000,
          71571300,
          49800000,
          154674241,
          205219880,
          120081841,
          372200000,
          353284621,
          222231186,
          93900000,
          29657751,
          10054356,
          149295601,
          8100000,
          90450008,
          152930623,
          104500000,
          208076205,
          39238300,
          49263404,
          117449790,
          29048571,
          47386287,
          68467960,
          81493846,
          3746,
          55200000,
          23384502,
          91509154,
          68263166,
          50548152,
          149900000,
          209073645,
          2000000,
          17669776,
          76196538,
          173959438,
          80600000,
          39400000,
          29942746,
          74000000,
          67900000,
          87238158,
          105173115,
          101702060,
          34533783,
          356743061,
          32000000,
          42900000,
          26508132,
          93411426,
          2331721,
          120453155,
          79781695,
          41142379,
          31439140,
          20379604,
          20000000,
          97437106,
          75395048,
          53293628,
          72629670,
          104545505,
          25754775,
          30140906,
          203000000,
          66980456,
          49300000,
          2300000,
          163403799,
          15902207,
          443807,
          140700000,
          183018522,
          54639553,
          18887953,
          133000000,
          40909909,
          178800000,
          134734481,
          160388063,
          130982129,
          219900000,
          256700000,
          39629195,
          98337295,
          123276807,
          71406573,
          109000000,
          19551067,
          195745823,
          498781117,
          17643857,
          391081192,
          136151680,
          212000000,
          205700000,
          623190,
          38505009,
          18262464,
          104223315,
          85412898,
          28600000,
          93251121,
          70067909,
          49900000,
          131100000,
          163700000,
          16367326,
          38869464,
          110803676,
          12976079,
          86493046,
          39861118,
          220021259,
          223387299,
          78871079,
          93320380,
          52390236,
          117831631,
          105200000,
          127900000,
          95396573,
          85131830,
          197100000,
          118102725,
          128905366,
          25200000,
          262552893,
          170270201,
          183953723,
          169900000,
          98376292,
          71142361,
          135500000,
          148075565,
          147934180,
          260100000,
          11900000,
          55404207,
          144056873,
          2106733,
          54700000,
          46100000,
          72000000,
          155010032,
          107347356,
          66316289,
          270665134,
          68766121,
          5021219,
          168167691,
          157209,
          298572799,
          240800000,
          157563598,
          59918422,
          181001478,
          243843127,
          123726688,
          195243411,
          101134059,
          227817248,
          167298192,
          48137666,
          69752402,
          8100000,
          116755080,
          13657649,
          127906624,
          685303,
          38105395,
          107626125,
          60400000,
          66122026,
          836303693,
          80547866,
          42145959,
          413106170,
          15800000,
          41900000,
          265126918,
          193355800,
          95918706,
          58292295,
          170300000,
          113900000,
          117760134,
          85897593,
          15440333,
          84774243,
          194694725,
          6175213,
          114194847,
          155446362,
          186053725,
          310650585,
          132274484,
          150847207,
          8352885,
          154749918,
          10400000,
          24600000,
          97231420,
          82686066,
          111037232,
          14946150,
          2332018,
          76066841,
          72109200,
          92158961,
          61404394,
          43095175,
          49830607,
          110045109,
          125427681,
          87700000,
          73900000,
          152300000,
          119723358,
          3800000,
          169837010,
          57891803,
          115505027,
          153000000,
          65000000,
          48021766,
          12977758,
          141700000,
          12537071,
          488000,
          31882724,
          5224938,
          23834809,
          18803648,
          54600000,
          61800000,
          39800000,
          117000000,
          211952420,
          131940411,
          55534455,
          126540,
          11303040,
          14500000,
          212000000,
          116500000,
          147880543,
          55362705,
          158261424,
          33583175,
          61621140,
          129190869,
          15234907,
          93282604,
          79799880,
          33224654,
          179246868,
          31126421,
          19054534,
          66308758,
          330444045,
          251410631,
          46216641,
          119100758,
          233755553,
          39171130,
          80900000,
          2133452,
          214104620,
          160078586,
          85241496,
          90259536,
          81979826,
          273650,
          13601384,
          40452643,
          49200000,
          5400000,
          73929392,
          3984669,
          78810595,
          8342132,
          82087155,
          142044638,
          102338515,
          319713881,
          158972570,
          956425,
          38399961,
          72526996,
          232225908,
          14711793,
          47582563,
          108394089,
          31200000,
          87528173,
          136300000,
          98400000,
          178300000,
          125537191,
          84618541,
          105734416,
          35401758,
          203567857,
          414211549,
          1740429,
          94973540,
          44000000,
          47536959,
          97571250,
          177584879,
          43787034,
          3139717,
          72400000,
          90383208,
          59284015,
          79700000,
          128100000,
          99400000,
          167200000,
          122444772,
          49259766,
          79000000,
          199850315,
          408200000,
          72689126,
          173961069,
          4017852,
          152000000,
          53785551,
          44516999,
          33473297,
          5200000,
          251171807,
          97076152,
          16872671,
          3876587,
          156835339,
          4232370,
          57103895,
          56300000,
          173200000,
          140073390,
          67200000,
          196114570,
          95200000,
          96409830,
          114000000,
          219400000,
          121790376,
          5557564,
          167300000,
          2600000,
          428,
          198636868,
          149368835,
          15946321,
          123081555,
          37697773,
          43387445,
          133782481,
          218791811,
          38629478,
          148964660,
          28000000,
          5566776,
          113118226,
          92601050,
          199603202,
          1600000,
          23712097,
          207039844,
          34891791,
          690860472,
          50517763,
          129000000,
          16533595,
          102984862,
          62198461,
          171844840,
          112343513,
          168800000,
          153235995,
          56000000,
          186800000,
          899683,
          321700000,
          46117696,
          3741098,
          228500000,
          150816700,
          98450062,
          32721635,
          33562069,
          73621640,
          45056771,
          53321673,
          98769390,
          181700000,
          68000000,
          94882889,
          2543216,
          71410636,
          86400000,
          128453183,
          62022014,
          119942387,
          45900000,
          260500000,
          12800000,
          70000000,
          3889432,
          34934009,
          163800000,
          31245810,
          67900000,
          8799528,
          199043242,
          80154140,
          183936074,
          107423,
          124827316,
          43000000,
          8574339,
          16690617,
          213719942,
          124914842,
          25005257,
          67448651,
          91244913,
          32500000,
          13405595,
          102900000,
          7162618,
          18200000,
          88200000,
          68929150,
          202026112,
          169956806,
          142400065,
          52000000,
          9760104,
          105300000,
          85498534,
          1929659,
          156974557,
          290700000,
          89162162,
          32140970,
          83200000,
          66984887,
          7413863,
          11293663,
          40882928,
          306776732,
          2148548,
          94100000,
          45491656,
          68267862,
          110000000,
          18300000,
          581725,
          84790678,
          27365467,
          47756590,
          51000000,
          179265204,
          63300000,
          57777106,
          58100000,
          130224158,
          44902237,
          68282844,
          189712432,
          68844775,
          10200000,
          28258060,
          17399000,
          18317151,
          27400000,
          76419755,
          24849029,
          196800000,
          92651384,
          163400000,
          46152411,
          75462037,
          17700000,
          233093859,
          47318560,
          23081726,
          300000,
          217124280,
          37600000,
          119269486,
          16398509,
          51001975,
          2100000,
          108846217,
          31505287,
          311470,
          112462508,
          48166448,
          91627228,
          81700000,
          50401502,
          32517248,
          15316635,
          45967935,
          8654322,
          98690254,
          38981322,
          222809600,
          152500000,
          163000000,
          55003890,
          29419291,
          136600000,
          33035736,
          20571534,
          62832209,
          45109561,
          56681566,
          22741061,
          408680,
          159291809,
          71900000,
          73180723,
          10800000,
          173013509,
          75055070,
          5639730,
          24377151,
          111800000,
          87892388,
          4000000,
          18755936,
          50700000,
          29637811,
          7997460,
          131523093,
          7935363,
          99138899,
          63543328,
          152039882,
          49000000,
          291420351,
          104155843,
          90029656,
          63013281,
          95682614,
          203427584,
          122400000,
          75734910,
          3396345,
          23580000,
          33800000,
          2157673,
          129181830,
          22818256,
          85416905,
          56303596,
          34600000,
          14460000,
          61294644,
          118209778,
          140470746,
          64600152,
          104907746,
          40120144,
          40272135,
          82300000,
          15992615,
          246233113,
          120000,
          17635215,
          101300000,
          53830415,
          41500000,
          32948113,
          13551174,
          10000000,
          102000000,
          10128960,
          250425512,
          127700000,
          22472631,
          30832137,
          113714830,
          62357900,
          237382724,
          154906693,
          97446,
          394717,
          64400000,
          150406466,
          20572691,
          53918723,
          6807158,
          98159963,
          30426096,
          185400345,
          97837138,
          22304357,
          36976336,
          59768495,
          36606743,
          134748021,
          99630675,
          33628000,
          99975678,
          89500000,
          328718434,
          115664037,
          39055536,
          50826898,
          69834815,
          119975084,
          15071,
          348807090,
          24665649,
          54956140,
          24200000,
          32686500,
          187361754,
          74700000,
          21360215,
          94539426,
          63782078,
          126500000,
          47709193,
          12008642,
          61477797,
          6854611,
          30107173,
          39220516,
          12751667,
          214115531,
          13900000,
          96047633,
          33157615,
          3606395,
          4311284,
          86086881,
          29381649,
          21800000,
          174440724,
          7000000,
          13097915,
          2700051,
          34737199,
          96070507,
          7266209,
          82499399,
          67900000,
          128900000,
          29000000,
          101624843,
          3283369,
          118200000,
          66787908,
          60917189,
          101344412,
          59400000,
          16457494,
          269784201,
          19682924,
          58010320,
          47088990,
          93983911,
          22187813,
          54169363,
          6416063,
          42064105,
          39458207,
          80460948,
          18197518,
          5400000,
          660132,
          32400000,
          13231461,
          195735876,
          158851357,
          96262212,
          3900000,
          27635305,
          13025860,
          86658558,
          35492921,
          47309313,
          39187783,
          13539709,
          73267874,
          27100000,
          64352607,
          19133454,
          76249438,
          57678321,
          130560428,
          197101678,
          1653784,
          21921551,
          9927714,
          187112,
          165478348,
          8493728,
          431020,
          67800064,
          28900000,
          76100000,
          9101546,
          42105111,
          6909209,
          17752940,
          78269970,
          165184237,
          27122040,
          35294470,
          112483764,
          114660784,
          32600000,
          64626786,
          85564310,
          160099222,
          44459951,
          35690739,
          76585951,
          141522961,
          39053061,
          26800152,
          70442940,
          30718107,
          1310720,
          19145732,
          57958696,
          37597471,
          90449929,
          36894225,
          19700000,
          388789,
          164433867,
          9995692,
          69400000,
          43528634,
          160466000,
          10023153,
          88900000,
          49500000,
          9500000,
          77276321,
          103039258,
          14800000,
          89792502,
          91753202,
          11774,
          9303022,
          84606030,
          129342769,
          5750000,
          8586376,
          6879667,
          95608995,
          23006849,
          111231041,
          57300000,
          65090821,
          105713218,
          151300000,
          34710627,
          211674,
          18717947,
          270000000,
          56106607,
          24145613,
          158674180,
          5796630,
          69766619,
          10900000,
          14821658,
          47817020,
          77100000,
          143695338,
          14710975,
          230685453,
          16900000,
          19754272,
          2053469,
          55707411,
          47231070,
          49327405,
          82344833,
          4383538,
          45158254,
          76700000,
          253625427,
          90754475,
          59468275,
          211787511,
          48600000,
          10126458,
          51680201,
          2600000,
          21733230,
          2106557,
          121975011,
          50871113,
          527965936,
          108539911,
          7385434,
          41002607,
          1015760,
          50206,
          18867659,
          136300000,
          325286646,
          13143056,
          115375850,
          131426169,
          144100000,
          46100000,
          119483446,
          65000000,
          6538177,
          105200000,
          103600000,
          8701337,
          46221189,
          11100000,
          73830340,
          49511319,
          81126522,
          162242962,
          48782670,
          16863583,
          56298474,
          11710110,
          875457937,
          99274467,
          87754044,
          38000000,
          54771241,
          32900000,
          255700000,
          30226144,
          103967384,
          447741,
          49050886,
          22044277,
          41863726,
          8481997,
          1882074,
          94017294,
          677548,
          158964610,
          96085477,
          86165646,
          101564935,
          190212113,
          92380927,
          368744044,
          6274027,
          16951798,
          11446172,
          1023510,
          69363381,
          49111202,
          41300000,
          3046741,
          54819301,
          207500000,
          43956255,
          37357216,
          854319,
          942666,
          67336470,
          13037403,
          22165608,
          46442528,
          275000,
          29200000,
          104400000,
          108609310,
          34808403,
          33372606,
          14410698,
          68572378,
          172842355,
          51349833,
          44779195,
          3165361,
          101200000,
          5155325,
          76196538,
          35728183,
          16000000,
          21591034,
          71561644,
          34942188,
          25000000,
          1600000,
          42500000,
          60040976,
          1560142,
          14793385,
          3775000,
          85446075,
          29355203,
          24900000,
          7600000,
          59945012,
          161451538,
          27500000,
          5148503,
          54400000,
          35500000,
          22384741,
          46546197,
          292817841,
          110317580,
          35060882,
          29625761,
          476375,
          135700000,
          2200000,
          14800000,
          18529730,
          14708696,
          23076657,
          16069730,
          14940116,
          34800000,
          41087017,
          81240206,
          32054369,
          78382433,
          37700000,
          13624522,
          15785148,
          64780213,
          39000000,
          135330835,
          60427839,
          27020284,
          2200000,
          77677553,
          37930465,
          142802657,
          3151849,
          12900000,
          120453565,
          82148538,
          709709780,
          53900000,
          65600000,
          50365377,
          46712809,
          25224242,
          62900000,
          88528280,
          77600000,
          51155219,
          15304890,
          8808611,
          1969193,
          11239,
          24200000,
          94700000,
          173700000,
          16000000,
          78300000,
          2927708,
          128388320,
          74558115,
          17949758,
          54837234,
          2943477,
          12448676,
          149281606,
          1585582,
          28645,
          82391145,
          92000000,
          68296293,
          141591324,
          1185012,
          183474602,
          26800000,
          17800000,
          14880939,
          25303038,
          26900000,
          154937680,
          15300000,
          121600000,
          182290266,
          72282227,
          93900000,
          34800000,
          13603453,
          32168970,
          46201432,
          9489829,
          38659039,
          1309316,
          44350926,
          37311672,
          108007109,
          6262663,
          23400000,
          9077700,
          59827328,
          153997819,
          4645140,
          26514814,
          20592796,
          65900249,
          64493915,
          36754634,
          24804129,
          64437847,
          53260230,
          74237563,
          52395996,
          7000000,
          92991835,
          754249,
          36993168,
          76586316,
          13620075,
          40800000,
          23936908,
          43763247,
          14373825,
          35164920,
          911000,
          177512032,
          113280098,
          38159905,
          254988,
          57881056,
          48800000,
          56500000,
          23280529,
          1123794079,
          166842739,
          10700000,
          23510601,
          54744738,
          20776,
          55736588,
          31100000,
          18200000,
          20275812,
          107597242,
          69412425,
          1011305,
          30002758,
          925000,
          11817275,
          66166000,
          2078370,
          55003135,
          10591426,
          47100000,
          1320429,
          27610873,
          840809,
          58228460,
          61700416,
          80340218,
          19844979,
          2350695,
          229811,
          3758328,
          32400000,
          10324441,
          11100000,
          22942221,
          11152071,
          52425855,
          10143022,
          26000000,
          47074133,
          35100000,
          11247280,
          10089373,
          68688831,
          14000000,
          4633668,
          97800000,
          492000,
          30800231,
          13500000,
          73276047,
          8555008,
          2300000,
          46372519,
          92884429,
          51386477,
          150166126,
          176048,
          14788642,
          21200000,
          33296457,
          88323487,
          106371651,
          76801179,
          116766556,
          14347000,
          219788712,
          31039126,
          39421467,
          85306374,
          25174316,
          3878993,
          21800000,
          29400000,
          61300000,
          7048886,
          4298184,
          123700000,
          32500000,
          10166820,
          50400000,
          51800000,
          31807156,
          4100000,
          23570541,
          108255770,
          77411570,
          68500000,
          173965010,
          70181428,
          170128460,
          10500000,
          10051659,
          24300000,
          6605079,
          50054511,
          3663309,
          134400000,
          117094902,
          86387857,
          100266865,
          2360281,
          60655420,
          12951093,
          3000000,
          24487848,
          16810562,
          1149267,
          9114264,
          39241323,
          114830111,
          8493890,
          1,
          40500000,
          131706809,
          320705,
          39459427,
          27462041,
          6700000,
          52099090,
          545436,
          65270477,
          703281,
          67112664,
          12506188,
          23619609,
          212874864,
          2400000,
          62600000,
          94061311,
          1020921,
          52501541,
          53431158,
          41681746,
          48200000,
          132675864,
          80100000,
          7717044,
          37608299,
          80205382,
          16426471,
          14010832,
          44900000,
          40061153,
          3400000,
          23932055,
          500000,
          17800000,
          18599102,
          103100000,
          592116,
          76932943,
          29907685,
          11176469,
          48668907,
          17366,
          23730891,
          55495563,
          115772733,
          13960394,
          11947954,
          21510851,
          252909177,
          60161391,
          295750,
          62803180,
          38058335,
          21110363,
          82800000,
          50652203,
          368410,
          76300000,
          57223888,
          180622424,
          28000000,
          1000000,
          56996304,
          56722693,
          67631903,
          96105964,
          119559110,
          58500000,
          4100000,
          71600000,
          32540674,
          71416730,
          52200000,
          57479076,
          90508336,
          18704595,
          9400000,
          45554533,
          87937815,
          8880045,
          17986781,
          55200000,
          28831145,
          12371132,
          3964682,
          54401583,
          5206,
          10307987,
          18409891,
          6294161,
          25806953,
          38528984,
          36348784,
          31584901,
          371000,
          4366460,
          102366815,
          85749034,
          7033683,
          2025238,
          15800000,
          108103450,
          10589102,
          38390020,
          2000000,
          177200000,
          101800000,
          26117471,
          21164799,
          57600000,
          6063556,
          31217372,
          95020213,
          9918093,
          17900000,
          68474305,
          64282312,
          42886719,
          114977104,
          25915966,
          32935319,
          12077441,
          5343820,
          90632641,
          22222308,
          39031337,
          49678401,
          18948425,
          16000000,
          5468650,
          14590514,
          68106245,
          74597643,
          3500000,
          24719215,
          16373843,
          183293131,
          107516369,
          42027,
          36192775,
          17869048,
          5496951,
          75871032,
          13831503,
          24000000,
          13061491,
          34148750,
          31200000,
          1697993,
          100140916,
          24420923,
          20768906,
          38805380,
          850419,
          9802525,
          30930984,
          59744,
          54600000,
          15200000,
          3800000,
          835102,
          57800000,
          48443734,
          8826837,
          18167819,
          31000,
          265452,
          47175038,
          33013805,
          7589419,
          79958599,
          114500000,
          37788228,
          354835,
          23400000,
          1410778,
          58795814,
          77944725,
          1353868,
          31670620,
          40854735,
          56070433,
          21170563,
          107000000,
          106407672,
          85500000,
          65070412,
          973613,
          3200000,
          11395604,
          39091,
          42580920,
          73090611,
          15000000,
          146863,
          1000000,
          72178895,
          12666449,
          109862682,
          5000000,
          93375151,
          34200000,
          22939027,
          148300000,
          4311042,
          113400000,
          2158568,
          5664764,
          94935764,
          26565710,
          136800000,
          19651093,
          1015744,
          31198531,
          82966152,
          30894796,
          7819851,
          28951,
          13411957,
          7766240,
          129500000,
          22088533,
          3639345,
          6985158,
          26152835,
          155873,
          164112721,
          55030051,
          130493,
          147845033,
          109502303,
          13182254,
          24793509,
          44287131,
          50315140,
          12900000,
          7938872,
          31070211,
          2424381,
          26155781,
          10629321,
          75597042,
          63647656,
          9612469,
          87800000,
          203509374,
          22777,
          27219729,
          61746888,
          50650079,
          160499,
          395000,
          151165787,
          92542418,
          69600000,
          65784503,
          19300000,
          75511123,
          3900000,
          1616004,
          26910847,
          58878723,
          4412639,
          2133033,
          27849137,
          60300000,
          261656269,
          39438674,
          10000000,
          38026103,
          44734660,
          106387141,
          48147945,
          43203413,
          598645,
          20545116,
          38955598,
          18160930,
          43306325,
          106209378,
          53329150,
          31500000,
          16800000,
          42100000,
          83080890,
          38100000,
          64200000,
          177313795,
          31600000,
          76338111,
          43805,
          155545279,
          6205230,
          12007070,
          972512,
          26781723,
          68673228,
          49700000,
          3485251,
          92900000,
          4842699,
          2295825,
          34000000,
          39267515,
          62646763,
          1300000,
          219103655,
          115890792,
          615233,
          4537,
          183611771,
          216528528,
          123054041,
          59800000,
          84500122,
          282000,
          4900000,
          215663859,
          86000000,
          160600000,
          52300000,
          7310206,
          12096300,
          29789000,
          100654149,
          42045846,
          20710513,
          21220422,
          57076286,
          3364426,
          65700000,
          34100000,
          34566746,
          64400000,
          20648328,
          8454301,
          13485145,
          45636368,
          32400000,
          10855626,
          29200000,
          25975621,
          2500000,
          19233280,
          43935763,
          30987695,
          12600000,
          7060384,
          359247,
          8900000,
          64811540,
          27437881,
          21949234,
          44019588,
          82150183,
          7112282,
          6999027,
          28013733,
          11001627,
          4040588,
          19600000,
          18200000,
          8810591,
          40954603,
          61619773,
          6300000,
          2082980,
          76514050,
          15500000,
          2415472,
          349757,
          26250020,
          17265487,
          293671,
          39143839,
          114281051,
          52545707,
          5144717,
          194243,
          40105542,
          27909,
          6237990,
          17834865,
          8484418,
          53825515,
          13400000,
          3400000,
          40651864,
          13414416,
          4551565,
          1766092,
          26700000,
          12517488,
          948753,
          32593385,
          48854305,
          200242,
          22441323,
          33856058,
          35926213,
          89137047,
          2152738,
          1803412,
          154984035,
          7900000,
          14089528,
          25035950,
          6673422,
          48000000,
          18700000,
          6816129,
          12165702,
          83761844,
          19152480,
          15300000,
          5151023,
          3542353,
          40500000,
          36893721,
          50907234,
          4729855,
          2500000,
          3900000,
          45172994,
          110983407,
          8200000,
          29725663,
          78600000,
          3537283,
          80936232,
          2200000,
          17600000,
          14394097,
          4607608,
          18024545,
          19179969,
          47737094,
          77063924,
          180851,
          122252,
          212902372,
          44922302,
          3469151,
          30526509,
          62870546,
          113579918,
          17177993,
          4304157,
          12700000,
          3500000,
          8600000,
          889352,
          65470529,
          2500000,
          52900000,
          55443032,
          4400000,
          15185241,
          39984400,
          11498884,
          62076141,
          20546518,
          1707067,
          6524886,
          295206,
          122500000,
          21256,
          1289595,
          47803176,
          34854990,
          5000,
          50507267,
          14300000,
          55600000,
          15478800,
          33200000,
          1784763,
          43493123,
          4600000,
          1243961,
          77885672,
          46789413,
          127369981,
          104945765,
          60052138,
          34400000,
          2847319,
          26888376,
          82468097,
          4900000,
          2054941,
          143049560,
          1630000,
          45700000,
          7535331,
          22483370,
          24748670,
          54683487,
          37470,
          37500,
          6491240,
          17976667,
          97918663,
          19576023,
          11620337,
          6200000,
          7177143,
          60300000,
          30353232,
          20901859,
          138805831,
          53187659,
          4200000,
          32016127,
          81000000,
          65977295,
          78903124,
          62771059,
          72785169,
          21156270,
          25345000,
          13596911,
          176100000,
          6000000,
          181466833,
          6900000,
          615752,
          3868,
          17506878,
          2433457,
          4393504,
          9341824,
          5989583,
          6200000,
          2466444,
          27362712,
          5042014,
          77477008,
          16633035,
          25740863,
          1750000,
          21753365,
          2665322,
          28169671,
          23182223,
          43000000,
          2243353,
          200000,
          573335,
          4200000,
          63500000,
          99924,
          53143144,
          23316139,
          63414135,
          4911725,
          60800000,
          4343227,
          68696770,
          33788161,
          102836002,
          41387687,
          29541790,
          52659594,
          52169,
          65100000,
          933847,
          2006704,
          14800000,
          4957273,
          18062279,
          19428166,
          20609977,
          36642838,
          162944923,
          1710528,
          34561,
          68357079,
          61141030,
          13350369,
          2049761,
          8751856,
          1561698,
          3238539,
          14353654,
          55305279,
          78720293,
          156190,
          28818995,
          34300000,
          3215636,
          18377736,
          844447,
          20014680,
          30715465,
          47053625,
          8694320,
          3771345,
          74747725,
          32800000,
          90894962,
          121067,
          33422806,
          4001121,
          12150301,
          78396,
          27100000,
          71009334,
          1947099,
          39457342,
          56359980,
          22900000,
          3400977,
          17056265,
          76019048,
          1200000,
          37915971,
          1700000,
          14659448,
          2084628,
          14293601,
          16443609,
          3533227,
          1400000,
          36600000,
          1824152,
          9902115,
          27640028,
          851517,
          15366466,
          34694,
          58978653,
          28780255,
          30600000,
          7659918,
          8100000,
          105834556,
          21755418,
          23270926,
          22687639,
          3419456,
          14652825,
          84772742,
          27645491,
          30700000,
          29331068,
          7125027,
          40600000,
          49158343,
          193908,
          3153,
          19412993,
          27200000,
          41299492,
          12100000,
          15520023,
          37664855,
          19322135,
          31400000,
          12036149,
          141337989,
          43042835,
          10539000,
          16200000,
          30962335,
          18490423,
          21107578,
          6174491,
          7414178,
          15861566,
          123307945,
          38364277,
          78000586,
          638221,
          69000,
          52223306,
          4600000,
          1349387,
          51842679,
          9104716,
          2131057,
          34564651,
          69307224,
          868439,
          18124262,
          16500000
         ],
         "y0": " ",
         "yaxis": "y"
        }
       ],
       "layout": {
        "boxmode": "group",
        "legend": {
         "tracegroupgap": 0
        },
        "template": {
         "data": {
          "bar": [
           {
            "error_x": {
             "color": "#2a3f5f"
            },
            "error_y": {
             "color": "#2a3f5f"
            },
            "marker": {
             "line": {
              "color": "#E5ECF6",
              "width": 0.5
             },
             "pattern": {
              "fillmode": "overlay",
              "size": 10,
              "solidity": 0.2
             }
            },
            "type": "bar"
           }
          ],
          "barpolar": [
           {
            "marker": {
             "line": {
              "color": "#E5ECF6",
              "width": 0.5
             },
             "pattern": {
              "fillmode": "overlay",
              "size": 10,
              "solidity": 0.2
             }
            },
            "type": "barpolar"
           }
          ],
          "carpet": [
           {
            "aaxis": {
             "endlinecolor": "#2a3f5f",
             "gridcolor": "white",
             "linecolor": "white",
             "minorgridcolor": "white",
             "startlinecolor": "#2a3f5f"
            },
            "baxis": {
             "endlinecolor": "#2a3f5f",
             "gridcolor": "white",
             "linecolor": "white",
             "minorgridcolor": "white",
             "startlinecolor": "#2a3f5f"
            },
            "type": "carpet"
           }
          ],
          "choropleth": [
           {
            "colorbar": {
             "outlinewidth": 0,
             "ticks": ""
            },
            "type": "choropleth"
           }
          ],
          "contour": [
           {
            "colorbar": {
             "outlinewidth": 0,
             "ticks": ""
            },
            "colorscale": [
             [
              0,
              "#0d0887"
             ],
             [
              0.1111111111111111,
              "#46039f"
             ],
             [
              0.2222222222222222,
              "#7201a8"
             ],
             [
              0.3333333333333333,
              "#9c179e"
             ],
             [
              0.4444444444444444,
              "#bd3786"
             ],
             [
              0.5555555555555556,
              "#d8576b"
             ],
             [
              0.6666666666666666,
              "#ed7953"
             ],
             [
              0.7777777777777778,
              "#fb9f3a"
             ],
             [
              0.8888888888888888,
              "#fdca26"
             ],
             [
              1,
              "#f0f921"
             ]
            ],
            "type": "contour"
           }
          ],
          "contourcarpet": [
           {
            "colorbar": {
             "outlinewidth": 0,
             "ticks": ""
            },
            "type": "contourcarpet"
           }
          ],
          "heatmap": [
           {
            "colorbar": {
             "outlinewidth": 0,
             "ticks": ""
            },
            "colorscale": [
             [
              0,
              "#0d0887"
             ],
             [
              0.1111111111111111,
              "#46039f"
             ],
             [
              0.2222222222222222,
              "#7201a8"
             ],
             [
              0.3333333333333333,
              "#9c179e"
             ],
             [
              0.4444444444444444,
              "#bd3786"
             ],
             [
              0.5555555555555556,
              "#d8576b"
             ],
             [
              0.6666666666666666,
              "#ed7953"
             ],
             [
              0.7777777777777778,
              "#fb9f3a"
             ],
             [
              0.8888888888888888,
              "#fdca26"
             ],
             [
              1,
              "#f0f921"
             ]
            ],
            "type": "heatmap"
           }
          ],
          "heatmapgl": [
           {
            "colorbar": {
             "outlinewidth": 0,
             "ticks": ""
            },
            "colorscale": [
             [
              0,
              "#0d0887"
             ],
             [
              0.1111111111111111,
              "#46039f"
             ],
             [
              0.2222222222222222,
              "#7201a8"
             ],
             [
              0.3333333333333333,
              "#9c179e"
             ],
             [
              0.4444444444444444,
              "#bd3786"
             ],
             [
              0.5555555555555556,
              "#d8576b"
             ],
             [
              0.6666666666666666,
              "#ed7953"
             ],
             [
              0.7777777777777778,
              "#fb9f3a"
             ],
             [
              0.8888888888888888,
              "#fdca26"
             ],
             [
              1,
              "#f0f921"
             ]
            ],
            "type": "heatmapgl"
           }
          ],
          "histogram": [
           {
            "marker": {
             "pattern": {
              "fillmode": "overlay",
              "size": 10,
              "solidity": 0.2
             }
            },
            "type": "histogram"
           }
          ],
          "histogram2d": [
           {
            "colorbar": {
             "outlinewidth": 0,
             "ticks": ""
            },
            "colorscale": [
             [
              0,
              "#0d0887"
             ],
             [
              0.1111111111111111,
              "#46039f"
             ],
             [
              0.2222222222222222,
              "#7201a8"
             ],
             [
              0.3333333333333333,
              "#9c179e"
             ],
             [
              0.4444444444444444,
              "#bd3786"
             ],
             [
              0.5555555555555556,
              "#d8576b"
             ],
             [
              0.6666666666666666,
              "#ed7953"
             ],
             [
              0.7777777777777778,
              "#fb9f3a"
             ],
             [
              0.8888888888888888,
              "#fdca26"
             ],
             [
              1,
              "#f0f921"
             ]
            ],
            "type": "histogram2d"
           }
          ],
          "histogram2dcontour": [
           {
            "colorbar": {
             "outlinewidth": 0,
             "ticks": ""
            },
            "colorscale": [
             [
              0,
              "#0d0887"
             ],
             [
              0.1111111111111111,
              "#46039f"
             ],
             [
              0.2222222222222222,
              "#7201a8"
             ],
             [
              0.3333333333333333,
              "#9c179e"
             ],
             [
              0.4444444444444444,
              "#bd3786"
             ],
             [
              0.5555555555555556,
              "#d8576b"
             ],
             [
              0.6666666666666666,
              "#ed7953"
             ],
             [
              0.7777777777777778,
              "#fb9f3a"
             ],
             [
              0.8888888888888888,
              "#fdca26"
             ],
             [
              1,
              "#f0f921"
             ]
            ],
            "type": "histogram2dcontour"
           }
          ],
          "mesh3d": [
           {
            "colorbar": {
             "outlinewidth": 0,
             "ticks": ""
            },
            "type": "mesh3d"
           }
          ],
          "parcoords": [
           {
            "line": {
             "colorbar": {
              "outlinewidth": 0,
              "ticks": ""
             }
            },
            "type": "parcoords"
           }
          ],
          "pie": [
           {
            "automargin": true,
            "type": "pie"
           }
          ],
          "scatter": [
           {
            "fillpattern": {
             "fillmode": "overlay",
             "size": 10,
             "solidity": 0.2
            },
            "type": "scatter"
           }
          ],
          "scatter3d": [
           {
            "line": {
             "colorbar": {
              "outlinewidth": 0,
              "ticks": ""
             }
            },
            "marker": {
             "colorbar": {
              "outlinewidth": 0,
              "ticks": ""
             }
            },
            "type": "scatter3d"
           }
          ],
          "scattercarpet": [
           {
            "marker": {
             "colorbar": {
              "outlinewidth": 0,
              "ticks": ""
             }
            },
            "type": "scattercarpet"
           }
          ],
          "scattergeo": [
           {
            "marker": {
             "colorbar": {
              "outlinewidth": 0,
              "ticks": ""
             }
            },
            "type": "scattergeo"
           }
          ],
          "scattergl": [
           {
            "marker": {
             "colorbar": {
              "outlinewidth": 0,
              "ticks": ""
             }
            },
            "type": "scattergl"
           }
          ],
          "scattermapbox": [
           {
            "marker": {
             "colorbar": {
              "outlinewidth": 0,
              "ticks": ""
             }
            },
            "type": "scattermapbox"
           }
          ],
          "scatterpolar": [
           {
            "marker": {
             "colorbar": {
              "outlinewidth": 0,
              "ticks": ""
             }
            },
            "type": "scatterpolar"
           }
          ],
          "scatterpolargl": [
           {
            "marker": {
             "colorbar": {
              "outlinewidth": 0,
              "ticks": ""
             }
            },
            "type": "scatterpolargl"
           }
          ],
          "scatterternary": [
           {
            "marker": {
             "colorbar": {
              "outlinewidth": 0,
              "ticks": ""
             }
            },
            "type": "scatterternary"
           }
          ],
          "surface": [
           {
            "colorbar": {
             "outlinewidth": 0,
             "ticks": ""
            },
            "colorscale": [
             [
              0,
              "#0d0887"
             ],
             [
              0.1111111111111111,
              "#46039f"
             ],
             [
              0.2222222222222222,
              "#7201a8"
             ],
             [
              0.3333333333333333,
              "#9c179e"
             ],
             [
              0.4444444444444444,
              "#bd3786"
             ],
             [
              0.5555555555555556,
              "#d8576b"
             ],
             [
              0.6666666666666666,
              "#ed7953"
             ],
             [
              0.7777777777777778,
              "#fb9f3a"
             ],
             [
              0.8888888888888888,
              "#fdca26"
             ],
             [
              1,
              "#f0f921"
             ]
            ],
            "type": "surface"
           }
          ],
          "table": [
           {
            "cells": {
             "fill": {
              "color": "#EBF0F8"
             },
             "line": {
              "color": "white"
             }
            },
            "header": {
             "fill": {
              "color": "#C8D4E3"
             },
             "line": {
              "color": "white"
             }
            },
            "type": "table"
           }
          ]
         },
         "layout": {
          "annotationdefaults": {
           "arrowcolor": "#2a3f5f",
           "arrowhead": 0,
           "arrowwidth": 1
          },
          "autotypenumbers": "strict",
          "coloraxis": {
           "colorbar": {
            "outlinewidth": 0,
            "ticks": ""
           }
          },
          "colorscale": {
           "diverging": [
            [
             0,
             "#8e0152"
            ],
            [
             0.1,
             "#c51b7d"
            ],
            [
             0.2,
             "#de77ae"
            ],
            [
             0.3,
             "#f1b6da"
            ],
            [
             0.4,
             "#fde0ef"
            ],
            [
             0.5,
             "#f7f7f7"
            ],
            [
             0.6,
             "#e6f5d0"
            ],
            [
             0.7,
             "#b8e186"
            ],
            [
             0.8,
             "#7fbc41"
            ],
            [
             0.9,
             "#4d9221"
            ],
            [
             1,
             "#276419"
            ]
           ],
           "sequential": [
            [
             0,
             "#0d0887"
            ],
            [
             0.1111111111111111,
             "#46039f"
            ],
            [
             0.2222222222222222,
             "#7201a8"
            ],
            [
             0.3333333333333333,
             "#9c179e"
            ],
            [
             0.4444444444444444,
             "#bd3786"
            ],
            [
             0.5555555555555556,
             "#d8576b"
            ],
            [
             0.6666666666666666,
             "#ed7953"
            ],
            [
             0.7777777777777778,
             "#fb9f3a"
            ],
            [
             0.8888888888888888,
             "#fdca26"
            ],
            [
             1,
             "#f0f921"
            ]
           ],
           "sequentialminus": [
            [
             0,
             "#0d0887"
            ],
            [
             0.1111111111111111,
             "#46039f"
            ],
            [
             0.2222222222222222,
             "#7201a8"
            ],
            [
             0.3333333333333333,
             "#9c179e"
            ],
            [
             0.4444444444444444,
             "#bd3786"
            ],
            [
             0.5555555555555556,
             "#d8576b"
            ],
            [
             0.6666666666666666,
             "#ed7953"
            ],
            [
             0.7777777777777778,
             "#fb9f3a"
            ],
            [
             0.8888888888888888,
             "#fdca26"
            ],
            [
             1,
             "#f0f921"
            ]
           ]
          },
          "colorway": [
           "#636efa",
           "#EF553B",
           "#00cc96",
           "#ab63fa",
           "#FFA15A",
           "#19d3f3",
           "#FF6692",
           "#B6E880",
           "#FF97FF",
           "#FECB52"
          ],
          "font": {
           "color": "#2a3f5f"
          },
          "geo": {
           "bgcolor": "white",
           "lakecolor": "white",
           "landcolor": "#E5ECF6",
           "showlakes": true,
           "showland": true,
           "subunitcolor": "white"
          },
          "hoverlabel": {
           "align": "left"
          },
          "hovermode": "closest",
          "mapbox": {
           "style": "light"
          },
          "paper_bgcolor": "white",
          "plot_bgcolor": "#E5ECF6",
          "polar": {
           "angularaxis": {
            "gridcolor": "white",
            "linecolor": "white",
            "ticks": ""
           },
           "bgcolor": "#E5ECF6",
           "radialaxis": {
            "gridcolor": "white",
            "linecolor": "white",
            "ticks": ""
           }
          },
          "scene": {
           "xaxis": {
            "backgroundcolor": "#E5ECF6",
            "gridcolor": "white",
            "gridwidth": 2,
            "linecolor": "white",
            "showbackground": true,
            "ticks": "",
            "zerolinecolor": "white"
           },
           "yaxis": {
            "backgroundcolor": "#E5ECF6",
            "gridcolor": "white",
            "gridwidth": 2,
            "linecolor": "white",
            "showbackground": true,
            "ticks": "",
            "zerolinecolor": "white"
           },
           "zaxis": {
            "backgroundcolor": "#E5ECF6",
            "gridcolor": "white",
            "gridwidth": 2,
            "linecolor": "white",
            "showbackground": true,
            "ticks": "",
            "zerolinecolor": "white"
           }
          },
          "shapedefaults": {
           "line": {
            "color": "#2a3f5f"
           }
          },
          "ternary": {
           "aaxis": {
            "gridcolor": "white",
            "linecolor": "white",
            "ticks": ""
           },
           "baxis": {
            "gridcolor": "white",
            "linecolor": "white",
            "ticks": ""
           },
           "bgcolor": "#E5ECF6",
           "caxis": {
            "gridcolor": "white",
            "linecolor": "white",
            "ticks": ""
           }
          },
          "title": {
           "x": 0.05
          },
          "xaxis": {
           "automargin": true,
           "gridcolor": "white",
           "linecolor": "white",
           "ticks": "",
           "title": {
            "standoff": 15
           },
           "zerolinecolor": "white",
           "zerolinewidth": 2
          },
          "yaxis": {
           "automargin": true,
           "gridcolor": "white",
           "linecolor": "white",
           "ticks": "",
           "title": {
            "standoff": 15
           },
           "zerolinecolor": "white",
           "zerolinewidth": 2
          }
         }
        },
        "title": {
         "text": "Revenue Distribution by Primary Genre"
        },
        "xaxis": {
         "anchor": "y",
         "domain": [
          0,
          1
         ],
         "title": {
          "text": "Genre"
         }
        },
        "yaxis": {
         "anchor": "x",
         "domain": [
          0,
          1
         ],
         "title": {
          "text": "Revenue"
         }
        }
       }
      }
     },
     "metadata": {},
     "output_type": "display_data"
    }
   ],
   "source": [
    "# 3. Box Plot: Revenue by Genre\n",
    "fig3 = px.box(df_movies, x='genre1', y='revenue', points=\"all\",\n",
    "              title='Revenue Distribution by Primary Genre')\n",
    "fig3.update_layout(xaxis_title='Genre', yaxis_title='Revenue')\n",
    "fig3.show()"
   ]
  }
 ],
 "metadata": {
  "kernelspec": {
   "display_name": "dev",
   "language": "python",
   "name": "python3"
  },
  "language_info": {
   "codemirror_mode": {
    "name": "ipython",
    "version": 3
   },
   "file_extension": ".py",
   "mimetype": "text/x-python",
   "name": "python",
   "nbconvert_exporter": "python",
   "pygments_lexer": "ipython3",
   "version": "3.10.16"
  }
 },
 "nbformat": 4,
 "nbformat_minor": 2
}
